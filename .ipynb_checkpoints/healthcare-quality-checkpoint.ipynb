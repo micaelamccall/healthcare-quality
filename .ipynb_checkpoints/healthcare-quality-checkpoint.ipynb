{
 "cells": [
  {
   "cell_type": "code",
   "execution_count": 69,
   "metadata": {},
   "outputs": [],
   "source": [
    "from combineData import mergedMUA_df\n",
    "import numpy as np\n",
    "import pandas as pd\n",
    "import matplotlib.pyplot as plt\n",
    "import seaborn as sns\n",
    "import plotly.graph_objects as go\n",
    "import plotly.express as px\n",
    "import matplotlib.ticker as ticker\n",
    "from matplotlib.lines import Line2D"
   ]
  },
  {
   "cell_type": "code",
   "execution_count": 57,
   "metadata": {},
   "outputs": [],
   "source": [
    "# Assign CAHPS measures to new DataFrame\n",
    "grp_df=mergedMUA_df.loc[:,('state','number_of_completed_surveys','number_of_sampled_patients','patients_rating_of_the_facility_linear_mean_score','patients_who_gave_the_facility_a_rating_of_0_to_6_on_a_scale_from_0_lowest_to_10_highest','patients_who_gave_the_facility_a_rating_of_7_or_8_on_a_scale_from_0_lowest_to_10_highest','patients_who_gave_the_facility_a_rating_of_9_or_10_on_a_scale_from_0_lowest_to_10_highest','patients_who_reported_no_they_would_not_recommend_the_facility_to_family_or_friends','patients_who_reported_probably_yes_they_would_recommend_the_facility_to_family_or_friends','patients_who_reported_that_staff_definitely_communicated_about_what_to_expect_during_and_after_the_procedure','patients_who_reported_that_staff_definitely_gave_care_in_a_professional_way_and_the_facility_was_clean','patients_who_reported_that_staff_did_not_communicate_about_what_to_expect_during_and_after_the_procedure','patients_who_reported_that_staff_did_not_give_care_in_a_professional_way_or_the_facility_was_not_clean','patients_who_reported_that_staff_somewhat_communicated_about_what_to_expect_during_and_after_the_procedure','patients_who_reported_that_staff_somewhat_gave_care_in_a_professional_way_or_the_facility_was_somewhat_clean','patients_who_reported_yes_they_would_definitely_recommend_the_facility_to_family_or_friends')].groupby(by='state').sum().reset_index()"
   ]
  },
  {
   "cell_type": "code",
   "execution_count": 58,
   "metadata": {},
   "outputs": [
    {
     "data": {
      "application/vnd.plotly.v1+json": {
       "config": {
        "plotlyServerURL": "https://plot.ly"
       },
       "data": [
        {
         "boxpoints": "all",
         "hoverinfo": "text",
         "hovertext": [
          "AK",
          "AL",
          "AR",
          "AZ",
          "CA",
          "CO",
          "CT",
          "DC",
          "DE",
          "FL",
          "GA",
          "HI",
          "IA",
          "ID",
          "IL",
          "IN",
          "KS",
          "KY",
          "LA",
          "MA",
          "MD",
          "ME",
          "MI",
          "MN",
          "MO",
          "MS",
          "MT",
          "NC",
          "ND",
          "NE",
          "NH",
          "NJ",
          "NM",
          "NV",
          "NY",
          "OH",
          "OK",
          "OR",
          "PA",
          "RI",
          "SC",
          "SD",
          "TN",
          "TX",
          "UT",
          "VA",
          "VT",
          "WA",
          "WI",
          "WV",
          "WY",
          "AK",
          "AL",
          "AR",
          "AZ",
          "CA",
          "CO",
          "CT",
          "DC",
          "DE",
          "FL",
          "GA",
          "HI",
          "IA",
          "ID",
          "IL",
          "IN",
          "KS",
          "KY",
          "LA",
          "MA",
          "MD",
          "ME",
          "MI",
          "MN",
          "MO",
          "MS",
          "MT",
          "NC",
          "ND",
          "NE",
          "NH",
          "NJ",
          "NM",
          "NV",
          "NY",
          "OH",
          "OK",
          "OR",
          "PA",
          "RI",
          "SC",
          "SD",
          "TN",
          "TX",
          "UT",
          "VA",
          "VT",
          "WA",
          "WI",
          "WV",
          "WY",
          "AK",
          "AL",
          "AR",
          "AZ",
          "CA",
          "CO",
          "CT",
          "DC",
          "DE",
          "FL",
          "GA",
          "HI",
          "IA",
          "ID",
          "IL",
          "IN",
          "KS",
          "KY",
          "LA",
          "MA",
          "MD",
          "ME",
          "MI",
          "MN",
          "MO",
          "MS",
          "MT",
          "NC",
          "ND",
          "NE",
          "NH",
          "NJ",
          "NM",
          "NV",
          "NY",
          "OH",
          "OK",
          "OR",
          "PA",
          "RI",
          "SC",
          "SD",
          "TN",
          "TX",
          "UT",
          "VA",
          "VT",
          "WA",
          "WI",
          "WV",
          "WY"
         ],
         "jitter": 0.5,
         "type": "box",
         "width": 0.3,
         "x": [
          "not at all",
          "not at all",
          "not at all",
          "not at all",
          "not at all",
          "not at all",
          "not at all",
          "not at all",
          "not at all",
          "not at all",
          "not at all",
          "not at all",
          "not at all",
          "not at all",
          "not at all",
          "not at all",
          "not at all",
          "not at all",
          "not at all",
          "not at all",
          "not at all",
          "not at all",
          "not at all",
          "not at all",
          "not at all",
          "not at all",
          "not at all",
          "not at all",
          "not at all",
          "not at all",
          "not at all",
          "not at all",
          "not at all",
          "not at all",
          "not at all",
          "not at all",
          "not at all",
          "not at all",
          "not at all",
          "not at all",
          "not at all",
          "not at all",
          "not at all",
          "not at all",
          "not at all",
          "not at all",
          "not at all",
          "not at all",
          "not at all",
          "not at all",
          "not at all",
          "somewhat",
          "somewhat",
          "somewhat",
          "somewhat",
          "somewhat",
          "somewhat",
          "somewhat",
          "somewhat",
          "somewhat",
          "somewhat",
          "somewhat",
          "somewhat",
          "somewhat",
          "somewhat",
          "somewhat",
          "somewhat",
          "somewhat",
          "somewhat",
          "somewhat",
          "somewhat",
          "somewhat",
          "somewhat",
          "somewhat",
          "somewhat",
          "somewhat",
          "somewhat",
          "somewhat",
          "somewhat",
          "somewhat",
          "somewhat",
          "somewhat",
          "somewhat",
          "somewhat",
          "somewhat",
          "somewhat",
          "somewhat",
          "somewhat",
          "somewhat",
          "somewhat",
          "somewhat",
          "somewhat",
          "somewhat",
          "somewhat",
          "somewhat",
          "somewhat",
          "somewhat",
          "somewhat",
          "somewhat",
          "somewhat",
          "somewhat",
          "somewhat",
          "definitely",
          "definitely",
          "definitely",
          "definitely",
          "definitely",
          "definitely",
          "definitely",
          "definitely",
          "definitely",
          "definitely",
          "definitely",
          "definitely",
          "definitely",
          "definitely",
          "definitely",
          "definitely",
          "definitely",
          "definitely",
          "definitely",
          "definitely",
          "definitely",
          "definitely",
          "definitely",
          "definitely",
          "definitely",
          "definitely",
          "definitely",
          "definitely",
          "definitely",
          "definitely",
          "definitely",
          "definitely",
          "definitely",
          "definitely",
          "definitely",
          "definitely",
          "definitely",
          "definitely",
          "definitely",
          "definitely",
          "definitely",
          "definitely",
          "definitely",
          "definitely",
          "definitely",
          "definitely",
          "definitely",
          "definitely",
          "definitely",
          "definitely",
          "definitely"
         ],
         "y": [
          0.005333333333333333,
          0.00397422126745435,
          0.006190823015294974,
          0.00421822272215973,
          0.004110429447852761,
          0.002577635939609672,
          0.004160887656033287,
          0.008438818565400843,
          0.0024937655860349127,
          0.002986825964051416,
          0.004611615506557141,
          0.009523809523809525,
          0.0014919300149193002,
          0.0029665587918015104,
          0.002724468127729476,
          0.0048932988990077475,
          0.004810583283223091,
          0.0032160804020100503,
          0.004563841925111503,
          0.0030828516377649326,
          0.0031733439111463705,
          0.004070556309362279,
          0.003639927201455971,
          0.0027023549092780852,
          0.0038071065989847717,
          0.006290544525260468,
          0.00375603648721159,
          0.0024045029783048254,
          0.0011940298507462687,
          0.004750593824228029,
          0.004677268475210477,
          0.004305705059203444,
          0.0061525840853158325,
          0.011588785046728972,
          0.003553074043525157,
          0.002663713635819466,
          0.0036607049471812573,
          0.0040178571428571425,
          0.002199375990997903,
          0.00439453125,
          0.0037626628075253256,
          0.0018679950186799503,
          0.0018315018315018315,
          0.004443098051095627,
          0.0031639848128728982,
          0.002609393817743878,
          0.003250975292587776,
          0.003424356835543068,
          0.0030685502547475683,
          0.004109844946758827,
          0,
          0.04,
          0.016004296455424276,
          0.02112163146394756,
          0.017716535433070866,
          0.01357361963190184,
          0.011783478581072787,
          0.013869625520110958,
          0.04219409282700422,
          0.014962593516209476,
          0.010613899407968424,
          0.017005332180429458,
          0.0380952380952381,
          0.00901939509019395,
          0.016720604099244876,
          0.011178332465242998,
          0.01957319559603099,
          0.02164762477450391,
          0.013668341708542713,
          0.018670262420910695,
          0.015028901734104046,
          0.016660055533518445,
          0.014020805065581185,
          0.015959680806383873,
          0.012546647793076824,
          0.015069796954314721,
          0.022803223904069195,
          0.018064746914684314,
          0.01010984206787256,
          0.004776119402985075,
          0.02929532858273951,
          0.0205799812909261,
          0.015069967707212056,
          0.025840853158326498,
          0.03177570093457944,
          0.01370471416788275,
          0.011073865677002274,
          0.014852002928563958,
          0.016517857142857143,
          0.010127359214362436,
          0.01416015625,
          0.015629522431259046,
          0.010585305105853052,
          0.007326007326007326,
          0.019034635968898313,
          0.014644729705297415,
          0.01144118827780008,
          0.010403120936280884,
          0.014751075599262446,
          0.013779527559055118,
          0.014384457313655894,
          0.013966480446927373,
          0.488,
          0.2163265306122449,
          0.2640203932993445,
          0.203037120359955,
          0.13875766871165643,
          0.14520682459801154,
          0.1900138696255201,
          0.37130801687763715,
          0.23192019950124687,
          0.12507333724465305,
          0.23058077532785703,
          0.42857142857142855,
          0.11833717618337176,
          0.22303128371089537,
          0.15036660122601067,
          0.26097594128041324,
          0.2742032471437162,
          0.18412060301507538,
          0.26719219997925525,
          0.1745664739884393,
          0.21816739389131298,
          0.1854364540931705,
          0.23239535209295814,
          0.16490799124951744,
          0.18734137055837563,
          0.26577550619225476,
          0.19280987301019495,
          0.15689381933438987,
          0.05373134328358209,
          0.2826603325415677,
          0.3021515434985968,
          0.19590958019375673,
          0.29614438063986875,
          0.2930841121495327,
          0.16674068904257344,
          0.13291631749072189,
          0.19067043196318376,
          0.225,
          0.1257736177177638,
          0.1767578125,
          0.18321273516642547,
          0.11207970112079702,
          0.09906759906759907,
          0.2643138442896092,
          0.1629904176459953,
          0.18667201926936974,
          0.11638491547464239,
          0.19255421898322944,
          0.1857920333487726,
          0.20567905847188492,
          0.26536312849162014
         ]
        }
       ],
       "layout": {
        "template": {
         "data": {
          "bar": [
           {
            "error_x": {
             "color": "#2a3f5f"
            },
            "error_y": {
             "color": "#2a3f5f"
            },
            "marker": {
             "line": {
              "color": "white",
              "width": 0.5
             }
            },
            "type": "bar"
           }
          ],
          "barpolar": [
           {
            "marker": {
             "line": {
              "color": "white",
              "width": 0.5
             }
            },
            "type": "barpolar"
           }
          ],
          "carpet": [
           {
            "aaxis": {
             "endlinecolor": "#2a3f5f",
             "gridcolor": "#C8D4E3",
             "linecolor": "#C8D4E3",
             "minorgridcolor": "#C8D4E3",
             "startlinecolor": "#2a3f5f"
            },
            "baxis": {
             "endlinecolor": "#2a3f5f",
             "gridcolor": "#C8D4E3",
             "linecolor": "#C8D4E3",
             "minorgridcolor": "#C8D4E3",
             "startlinecolor": "#2a3f5f"
            },
            "type": "carpet"
           }
          ],
          "choropleth": [
           {
            "colorbar": {
             "outlinewidth": 0,
             "ticks": ""
            },
            "type": "choropleth"
           }
          ],
          "contour": [
           {
            "colorbar": {
             "outlinewidth": 0,
             "ticks": ""
            },
            "colorscale": [
             [
              0,
              "#0d0887"
             ],
             [
              0.1111111111111111,
              "#46039f"
             ],
             [
              0.2222222222222222,
              "#7201a8"
             ],
             [
              0.3333333333333333,
              "#9c179e"
             ],
             [
              0.4444444444444444,
              "#bd3786"
             ],
             [
              0.5555555555555556,
              "#d8576b"
             ],
             [
              0.6666666666666666,
              "#ed7953"
             ],
             [
              0.7777777777777778,
              "#fb9f3a"
             ],
             [
              0.8888888888888888,
              "#fdca26"
             ],
             [
              1,
              "#f0f921"
             ]
            ],
            "type": "contour"
           }
          ],
          "contourcarpet": [
           {
            "colorbar": {
             "outlinewidth": 0,
             "ticks": ""
            },
            "type": "contourcarpet"
           }
          ],
          "heatmap": [
           {
            "colorbar": {
             "outlinewidth": 0,
             "ticks": ""
            },
            "colorscale": [
             [
              0,
              "#0d0887"
             ],
             [
              0.1111111111111111,
              "#46039f"
             ],
             [
              0.2222222222222222,
              "#7201a8"
             ],
             [
              0.3333333333333333,
              "#9c179e"
             ],
             [
              0.4444444444444444,
              "#bd3786"
             ],
             [
              0.5555555555555556,
              "#d8576b"
             ],
             [
              0.6666666666666666,
              "#ed7953"
             ],
             [
              0.7777777777777778,
              "#fb9f3a"
             ],
             [
              0.8888888888888888,
              "#fdca26"
             ],
             [
              1,
              "#f0f921"
             ]
            ],
            "type": "heatmap"
           }
          ],
          "heatmapgl": [
           {
            "colorbar": {
             "outlinewidth": 0,
             "ticks": ""
            },
            "colorscale": [
             [
              0,
              "#0d0887"
             ],
             [
              0.1111111111111111,
              "#46039f"
             ],
             [
              0.2222222222222222,
              "#7201a8"
             ],
             [
              0.3333333333333333,
              "#9c179e"
             ],
             [
              0.4444444444444444,
              "#bd3786"
             ],
             [
              0.5555555555555556,
              "#d8576b"
             ],
             [
              0.6666666666666666,
              "#ed7953"
             ],
             [
              0.7777777777777778,
              "#fb9f3a"
             ],
             [
              0.8888888888888888,
              "#fdca26"
             ],
             [
              1,
              "#f0f921"
             ]
            ],
            "type": "heatmapgl"
           }
          ],
          "histogram": [
           {
            "marker": {
             "colorbar": {
              "outlinewidth": 0,
              "ticks": ""
             }
            },
            "type": "histogram"
           }
          ],
          "histogram2d": [
           {
            "colorbar": {
             "outlinewidth": 0,
             "ticks": ""
            },
            "colorscale": [
             [
              0,
              "#0d0887"
             ],
             [
              0.1111111111111111,
              "#46039f"
             ],
             [
              0.2222222222222222,
              "#7201a8"
             ],
             [
              0.3333333333333333,
              "#9c179e"
             ],
             [
              0.4444444444444444,
              "#bd3786"
             ],
             [
              0.5555555555555556,
              "#d8576b"
             ],
             [
              0.6666666666666666,
              "#ed7953"
             ],
             [
              0.7777777777777778,
              "#fb9f3a"
             ],
             [
              0.8888888888888888,
              "#fdca26"
             ],
             [
              1,
              "#f0f921"
             ]
            ],
            "type": "histogram2d"
           }
          ],
          "histogram2dcontour": [
           {
            "colorbar": {
             "outlinewidth": 0,
             "ticks": ""
            },
            "colorscale": [
             [
              0,
              "#0d0887"
             ],
             [
              0.1111111111111111,
              "#46039f"
             ],
             [
              0.2222222222222222,
              "#7201a8"
             ],
             [
              0.3333333333333333,
              "#9c179e"
             ],
             [
              0.4444444444444444,
              "#bd3786"
             ],
             [
              0.5555555555555556,
              "#d8576b"
             ],
             [
              0.6666666666666666,
              "#ed7953"
             ],
             [
              0.7777777777777778,
              "#fb9f3a"
             ],
             [
              0.8888888888888888,
              "#fdca26"
             ],
             [
              1,
              "#f0f921"
             ]
            ],
            "type": "histogram2dcontour"
           }
          ],
          "mesh3d": [
           {
            "colorbar": {
             "outlinewidth": 0,
             "ticks": ""
            },
            "type": "mesh3d"
           }
          ],
          "parcoords": [
           {
            "line": {
             "colorbar": {
              "outlinewidth": 0,
              "ticks": ""
             }
            },
            "type": "parcoords"
           }
          ],
          "scatter": [
           {
            "marker": {
             "colorbar": {
              "outlinewidth": 0,
              "ticks": ""
             }
            },
            "type": "scatter"
           }
          ],
          "scatter3d": [
           {
            "line": {
             "colorbar": {
              "outlinewidth": 0,
              "ticks": ""
             }
            },
            "marker": {
             "colorbar": {
              "outlinewidth": 0,
              "ticks": ""
             }
            },
            "type": "scatter3d"
           }
          ],
          "scattercarpet": [
           {
            "marker": {
             "colorbar": {
              "outlinewidth": 0,
              "ticks": ""
             }
            },
            "type": "scattercarpet"
           }
          ],
          "scattergeo": [
           {
            "marker": {
             "colorbar": {
              "outlinewidth": 0,
              "ticks": ""
             }
            },
            "type": "scattergeo"
           }
          ],
          "scattergl": [
           {
            "marker": {
             "colorbar": {
              "outlinewidth": 0,
              "ticks": ""
             }
            },
            "type": "scattergl"
           }
          ],
          "scattermapbox": [
           {
            "marker": {
             "colorbar": {
              "outlinewidth": 0,
              "ticks": ""
             }
            },
            "type": "scattermapbox"
           }
          ],
          "scatterpolar": [
           {
            "marker": {
             "colorbar": {
              "outlinewidth": 0,
              "ticks": ""
             }
            },
            "type": "scatterpolar"
           }
          ],
          "scatterpolargl": [
           {
            "marker": {
             "colorbar": {
              "outlinewidth": 0,
              "ticks": ""
             }
            },
            "type": "scatterpolargl"
           }
          ],
          "scatterternary": [
           {
            "marker": {
             "colorbar": {
              "outlinewidth": 0,
              "ticks": ""
             }
            },
            "type": "scatterternary"
           }
          ],
          "surface": [
           {
            "colorbar": {
             "outlinewidth": 0,
             "ticks": ""
            },
            "colorscale": [
             [
              0,
              "#0d0887"
             ],
             [
              0.1111111111111111,
              "#46039f"
             ],
             [
              0.2222222222222222,
              "#7201a8"
             ],
             [
              0.3333333333333333,
              "#9c179e"
             ],
             [
              0.4444444444444444,
              "#bd3786"
             ],
             [
              0.5555555555555556,
              "#d8576b"
             ],
             [
              0.6666666666666666,
              "#ed7953"
             ],
             [
              0.7777777777777778,
              "#fb9f3a"
             ],
             [
              0.8888888888888888,
              "#fdca26"
             ],
             [
              1,
              "#f0f921"
             ]
            ],
            "type": "surface"
           }
          ],
          "table": [
           {
            "cells": {
             "fill": {
              "color": "#EBF0F8"
             },
             "line": {
              "color": "white"
             }
            },
            "header": {
             "fill": {
              "color": "#C8D4E3"
             },
             "line": {
              "color": "white"
             }
            },
            "type": "table"
           }
          ]
         },
         "layout": {
          "annotationdefaults": {
           "arrowcolor": "#2a3f5f",
           "arrowhead": 0,
           "arrowwidth": 1
          },
          "colorscale": {
           "diverging": [
            [
             0,
             "#8e0152"
            ],
            [
             0.1,
             "#c51b7d"
            ],
            [
             0.2,
             "#de77ae"
            ],
            [
             0.3,
             "#f1b6da"
            ],
            [
             0.4,
             "#fde0ef"
            ],
            [
             0.5,
             "#f7f7f7"
            ],
            [
             0.6,
             "#e6f5d0"
            ],
            [
             0.7,
             "#b8e186"
            ],
            [
             0.8,
             "#7fbc41"
            ],
            [
             0.9,
             "#4d9221"
            ],
            [
             1,
             "#276419"
            ]
           ],
           "sequential": [
            [
             0,
             "#0d0887"
            ],
            [
             0.1111111111111111,
             "#46039f"
            ],
            [
             0.2222222222222222,
             "#7201a8"
            ],
            [
             0.3333333333333333,
             "#9c179e"
            ],
            [
             0.4444444444444444,
             "#bd3786"
            ],
            [
             0.5555555555555556,
             "#d8576b"
            ],
            [
             0.6666666666666666,
             "#ed7953"
            ],
            [
             0.7777777777777778,
             "#fb9f3a"
            ],
            [
             0.8888888888888888,
             "#fdca26"
            ],
            [
             1,
             "#f0f921"
            ]
           ],
           "sequentialminus": [
            [
             0,
             "#0d0887"
            ],
            [
             0.1111111111111111,
             "#46039f"
            ],
            [
             0.2222222222222222,
             "#7201a8"
            ],
            [
             0.3333333333333333,
             "#9c179e"
            ],
            [
             0.4444444444444444,
             "#bd3786"
            ],
            [
             0.5555555555555556,
             "#d8576b"
            ],
            [
             0.6666666666666666,
             "#ed7953"
            ],
            [
             0.7777777777777778,
             "#fb9f3a"
            ],
            [
             0.8888888888888888,
             "#fdca26"
            ],
            [
             1,
             "#f0f921"
            ]
           ]
          },
          "colorway": [
           "#636efa",
           "#EF553B",
           "#00cc96",
           "#ab63fa",
           "#FFA15A",
           "#19d3f3",
           "#FF6692",
           "#B6E880",
           "#FF97FF",
           "#FECB52"
          ],
          "font": {
           "color": "#2a3f5f"
          },
          "geo": {
           "bgcolor": "white",
           "lakecolor": "white",
           "landcolor": "white",
           "showlakes": true,
           "showland": true,
           "subunitcolor": "#C8D4E3"
          },
          "hoverlabel": {
           "align": "left"
          },
          "hovermode": "closest",
          "mapbox": {
           "style": "light"
          },
          "paper_bgcolor": "white",
          "plot_bgcolor": "white",
          "polar": {
           "angularaxis": {
            "gridcolor": "#EBF0F8",
            "linecolor": "#EBF0F8",
            "ticks": ""
           },
           "bgcolor": "white",
           "radialaxis": {
            "gridcolor": "#EBF0F8",
            "linecolor": "#EBF0F8",
            "ticks": ""
           }
          },
          "scene": {
           "xaxis": {
            "backgroundcolor": "white",
            "gridcolor": "#DFE8F3",
            "gridwidth": 2,
            "linecolor": "#EBF0F8",
            "showbackground": true,
            "ticks": "",
            "zerolinecolor": "#EBF0F8"
           },
           "yaxis": {
            "backgroundcolor": "white",
            "gridcolor": "#DFE8F3",
            "gridwidth": 2,
            "linecolor": "#EBF0F8",
            "showbackground": true,
            "ticks": "",
            "zerolinecolor": "#EBF0F8"
           },
           "zaxis": {
            "backgroundcolor": "white",
            "gridcolor": "#DFE8F3",
            "gridwidth": 2,
            "linecolor": "#EBF0F8",
            "showbackground": true,
            "ticks": "",
            "zerolinecolor": "#EBF0F8"
           }
          },
          "shapedefaults": {
           "line": {
            "color": "#2a3f5f"
           }
          },
          "ternary": {
           "aaxis": {
            "gridcolor": "#DFE8F3",
            "linecolor": "#A2B1C6",
            "ticks": ""
           },
           "baxis": {
            "gridcolor": "#DFE8F3",
            "linecolor": "#A2B1C6",
            "ticks": ""
           },
           "bgcolor": "white",
           "caxis": {
            "gridcolor": "#DFE8F3",
            "linecolor": "#A2B1C6",
            "ticks": ""
           }
          },
          "title": {
           "x": 0.05
          },
          "xaxis": {
           "automargin": true,
           "gridcolor": "#EBF0F8",
           "linecolor": "#EBF0F8",
           "ticks": "",
           "zerolinecolor": "#EBF0F8",
           "zerolinewidth": 2
          },
          "yaxis": {
           "automargin": true,
           "gridcolor": "#EBF0F8",
           "linecolor": "#EBF0F8",
           "ticks": "",
           "zerolinecolor": "#EBF0F8",
           "zerolinewidth": 2
          }
         }
        },
        "title": {
         "text": "Patient Ratings of Staff Communication about the Procedure"
        },
        "xaxis": {
         "title": {
          "text": "response"
         }
        },
        "yaxis": {
         "title": {
          "text": "proportion of patients"
         }
        }
       }
      },
      "text/html": [
       "<div>\n",
       "        \n",
       "        \n",
       "            <div id=\"e242edba-e734-4cc2-9525-03c6d5b002e1\" class=\"plotly-graph-div\" style=\"height:525px; width:100%;\"></div>\n",
       "            <script type=\"text/javascript\">\n",
       "                require([\"plotly\"], function(Plotly) {\n",
       "                    window.PLOTLYENV=window.PLOTLYENV || {};\n",
       "                    \n",
       "                if (document.getElementById(\"e242edba-e734-4cc2-9525-03c6d5b002e1\")) {\n",
       "                    Plotly.newPlot(\n",
       "                        'e242edba-e734-4cc2-9525-03c6d5b002e1',\n",
       "                        [{\"boxpoints\": \"all\", \"hoverinfo\": \"text\", \"hovertext\": [\"AK\", \"AL\", \"AR\", \"AZ\", \"CA\", \"CO\", \"CT\", \"DC\", \"DE\", \"FL\", \"GA\", \"HI\", \"IA\", \"ID\", \"IL\", \"IN\", \"KS\", \"KY\", \"LA\", \"MA\", \"MD\", \"ME\", \"MI\", \"MN\", \"MO\", \"MS\", \"MT\", \"NC\", \"ND\", \"NE\", \"NH\", \"NJ\", \"NM\", \"NV\", \"NY\", \"OH\", \"OK\", \"OR\", \"PA\", \"RI\", \"SC\", \"SD\", \"TN\", \"TX\", \"UT\", \"VA\", \"VT\", \"WA\", \"WI\", \"WV\", \"WY\", \"AK\", \"AL\", \"AR\", \"AZ\", \"CA\", \"CO\", \"CT\", \"DC\", \"DE\", \"FL\", \"GA\", \"HI\", \"IA\", \"ID\", \"IL\", \"IN\", \"KS\", \"KY\", \"LA\", \"MA\", \"MD\", \"ME\", \"MI\", \"MN\", \"MO\", \"MS\", \"MT\", \"NC\", \"ND\", \"NE\", \"NH\", \"NJ\", \"NM\", \"NV\", \"NY\", \"OH\", \"OK\", \"OR\", \"PA\", \"RI\", \"SC\", \"SD\", \"TN\", \"TX\", \"UT\", \"VA\", \"VT\", \"WA\", \"WI\", \"WV\", \"WY\", \"AK\", \"AL\", \"AR\", \"AZ\", \"CA\", \"CO\", \"CT\", \"DC\", \"DE\", \"FL\", \"GA\", \"HI\", \"IA\", \"ID\", \"IL\", \"IN\", \"KS\", \"KY\", \"LA\", \"MA\", \"MD\", \"ME\", \"MI\", \"MN\", \"MO\", \"MS\", \"MT\", \"NC\", \"ND\", \"NE\", \"NH\", \"NJ\", \"NM\", \"NV\", \"NY\", \"OH\", \"OK\", \"OR\", \"PA\", \"RI\", \"SC\", \"SD\", \"TN\", \"TX\", \"UT\", \"VA\", \"VT\", \"WA\", \"WI\", \"WV\", \"WY\"], \"jitter\": 0.5, \"type\": \"box\", \"width\": 0.3, \"x\": [\"not at all\", \"not at all\", \"not at all\", \"not at all\", \"not at all\", \"not at all\", \"not at all\", \"not at all\", \"not at all\", \"not at all\", \"not at all\", \"not at all\", \"not at all\", \"not at all\", \"not at all\", \"not at all\", \"not at all\", \"not at all\", \"not at all\", \"not at all\", \"not at all\", \"not at all\", \"not at all\", \"not at all\", \"not at all\", \"not at all\", \"not at all\", \"not at all\", \"not at all\", \"not at all\", \"not at all\", \"not at all\", \"not at all\", \"not at all\", \"not at all\", \"not at all\", \"not at all\", \"not at all\", \"not at all\", \"not at all\", \"not at all\", \"not at all\", \"not at all\", \"not at all\", \"not at all\", \"not at all\", \"not at all\", \"not at all\", \"not at all\", \"not at all\", \"not at all\", \"somewhat\", \"somewhat\", \"somewhat\", \"somewhat\", \"somewhat\", \"somewhat\", \"somewhat\", \"somewhat\", \"somewhat\", \"somewhat\", \"somewhat\", \"somewhat\", \"somewhat\", \"somewhat\", \"somewhat\", \"somewhat\", \"somewhat\", \"somewhat\", \"somewhat\", \"somewhat\", \"somewhat\", \"somewhat\", \"somewhat\", \"somewhat\", \"somewhat\", \"somewhat\", \"somewhat\", \"somewhat\", \"somewhat\", \"somewhat\", \"somewhat\", \"somewhat\", \"somewhat\", \"somewhat\", \"somewhat\", \"somewhat\", \"somewhat\", \"somewhat\", \"somewhat\", \"somewhat\", \"somewhat\", \"somewhat\", \"somewhat\", \"somewhat\", \"somewhat\", \"somewhat\", \"somewhat\", \"somewhat\", \"somewhat\", \"somewhat\", \"somewhat\", \"definitely\", \"definitely\", \"definitely\", \"definitely\", \"definitely\", \"definitely\", \"definitely\", \"definitely\", \"definitely\", \"definitely\", \"definitely\", \"definitely\", \"definitely\", \"definitely\", \"definitely\", \"definitely\", \"definitely\", \"definitely\", \"definitely\", \"definitely\", \"definitely\", \"definitely\", \"definitely\", \"definitely\", \"definitely\", \"definitely\", \"definitely\", \"definitely\", \"definitely\", \"definitely\", \"definitely\", \"definitely\", \"definitely\", \"definitely\", \"definitely\", \"definitely\", \"definitely\", \"definitely\", \"definitely\", \"definitely\", \"definitely\", \"definitely\", \"definitely\", \"definitely\", \"definitely\", \"definitely\", \"definitely\", \"definitely\", \"definitely\", \"definitely\", \"definitely\"], \"y\": [0.005333333333333333, 0.00397422126745435, 0.006190823015294974, 0.00421822272215973, 0.004110429447852761, 0.002577635939609672, 0.004160887656033287, 0.008438818565400843, 0.0024937655860349127, 0.002986825964051416, 0.004611615506557141, 0.009523809523809525, 0.0014919300149193002, 0.0029665587918015104, 0.002724468127729476, 0.0048932988990077475, 0.004810583283223091, 0.0032160804020100503, 0.004563841925111503, 0.0030828516377649326, 0.0031733439111463705, 0.004070556309362279, 0.003639927201455971, 0.0027023549092780852, 0.0038071065989847717, 0.006290544525260468, 0.00375603648721159, 0.0024045029783048254, 0.0011940298507462687, 0.004750593824228029, 0.004677268475210477, 0.004305705059203444, 0.0061525840853158325, 0.011588785046728972, 0.003553074043525157, 0.002663713635819466, 0.0036607049471812573, 0.0040178571428571425, 0.002199375990997903, 0.00439453125, 0.0037626628075253256, 0.0018679950186799503, 0.0018315018315018315, 0.004443098051095627, 0.0031639848128728982, 0.002609393817743878, 0.003250975292587776, 0.003424356835543068, 0.0030685502547475683, 0.004109844946758827, 0.0, 0.04, 0.016004296455424276, 0.02112163146394756, 0.017716535433070866, 0.01357361963190184, 0.011783478581072787, 0.013869625520110958, 0.04219409282700422, 0.014962593516209476, 0.010613899407968424, 0.017005332180429458, 0.0380952380952381, 0.00901939509019395, 0.016720604099244876, 0.011178332465242998, 0.01957319559603099, 0.02164762477450391, 0.013668341708542713, 0.018670262420910695, 0.015028901734104046, 0.016660055533518445, 0.014020805065581185, 0.015959680806383873, 0.012546647793076824, 0.015069796954314721, 0.022803223904069195, 0.018064746914684314, 0.01010984206787256, 0.004776119402985075, 0.02929532858273951, 0.0205799812909261, 0.015069967707212056, 0.025840853158326498, 0.03177570093457944, 0.01370471416788275, 0.011073865677002274, 0.014852002928563958, 0.016517857142857143, 0.010127359214362436, 0.01416015625, 0.015629522431259046, 0.010585305105853052, 0.007326007326007326, 0.019034635968898313, 0.014644729705297415, 0.01144118827780008, 0.010403120936280884, 0.014751075599262446, 0.013779527559055118, 0.014384457313655894, 0.013966480446927373, 0.488, 0.2163265306122449, 0.2640203932993445, 0.203037120359955, 0.13875766871165643, 0.14520682459801154, 0.1900138696255201, 0.37130801687763715, 0.23192019950124687, 0.12507333724465305, 0.23058077532785703, 0.42857142857142855, 0.11833717618337176, 0.22303128371089537, 0.15036660122601067, 0.26097594128041324, 0.2742032471437162, 0.18412060301507538, 0.26719219997925525, 0.1745664739884393, 0.21816739389131298, 0.1854364540931705, 0.23239535209295814, 0.16490799124951744, 0.18734137055837563, 0.26577550619225476, 0.19280987301019495, 0.15689381933438987, 0.05373134328358209, 0.2826603325415677, 0.3021515434985968, 0.19590958019375673, 0.29614438063986875, 0.2930841121495327, 0.16674068904257344, 0.13291631749072189, 0.19067043196318376, 0.225, 0.1257736177177638, 0.1767578125, 0.18321273516642547, 0.11207970112079702, 0.09906759906759907, 0.2643138442896092, 0.1629904176459953, 0.18667201926936974, 0.11638491547464239, 0.19255421898322944, 0.1857920333487726, 0.20567905847188492, 0.26536312849162014]}],\n",
       "                        {\"template\": {\"data\": {\"bar\": [{\"error_x\": {\"color\": \"#2a3f5f\"}, \"error_y\": {\"color\": \"#2a3f5f\"}, \"marker\": {\"line\": {\"color\": \"white\", \"width\": 0.5}}, \"type\": \"bar\"}], \"barpolar\": [{\"marker\": {\"line\": {\"color\": \"white\", \"width\": 0.5}}, \"type\": \"barpolar\"}], \"carpet\": [{\"aaxis\": {\"endlinecolor\": \"#2a3f5f\", \"gridcolor\": \"#C8D4E3\", \"linecolor\": \"#C8D4E3\", \"minorgridcolor\": \"#C8D4E3\", \"startlinecolor\": \"#2a3f5f\"}, \"baxis\": {\"endlinecolor\": \"#2a3f5f\", \"gridcolor\": \"#C8D4E3\", \"linecolor\": \"#C8D4E3\", \"minorgridcolor\": \"#C8D4E3\", \"startlinecolor\": \"#2a3f5f\"}, \"type\": \"carpet\"}], \"choropleth\": [{\"colorbar\": {\"outlinewidth\": 0, \"ticks\": \"\"}, \"type\": \"choropleth\"}], \"contour\": [{\"colorbar\": {\"outlinewidth\": 0, \"ticks\": \"\"}, \"colorscale\": [[0.0, \"#0d0887\"], [0.1111111111111111, \"#46039f\"], [0.2222222222222222, \"#7201a8\"], [0.3333333333333333, \"#9c179e\"], [0.4444444444444444, \"#bd3786\"], [0.5555555555555556, \"#d8576b\"], [0.6666666666666666, \"#ed7953\"], [0.7777777777777778, \"#fb9f3a\"], [0.8888888888888888, \"#fdca26\"], [1.0, \"#f0f921\"]], \"type\": \"contour\"}], \"contourcarpet\": [{\"colorbar\": {\"outlinewidth\": 0, \"ticks\": \"\"}, \"type\": \"contourcarpet\"}], \"heatmap\": [{\"colorbar\": {\"outlinewidth\": 0, \"ticks\": \"\"}, \"colorscale\": [[0.0, \"#0d0887\"], [0.1111111111111111, \"#46039f\"], [0.2222222222222222, \"#7201a8\"], [0.3333333333333333, \"#9c179e\"], [0.4444444444444444, \"#bd3786\"], [0.5555555555555556, \"#d8576b\"], [0.6666666666666666, \"#ed7953\"], [0.7777777777777778, \"#fb9f3a\"], [0.8888888888888888, \"#fdca26\"], [1.0, \"#f0f921\"]], \"type\": \"heatmap\"}], \"heatmapgl\": [{\"colorbar\": {\"outlinewidth\": 0, \"ticks\": \"\"}, \"colorscale\": [[0.0, \"#0d0887\"], [0.1111111111111111, \"#46039f\"], [0.2222222222222222, \"#7201a8\"], [0.3333333333333333, \"#9c179e\"], [0.4444444444444444, \"#bd3786\"], [0.5555555555555556, \"#d8576b\"], [0.6666666666666666, \"#ed7953\"], [0.7777777777777778, \"#fb9f3a\"], [0.8888888888888888, \"#fdca26\"], [1.0, \"#f0f921\"]], \"type\": \"heatmapgl\"}], \"histogram\": [{\"marker\": {\"colorbar\": {\"outlinewidth\": 0, \"ticks\": \"\"}}, \"type\": \"histogram\"}], \"histogram2d\": [{\"colorbar\": {\"outlinewidth\": 0, \"ticks\": \"\"}, \"colorscale\": [[0.0, \"#0d0887\"], [0.1111111111111111, \"#46039f\"], [0.2222222222222222, \"#7201a8\"], [0.3333333333333333, \"#9c179e\"], [0.4444444444444444, \"#bd3786\"], [0.5555555555555556, \"#d8576b\"], [0.6666666666666666, \"#ed7953\"], [0.7777777777777778, \"#fb9f3a\"], [0.8888888888888888, \"#fdca26\"], [1.0, \"#f0f921\"]], \"type\": \"histogram2d\"}], \"histogram2dcontour\": [{\"colorbar\": {\"outlinewidth\": 0, \"ticks\": \"\"}, \"colorscale\": [[0.0, \"#0d0887\"], [0.1111111111111111, \"#46039f\"], [0.2222222222222222, \"#7201a8\"], [0.3333333333333333, \"#9c179e\"], [0.4444444444444444, \"#bd3786\"], [0.5555555555555556, \"#d8576b\"], [0.6666666666666666, \"#ed7953\"], [0.7777777777777778, \"#fb9f3a\"], [0.8888888888888888, \"#fdca26\"], [1.0, \"#f0f921\"]], \"type\": \"histogram2dcontour\"}], \"mesh3d\": [{\"colorbar\": {\"outlinewidth\": 0, \"ticks\": \"\"}, \"type\": \"mesh3d\"}], \"parcoords\": [{\"line\": {\"colorbar\": {\"outlinewidth\": 0, \"ticks\": \"\"}}, \"type\": \"parcoords\"}], \"scatter\": [{\"marker\": {\"colorbar\": {\"outlinewidth\": 0, \"ticks\": \"\"}}, \"type\": \"scatter\"}], \"scatter3d\": [{\"line\": {\"colorbar\": {\"outlinewidth\": 0, \"ticks\": \"\"}}, \"marker\": {\"colorbar\": {\"outlinewidth\": 0, \"ticks\": \"\"}}, \"type\": \"scatter3d\"}], \"scattercarpet\": [{\"marker\": {\"colorbar\": {\"outlinewidth\": 0, \"ticks\": \"\"}}, \"type\": \"scattercarpet\"}], \"scattergeo\": [{\"marker\": {\"colorbar\": {\"outlinewidth\": 0, \"ticks\": \"\"}}, \"type\": \"scattergeo\"}], \"scattergl\": [{\"marker\": {\"colorbar\": {\"outlinewidth\": 0, \"ticks\": \"\"}}, \"type\": \"scattergl\"}], \"scattermapbox\": [{\"marker\": {\"colorbar\": {\"outlinewidth\": 0, \"ticks\": \"\"}}, \"type\": \"scattermapbox\"}], \"scatterpolar\": [{\"marker\": {\"colorbar\": {\"outlinewidth\": 0, \"ticks\": \"\"}}, \"type\": \"scatterpolar\"}], \"scatterpolargl\": [{\"marker\": {\"colorbar\": {\"outlinewidth\": 0, \"ticks\": \"\"}}, \"type\": \"scatterpolargl\"}], \"scatterternary\": [{\"marker\": {\"colorbar\": {\"outlinewidth\": 0, \"ticks\": \"\"}}, \"type\": \"scatterternary\"}], \"surface\": [{\"colorbar\": {\"outlinewidth\": 0, \"ticks\": \"\"}, \"colorscale\": [[0.0, \"#0d0887\"], [0.1111111111111111, \"#46039f\"], [0.2222222222222222, \"#7201a8\"], [0.3333333333333333, \"#9c179e\"], [0.4444444444444444, \"#bd3786\"], [0.5555555555555556, \"#d8576b\"], [0.6666666666666666, \"#ed7953\"], [0.7777777777777778, \"#fb9f3a\"], [0.8888888888888888, \"#fdca26\"], [1.0, \"#f0f921\"]], \"type\": \"surface\"}], \"table\": [{\"cells\": {\"fill\": {\"color\": \"#EBF0F8\"}, \"line\": {\"color\": \"white\"}}, \"header\": {\"fill\": {\"color\": \"#C8D4E3\"}, \"line\": {\"color\": \"white\"}}, \"type\": \"table\"}]}, \"layout\": {\"annotationdefaults\": {\"arrowcolor\": \"#2a3f5f\", \"arrowhead\": 0, \"arrowwidth\": 1}, \"colorscale\": {\"diverging\": [[0, \"#8e0152\"], [0.1, \"#c51b7d\"], [0.2, \"#de77ae\"], [0.3, \"#f1b6da\"], [0.4, \"#fde0ef\"], [0.5, \"#f7f7f7\"], [0.6, \"#e6f5d0\"], [0.7, \"#b8e186\"], [0.8, \"#7fbc41\"], [0.9, \"#4d9221\"], [1, \"#276419\"]], \"sequential\": [[0.0, \"#0d0887\"], [0.1111111111111111, \"#46039f\"], [0.2222222222222222, \"#7201a8\"], [0.3333333333333333, \"#9c179e\"], [0.4444444444444444, \"#bd3786\"], [0.5555555555555556, \"#d8576b\"], [0.6666666666666666, \"#ed7953\"], [0.7777777777777778, \"#fb9f3a\"], [0.8888888888888888, \"#fdca26\"], [1.0, \"#f0f921\"]], \"sequentialminus\": [[0.0, \"#0d0887\"], [0.1111111111111111, \"#46039f\"], [0.2222222222222222, \"#7201a8\"], [0.3333333333333333, \"#9c179e\"], [0.4444444444444444, \"#bd3786\"], [0.5555555555555556, \"#d8576b\"], [0.6666666666666666, \"#ed7953\"], [0.7777777777777778, \"#fb9f3a\"], [0.8888888888888888, \"#fdca26\"], [1.0, \"#f0f921\"]]}, \"colorway\": [\"#636efa\", \"#EF553B\", \"#00cc96\", \"#ab63fa\", \"#FFA15A\", \"#19d3f3\", \"#FF6692\", \"#B6E880\", \"#FF97FF\", \"#FECB52\"], \"font\": {\"color\": \"#2a3f5f\"}, \"geo\": {\"bgcolor\": \"white\", \"lakecolor\": \"white\", \"landcolor\": \"white\", \"showlakes\": true, \"showland\": true, \"subunitcolor\": \"#C8D4E3\"}, \"hoverlabel\": {\"align\": \"left\"}, \"hovermode\": \"closest\", \"mapbox\": {\"style\": \"light\"}, \"paper_bgcolor\": \"white\", \"plot_bgcolor\": \"white\", \"polar\": {\"angularaxis\": {\"gridcolor\": \"#EBF0F8\", \"linecolor\": \"#EBF0F8\", \"ticks\": \"\"}, \"bgcolor\": \"white\", \"radialaxis\": {\"gridcolor\": \"#EBF0F8\", \"linecolor\": \"#EBF0F8\", \"ticks\": \"\"}}, \"scene\": {\"xaxis\": {\"backgroundcolor\": \"white\", \"gridcolor\": \"#DFE8F3\", \"gridwidth\": 2, \"linecolor\": \"#EBF0F8\", \"showbackground\": true, \"ticks\": \"\", \"zerolinecolor\": \"#EBF0F8\"}, \"yaxis\": {\"backgroundcolor\": \"white\", \"gridcolor\": \"#DFE8F3\", \"gridwidth\": 2, \"linecolor\": \"#EBF0F8\", \"showbackground\": true, \"ticks\": \"\", \"zerolinecolor\": \"#EBF0F8\"}, \"zaxis\": {\"backgroundcolor\": \"white\", \"gridcolor\": \"#DFE8F3\", \"gridwidth\": 2, \"linecolor\": \"#EBF0F8\", \"showbackground\": true, \"ticks\": \"\", \"zerolinecolor\": \"#EBF0F8\"}}, \"shapedefaults\": {\"line\": {\"color\": \"#2a3f5f\"}}, \"ternary\": {\"aaxis\": {\"gridcolor\": \"#DFE8F3\", \"linecolor\": \"#A2B1C6\", \"ticks\": \"\"}, \"baxis\": {\"gridcolor\": \"#DFE8F3\", \"linecolor\": \"#A2B1C6\", \"ticks\": \"\"}, \"bgcolor\": \"white\", \"caxis\": {\"gridcolor\": \"#DFE8F3\", \"linecolor\": \"#A2B1C6\", \"ticks\": \"\"}}, \"title\": {\"x\": 0.05}, \"xaxis\": {\"automargin\": true, \"gridcolor\": \"#EBF0F8\", \"linecolor\": \"#EBF0F8\", \"ticks\": \"\", \"zerolinecolor\": \"#EBF0F8\", \"zerolinewidth\": 2}, \"yaxis\": {\"automargin\": true, \"gridcolor\": \"#EBF0F8\", \"linecolor\": \"#EBF0F8\", \"ticks\": \"\", \"zerolinecolor\": \"#EBF0F8\", \"zerolinewidth\": 2}}}, \"title\": {\"text\": \"Patient Ratings of Staff Communication about the Procedure\"}, \"xaxis\": {\"title\": {\"text\": \"response\"}}, \"yaxis\": {\"title\": {\"text\": \"proportion of patients\"}}},\n",
       "                        {\"responsive\": true}\n",
       "                    ).then(function(){\n",
       "                            \n",
       "var gd = document.getElementById('e242edba-e734-4cc2-9525-03c6d5b002e1');\n",
       "var x = new MutationObserver(function (mutations, observer) {{\n",
       "        var display = window.getComputedStyle(gd).display;\n",
       "        if (!display || display === 'none') {{\n",
       "            console.log([gd, 'removed!']);\n",
       "            Plotly.purge(gd);\n",
       "            observer.disconnect();\n",
       "        }}\n",
       "}});\n",
       "\n",
       "// Listen for the removal of the full notebook cells\n",
       "var notebookContainer = gd.closest('#notebook-container');\n",
       "if (notebookContainer) {{\n",
       "    x.observe(notebookContainer, {childList: true});\n",
       "}}\n",
       "\n",
       "// Listen for the clearing of the current output cell\n",
       "var outputEl = gd.closest('.output');\n",
       "if (outputEl) {{\n",
       "    x.observe(outputEl, {childList: true});\n",
       "}}\n",
       "\n",
       "                        })\n",
       "                };\n",
       "                });\n",
       "            </script>\n",
       "        </div>"
      ]
     },
     "metadata": {},
     "output_type": "display_data"
    },
    {
     "data": {
      "application/vnd.plotly.v1+json": {
       "config": {
        "plotlyServerURL": "https://plot.ly"
       },
       "data": [
        {
         "boxpoints": "all",
         "hoverinfo": "text",
         "hovertext": [
          "AK",
          "AL",
          "AR",
          "AZ",
          "CA",
          "CO",
          "CT",
          "DC",
          "DE",
          "FL",
          "GA",
          "HI",
          "IA",
          "ID",
          "IL",
          "IN",
          "KS",
          "KY",
          "LA",
          "MA",
          "MD",
          "ME",
          "MI",
          "MN",
          "MO",
          "MS",
          "MT",
          "NC",
          "ND",
          "NE",
          "NH",
          "NJ",
          "NM",
          "NV",
          "NY",
          "OH",
          "OK",
          "OR",
          "PA",
          "RI",
          "SC",
          "SD",
          "TN",
          "TX",
          "UT",
          "VA",
          "VT",
          "WA",
          "WI",
          "WV",
          "WY",
          "AK",
          "AL",
          "AR",
          "AZ",
          "CA",
          "CO",
          "CT",
          "DC",
          "DE",
          "FL",
          "GA",
          "HI",
          "IA",
          "ID",
          "IL",
          "IN",
          "KS",
          "KY",
          "LA",
          "MA",
          "MD",
          "ME",
          "MI",
          "MN",
          "MO",
          "MS",
          "MT",
          "NC",
          "ND",
          "NE",
          "NH",
          "NJ",
          "NM",
          "NV",
          "NY",
          "OH",
          "OK",
          "OR",
          "PA",
          "RI",
          "SC",
          "SD",
          "TN",
          "TX",
          "UT",
          "VA",
          "VT",
          "WA",
          "WI",
          "WV",
          "WY",
          "AK",
          "AL",
          "AR",
          "AZ",
          "CA",
          "CO",
          "CT",
          "DC",
          "DE",
          "FL",
          "GA",
          "HI",
          "IA",
          "ID",
          "IL",
          "IN",
          "KS",
          "KY",
          "LA",
          "MA",
          "MD",
          "ME",
          "MI",
          "MN",
          "MO",
          "MS",
          "MT",
          "NC",
          "ND",
          "NE",
          "NH",
          "NJ",
          "NM",
          "NV",
          "NY",
          "OH",
          "OK",
          "OR",
          "PA",
          "RI",
          "SC",
          "SD",
          "TN",
          "TX",
          "UT",
          "VA",
          "VT",
          "WA",
          "WI",
          "WV",
          "WY"
         ],
         "jitter": 0.5,
         "type": "box",
         "width": 0.3,
         "x": [
          "no",
          "no",
          "no",
          "no",
          "no",
          "no",
          "no",
          "no",
          "no",
          "no",
          "no",
          "no",
          "no",
          "no",
          "no",
          "no",
          "no",
          "no",
          "no",
          "no",
          "no",
          "no",
          "no",
          "no",
          "no",
          "no",
          "no",
          "no",
          "no",
          "no",
          "no",
          "no",
          "no",
          "no",
          "no",
          "no",
          "no",
          "no",
          "no",
          "no",
          "no",
          "no",
          "no",
          "no",
          "no",
          "no",
          "no",
          "no",
          "no",
          "no",
          "no",
          "probably",
          "probably",
          "probably",
          "probably",
          "probably",
          "probably",
          "probably",
          "probably",
          "probably",
          "probably",
          "probably",
          "probably",
          "probably",
          "probably",
          "probably",
          "probably",
          "probably",
          "probably",
          "probably",
          "probably",
          "probably",
          "probably",
          "probably",
          "probably",
          "probably",
          "probably",
          "probably",
          "probably",
          "probably",
          "probably",
          "probably",
          "probably",
          "probably",
          "probably",
          "probably",
          "probably",
          "probably",
          "probably",
          "probably",
          "probably",
          "probably",
          "probably",
          "probably",
          "probably",
          "probably",
          "probably",
          "probably",
          "probably",
          "probably",
          "probably",
          "probably",
          "yes definitely",
          "yes definitely",
          "yes definitely",
          "yes definitely",
          "yes definitely",
          "yes definitely",
          "yes definitely",
          "yes definitely",
          "yes definitely",
          "yes definitely",
          "yes definitely",
          "yes definitely",
          "yes definitely",
          "yes definitely",
          "yes definitely",
          "yes definitely",
          "yes definitely",
          "yes definitely",
          "yes definitely",
          "yes definitely",
          "yes definitely",
          "yes definitely",
          "yes definitely",
          "yes definitely",
          "yes definitely",
          "yes definitely",
          "yes definitely",
          "yes definitely",
          "yes definitely",
          "yes definitely",
          "yes definitely",
          "yes definitely",
          "yes definitely",
          "yes definitely",
          "yes definitely",
          "yes definitely",
          "yes definitely",
          "yes definitely",
          "yes definitely",
          "yes definitely",
          "yes definitely",
          "yes definitely",
          "yes definitely",
          "yes definitely",
          "yes definitely",
          "yes definitely",
          "yes definitely",
          "yes definitely",
          "yes definitely",
          "yes definitely",
          "yes definitely"
         ],
         "y": [
          0.008,
          0.00472610096670247,
          0.00764748725418791,
          0.00421822272215973,
          0.004401840490797546,
          0.0022094022339511476,
          0.0034674063800277394,
          0.016877637130801686,
          0.004987531172069825,
          0.002880153608192437,
          0.0066291972906758895,
          0.014285714285714285,
          0.00196663501966635,
          0.004584681769147788,
          0.003085059497576025,
          0.004757373929590866,
          0.004810583283223091,
          0.004020100502512563,
          0.006845762887667255,
          0.005587668593448941,
          0.005553351844506148,
          0.005879692446856626,
          0.004899902001959961,
          0.0028310384763865653,
          0.004441624365482234,
          0.006880283074503637,
          0.003040600965837954,
          0.002513798568227772,
          0.0011940298507462687,
          0.006334125098970704,
          0.007951356407857811,
          0.005382131324004306,
          0.005332239540607055,
          0.00822429906542056,
          0.005012372311401561,
          0.0031725128696276786,
          0.0036607049471812573,
          0.003125,
          0.002506265664160401,
          0.00341796875,
          0.0066570188133140374,
          0.0012453300124533001,
          0.0021645021645021645,
          0.006361708573159649,
          0.003254384378954981,
          0.005218787635487756,
          0.002600780234070221,
          0.003775572921239793,
          0.00341593330245484,
          0.004857089482533159,
          0.002793296089385475,
          0.07466666666666667,
          0.038131041890440386,
          0.04624908958485069,
          0.033183352080989874,
          0.023190184049079753,
          0.02148029949674727,
          0.032246879334257975,
          0.08016877637130802,
          0.057356608478802994,
          0.017867619606379007,
          0.0399913532209252,
          0.1,
          0.023057100230571004,
          0.036138079827400214,
          0.02712448415401258,
          0.04607856463232296,
          0.06253758268190018,
          0.03457286432160804,
          0.04086712996577119,
          0.027745664739884393,
          0.04165013883379611,
          0.040479421076436005,
          0.04605907881842363,
          0.03114142324025222,
          0.03775380710659899,
          0.04324749361116571,
          0.03791808263280272,
          0.022077709164435216,
          0.01373134328358209,
          0.0728424386381631,
          0.07530402245088869,
          0.03444564047362755,
          0.04840032813781788,
          0.05719626168224299,
          0.03464247192437028,
          0.026936430025140668,
          0.026566258759543982,
          0.037723214285714284,
          0.023886246227814434,
          0.0244140625,
          0.03589001447178003,
          0.011830635118306352,
          0.014568764568764568,
          0.04008886196102191,
          0.024769481106490687,
          0.03331995182657567,
          0.0247074122236671,
          0.032487487926947056,
          0.03381194997684113,
          0.04259293853913693,
          0.055865921787709494,
          0.45066666666666666,
          0.19344790547798066,
          0.23743627093954844,
          0.187570303712036,
          0.12884969325153375,
          0.1358782373879956,
          0.17233009708737865,
          0.32489451476793246,
          0.18703241895261846,
          0.11792628940210144,
          0.20557717250324253,
          0.3619047619047619,
          0.10382476603824765,
          0.20199568500539375,
          0.13405985816739452,
          0.23460649721353813,
          0.23331328923631992,
          0.16241206030150754,
          0.24271341147183903,
          0.15934489402697496,
          0.19079730265767553,
          0.15716870194482135,
          0.2010359792804144,
          0.14618453223523356,
          0.1640228426395939,
          0.24474149793591507,
          0.17367197281345018,
          0.14481665664790425,
          0.04477611940298507,
          0.2375296912114014,
          0.2441534144059869,
          0.17545748116254037,
          0.27440525020508616,
          0.27102803738317754,
          0.14434363301820952,
          0.11654495390877528,
          0.17895617613220374,
          0.2046875,
          0.11170784103114931,
          0.16748046875,
          0.16005788712011576,
          0.11145703611457036,
          0.09149184149184149,
          0.24134100777542158,
          0.15277526667871993,
          0.16218386190285025,
          0.10273081924577374,
          0.1744665905698481,
          0.1654122278832793,
          0.17672333271062957,
          0.2206703910614525
         ]
        }
       ],
       "layout": {
        "template": {
         "data": {
          "bar": [
           {
            "error_x": {
             "color": "#2a3f5f"
            },
            "error_y": {
             "color": "#2a3f5f"
            },
            "marker": {
             "line": {
              "color": "white",
              "width": 0.5
             }
            },
            "type": "bar"
           }
          ],
          "barpolar": [
           {
            "marker": {
             "line": {
              "color": "white",
              "width": 0.5
             }
            },
            "type": "barpolar"
           }
          ],
          "carpet": [
           {
            "aaxis": {
             "endlinecolor": "#2a3f5f",
             "gridcolor": "#C8D4E3",
             "linecolor": "#C8D4E3",
             "minorgridcolor": "#C8D4E3",
             "startlinecolor": "#2a3f5f"
            },
            "baxis": {
             "endlinecolor": "#2a3f5f",
             "gridcolor": "#C8D4E3",
             "linecolor": "#C8D4E3",
             "minorgridcolor": "#C8D4E3",
             "startlinecolor": "#2a3f5f"
            },
            "type": "carpet"
           }
          ],
          "choropleth": [
           {
            "colorbar": {
             "outlinewidth": 0,
             "ticks": ""
            },
            "type": "choropleth"
           }
          ],
          "contour": [
           {
            "colorbar": {
             "outlinewidth": 0,
             "ticks": ""
            },
            "colorscale": [
             [
              0,
              "#0d0887"
             ],
             [
              0.1111111111111111,
              "#46039f"
             ],
             [
              0.2222222222222222,
              "#7201a8"
             ],
             [
              0.3333333333333333,
              "#9c179e"
             ],
             [
              0.4444444444444444,
              "#bd3786"
             ],
             [
              0.5555555555555556,
              "#d8576b"
             ],
             [
              0.6666666666666666,
              "#ed7953"
             ],
             [
              0.7777777777777778,
              "#fb9f3a"
             ],
             [
              0.8888888888888888,
              "#fdca26"
             ],
             [
              1,
              "#f0f921"
             ]
            ],
            "type": "contour"
           }
          ],
          "contourcarpet": [
           {
            "colorbar": {
             "outlinewidth": 0,
             "ticks": ""
            },
            "type": "contourcarpet"
           }
          ],
          "heatmap": [
           {
            "colorbar": {
             "outlinewidth": 0,
             "ticks": ""
            },
            "colorscale": [
             [
              0,
              "#0d0887"
             ],
             [
              0.1111111111111111,
              "#46039f"
             ],
             [
              0.2222222222222222,
              "#7201a8"
             ],
             [
              0.3333333333333333,
              "#9c179e"
             ],
             [
              0.4444444444444444,
              "#bd3786"
             ],
             [
              0.5555555555555556,
              "#d8576b"
             ],
             [
              0.6666666666666666,
              "#ed7953"
             ],
             [
              0.7777777777777778,
              "#fb9f3a"
             ],
             [
              0.8888888888888888,
              "#fdca26"
             ],
             [
              1,
              "#f0f921"
             ]
            ],
            "type": "heatmap"
           }
          ],
          "heatmapgl": [
           {
            "colorbar": {
             "outlinewidth": 0,
             "ticks": ""
            },
            "colorscale": [
             [
              0,
              "#0d0887"
             ],
             [
              0.1111111111111111,
              "#46039f"
             ],
             [
              0.2222222222222222,
              "#7201a8"
             ],
             [
              0.3333333333333333,
              "#9c179e"
             ],
             [
              0.4444444444444444,
              "#bd3786"
             ],
             [
              0.5555555555555556,
              "#d8576b"
             ],
             [
              0.6666666666666666,
              "#ed7953"
             ],
             [
              0.7777777777777778,
              "#fb9f3a"
             ],
             [
              0.8888888888888888,
              "#fdca26"
             ],
             [
              1,
              "#f0f921"
             ]
            ],
            "type": "heatmapgl"
           }
          ],
          "histogram": [
           {
            "marker": {
             "colorbar": {
              "outlinewidth": 0,
              "ticks": ""
             }
            },
            "type": "histogram"
           }
          ],
          "histogram2d": [
           {
            "colorbar": {
             "outlinewidth": 0,
             "ticks": ""
            },
            "colorscale": [
             [
              0,
              "#0d0887"
             ],
             [
              0.1111111111111111,
              "#46039f"
             ],
             [
              0.2222222222222222,
              "#7201a8"
             ],
             [
              0.3333333333333333,
              "#9c179e"
             ],
             [
              0.4444444444444444,
              "#bd3786"
             ],
             [
              0.5555555555555556,
              "#d8576b"
             ],
             [
              0.6666666666666666,
              "#ed7953"
             ],
             [
              0.7777777777777778,
              "#fb9f3a"
             ],
             [
              0.8888888888888888,
              "#fdca26"
             ],
             [
              1,
              "#f0f921"
             ]
            ],
            "type": "histogram2d"
           }
          ],
          "histogram2dcontour": [
           {
            "colorbar": {
             "outlinewidth": 0,
             "ticks": ""
            },
            "colorscale": [
             [
              0,
              "#0d0887"
             ],
             [
              0.1111111111111111,
              "#46039f"
             ],
             [
              0.2222222222222222,
              "#7201a8"
             ],
             [
              0.3333333333333333,
              "#9c179e"
             ],
             [
              0.4444444444444444,
              "#bd3786"
             ],
             [
              0.5555555555555556,
              "#d8576b"
             ],
             [
              0.6666666666666666,
              "#ed7953"
             ],
             [
              0.7777777777777778,
              "#fb9f3a"
             ],
             [
              0.8888888888888888,
              "#fdca26"
             ],
             [
              1,
              "#f0f921"
             ]
            ],
            "type": "histogram2dcontour"
           }
          ],
          "mesh3d": [
           {
            "colorbar": {
             "outlinewidth": 0,
             "ticks": ""
            },
            "type": "mesh3d"
           }
          ],
          "parcoords": [
           {
            "line": {
             "colorbar": {
              "outlinewidth": 0,
              "ticks": ""
             }
            },
            "type": "parcoords"
           }
          ],
          "scatter": [
           {
            "marker": {
             "colorbar": {
              "outlinewidth": 0,
              "ticks": ""
             }
            },
            "type": "scatter"
           }
          ],
          "scatter3d": [
           {
            "line": {
             "colorbar": {
              "outlinewidth": 0,
              "ticks": ""
             }
            },
            "marker": {
             "colorbar": {
              "outlinewidth": 0,
              "ticks": ""
             }
            },
            "type": "scatter3d"
           }
          ],
          "scattercarpet": [
           {
            "marker": {
             "colorbar": {
              "outlinewidth": 0,
              "ticks": ""
             }
            },
            "type": "scattercarpet"
           }
          ],
          "scattergeo": [
           {
            "marker": {
             "colorbar": {
              "outlinewidth": 0,
              "ticks": ""
             }
            },
            "type": "scattergeo"
           }
          ],
          "scattergl": [
           {
            "marker": {
             "colorbar": {
              "outlinewidth": 0,
              "ticks": ""
             }
            },
            "type": "scattergl"
           }
          ],
          "scattermapbox": [
           {
            "marker": {
             "colorbar": {
              "outlinewidth": 0,
              "ticks": ""
             }
            },
            "type": "scattermapbox"
           }
          ],
          "scatterpolar": [
           {
            "marker": {
             "colorbar": {
              "outlinewidth": 0,
              "ticks": ""
             }
            },
            "type": "scatterpolar"
           }
          ],
          "scatterpolargl": [
           {
            "marker": {
             "colorbar": {
              "outlinewidth": 0,
              "ticks": ""
             }
            },
            "type": "scatterpolargl"
           }
          ],
          "scatterternary": [
           {
            "marker": {
             "colorbar": {
              "outlinewidth": 0,
              "ticks": ""
             }
            },
            "type": "scatterternary"
           }
          ],
          "surface": [
           {
            "colorbar": {
             "outlinewidth": 0,
             "ticks": ""
            },
            "colorscale": [
             [
              0,
              "#0d0887"
             ],
             [
              0.1111111111111111,
              "#46039f"
             ],
             [
              0.2222222222222222,
              "#7201a8"
             ],
             [
              0.3333333333333333,
              "#9c179e"
             ],
             [
              0.4444444444444444,
              "#bd3786"
             ],
             [
              0.5555555555555556,
              "#d8576b"
             ],
             [
              0.6666666666666666,
              "#ed7953"
             ],
             [
              0.7777777777777778,
              "#fb9f3a"
             ],
             [
              0.8888888888888888,
              "#fdca26"
             ],
             [
              1,
              "#f0f921"
             ]
            ],
            "type": "surface"
           }
          ],
          "table": [
           {
            "cells": {
             "fill": {
              "color": "#EBF0F8"
             },
             "line": {
              "color": "white"
             }
            },
            "header": {
             "fill": {
              "color": "#C8D4E3"
             },
             "line": {
              "color": "white"
             }
            },
            "type": "table"
           }
          ]
         },
         "layout": {
          "annotationdefaults": {
           "arrowcolor": "#2a3f5f",
           "arrowhead": 0,
           "arrowwidth": 1
          },
          "colorscale": {
           "diverging": [
            [
             0,
             "#8e0152"
            ],
            [
             0.1,
             "#c51b7d"
            ],
            [
             0.2,
             "#de77ae"
            ],
            [
             0.3,
             "#f1b6da"
            ],
            [
             0.4,
             "#fde0ef"
            ],
            [
             0.5,
             "#f7f7f7"
            ],
            [
             0.6,
             "#e6f5d0"
            ],
            [
             0.7,
             "#b8e186"
            ],
            [
             0.8,
             "#7fbc41"
            ],
            [
             0.9,
             "#4d9221"
            ],
            [
             1,
             "#276419"
            ]
           ],
           "sequential": [
            [
             0,
             "#0d0887"
            ],
            [
             0.1111111111111111,
             "#46039f"
            ],
            [
             0.2222222222222222,
             "#7201a8"
            ],
            [
             0.3333333333333333,
             "#9c179e"
            ],
            [
             0.4444444444444444,
             "#bd3786"
            ],
            [
             0.5555555555555556,
             "#d8576b"
            ],
            [
             0.6666666666666666,
             "#ed7953"
            ],
            [
             0.7777777777777778,
             "#fb9f3a"
            ],
            [
             0.8888888888888888,
             "#fdca26"
            ],
            [
             1,
             "#f0f921"
            ]
           ],
           "sequentialminus": [
            [
             0,
             "#0d0887"
            ],
            [
             0.1111111111111111,
             "#46039f"
            ],
            [
             0.2222222222222222,
             "#7201a8"
            ],
            [
             0.3333333333333333,
             "#9c179e"
            ],
            [
             0.4444444444444444,
             "#bd3786"
            ],
            [
             0.5555555555555556,
             "#d8576b"
            ],
            [
             0.6666666666666666,
             "#ed7953"
            ],
            [
             0.7777777777777778,
             "#fb9f3a"
            ],
            [
             0.8888888888888888,
             "#fdca26"
            ],
            [
             1,
             "#f0f921"
            ]
           ]
          },
          "colorway": [
           "#636efa",
           "#EF553B",
           "#00cc96",
           "#ab63fa",
           "#FFA15A",
           "#19d3f3",
           "#FF6692",
           "#B6E880",
           "#FF97FF",
           "#FECB52"
          ],
          "font": {
           "color": "#2a3f5f"
          },
          "geo": {
           "bgcolor": "white",
           "lakecolor": "white",
           "landcolor": "white",
           "showlakes": true,
           "showland": true,
           "subunitcolor": "#C8D4E3"
          },
          "hoverlabel": {
           "align": "left"
          },
          "hovermode": "closest",
          "mapbox": {
           "style": "light"
          },
          "paper_bgcolor": "white",
          "plot_bgcolor": "white",
          "polar": {
           "angularaxis": {
            "gridcolor": "#EBF0F8",
            "linecolor": "#EBF0F8",
            "ticks": ""
           },
           "bgcolor": "white",
           "radialaxis": {
            "gridcolor": "#EBF0F8",
            "linecolor": "#EBF0F8",
            "ticks": ""
           }
          },
          "scene": {
           "xaxis": {
            "backgroundcolor": "white",
            "gridcolor": "#DFE8F3",
            "gridwidth": 2,
            "linecolor": "#EBF0F8",
            "showbackground": true,
            "ticks": "",
            "zerolinecolor": "#EBF0F8"
           },
           "yaxis": {
            "backgroundcolor": "white",
            "gridcolor": "#DFE8F3",
            "gridwidth": 2,
            "linecolor": "#EBF0F8",
            "showbackground": true,
            "ticks": "",
            "zerolinecolor": "#EBF0F8"
           },
           "zaxis": {
            "backgroundcolor": "white",
            "gridcolor": "#DFE8F3",
            "gridwidth": 2,
            "linecolor": "#EBF0F8",
            "showbackground": true,
            "ticks": "",
            "zerolinecolor": "#EBF0F8"
           }
          },
          "shapedefaults": {
           "line": {
            "color": "#2a3f5f"
           }
          },
          "ternary": {
           "aaxis": {
            "gridcolor": "#DFE8F3",
            "linecolor": "#A2B1C6",
            "ticks": ""
           },
           "baxis": {
            "gridcolor": "#DFE8F3",
            "linecolor": "#A2B1C6",
            "ticks": ""
           },
           "bgcolor": "white",
           "caxis": {
            "gridcolor": "#DFE8F3",
            "linecolor": "#A2B1C6",
            "ticks": ""
           }
          },
          "title": {
           "x": 0.05
          },
          "xaxis": {
           "automargin": true,
           "gridcolor": "#EBF0F8",
           "linecolor": "#EBF0F8",
           "ticks": "",
           "zerolinecolor": "#EBF0F8",
           "zerolinewidth": 2
          },
          "yaxis": {
           "automargin": true,
           "gridcolor": "#EBF0F8",
           "linecolor": "#EBF0F8",
           "ticks": "",
           "zerolinecolor": "#EBF0F8",
           "zerolinewidth": 2
          }
         }
        },
        "title": {
         "text": "Patient Ratings of If They Would Recommend the Facility"
        },
        "xaxis": {
         "title": {
          "text": "response"
         }
        },
        "yaxis": {
         "title": {
          "text": "proportion of patients"
         }
        }
       }
      },
      "text/html": [
       "<div>\n",
       "        \n",
       "        \n",
       "            <div id=\"cc53477e-d7f1-4a6d-bc49-1509095f369b\" class=\"plotly-graph-div\" style=\"height:525px; width:100%;\"></div>\n",
       "            <script type=\"text/javascript\">\n",
       "                require([\"plotly\"], function(Plotly) {\n",
       "                    window.PLOTLYENV=window.PLOTLYENV || {};\n",
       "                    \n",
       "                if (document.getElementById(\"cc53477e-d7f1-4a6d-bc49-1509095f369b\")) {\n",
       "                    Plotly.newPlot(\n",
       "                        'cc53477e-d7f1-4a6d-bc49-1509095f369b',\n",
       "                        [{\"boxpoints\": \"all\", \"hoverinfo\": \"text\", \"hovertext\": [\"AK\", \"AL\", \"AR\", \"AZ\", \"CA\", \"CO\", \"CT\", \"DC\", \"DE\", \"FL\", \"GA\", \"HI\", \"IA\", \"ID\", \"IL\", \"IN\", \"KS\", \"KY\", \"LA\", \"MA\", \"MD\", \"ME\", \"MI\", \"MN\", \"MO\", \"MS\", \"MT\", \"NC\", \"ND\", \"NE\", \"NH\", \"NJ\", \"NM\", \"NV\", \"NY\", \"OH\", \"OK\", \"OR\", \"PA\", \"RI\", \"SC\", \"SD\", \"TN\", \"TX\", \"UT\", \"VA\", \"VT\", \"WA\", \"WI\", \"WV\", \"WY\", \"AK\", \"AL\", \"AR\", \"AZ\", \"CA\", \"CO\", \"CT\", \"DC\", \"DE\", \"FL\", \"GA\", \"HI\", \"IA\", \"ID\", \"IL\", \"IN\", \"KS\", \"KY\", \"LA\", \"MA\", \"MD\", \"ME\", \"MI\", \"MN\", \"MO\", \"MS\", \"MT\", \"NC\", \"ND\", \"NE\", \"NH\", \"NJ\", \"NM\", \"NV\", \"NY\", \"OH\", \"OK\", \"OR\", \"PA\", \"RI\", \"SC\", \"SD\", \"TN\", \"TX\", \"UT\", \"VA\", \"VT\", \"WA\", \"WI\", \"WV\", \"WY\", \"AK\", \"AL\", \"AR\", \"AZ\", \"CA\", \"CO\", \"CT\", \"DC\", \"DE\", \"FL\", \"GA\", \"HI\", \"IA\", \"ID\", \"IL\", \"IN\", \"KS\", \"KY\", \"LA\", \"MA\", \"MD\", \"ME\", \"MI\", \"MN\", \"MO\", \"MS\", \"MT\", \"NC\", \"ND\", \"NE\", \"NH\", \"NJ\", \"NM\", \"NV\", \"NY\", \"OH\", \"OK\", \"OR\", \"PA\", \"RI\", \"SC\", \"SD\", \"TN\", \"TX\", \"UT\", \"VA\", \"VT\", \"WA\", \"WI\", \"WV\", \"WY\"], \"jitter\": 0.5, \"type\": \"box\", \"width\": 0.3, \"x\": [\"no\", \"no\", \"no\", \"no\", \"no\", \"no\", \"no\", \"no\", \"no\", \"no\", \"no\", \"no\", \"no\", \"no\", \"no\", \"no\", \"no\", \"no\", \"no\", \"no\", \"no\", \"no\", \"no\", \"no\", \"no\", \"no\", \"no\", \"no\", \"no\", \"no\", \"no\", \"no\", \"no\", \"no\", \"no\", \"no\", \"no\", \"no\", \"no\", \"no\", \"no\", \"no\", \"no\", \"no\", \"no\", \"no\", \"no\", \"no\", \"no\", \"no\", \"no\", \"probably\", \"probably\", \"probably\", \"probably\", \"probably\", \"probably\", \"probably\", \"probably\", \"probably\", \"probably\", \"probably\", \"probably\", \"probably\", \"probably\", \"probably\", \"probably\", \"probably\", \"probably\", \"probably\", \"probably\", \"probably\", \"probably\", \"probably\", \"probably\", \"probably\", \"probably\", \"probably\", \"probably\", \"probably\", \"probably\", \"probably\", \"probably\", \"probably\", \"probably\", \"probably\", \"probably\", \"probably\", \"probably\", \"probably\", \"probably\", \"probably\", \"probably\", \"probably\", \"probably\", \"probably\", \"probably\", \"probably\", \"probably\", \"probably\", \"probably\", \"probably\", \"yes definitely\", \"yes definitely\", \"yes definitely\", \"yes definitely\", \"yes definitely\", \"yes definitely\", \"yes definitely\", \"yes definitely\", \"yes definitely\", \"yes definitely\", \"yes definitely\", \"yes definitely\", \"yes definitely\", \"yes definitely\", \"yes definitely\", \"yes definitely\", \"yes definitely\", \"yes definitely\", \"yes definitely\", \"yes definitely\", \"yes definitely\", \"yes definitely\", \"yes definitely\", \"yes definitely\", \"yes definitely\", \"yes definitely\", \"yes definitely\", \"yes definitely\", \"yes definitely\", \"yes definitely\", \"yes definitely\", \"yes definitely\", \"yes definitely\", \"yes definitely\", \"yes definitely\", \"yes definitely\", \"yes definitely\", \"yes definitely\", \"yes definitely\", \"yes definitely\", \"yes definitely\", \"yes definitely\", \"yes definitely\", \"yes definitely\", \"yes definitely\", \"yes definitely\", \"yes definitely\", \"yes definitely\", \"yes definitely\", \"yes definitely\", \"yes definitely\"], \"y\": [0.008, 0.00472610096670247, 0.00764748725418791, 0.00421822272215973, 0.004401840490797546, 0.0022094022339511476, 0.0034674063800277394, 0.016877637130801686, 0.004987531172069825, 0.002880153608192437, 0.0066291972906758895, 0.014285714285714285, 0.00196663501966635, 0.004584681769147788, 0.003085059497576025, 0.004757373929590866, 0.004810583283223091, 0.004020100502512563, 0.006845762887667255, 0.005587668593448941, 0.005553351844506148, 0.005879692446856626, 0.004899902001959961, 0.0028310384763865653, 0.004441624365482234, 0.006880283074503637, 0.003040600965837954, 0.002513798568227772, 0.0011940298507462687, 0.006334125098970704, 0.007951356407857811, 0.005382131324004306, 0.005332239540607055, 0.00822429906542056, 0.005012372311401561, 0.0031725128696276786, 0.0036607049471812573, 0.003125, 0.002506265664160401, 0.00341796875, 0.0066570188133140374, 0.0012453300124533001, 0.0021645021645021645, 0.006361708573159649, 0.003254384378954981, 0.005218787635487756, 0.002600780234070221, 0.003775572921239793, 0.00341593330245484, 0.004857089482533159, 0.002793296089385475, 0.07466666666666667, 0.038131041890440386, 0.04624908958485069, 0.033183352080989874, 0.023190184049079753, 0.02148029949674727, 0.032246879334257975, 0.08016877637130802, 0.057356608478802994, 0.017867619606379007, 0.0399913532209252, 0.1, 0.023057100230571004, 0.036138079827400214, 0.02712448415401258, 0.04607856463232296, 0.06253758268190018, 0.03457286432160804, 0.04086712996577119, 0.027745664739884393, 0.04165013883379611, 0.040479421076436005, 0.04605907881842363, 0.03114142324025222, 0.03775380710659899, 0.04324749361116571, 0.03791808263280272, 0.022077709164435216, 0.01373134328358209, 0.0728424386381631, 0.07530402245088869, 0.03444564047362755, 0.04840032813781788, 0.05719626168224299, 0.03464247192437028, 0.026936430025140668, 0.026566258759543982, 0.037723214285714284, 0.023886246227814434, 0.0244140625, 0.03589001447178003, 0.011830635118306352, 0.014568764568764568, 0.04008886196102191, 0.024769481106490687, 0.03331995182657567, 0.0247074122236671, 0.032487487926947056, 0.03381194997684113, 0.04259293853913693, 0.055865921787709494, 0.45066666666666666, 0.19344790547798066, 0.23743627093954844, 0.187570303712036, 0.12884969325153375, 0.1358782373879956, 0.17233009708737865, 0.32489451476793246, 0.18703241895261846, 0.11792628940210144, 0.20557717250324253, 0.3619047619047619, 0.10382476603824765, 0.20199568500539375, 0.13405985816739452, 0.23460649721353813, 0.23331328923631992, 0.16241206030150754, 0.24271341147183903, 0.15934489402697496, 0.19079730265767553, 0.15716870194482135, 0.2010359792804144, 0.14618453223523356, 0.1640228426395939, 0.24474149793591507, 0.17367197281345018, 0.14481665664790425, 0.04477611940298507, 0.2375296912114014, 0.2441534144059869, 0.17545748116254037, 0.27440525020508616, 0.27102803738317754, 0.14434363301820952, 0.11654495390877528, 0.17895617613220374, 0.2046875, 0.11170784103114931, 0.16748046875, 0.16005788712011576, 0.11145703611457036, 0.09149184149184149, 0.24134100777542158, 0.15277526667871993, 0.16218386190285025, 0.10273081924577374, 0.1744665905698481, 0.1654122278832793, 0.17672333271062957, 0.2206703910614525]}],\n",
       "                        {\"template\": {\"data\": {\"bar\": [{\"error_x\": {\"color\": \"#2a3f5f\"}, \"error_y\": {\"color\": \"#2a3f5f\"}, \"marker\": {\"line\": {\"color\": \"white\", \"width\": 0.5}}, \"type\": \"bar\"}], \"barpolar\": [{\"marker\": {\"line\": {\"color\": \"white\", \"width\": 0.5}}, \"type\": \"barpolar\"}], \"carpet\": [{\"aaxis\": {\"endlinecolor\": \"#2a3f5f\", \"gridcolor\": \"#C8D4E3\", \"linecolor\": \"#C8D4E3\", \"minorgridcolor\": \"#C8D4E3\", \"startlinecolor\": \"#2a3f5f\"}, \"baxis\": {\"endlinecolor\": \"#2a3f5f\", \"gridcolor\": \"#C8D4E3\", \"linecolor\": \"#C8D4E3\", \"minorgridcolor\": \"#C8D4E3\", \"startlinecolor\": \"#2a3f5f\"}, \"type\": \"carpet\"}], \"choropleth\": [{\"colorbar\": {\"outlinewidth\": 0, \"ticks\": \"\"}, \"type\": \"choropleth\"}], \"contour\": [{\"colorbar\": {\"outlinewidth\": 0, \"ticks\": \"\"}, \"colorscale\": [[0.0, \"#0d0887\"], [0.1111111111111111, \"#46039f\"], [0.2222222222222222, \"#7201a8\"], [0.3333333333333333, \"#9c179e\"], [0.4444444444444444, \"#bd3786\"], [0.5555555555555556, \"#d8576b\"], [0.6666666666666666, \"#ed7953\"], [0.7777777777777778, \"#fb9f3a\"], [0.8888888888888888, \"#fdca26\"], [1.0, \"#f0f921\"]], \"type\": \"contour\"}], \"contourcarpet\": [{\"colorbar\": {\"outlinewidth\": 0, \"ticks\": \"\"}, \"type\": \"contourcarpet\"}], \"heatmap\": [{\"colorbar\": {\"outlinewidth\": 0, \"ticks\": \"\"}, \"colorscale\": [[0.0, \"#0d0887\"], [0.1111111111111111, \"#46039f\"], [0.2222222222222222, \"#7201a8\"], [0.3333333333333333, \"#9c179e\"], [0.4444444444444444, \"#bd3786\"], [0.5555555555555556, \"#d8576b\"], [0.6666666666666666, \"#ed7953\"], [0.7777777777777778, \"#fb9f3a\"], [0.8888888888888888, \"#fdca26\"], [1.0, \"#f0f921\"]], \"type\": \"heatmap\"}], \"heatmapgl\": [{\"colorbar\": {\"outlinewidth\": 0, \"ticks\": \"\"}, \"colorscale\": [[0.0, \"#0d0887\"], [0.1111111111111111, \"#46039f\"], [0.2222222222222222, \"#7201a8\"], [0.3333333333333333, \"#9c179e\"], [0.4444444444444444, \"#bd3786\"], [0.5555555555555556, \"#d8576b\"], [0.6666666666666666, \"#ed7953\"], [0.7777777777777778, \"#fb9f3a\"], [0.8888888888888888, \"#fdca26\"], [1.0, \"#f0f921\"]], \"type\": \"heatmapgl\"}], \"histogram\": [{\"marker\": {\"colorbar\": {\"outlinewidth\": 0, \"ticks\": \"\"}}, \"type\": \"histogram\"}], \"histogram2d\": [{\"colorbar\": {\"outlinewidth\": 0, \"ticks\": \"\"}, \"colorscale\": [[0.0, \"#0d0887\"], [0.1111111111111111, \"#46039f\"], [0.2222222222222222, \"#7201a8\"], [0.3333333333333333, \"#9c179e\"], [0.4444444444444444, \"#bd3786\"], [0.5555555555555556, \"#d8576b\"], [0.6666666666666666, \"#ed7953\"], [0.7777777777777778, \"#fb9f3a\"], [0.8888888888888888, \"#fdca26\"], [1.0, \"#f0f921\"]], \"type\": \"histogram2d\"}], \"histogram2dcontour\": [{\"colorbar\": {\"outlinewidth\": 0, \"ticks\": \"\"}, \"colorscale\": [[0.0, \"#0d0887\"], [0.1111111111111111, \"#46039f\"], [0.2222222222222222, \"#7201a8\"], [0.3333333333333333, \"#9c179e\"], [0.4444444444444444, \"#bd3786\"], [0.5555555555555556, \"#d8576b\"], [0.6666666666666666, \"#ed7953\"], [0.7777777777777778, \"#fb9f3a\"], [0.8888888888888888, \"#fdca26\"], [1.0, \"#f0f921\"]], \"type\": \"histogram2dcontour\"}], \"mesh3d\": [{\"colorbar\": {\"outlinewidth\": 0, \"ticks\": \"\"}, \"type\": \"mesh3d\"}], \"parcoords\": [{\"line\": {\"colorbar\": {\"outlinewidth\": 0, \"ticks\": \"\"}}, \"type\": \"parcoords\"}], \"scatter\": [{\"marker\": {\"colorbar\": {\"outlinewidth\": 0, \"ticks\": \"\"}}, \"type\": \"scatter\"}], \"scatter3d\": [{\"line\": {\"colorbar\": {\"outlinewidth\": 0, \"ticks\": \"\"}}, \"marker\": {\"colorbar\": {\"outlinewidth\": 0, \"ticks\": \"\"}}, \"type\": \"scatter3d\"}], \"scattercarpet\": [{\"marker\": {\"colorbar\": {\"outlinewidth\": 0, \"ticks\": \"\"}}, \"type\": \"scattercarpet\"}], \"scattergeo\": [{\"marker\": {\"colorbar\": {\"outlinewidth\": 0, \"ticks\": \"\"}}, \"type\": \"scattergeo\"}], \"scattergl\": [{\"marker\": {\"colorbar\": {\"outlinewidth\": 0, \"ticks\": \"\"}}, \"type\": \"scattergl\"}], \"scattermapbox\": [{\"marker\": {\"colorbar\": {\"outlinewidth\": 0, \"ticks\": \"\"}}, \"type\": \"scattermapbox\"}], \"scatterpolar\": [{\"marker\": {\"colorbar\": {\"outlinewidth\": 0, \"ticks\": \"\"}}, \"type\": \"scatterpolar\"}], \"scatterpolargl\": [{\"marker\": {\"colorbar\": {\"outlinewidth\": 0, \"ticks\": \"\"}}, \"type\": \"scatterpolargl\"}], \"scatterternary\": [{\"marker\": {\"colorbar\": {\"outlinewidth\": 0, \"ticks\": \"\"}}, \"type\": \"scatterternary\"}], \"surface\": [{\"colorbar\": {\"outlinewidth\": 0, \"ticks\": \"\"}, \"colorscale\": [[0.0, \"#0d0887\"], [0.1111111111111111, \"#46039f\"], [0.2222222222222222, \"#7201a8\"], [0.3333333333333333, \"#9c179e\"], [0.4444444444444444, \"#bd3786\"], [0.5555555555555556, \"#d8576b\"], [0.6666666666666666, \"#ed7953\"], [0.7777777777777778, \"#fb9f3a\"], [0.8888888888888888, \"#fdca26\"], [1.0, \"#f0f921\"]], \"type\": \"surface\"}], \"table\": [{\"cells\": {\"fill\": {\"color\": \"#EBF0F8\"}, \"line\": {\"color\": \"white\"}}, \"header\": {\"fill\": {\"color\": \"#C8D4E3\"}, \"line\": {\"color\": \"white\"}}, \"type\": \"table\"}]}, \"layout\": {\"annotationdefaults\": {\"arrowcolor\": \"#2a3f5f\", \"arrowhead\": 0, \"arrowwidth\": 1}, \"colorscale\": {\"diverging\": [[0, \"#8e0152\"], [0.1, \"#c51b7d\"], [0.2, \"#de77ae\"], [0.3, \"#f1b6da\"], [0.4, \"#fde0ef\"], [0.5, \"#f7f7f7\"], [0.6, \"#e6f5d0\"], [0.7, \"#b8e186\"], [0.8, \"#7fbc41\"], [0.9, \"#4d9221\"], [1, \"#276419\"]], \"sequential\": [[0.0, \"#0d0887\"], [0.1111111111111111, \"#46039f\"], [0.2222222222222222, \"#7201a8\"], [0.3333333333333333, \"#9c179e\"], [0.4444444444444444, \"#bd3786\"], [0.5555555555555556, \"#d8576b\"], [0.6666666666666666, \"#ed7953\"], [0.7777777777777778, \"#fb9f3a\"], [0.8888888888888888, \"#fdca26\"], [1.0, \"#f0f921\"]], \"sequentialminus\": [[0.0, \"#0d0887\"], [0.1111111111111111, \"#46039f\"], [0.2222222222222222, \"#7201a8\"], [0.3333333333333333, \"#9c179e\"], [0.4444444444444444, \"#bd3786\"], [0.5555555555555556, \"#d8576b\"], [0.6666666666666666, \"#ed7953\"], [0.7777777777777778, \"#fb9f3a\"], [0.8888888888888888, \"#fdca26\"], [1.0, \"#f0f921\"]]}, \"colorway\": [\"#636efa\", \"#EF553B\", \"#00cc96\", \"#ab63fa\", \"#FFA15A\", \"#19d3f3\", \"#FF6692\", \"#B6E880\", \"#FF97FF\", \"#FECB52\"], \"font\": {\"color\": \"#2a3f5f\"}, \"geo\": {\"bgcolor\": \"white\", \"lakecolor\": \"white\", \"landcolor\": \"white\", \"showlakes\": true, \"showland\": true, \"subunitcolor\": \"#C8D4E3\"}, \"hoverlabel\": {\"align\": \"left\"}, \"hovermode\": \"closest\", \"mapbox\": {\"style\": \"light\"}, \"paper_bgcolor\": \"white\", \"plot_bgcolor\": \"white\", \"polar\": {\"angularaxis\": {\"gridcolor\": \"#EBF0F8\", \"linecolor\": \"#EBF0F8\", \"ticks\": \"\"}, \"bgcolor\": \"white\", \"radialaxis\": {\"gridcolor\": \"#EBF0F8\", \"linecolor\": \"#EBF0F8\", \"ticks\": \"\"}}, \"scene\": {\"xaxis\": {\"backgroundcolor\": \"white\", \"gridcolor\": \"#DFE8F3\", \"gridwidth\": 2, \"linecolor\": \"#EBF0F8\", \"showbackground\": true, \"ticks\": \"\", \"zerolinecolor\": \"#EBF0F8\"}, \"yaxis\": {\"backgroundcolor\": \"white\", \"gridcolor\": \"#DFE8F3\", \"gridwidth\": 2, \"linecolor\": \"#EBF0F8\", \"showbackground\": true, \"ticks\": \"\", \"zerolinecolor\": \"#EBF0F8\"}, \"zaxis\": {\"backgroundcolor\": \"white\", \"gridcolor\": \"#DFE8F3\", \"gridwidth\": 2, \"linecolor\": \"#EBF0F8\", \"showbackground\": true, \"ticks\": \"\", \"zerolinecolor\": \"#EBF0F8\"}}, \"shapedefaults\": {\"line\": {\"color\": \"#2a3f5f\"}}, \"ternary\": {\"aaxis\": {\"gridcolor\": \"#DFE8F3\", \"linecolor\": \"#A2B1C6\", \"ticks\": \"\"}, \"baxis\": {\"gridcolor\": \"#DFE8F3\", \"linecolor\": \"#A2B1C6\", \"ticks\": \"\"}, \"bgcolor\": \"white\", \"caxis\": {\"gridcolor\": \"#DFE8F3\", \"linecolor\": \"#A2B1C6\", \"ticks\": \"\"}}, \"title\": {\"x\": 0.05}, \"xaxis\": {\"automargin\": true, \"gridcolor\": \"#EBF0F8\", \"linecolor\": \"#EBF0F8\", \"ticks\": \"\", \"zerolinecolor\": \"#EBF0F8\", \"zerolinewidth\": 2}, \"yaxis\": {\"automargin\": true, \"gridcolor\": \"#EBF0F8\", \"linecolor\": \"#EBF0F8\", \"ticks\": \"\", \"zerolinecolor\": \"#EBF0F8\", \"zerolinewidth\": 2}}}, \"title\": {\"text\": \"Patient Ratings of If They Would Recommend the Facility\"}, \"xaxis\": {\"title\": {\"text\": \"response\"}}, \"yaxis\": {\"title\": {\"text\": \"proportion of patients\"}}},\n",
       "                        {\"responsive\": true}\n",
       "                    ).then(function(){\n",
       "                            \n",
       "var gd = document.getElementById('cc53477e-d7f1-4a6d-bc49-1509095f369b');\n",
       "var x = new MutationObserver(function (mutations, observer) {{\n",
       "        var display = window.getComputedStyle(gd).display;\n",
       "        if (!display || display === 'none') {{\n",
       "            console.log([gd, 'removed!']);\n",
       "            Plotly.purge(gd);\n",
       "            observer.disconnect();\n",
       "        }}\n",
       "}});\n",
       "\n",
       "// Listen for the removal of the full notebook cells\n",
       "var notebookContainer = gd.closest('#notebook-container');\n",
       "if (notebookContainer) {{\n",
       "    x.observe(notebookContainer, {childList: true});\n",
       "}}\n",
       "\n",
       "// Listen for the clearing of the current output cell\n",
       "var outputEl = gd.closest('.output');\n",
       "if (outputEl) {{\n",
       "    x.observe(outputEl, {childList: true});\n",
       "}}\n",
       "\n",
       "                        })\n",
       "                };\n",
       "                });\n",
       "            </script>\n",
       "        </div>"
      ]
     },
     "metadata": {},
     "output_type": "display_data"
    },
    {
     "data": {
      "application/vnd.plotly.v1+json": {
       "config": {
        "plotlyServerURL": "https://plot.ly"
       },
       "data": [
        {
         "boxpoints": "all",
         "hoverinfo": "text",
         "hovertext": [
          "AK",
          "AL",
          "AR",
          "AZ",
          "CA",
          "CO",
          "CT",
          "DC",
          "DE",
          "FL",
          "GA",
          "HI",
          "IA",
          "ID",
          "IL",
          "IN",
          "KS",
          "KY",
          "LA",
          "MA",
          "MD",
          "ME",
          "MI",
          "MN",
          "MO",
          "MS",
          "MT",
          "NC",
          "ND",
          "NE",
          "NH",
          "NJ",
          "NM",
          "NV",
          "NY",
          "OH",
          "OK",
          "OR",
          "PA",
          "RI",
          "SC",
          "SD",
          "TN",
          "TX",
          "UT",
          "VA",
          "VT",
          "WA",
          "WI",
          "WV",
          "WY",
          "AK",
          "AL",
          "AR",
          "AZ",
          "CA",
          "CO",
          "CT",
          "DC",
          "DE",
          "FL",
          "GA",
          "HI",
          "IA",
          "ID",
          "IL",
          "IN",
          "KS",
          "KY",
          "LA",
          "MA",
          "MD",
          "ME",
          "MI",
          "MN",
          "MO",
          "MS",
          "MT",
          "NC",
          "ND",
          "NE",
          "NH",
          "NJ",
          "NM",
          "NV",
          "NY",
          "OH",
          "OK",
          "OR",
          "PA",
          "RI",
          "SC",
          "SD",
          "TN",
          "TX",
          "UT",
          "VA",
          "VT",
          "WA",
          "WI",
          "WV",
          "WY",
          "AK",
          "AL",
          "AR",
          "AZ",
          "CA",
          "CO",
          "CT",
          "DC",
          "DE",
          "FL",
          "GA",
          "HI",
          "IA",
          "ID",
          "IL",
          "IN",
          "KS",
          "KY",
          "LA",
          "MA",
          "MD",
          "ME",
          "MI",
          "MN",
          "MO",
          "MS",
          "MT",
          "NC",
          "ND",
          "NE",
          "NH",
          "NJ",
          "NM",
          "NV",
          "NY",
          "OH",
          "OK",
          "OR",
          "PA",
          "RI",
          "SC",
          "SD",
          "TN",
          "TX",
          "UT",
          "VA",
          "VT",
          "WA",
          "WI",
          "WV",
          "WY"
         ],
         "jitter": 0.5,
         "type": "box",
         "width": 0.3,
         "x": [
          "not at all",
          "not at all",
          "not at all",
          "not at all",
          "not at all",
          "not at all",
          "not at all",
          "not at all",
          "not at all",
          "not at all",
          "not at all",
          "not at all",
          "not at all",
          "not at all",
          "not at all",
          "not at all",
          "not at all",
          "not at all",
          "not at all",
          "not at all",
          "not at all",
          "not at all",
          "not at all",
          "not at all",
          "not at all",
          "not at all",
          "not at all",
          "not at all",
          "not at all",
          "not at all",
          "not at all",
          "not at all",
          "not at all",
          "not at all",
          "not at all",
          "not at all",
          "not at all",
          "not at all",
          "not at all",
          "not at all",
          "not at all",
          "not at all",
          "not at all",
          "not at all",
          "not at all",
          "not at all",
          "not at all",
          "not at all",
          "not at all",
          "not at all",
          "not at all",
          "somewhat",
          "somewhat",
          "somewhat",
          "somewhat",
          "somewhat",
          "somewhat",
          "somewhat",
          "somewhat",
          "somewhat",
          "somewhat",
          "somewhat",
          "somewhat",
          "somewhat",
          "somewhat",
          "somewhat",
          "somewhat",
          "somewhat",
          "somewhat",
          "somewhat",
          "somewhat",
          "somewhat",
          "somewhat",
          "somewhat",
          "somewhat",
          "somewhat",
          "somewhat",
          "somewhat",
          "somewhat",
          "somewhat",
          "somewhat",
          "somewhat",
          "somewhat",
          "somewhat",
          "somewhat",
          "somewhat",
          "somewhat",
          "somewhat",
          "somewhat",
          "somewhat",
          "somewhat",
          "somewhat",
          "somewhat",
          "somewhat",
          "somewhat",
          "somewhat",
          "somewhat",
          "somewhat",
          "somewhat",
          "somewhat",
          "somewhat",
          "somewhat",
          "definitely",
          "definitely",
          "definitely",
          "definitely",
          "definitely",
          "definitely",
          "definitely",
          "definitely",
          "definitely",
          "definitely",
          "definitely",
          "definitely",
          "definitely",
          "definitely",
          "definitely",
          "definitely",
          "definitely",
          "definitely",
          "definitely",
          "definitely",
          "definitely",
          "definitely",
          "definitely",
          "definitely",
          "definitely",
          "definitely",
          "definitely",
          "definitely",
          "definitely",
          "definitely",
          "definitely",
          "definitely",
          "definitely",
          "definitely",
          "definitely",
          "definitely",
          "definitely",
          "definitely",
          "definitely",
          "definitely",
          "definitely",
          "definitely",
          "definitely",
          "definitely",
          "definitely",
          "definitely",
          "definitely",
          "definitely",
          "definitely",
          "definitely",
          "definitely"
         ],
         "y": [
          0.0026666666666666666,
          0.000966702470461869,
          0.0014566642388929353,
          0.00028121484814398203,
          0.0011349693251533743,
          0.0004909782742113662,
          0.0006934812760055479,
          0.008438818565400843,
          0,
          0.0004266894234359166,
          0.0007926214151895086,
          0,
          0.0001356300013563,
          0.0005393743257820927,
          0.0004006570776072759,
          0.0002718499388337638,
          0.0006013229104028864,
          0.0004020100502512563,
          0.0008297894409293641,
          0.0005780346820809249,
          0.0007933359777865926,
          0.0002261420171867933,
          0.0006999860002799944,
          0.00019302535066272037,
          0.00047588832487309646,
          0.0029486927462158445,
          0.0008942944017170453,
          0.00021859117984589322,
          0,
          0.000791765637371338,
          0.0004677268475210477,
          0,
          0.002871205906480722,
          0.0033644859813084112,
          0.0006344775077723495,
          0.0003890817670298097,
          0.00041836627967785795,
          0.0004464285714285714,
          0.00035803795202291446,
          0,
          0.0008683068017366136,
          0,
          0.0004995004995004995,
          0.0011107745127739068,
          0.0003615982643283312,
          0,
          0.0006501950585175553,
          0.0008780402142418123,
          0.00028948587308939323,
          0.0011208668036614981,
          0,
          0.016,
          0.008592910848549946,
          0.009832483612527313,
          0.005905511811023622,
          0.0060736196319018405,
          0.003927826193690929,
          0.005894590846047157,
          0.02531645569620253,
          0.007481296758104738,
          0.004320230412288655,
          0.008430609597924773,
          0.01904761904761905,
          0.0031194900311949003,
          0.00674217907227616,
          0.0043270964381585805,
          0.006388473562593449,
          0.0072158749248346366,
          0.006834170854271356,
          0.008920236489990664,
          0.005587668593448941,
          0.005950019833399445,
          0.0065581184984170055,
          0.006019879602407952,
          0.004053532363917128,
          0.006186548223350254,
          0.012187930017692156,
          0.007154355213736362,
          0.003934641237226078,
          0.001791044776119403,
          0.00791765637371338,
          0.009822263797942002,
          0.005382131324004306,
          0.01066447908121411,
          0.01644859813084112,
          0.00590064082228285,
          0.0040404645037711,
          0.005334170065892689,
          0.005803571428571429,
          0.003938417472252059,
          0.00537109375,
          0.007525325615050651,
          0.00311332503113325,
          0.00333000333000333,
          0.008179339594062406,
          0.005062375700596637,
          0.005620232838217583,
          0.002600780234070221,
          0.006146281499692686,
          0.004747568318666049,
          0.007472445357743321,
          0.00558659217877095,
          0.5146666666666667,
          0.22674543501611172,
          0.28004369992716677,
          0.218785151856018,
          0.14923312883435583,
          0.1551491346507917,
          0.20145631067961164,
          0.3881856540084388,
          0.24189526184538654,
          0.1339271427809483,
          0.24297449200172935,
          0.45714285714285713,
          0.1255933812559338,
          0.2354368932038835,
          0.15954164830321726,
          0.2787821122740247,
          0.2928442573662057,
          0.19376884422110552,
          0.28067627839435744,
          0.18651252408477842,
          0.23125743752479175,
          0.19674355495251017,
          0.24527509449811002,
          0.1759104362372925,
          0.19955583756345177,
          0.27973265185767643,
          0.20658200679663746,
          0.16525493196349528,
          0.05791044776119403,
          0.3079968329374505,
          0.31711880261927033,
          0.20990312163616792,
          0.31460213289581623,
          0.3166355140186916,
          0.17746335892392615,
          0.14222435053274274,
          0.20343060349335843,
          0.2392857142857143,
          0.13380389749884916,
          0.18994140625,
          0.19421128798842258,
          0.12141967621419676,
          0.1043956043956044,
          0.27850146420276684,
          0.17537515819924065,
          0.1951023685266961,
          0.1267880364109233,
          0.20370532970410044,
          0.1976030569708198,
          0.21558004857089483,
          0.2737430167597765
         ]
        }
       ],
       "layout": {
        "template": {
         "data": {
          "bar": [
           {
            "error_x": {
             "color": "#2a3f5f"
            },
            "error_y": {
             "color": "#2a3f5f"
            },
            "marker": {
             "line": {
              "color": "white",
              "width": 0.5
             }
            },
            "type": "bar"
           }
          ],
          "barpolar": [
           {
            "marker": {
             "line": {
              "color": "white",
              "width": 0.5
             }
            },
            "type": "barpolar"
           }
          ],
          "carpet": [
           {
            "aaxis": {
             "endlinecolor": "#2a3f5f",
             "gridcolor": "#C8D4E3",
             "linecolor": "#C8D4E3",
             "minorgridcolor": "#C8D4E3",
             "startlinecolor": "#2a3f5f"
            },
            "baxis": {
             "endlinecolor": "#2a3f5f",
             "gridcolor": "#C8D4E3",
             "linecolor": "#C8D4E3",
             "minorgridcolor": "#C8D4E3",
             "startlinecolor": "#2a3f5f"
            },
            "type": "carpet"
           }
          ],
          "choropleth": [
           {
            "colorbar": {
             "outlinewidth": 0,
             "ticks": ""
            },
            "type": "choropleth"
           }
          ],
          "contour": [
           {
            "colorbar": {
             "outlinewidth": 0,
             "ticks": ""
            },
            "colorscale": [
             [
              0,
              "#0d0887"
             ],
             [
              0.1111111111111111,
              "#46039f"
             ],
             [
              0.2222222222222222,
              "#7201a8"
             ],
             [
              0.3333333333333333,
              "#9c179e"
             ],
             [
              0.4444444444444444,
              "#bd3786"
             ],
             [
              0.5555555555555556,
              "#d8576b"
             ],
             [
              0.6666666666666666,
              "#ed7953"
             ],
             [
              0.7777777777777778,
              "#fb9f3a"
             ],
             [
              0.8888888888888888,
              "#fdca26"
             ],
             [
              1,
              "#f0f921"
             ]
            ],
            "type": "contour"
           }
          ],
          "contourcarpet": [
           {
            "colorbar": {
             "outlinewidth": 0,
             "ticks": ""
            },
            "type": "contourcarpet"
           }
          ],
          "heatmap": [
           {
            "colorbar": {
             "outlinewidth": 0,
             "ticks": ""
            },
            "colorscale": [
             [
              0,
              "#0d0887"
             ],
             [
              0.1111111111111111,
              "#46039f"
             ],
             [
              0.2222222222222222,
              "#7201a8"
             ],
             [
              0.3333333333333333,
              "#9c179e"
             ],
             [
              0.4444444444444444,
              "#bd3786"
             ],
             [
              0.5555555555555556,
              "#d8576b"
             ],
             [
              0.6666666666666666,
              "#ed7953"
             ],
             [
              0.7777777777777778,
              "#fb9f3a"
             ],
             [
              0.8888888888888888,
              "#fdca26"
             ],
             [
              1,
              "#f0f921"
             ]
            ],
            "type": "heatmap"
           }
          ],
          "heatmapgl": [
           {
            "colorbar": {
             "outlinewidth": 0,
             "ticks": ""
            },
            "colorscale": [
             [
              0,
              "#0d0887"
             ],
             [
              0.1111111111111111,
              "#46039f"
             ],
             [
              0.2222222222222222,
              "#7201a8"
             ],
             [
              0.3333333333333333,
              "#9c179e"
             ],
             [
              0.4444444444444444,
              "#bd3786"
             ],
             [
              0.5555555555555556,
              "#d8576b"
             ],
             [
              0.6666666666666666,
              "#ed7953"
             ],
             [
              0.7777777777777778,
              "#fb9f3a"
             ],
             [
              0.8888888888888888,
              "#fdca26"
             ],
             [
              1,
              "#f0f921"
             ]
            ],
            "type": "heatmapgl"
           }
          ],
          "histogram": [
           {
            "marker": {
             "colorbar": {
              "outlinewidth": 0,
              "ticks": ""
             }
            },
            "type": "histogram"
           }
          ],
          "histogram2d": [
           {
            "colorbar": {
             "outlinewidth": 0,
             "ticks": ""
            },
            "colorscale": [
             [
              0,
              "#0d0887"
             ],
             [
              0.1111111111111111,
              "#46039f"
             ],
             [
              0.2222222222222222,
              "#7201a8"
             ],
             [
              0.3333333333333333,
              "#9c179e"
             ],
             [
              0.4444444444444444,
              "#bd3786"
             ],
             [
              0.5555555555555556,
              "#d8576b"
             ],
             [
              0.6666666666666666,
              "#ed7953"
             ],
             [
              0.7777777777777778,
              "#fb9f3a"
             ],
             [
              0.8888888888888888,
              "#fdca26"
             ],
             [
              1,
              "#f0f921"
             ]
            ],
            "type": "histogram2d"
           }
          ],
          "histogram2dcontour": [
           {
            "colorbar": {
             "outlinewidth": 0,
             "ticks": ""
            },
            "colorscale": [
             [
              0,
              "#0d0887"
             ],
             [
              0.1111111111111111,
              "#46039f"
             ],
             [
              0.2222222222222222,
              "#7201a8"
             ],
             [
              0.3333333333333333,
              "#9c179e"
             ],
             [
              0.4444444444444444,
              "#bd3786"
             ],
             [
              0.5555555555555556,
              "#d8576b"
             ],
             [
              0.6666666666666666,
              "#ed7953"
             ],
             [
              0.7777777777777778,
              "#fb9f3a"
             ],
             [
              0.8888888888888888,
              "#fdca26"
             ],
             [
              1,
              "#f0f921"
             ]
            ],
            "type": "histogram2dcontour"
           }
          ],
          "mesh3d": [
           {
            "colorbar": {
             "outlinewidth": 0,
             "ticks": ""
            },
            "type": "mesh3d"
           }
          ],
          "parcoords": [
           {
            "line": {
             "colorbar": {
              "outlinewidth": 0,
              "ticks": ""
             }
            },
            "type": "parcoords"
           }
          ],
          "scatter": [
           {
            "marker": {
             "colorbar": {
              "outlinewidth": 0,
              "ticks": ""
             }
            },
            "type": "scatter"
           }
          ],
          "scatter3d": [
           {
            "line": {
             "colorbar": {
              "outlinewidth": 0,
              "ticks": ""
             }
            },
            "marker": {
             "colorbar": {
              "outlinewidth": 0,
              "ticks": ""
             }
            },
            "type": "scatter3d"
           }
          ],
          "scattercarpet": [
           {
            "marker": {
             "colorbar": {
              "outlinewidth": 0,
              "ticks": ""
             }
            },
            "type": "scattercarpet"
           }
          ],
          "scattergeo": [
           {
            "marker": {
             "colorbar": {
              "outlinewidth": 0,
              "ticks": ""
             }
            },
            "type": "scattergeo"
           }
          ],
          "scattergl": [
           {
            "marker": {
             "colorbar": {
              "outlinewidth": 0,
              "ticks": ""
             }
            },
            "type": "scattergl"
           }
          ],
          "scattermapbox": [
           {
            "marker": {
             "colorbar": {
              "outlinewidth": 0,
              "ticks": ""
             }
            },
            "type": "scattermapbox"
           }
          ],
          "scatterpolar": [
           {
            "marker": {
             "colorbar": {
              "outlinewidth": 0,
              "ticks": ""
             }
            },
            "type": "scatterpolar"
           }
          ],
          "scatterpolargl": [
           {
            "marker": {
             "colorbar": {
              "outlinewidth": 0,
              "ticks": ""
             }
            },
            "type": "scatterpolargl"
           }
          ],
          "scatterternary": [
           {
            "marker": {
             "colorbar": {
              "outlinewidth": 0,
              "ticks": ""
             }
            },
            "type": "scatterternary"
           }
          ],
          "surface": [
           {
            "colorbar": {
             "outlinewidth": 0,
             "ticks": ""
            },
            "colorscale": [
             [
              0,
              "#0d0887"
             ],
             [
              0.1111111111111111,
              "#46039f"
             ],
             [
              0.2222222222222222,
              "#7201a8"
             ],
             [
              0.3333333333333333,
              "#9c179e"
             ],
             [
              0.4444444444444444,
              "#bd3786"
             ],
             [
              0.5555555555555556,
              "#d8576b"
             ],
             [
              0.6666666666666666,
              "#ed7953"
             ],
             [
              0.7777777777777778,
              "#fb9f3a"
             ],
             [
              0.8888888888888888,
              "#fdca26"
             ],
             [
              1,
              "#f0f921"
             ]
            ],
            "type": "surface"
           }
          ],
          "table": [
           {
            "cells": {
             "fill": {
              "color": "#EBF0F8"
             },
             "line": {
              "color": "white"
             }
            },
            "header": {
             "fill": {
              "color": "#C8D4E3"
             },
             "line": {
              "color": "white"
             }
            },
            "type": "table"
           }
          ]
         },
         "layout": {
          "annotationdefaults": {
           "arrowcolor": "#2a3f5f",
           "arrowhead": 0,
           "arrowwidth": 1
          },
          "colorscale": {
           "diverging": [
            [
             0,
             "#8e0152"
            ],
            [
             0.1,
             "#c51b7d"
            ],
            [
             0.2,
             "#de77ae"
            ],
            [
             0.3,
             "#f1b6da"
            ],
            [
             0.4,
             "#fde0ef"
            ],
            [
             0.5,
             "#f7f7f7"
            ],
            [
             0.6,
             "#e6f5d0"
            ],
            [
             0.7,
             "#b8e186"
            ],
            [
             0.8,
             "#7fbc41"
            ],
            [
             0.9,
             "#4d9221"
            ],
            [
             1,
             "#276419"
            ]
           ],
           "sequential": [
            [
             0,
             "#0d0887"
            ],
            [
             0.1111111111111111,
             "#46039f"
            ],
            [
             0.2222222222222222,
             "#7201a8"
            ],
            [
             0.3333333333333333,
             "#9c179e"
            ],
            [
             0.4444444444444444,
             "#bd3786"
            ],
            [
             0.5555555555555556,
             "#d8576b"
            ],
            [
             0.6666666666666666,
             "#ed7953"
            ],
            [
             0.7777777777777778,
             "#fb9f3a"
            ],
            [
             0.8888888888888888,
             "#fdca26"
            ],
            [
             1,
             "#f0f921"
            ]
           ],
           "sequentialminus": [
            [
             0,
             "#0d0887"
            ],
            [
             0.1111111111111111,
             "#46039f"
            ],
            [
             0.2222222222222222,
             "#7201a8"
            ],
            [
             0.3333333333333333,
             "#9c179e"
            ],
            [
             0.4444444444444444,
             "#bd3786"
            ],
            [
             0.5555555555555556,
             "#d8576b"
            ],
            [
             0.6666666666666666,
             "#ed7953"
            ],
            [
             0.7777777777777778,
             "#fb9f3a"
            ],
            [
             0.8888888888888888,
             "#fdca26"
            ],
            [
             1,
             "#f0f921"
            ]
           ]
          },
          "colorway": [
           "#636efa",
           "#EF553B",
           "#00cc96",
           "#ab63fa",
           "#FFA15A",
           "#19d3f3",
           "#FF6692",
           "#B6E880",
           "#FF97FF",
           "#FECB52"
          ],
          "font": {
           "color": "#2a3f5f"
          },
          "geo": {
           "bgcolor": "white",
           "lakecolor": "white",
           "landcolor": "white",
           "showlakes": true,
           "showland": true,
           "subunitcolor": "#C8D4E3"
          },
          "hoverlabel": {
           "align": "left"
          },
          "hovermode": "closest",
          "mapbox": {
           "style": "light"
          },
          "paper_bgcolor": "white",
          "plot_bgcolor": "white",
          "polar": {
           "angularaxis": {
            "gridcolor": "#EBF0F8",
            "linecolor": "#EBF0F8",
            "ticks": ""
           },
           "bgcolor": "white",
           "radialaxis": {
            "gridcolor": "#EBF0F8",
            "linecolor": "#EBF0F8",
            "ticks": ""
           }
          },
          "scene": {
           "xaxis": {
            "backgroundcolor": "white",
            "gridcolor": "#DFE8F3",
            "gridwidth": 2,
            "linecolor": "#EBF0F8",
            "showbackground": true,
            "ticks": "",
            "zerolinecolor": "#EBF0F8"
           },
           "yaxis": {
            "backgroundcolor": "white",
            "gridcolor": "#DFE8F3",
            "gridwidth": 2,
            "linecolor": "#EBF0F8",
            "showbackground": true,
            "ticks": "",
            "zerolinecolor": "#EBF0F8"
           },
           "zaxis": {
            "backgroundcolor": "white",
            "gridcolor": "#DFE8F3",
            "gridwidth": 2,
            "linecolor": "#EBF0F8",
            "showbackground": true,
            "ticks": "",
            "zerolinecolor": "#EBF0F8"
           }
          },
          "shapedefaults": {
           "line": {
            "color": "#2a3f5f"
           }
          },
          "ternary": {
           "aaxis": {
            "gridcolor": "#DFE8F3",
            "linecolor": "#A2B1C6",
            "ticks": ""
           },
           "baxis": {
            "gridcolor": "#DFE8F3",
            "linecolor": "#A2B1C6",
            "ticks": ""
           },
           "bgcolor": "white",
           "caxis": {
            "gridcolor": "#DFE8F3",
            "linecolor": "#A2B1C6",
            "ticks": ""
           }
          },
          "title": {
           "x": 0.05
          },
          "xaxis": {
           "automargin": true,
           "gridcolor": "#EBF0F8",
           "linecolor": "#EBF0F8",
           "ticks": "",
           "zerolinecolor": "#EBF0F8",
           "zerolinewidth": 2
          },
          "yaxis": {
           "automargin": true,
           "gridcolor": "#EBF0F8",
           "linecolor": "#EBF0F8",
           "ticks": "",
           "zerolinecolor": "#EBF0F8",
           "zerolinewidth": 2
          }
         }
        },
        "title": {
         "text": "Patient Ratings of Professional Care and Facility Cleanliness"
        },
        "xaxis": {
         "title": {
          "text": "response"
         }
        },
        "yaxis": {
         "title": {
          "text": "proportion of patients"
         }
        }
       }
      },
      "text/html": [
       "<div>\n",
       "        \n",
       "        \n",
       "            <div id=\"961b21c8-48f8-4f36-a904-88b33902477e\" class=\"plotly-graph-div\" style=\"height:525px; width:100%;\"></div>\n",
       "            <script type=\"text/javascript\">\n",
       "                require([\"plotly\"], function(Plotly) {\n",
       "                    window.PLOTLYENV=window.PLOTLYENV || {};\n",
       "                    \n",
       "                if (document.getElementById(\"961b21c8-48f8-4f36-a904-88b33902477e\")) {\n",
       "                    Plotly.newPlot(\n",
       "                        '961b21c8-48f8-4f36-a904-88b33902477e',\n",
       "                        [{\"boxpoints\": \"all\", \"hoverinfo\": \"text\", \"hovertext\": [\"AK\", \"AL\", \"AR\", \"AZ\", \"CA\", \"CO\", \"CT\", \"DC\", \"DE\", \"FL\", \"GA\", \"HI\", \"IA\", \"ID\", \"IL\", \"IN\", \"KS\", \"KY\", \"LA\", \"MA\", \"MD\", \"ME\", \"MI\", \"MN\", \"MO\", \"MS\", \"MT\", \"NC\", \"ND\", \"NE\", \"NH\", \"NJ\", \"NM\", \"NV\", \"NY\", \"OH\", \"OK\", \"OR\", \"PA\", \"RI\", \"SC\", \"SD\", \"TN\", \"TX\", \"UT\", \"VA\", \"VT\", \"WA\", \"WI\", \"WV\", \"WY\", \"AK\", \"AL\", \"AR\", \"AZ\", \"CA\", \"CO\", \"CT\", \"DC\", \"DE\", \"FL\", \"GA\", \"HI\", \"IA\", \"ID\", \"IL\", \"IN\", \"KS\", \"KY\", \"LA\", \"MA\", \"MD\", \"ME\", \"MI\", \"MN\", \"MO\", \"MS\", \"MT\", \"NC\", \"ND\", \"NE\", \"NH\", \"NJ\", \"NM\", \"NV\", \"NY\", \"OH\", \"OK\", \"OR\", \"PA\", \"RI\", \"SC\", \"SD\", \"TN\", \"TX\", \"UT\", \"VA\", \"VT\", \"WA\", \"WI\", \"WV\", \"WY\", \"AK\", \"AL\", \"AR\", \"AZ\", \"CA\", \"CO\", \"CT\", \"DC\", \"DE\", \"FL\", \"GA\", \"HI\", \"IA\", \"ID\", \"IL\", \"IN\", \"KS\", \"KY\", \"LA\", \"MA\", \"MD\", \"ME\", \"MI\", \"MN\", \"MO\", \"MS\", \"MT\", \"NC\", \"ND\", \"NE\", \"NH\", \"NJ\", \"NM\", \"NV\", \"NY\", \"OH\", \"OK\", \"OR\", \"PA\", \"RI\", \"SC\", \"SD\", \"TN\", \"TX\", \"UT\", \"VA\", \"VT\", \"WA\", \"WI\", \"WV\", \"WY\"], \"jitter\": 0.5, \"type\": \"box\", \"width\": 0.3, \"x\": [\"not at all\", \"not at all\", \"not at all\", \"not at all\", \"not at all\", \"not at all\", \"not at all\", \"not at all\", \"not at all\", \"not at all\", \"not at all\", \"not at all\", \"not at all\", \"not at all\", \"not at all\", \"not at all\", \"not at all\", \"not at all\", \"not at all\", \"not at all\", \"not at all\", \"not at all\", \"not at all\", \"not at all\", \"not at all\", \"not at all\", \"not at all\", \"not at all\", \"not at all\", \"not at all\", \"not at all\", \"not at all\", \"not at all\", \"not at all\", \"not at all\", \"not at all\", \"not at all\", \"not at all\", \"not at all\", \"not at all\", \"not at all\", \"not at all\", \"not at all\", \"not at all\", \"not at all\", \"not at all\", \"not at all\", \"not at all\", \"not at all\", \"not at all\", \"not at all\", \"somewhat\", \"somewhat\", \"somewhat\", \"somewhat\", \"somewhat\", \"somewhat\", \"somewhat\", \"somewhat\", \"somewhat\", \"somewhat\", \"somewhat\", \"somewhat\", \"somewhat\", \"somewhat\", \"somewhat\", \"somewhat\", \"somewhat\", \"somewhat\", \"somewhat\", \"somewhat\", \"somewhat\", \"somewhat\", \"somewhat\", \"somewhat\", \"somewhat\", \"somewhat\", \"somewhat\", \"somewhat\", \"somewhat\", \"somewhat\", \"somewhat\", \"somewhat\", \"somewhat\", \"somewhat\", \"somewhat\", \"somewhat\", \"somewhat\", \"somewhat\", \"somewhat\", \"somewhat\", \"somewhat\", \"somewhat\", \"somewhat\", \"somewhat\", \"somewhat\", \"somewhat\", \"somewhat\", \"somewhat\", \"somewhat\", \"somewhat\", \"somewhat\", \"definitely\", \"definitely\", \"definitely\", \"definitely\", \"definitely\", \"definitely\", \"definitely\", \"definitely\", \"definitely\", \"definitely\", \"definitely\", \"definitely\", \"definitely\", \"definitely\", \"definitely\", \"definitely\", \"definitely\", \"definitely\", \"definitely\", \"definitely\", \"definitely\", \"definitely\", \"definitely\", \"definitely\", \"definitely\", \"definitely\", \"definitely\", \"definitely\", \"definitely\", \"definitely\", \"definitely\", \"definitely\", \"definitely\", \"definitely\", \"definitely\", \"definitely\", \"definitely\", \"definitely\", \"definitely\", \"definitely\", \"definitely\", \"definitely\", \"definitely\", \"definitely\", \"definitely\", \"definitely\", \"definitely\", \"definitely\", \"definitely\", \"definitely\", \"definitely\"], \"y\": [0.0026666666666666666, 0.000966702470461869, 0.0014566642388929353, 0.00028121484814398203, 0.0011349693251533743, 0.0004909782742113662, 0.0006934812760055479, 0.008438818565400843, 0.0, 0.0004266894234359166, 0.0007926214151895086, 0.0, 0.0001356300013563, 0.0005393743257820927, 0.0004006570776072759, 0.0002718499388337638, 0.0006013229104028864, 0.0004020100502512563, 0.0008297894409293641, 0.0005780346820809249, 0.0007933359777865926, 0.0002261420171867933, 0.0006999860002799944, 0.00019302535066272037, 0.00047588832487309646, 0.0029486927462158445, 0.0008942944017170453, 0.00021859117984589322, 0.0, 0.000791765637371338, 0.0004677268475210477, 0.0, 0.002871205906480722, 0.0033644859813084112, 0.0006344775077723495, 0.0003890817670298097, 0.00041836627967785795, 0.0004464285714285714, 0.00035803795202291446, 0.0, 0.0008683068017366136, 0.0, 0.0004995004995004995, 0.0011107745127739068, 0.0003615982643283312, 0.0, 0.0006501950585175553, 0.0008780402142418123, 0.00028948587308939323, 0.0011208668036614981, 0.0, 0.016, 0.008592910848549946, 0.009832483612527313, 0.005905511811023622, 0.0060736196319018405, 0.003927826193690929, 0.005894590846047157, 0.02531645569620253, 0.007481296758104738, 0.004320230412288655, 0.008430609597924773, 0.01904761904761905, 0.0031194900311949003, 0.00674217907227616, 0.0043270964381585805, 0.006388473562593449, 0.0072158749248346366, 0.006834170854271356, 0.008920236489990664, 0.005587668593448941, 0.005950019833399445, 0.0065581184984170055, 0.006019879602407952, 0.004053532363917128, 0.006186548223350254, 0.012187930017692156, 0.007154355213736362, 0.003934641237226078, 0.001791044776119403, 0.00791765637371338, 0.009822263797942002, 0.005382131324004306, 0.01066447908121411, 0.01644859813084112, 0.00590064082228285, 0.0040404645037711, 0.005334170065892689, 0.005803571428571429, 0.003938417472252059, 0.00537109375, 0.007525325615050651, 0.00311332503113325, 0.00333000333000333, 0.008179339594062406, 0.005062375700596637, 0.005620232838217583, 0.002600780234070221, 0.006146281499692686, 0.004747568318666049, 0.007472445357743321, 0.00558659217877095, 0.5146666666666667, 0.22674543501611172, 0.28004369992716677, 0.218785151856018, 0.14923312883435583, 0.1551491346507917, 0.20145631067961164, 0.3881856540084388, 0.24189526184538654, 0.1339271427809483, 0.24297449200172935, 0.45714285714285713, 0.1255933812559338, 0.2354368932038835, 0.15954164830321726, 0.2787821122740247, 0.2928442573662057, 0.19376884422110552, 0.28067627839435744, 0.18651252408477842, 0.23125743752479175, 0.19674355495251017, 0.24527509449811002, 0.1759104362372925, 0.19955583756345177, 0.27973265185767643, 0.20658200679663746, 0.16525493196349528, 0.05791044776119403, 0.3079968329374505, 0.31711880261927033, 0.20990312163616792, 0.31460213289581623, 0.3166355140186916, 0.17746335892392615, 0.14222435053274274, 0.20343060349335843, 0.2392857142857143, 0.13380389749884916, 0.18994140625, 0.19421128798842258, 0.12141967621419676, 0.1043956043956044, 0.27850146420276684, 0.17537515819924065, 0.1951023685266961, 0.1267880364109233, 0.20370532970410044, 0.1976030569708198, 0.21558004857089483, 0.2737430167597765]}],\n",
       "                        {\"template\": {\"data\": {\"bar\": [{\"error_x\": {\"color\": \"#2a3f5f\"}, \"error_y\": {\"color\": \"#2a3f5f\"}, \"marker\": {\"line\": {\"color\": \"white\", \"width\": 0.5}}, \"type\": \"bar\"}], \"barpolar\": [{\"marker\": {\"line\": {\"color\": \"white\", \"width\": 0.5}}, \"type\": \"barpolar\"}], \"carpet\": [{\"aaxis\": {\"endlinecolor\": \"#2a3f5f\", \"gridcolor\": \"#C8D4E3\", \"linecolor\": \"#C8D4E3\", \"minorgridcolor\": \"#C8D4E3\", \"startlinecolor\": \"#2a3f5f\"}, \"baxis\": {\"endlinecolor\": \"#2a3f5f\", \"gridcolor\": \"#C8D4E3\", \"linecolor\": \"#C8D4E3\", \"minorgridcolor\": \"#C8D4E3\", \"startlinecolor\": \"#2a3f5f\"}, \"type\": \"carpet\"}], \"choropleth\": [{\"colorbar\": {\"outlinewidth\": 0, \"ticks\": \"\"}, \"type\": \"choropleth\"}], \"contour\": [{\"colorbar\": {\"outlinewidth\": 0, \"ticks\": \"\"}, \"colorscale\": [[0.0, \"#0d0887\"], [0.1111111111111111, \"#46039f\"], [0.2222222222222222, \"#7201a8\"], [0.3333333333333333, \"#9c179e\"], [0.4444444444444444, \"#bd3786\"], [0.5555555555555556, \"#d8576b\"], [0.6666666666666666, \"#ed7953\"], [0.7777777777777778, \"#fb9f3a\"], [0.8888888888888888, \"#fdca26\"], [1.0, \"#f0f921\"]], \"type\": \"contour\"}], \"contourcarpet\": [{\"colorbar\": {\"outlinewidth\": 0, \"ticks\": \"\"}, \"type\": \"contourcarpet\"}], \"heatmap\": [{\"colorbar\": {\"outlinewidth\": 0, \"ticks\": \"\"}, \"colorscale\": [[0.0, \"#0d0887\"], [0.1111111111111111, \"#46039f\"], [0.2222222222222222, \"#7201a8\"], [0.3333333333333333, \"#9c179e\"], [0.4444444444444444, \"#bd3786\"], [0.5555555555555556, \"#d8576b\"], [0.6666666666666666, \"#ed7953\"], [0.7777777777777778, \"#fb9f3a\"], [0.8888888888888888, \"#fdca26\"], [1.0, \"#f0f921\"]], \"type\": \"heatmap\"}], \"heatmapgl\": [{\"colorbar\": {\"outlinewidth\": 0, \"ticks\": \"\"}, \"colorscale\": [[0.0, \"#0d0887\"], [0.1111111111111111, \"#46039f\"], [0.2222222222222222, \"#7201a8\"], [0.3333333333333333, \"#9c179e\"], [0.4444444444444444, \"#bd3786\"], [0.5555555555555556, \"#d8576b\"], [0.6666666666666666, \"#ed7953\"], [0.7777777777777778, \"#fb9f3a\"], [0.8888888888888888, \"#fdca26\"], [1.0, \"#f0f921\"]], \"type\": \"heatmapgl\"}], \"histogram\": [{\"marker\": {\"colorbar\": {\"outlinewidth\": 0, \"ticks\": \"\"}}, \"type\": \"histogram\"}], \"histogram2d\": [{\"colorbar\": {\"outlinewidth\": 0, \"ticks\": \"\"}, \"colorscale\": [[0.0, \"#0d0887\"], [0.1111111111111111, \"#46039f\"], [0.2222222222222222, \"#7201a8\"], [0.3333333333333333, \"#9c179e\"], [0.4444444444444444, \"#bd3786\"], [0.5555555555555556, \"#d8576b\"], [0.6666666666666666, \"#ed7953\"], [0.7777777777777778, \"#fb9f3a\"], [0.8888888888888888, \"#fdca26\"], [1.0, \"#f0f921\"]], \"type\": \"histogram2d\"}], \"histogram2dcontour\": [{\"colorbar\": {\"outlinewidth\": 0, \"ticks\": \"\"}, \"colorscale\": [[0.0, \"#0d0887\"], [0.1111111111111111, \"#46039f\"], [0.2222222222222222, \"#7201a8\"], [0.3333333333333333, \"#9c179e\"], [0.4444444444444444, \"#bd3786\"], [0.5555555555555556, \"#d8576b\"], [0.6666666666666666, \"#ed7953\"], [0.7777777777777778, \"#fb9f3a\"], [0.8888888888888888, \"#fdca26\"], [1.0, \"#f0f921\"]], \"type\": \"histogram2dcontour\"}], \"mesh3d\": [{\"colorbar\": {\"outlinewidth\": 0, \"ticks\": \"\"}, \"type\": \"mesh3d\"}], \"parcoords\": [{\"line\": {\"colorbar\": {\"outlinewidth\": 0, \"ticks\": \"\"}}, \"type\": \"parcoords\"}], \"scatter\": [{\"marker\": {\"colorbar\": {\"outlinewidth\": 0, \"ticks\": \"\"}}, \"type\": \"scatter\"}], \"scatter3d\": [{\"line\": {\"colorbar\": {\"outlinewidth\": 0, \"ticks\": \"\"}}, \"marker\": {\"colorbar\": {\"outlinewidth\": 0, \"ticks\": \"\"}}, \"type\": \"scatter3d\"}], \"scattercarpet\": [{\"marker\": {\"colorbar\": {\"outlinewidth\": 0, \"ticks\": \"\"}}, \"type\": \"scattercarpet\"}], \"scattergeo\": [{\"marker\": {\"colorbar\": {\"outlinewidth\": 0, \"ticks\": \"\"}}, \"type\": \"scattergeo\"}], \"scattergl\": [{\"marker\": {\"colorbar\": {\"outlinewidth\": 0, \"ticks\": \"\"}}, \"type\": \"scattergl\"}], \"scattermapbox\": [{\"marker\": {\"colorbar\": {\"outlinewidth\": 0, \"ticks\": \"\"}}, \"type\": \"scattermapbox\"}], \"scatterpolar\": [{\"marker\": {\"colorbar\": {\"outlinewidth\": 0, \"ticks\": \"\"}}, \"type\": \"scatterpolar\"}], \"scatterpolargl\": [{\"marker\": {\"colorbar\": {\"outlinewidth\": 0, \"ticks\": \"\"}}, \"type\": \"scatterpolargl\"}], \"scatterternary\": [{\"marker\": {\"colorbar\": {\"outlinewidth\": 0, \"ticks\": \"\"}}, \"type\": \"scatterternary\"}], \"surface\": [{\"colorbar\": {\"outlinewidth\": 0, \"ticks\": \"\"}, \"colorscale\": [[0.0, \"#0d0887\"], [0.1111111111111111, \"#46039f\"], [0.2222222222222222, \"#7201a8\"], [0.3333333333333333, \"#9c179e\"], [0.4444444444444444, \"#bd3786\"], [0.5555555555555556, \"#d8576b\"], [0.6666666666666666, \"#ed7953\"], [0.7777777777777778, \"#fb9f3a\"], [0.8888888888888888, \"#fdca26\"], [1.0, \"#f0f921\"]], \"type\": \"surface\"}], \"table\": [{\"cells\": {\"fill\": {\"color\": \"#EBF0F8\"}, \"line\": {\"color\": \"white\"}}, \"header\": {\"fill\": {\"color\": \"#C8D4E3\"}, \"line\": {\"color\": \"white\"}}, \"type\": \"table\"}]}, \"layout\": {\"annotationdefaults\": {\"arrowcolor\": \"#2a3f5f\", \"arrowhead\": 0, \"arrowwidth\": 1}, \"colorscale\": {\"diverging\": [[0, \"#8e0152\"], [0.1, \"#c51b7d\"], [0.2, \"#de77ae\"], [0.3, \"#f1b6da\"], [0.4, \"#fde0ef\"], [0.5, \"#f7f7f7\"], [0.6, \"#e6f5d0\"], [0.7, \"#b8e186\"], [0.8, \"#7fbc41\"], [0.9, \"#4d9221\"], [1, \"#276419\"]], \"sequential\": [[0.0, \"#0d0887\"], [0.1111111111111111, \"#46039f\"], [0.2222222222222222, \"#7201a8\"], [0.3333333333333333, \"#9c179e\"], [0.4444444444444444, \"#bd3786\"], [0.5555555555555556, \"#d8576b\"], [0.6666666666666666, \"#ed7953\"], [0.7777777777777778, \"#fb9f3a\"], [0.8888888888888888, \"#fdca26\"], [1.0, \"#f0f921\"]], \"sequentialminus\": [[0.0, \"#0d0887\"], [0.1111111111111111, \"#46039f\"], [0.2222222222222222, \"#7201a8\"], [0.3333333333333333, \"#9c179e\"], [0.4444444444444444, \"#bd3786\"], [0.5555555555555556, \"#d8576b\"], [0.6666666666666666, \"#ed7953\"], [0.7777777777777778, \"#fb9f3a\"], [0.8888888888888888, \"#fdca26\"], [1.0, \"#f0f921\"]]}, \"colorway\": [\"#636efa\", \"#EF553B\", \"#00cc96\", \"#ab63fa\", \"#FFA15A\", \"#19d3f3\", \"#FF6692\", \"#B6E880\", \"#FF97FF\", \"#FECB52\"], \"font\": {\"color\": \"#2a3f5f\"}, \"geo\": {\"bgcolor\": \"white\", \"lakecolor\": \"white\", \"landcolor\": \"white\", \"showlakes\": true, \"showland\": true, \"subunitcolor\": \"#C8D4E3\"}, \"hoverlabel\": {\"align\": \"left\"}, \"hovermode\": \"closest\", \"mapbox\": {\"style\": \"light\"}, \"paper_bgcolor\": \"white\", \"plot_bgcolor\": \"white\", \"polar\": {\"angularaxis\": {\"gridcolor\": \"#EBF0F8\", \"linecolor\": \"#EBF0F8\", \"ticks\": \"\"}, \"bgcolor\": \"white\", \"radialaxis\": {\"gridcolor\": \"#EBF0F8\", \"linecolor\": \"#EBF0F8\", \"ticks\": \"\"}}, \"scene\": {\"xaxis\": {\"backgroundcolor\": \"white\", \"gridcolor\": \"#DFE8F3\", \"gridwidth\": 2, \"linecolor\": \"#EBF0F8\", \"showbackground\": true, \"ticks\": \"\", \"zerolinecolor\": \"#EBF0F8\"}, \"yaxis\": {\"backgroundcolor\": \"white\", \"gridcolor\": \"#DFE8F3\", \"gridwidth\": 2, \"linecolor\": \"#EBF0F8\", \"showbackground\": true, \"ticks\": \"\", \"zerolinecolor\": \"#EBF0F8\"}, \"zaxis\": {\"backgroundcolor\": \"white\", \"gridcolor\": \"#DFE8F3\", \"gridwidth\": 2, \"linecolor\": \"#EBF0F8\", \"showbackground\": true, \"ticks\": \"\", \"zerolinecolor\": \"#EBF0F8\"}}, \"shapedefaults\": {\"line\": {\"color\": \"#2a3f5f\"}}, \"ternary\": {\"aaxis\": {\"gridcolor\": \"#DFE8F3\", \"linecolor\": \"#A2B1C6\", \"ticks\": \"\"}, \"baxis\": {\"gridcolor\": \"#DFE8F3\", \"linecolor\": \"#A2B1C6\", \"ticks\": \"\"}, \"bgcolor\": \"white\", \"caxis\": {\"gridcolor\": \"#DFE8F3\", \"linecolor\": \"#A2B1C6\", \"ticks\": \"\"}}, \"title\": {\"x\": 0.05}, \"xaxis\": {\"automargin\": true, \"gridcolor\": \"#EBF0F8\", \"linecolor\": \"#EBF0F8\", \"ticks\": \"\", \"zerolinecolor\": \"#EBF0F8\", \"zerolinewidth\": 2}, \"yaxis\": {\"automargin\": true, \"gridcolor\": \"#EBF0F8\", \"linecolor\": \"#EBF0F8\", \"ticks\": \"\", \"zerolinecolor\": \"#EBF0F8\", \"zerolinewidth\": 2}}}, \"title\": {\"text\": \"Patient Ratings of Professional Care and Facility Cleanliness\"}, \"xaxis\": {\"title\": {\"text\": \"response\"}}, \"yaxis\": {\"title\": {\"text\": \"proportion of patients\"}}},\n",
       "                        {\"responsive\": true}\n",
       "                    ).then(function(){\n",
       "                            \n",
       "var gd = document.getElementById('961b21c8-48f8-4f36-a904-88b33902477e');\n",
       "var x = new MutationObserver(function (mutations, observer) {{\n",
       "        var display = window.getComputedStyle(gd).display;\n",
       "        if (!display || display === 'none') {{\n",
       "            console.log([gd, 'removed!']);\n",
       "            Plotly.purge(gd);\n",
       "            observer.disconnect();\n",
       "        }}\n",
       "}});\n",
       "\n",
       "// Listen for the removal of the full notebook cells\n",
       "var notebookContainer = gd.closest('#notebook-container');\n",
       "if (notebookContainer) {{\n",
       "    x.observe(notebookContainer, {childList: true});\n",
       "}}\n",
       "\n",
       "// Listen for the clearing of the current output cell\n",
       "var outputEl = gd.closest('.output');\n",
       "if (outputEl) {{\n",
       "    x.observe(outputEl, {childList: true});\n",
       "}}\n",
       "\n",
       "                        })\n",
       "                };\n",
       "                });\n",
       "            </script>\n",
       "        </div>"
      ]
     },
     "metadata": {},
     "output_type": "display_data"
    },
    {
     "data": {
      "application/vnd.plotly.v1+json": {
       "config": {
        "plotlyServerURL": "https://plot.ly"
       },
       "data": [
        {
         "boxpoints": "all",
         "hoverinfo": "text",
         "hovertext": [
          "AK",
          "AL",
          "AR",
          "AZ",
          "CA",
          "CO",
          "CT",
          "DC",
          "DE",
          "FL",
          "GA",
          "HI",
          "IA",
          "ID",
          "IL",
          "IN",
          "KS",
          "KY",
          "LA",
          "MA",
          "MD",
          "ME",
          "MI",
          "MN",
          "MO",
          "MS",
          "MT",
          "NC",
          "ND",
          "NE",
          "NH",
          "NJ",
          "NM",
          "NV",
          "NY",
          "OH",
          "OK",
          "OR",
          "PA",
          "RI",
          "SC",
          "SD",
          "TN",
          "TX",
          "UT",
          "VA",
          "VT",
          "WA",
          "WI",
          "WV",
          "WY",
          "AK",
          "AL",
          "AR",
          "AZ",
          "CA",
          "CO",
          "CT",
          "DC",
          "DE",
          "FL",
          "GA",
          "HI",
          "IA",
          "ID",
          "IL",
          "IN",
          "KS",
          "KY",
          "LA",
          "MA",
          "MD",
          "ME",
          "MI",
          "MN",
          "MO",
          "MS",
          "MT",
          "NC",
          "ND",
          "NE",
          "NH",
          "NJ",
          "NM",
          "NV",
          "NY",
          "OH",
          "OK",
          "OR",
          "PA",
          "RI",
          "SC",
          "SD",
          "TN",
          "TX",
          "UT",
          "VA",
          "VT",
          "WA",
          "WI",
          "WV",
          "WY",
          "AK",
          "AL",
          "AR",
          "AZ",
          "CA",
          "CO",
          "CT",
          "DC",
          "DE",
          "FL",
          "GA",
          "HI",
          "IA",
          "ID",
          "IL",
          "IN",
          "KS",
          "KY",
          "LA",
          "MA",
          "MD",
          "ME",
          "MI",
          "MN",
          "MO",
          "MS",
          "MT",
          "NC",
          "ND",
          "NE",
          "NH",
          "NJ",
          "NM",
          "NV",
          "NY",
          "OH",
          "OK",
          "OR",
          "PA",
          "RI",
          "SC",
          "SD",
          "TN",
          "TX",
          "UT",
          "VA",
          "VT",
          "WA",
          "WI",
          "WV",
          "WY"
         ],
         "jitter": 0.5,
         "type": "box",
         "width": 0.3,
         "x": [
          "0-6",
          "0-6",
          "0-6",
          "0-6",
          "0-6",
          "0-6",
          "0-6",
          "0-6",
          "0-6",
          "0-6",
          "0-6",
          "0-6",
          "0-6",
          "0-6",
          "0-6",
          "0-6",
          "0-6",
          "0-6",
          "0-6",
          "0-6",
          "0-6",
          "0-6",
          "0-6",
          "0-6",
          "0-6",
          "0-6",
          "0-6",
          "0-6",
          "0-6",
          "0-6",
          "0-6",
          "0-6",
          "0-6",
          "0-6",
          "0-6",
          "0-6",
          "0-6",
          "0-6",
          "0-6",
          "0-6",
          "0-6",
          "0-6",
          "0-6",
          "0-6",
          "0-6",
          "0-6",
          "0-6",
          "0-6",
          "0-6",
          "0-6",
          "0-6",
          "7-8",
          "7-8",
          "7-8",
          "7-8",
          "7-8",
          "7-8",
          "7-8",
          "7-8",
          "7-8",
          "7-8",
          "7-8",
          "7-8",
          "7-8",
          "7-8",
          "7-8",
          "7-8",
          "7-8",
          "7-8",
          "7-8",
          "7-8",
          "7-8",
          "7-8",
          "7-8",
          "7-8",
          "7-8",
          "7-8",
          "7-8",
          "7-8",
          "7-8",
          "7-8",
          "7-8",
          "7-8",
          "7-8",
          "7-8",
          "7-8",
          "7-8",
          "7-8",
          "7-8",
          "7-8",
          "7-8",
          "7-8",
          "7-8",
          "7-8",
          "7-8",
          "7-8",
          "7-8",
          "7-8",
          "7-8",
          "7-8",
          "7-8",
          "7-8",
          "9-10",
          "9-10",
          "9-10",
          "9-10",
          "9-10",
          "9-10",
          "9-10",
          "9-10",
          "9-10",
          "9-10",
          "9-10",
          "9-10",
          "9-10",
          "9-10",
          "9-10",
          "9-10",
          "9-10",
          "9-10",
          "9-10",
          "9-10",
          "9-10",
          "9-10",
          "9-10",
          "9-10",
          "9-10",
          "9-10",
          "9-10",
          "9-10",
          "9-10",
          "9-10",
          "9-10",
          "9-10",
          "9-10",
          "9-10",
          "9-10",
          "9-10",
          "9-10",
          "9-10",
          "9-10",
          "9-10",
          "9-10",
          "9-10",
          "9-10",
          "9-10",
          "9-10",
          "9-10",
          "9-10",
          "9-10",
          "9-10",
          "9-10",
          "9-10"
         ],
         "y": [
          0.010666666666666666,
          0.008807733619763695,
          0.009468317552804079,
          0.003937007874015748,
          0.0051533742331288344,
          0.0033141033509267214,
          0.0048543689320388345,
          0.016877637130801686,
          0.004987531172069825,
          0.0035201877433463117,
          0.0066291972906758895,
          0.009523809523809525,
          0.0029838600298386004,
          0.0056634304207119745,
          0.003966505068312032,
          0.005844773684925921,
          0.010222489476849068,
          0.0052261306532663315,
          0.007675552328596618,
          0.003468208092485549,
          0.005950019833399445,
          0.0065581184984170055,
          0.0055998880022399555,
          0.003924848796808648,
          0.004282994923857868,
          0.013367407116178493,
          0.00554462529064568,
          0.002896333132958085,
          0.001791044776119403,
          0.00791765637371338,
          0.009354536950420954,
          0.006458557588805167,
          0.009023789991796555,
          0.010841121495327103,
          0.006090984074614555,
          0.0036513827367412907,
          0.0035561133772617926,
          0.0046875,
          0.0030177484527645643,
          0.00439453125,
          0.006367583212735167,
          0.0012453300124533001,
          0.0027472527472527475,
          0.0069675855801272345,
          0.004067980473693726,
          0.004616619831393015,
          0.003250975292587776,
          0.005619457371147598,
          0.004052802223251505,
          0.0076592564916869044,
          0.00558659217877095,
          0.06133333333333333,
          0.03426423200859291,
          0.03896576839038601,
          0.02840269966254218,
          0.02128834355828221,
          0.016816005891739292,
          0.025312066574202496,
          0.09282700421940929,
          0.04239401496259352,
          0.01642754280228279,
          0.034010664360858915,
          0.07142857142857142,
          0.0160043401600434,
          0.02912621359223301,
          0.019271605432909972,
          0.03235014272121789,
          0.037282020444978956,
          0.026331658291457286,
          0.03402136707810393,
          0.028516377649325627,
          0.029353431178103927,
          0.033921302578018994,
          0.03569928601427971,
          0.023999485265731566,
          0.030456852791878174,
          0.03715352860231964,
          0.03219459846181363,
          0.018033772337286192,
          0.01253731343283582,
          0.04908946951702296,
          0.05519176800748363,
          0.024757804090419805,
          0.03978671041837572,
          0.05121495327102804,
          0.02721908508343379,
          0.018795642284209265,
          0.023846877941637906,
          0.03459821428571429,
          0.018566825226331133,
          0.0234375,
          0.029522431259044864,
          0.011830635118306352,
          0.013486513486513486,
          0.03165707361405635,
          0.02287109021876695,
          0.02509032517061421,
          0.016905071521456438,
          0.029150935112828166,
          0.025937934228809634,
          0.03325238184195778,
          0.0446927374301676,
          0.4613333333333333,
          0.19323308270676692,
          0.24289876183539694,
          0.19263217097862767,
          0.13,
          0.13943782987602799,
          0.17787794729542303,
          0.31223628691983124,
          0.20199501246882792,
          0.11872633207104379,
          0.21155786136330884,
          0.3952380952380952,
          0.10986030109860301,
          0.20792880258899676,
          0.14103129131776113,
          0.24724751936930814,
          0.25315694527961513,
          0.16944723618090451,
          0.2487293849185769,
          0.1606936416184971,
          0.20269734232447442,
          0.16304839439167798,
          0.2106957860842783,
          0.15223265988933213,
          0.17147842639593908,
          0.2443483389030863,
          0.17689143265963156,
          0.14847805891032298,
          0.04537313432835821,
          0.2596991290577989,
          0.2628624883068288,
          0.18406889128094725,
          0.2793273174733388,
          0.274392523364486,
          0.150688408095933,
          0.12420687178259308,
          0.18178014852002927,
          0.20625,
          0.11651577924402844,
          0.16748046875,
          0.1667149059334298,
          0.11145703611457036,
          0.09199134199134198,
          0.24916691911541958,
          0.15386006147170495,
          0.17101565636290647,
          0.10988296488946683,
          0.17595925893405917,
          0.17264937471051411,
          0.18326172239865496,
          0.22905027932960895
         ]
        }
       ],
       "layout": {
        "template": {
         "data": {
          "bar": [
           {
            "error_x": {
             "color": "#2a3f5f"
            },
            "error_y": {
             "color": "#2a3f5f"
            },
            "marker": {
             "line": {
              "color": "white",
              "width": 0.5
             }
            },
            "type": "bar"
           }
          ],
          "barpolar": [
           {
            "marker": {
             "line": {
              "color": "white",
              "width": 0.5
             }
            },
            "type": "barpolar"
           }
          ],
          "carpet": [
           {
            "aaxis": {
             "endlinecolor": "#2a3f5f",
             "gridcolor": "#C8D4E3",
             "linecolor": "#C8D4E3",
             "minorgridcolor": "#C8D4E3",
             "startlinecolor": "#2a3f5f"
            },
            "baxis": {
             "endlinecolor": "#2a3f5f",
             "gridcolor": "#C8D4E3",
             "linecolor": "#C8D4E3",
             "minorgridcolor": "#C8D4E3",
             "startlinecolor": "#2a3f5f"
            },
            "type": "carpet"
           }
          ],
          "choropleth": [
           {
            "colorbar": {
             "outlinewidth": 0,
             "ticks": ""
            },
            "type": "choropleth"
           }
          ],
          "contour": [
           {
            "colorbar": {
             "outlinewidth": 0,
             "ticks": ""
            },
            "colorscale": [
             [
              0,
              "#0d0887"
             ],
             [
              0.1111111111111111,
              "#46039f"
             ],
             [
              0.2222222222222222,
              "#7201a8"
             ],
             [
              0.3333333333333333,
              "#9c179e"
             ],
             [
              0.4444444444444444,
              "#bd3786"
             ],
             [
              0.5555555555555556,
              "#d8576b"
             ],
             [
              0.6666666666666666,
              "#ed7953"
             ],
             [
              0.7777777777777778,
              "#fb9f3a"
             ],
             [
              0.8888888888888888,
              "#fdca26"
             ],
             [
              1,
              "#f0f921"
             ]
            ],
            "type": "contour"
           }
          ],
          "contourcarpet": [
           {
            "colorbar": {
             "outlinewidth": 0,
             "ticks": ""
            },
            "type": "contourcarpet"
           }
          ],
          "heatmap": [
           {
            "colorbar": {
             "outlinewidth": 0,
             "ticks": ""
            },
            "colorscale": [
             [
              0,
              "#0d0887"
             ],
             [
              0.1111111111111111,
              "#46039f"
             ],
             [
              0.2222222222222222,
              "#7201a8"
             ],
             [
              0.3333333333333333,
              "#9c179e"
             ],
             [
              0.4444444444444444,
              "#bd3786"
             ],
             [
              0.5555555555555556,
              "#d8576b"
             ],
             [
              0.6666666666666666,
              "#ed7953"
             ],
             [
              0.7777777777777778,
              "#fb9f3a"
             ],
             [
              0.8888888888888888,
              "#fdca26"
             ],
             [
              1,
              "#f0f921"
             ]
            ],
            "type": "heatmap"
           }
          ],
          "heatmapgl": [
           {
            "colorbar": {
             "outlinewidth": 0,
             "ticks": ""
            },
            "colorscale": [
             [
              0,
              "#0d0887"
             ],
             [
              0.1111111111111111,
              "#46039f"
             ],
             [
              0.2222222222222222,
              "#7201a8"
             ],
             [
              0.3333333333333333,
              "#9c179e"
             ],
             [
              0.4444444444444444,
              "#bd3786"
             ],
             [
              0.5555555555555556,
              "#d8576b"
             ],
             [
              0.6666666666666666,
              "#ed7953"
             ],
             [
              0.7777777777777778,
              "#fb9f3a"
             ],
             [
              0.8888888888888888,
              "#fdca26"
             ],
             [
              1,
              "#f0f921"
             ]
            ],
            "type": "heatmapgl"
           }
          ],
          "histogram": [
           {
            "marker": {
             "colorbar": {
              "outlinewidth": 0,
              "ticks": ""
             }
            },
            "type": "histogram"
           }
          ],
          "histogram2d": [
           {
            "colorbar": {
             "outlinewidth": 0,
             "ticks": ""
            },
            "colorscale": [
             [
              0,
              "#0d0887"
             ],
             [
              0.1111111111111111,
              "#46039f"
             ],
             [
              0.2222222222222222,
              "#7201a8"
             ],
             [
              0.3333333333333333,
              "#9c179e"
             ],
             [
              0.4444444444444444,
              "#bd3786"
             ],
             [
              0.5555555555555556,
              "#d8576b"
             ],
             [
              0.6666666666666666,
              "#ed7953"
             ],
             [
              0.7777777777777778,
              "#fb9f3a"
             ],
             [
              0.8888888888888888,
              "#fdca26"
             ],
             [
              1,
              "#f0f921"
             ]
            ],
            "type": "histogram2d"
           }
          ],
          "histogram2dcontour": [
           {
            "colorbar": {
             "outlinewidth": 0,
             "ticks": ""
            },
            "colorscale": [
             [
              0,
              "#0d0887"
             ],
             [
              0.1111111111111111,
              "#46039f"
             ],
             [
              0.2222222222222222,
              "#7201a8"
             ],
             [
              0.3333333333333333,
              "#9c179e"
             ],
             [
              0.4444444444444444,
              "#bd3786"
             ],
             [
              0.5555555555555556,
              "#d8576b"
             ],
             [
              0.6666666666666666,
              "#ed7953"
             ],
             [
              0.7777777777777778,
              "#fb9f3a"
             ],
             [
              0.8888888888888888,
              "#fdca26"
             ],
             [
              1,
              "#f0f921"
             ]
            ],
            "type": "histogram2dcontour"
           }
          ],
          "mesh3d": [
           {
            "colorbar": {
             "outlinewidth": 0,
             "ticks": ""
            },
            "type": "mesh3d"
           }
          ],
          "parcoords": [
           {
            "line": {
             "colorbar": {
              "outlinewidth": 0,
              "ticks": ""
             }
            },
            "type": "parcoords"
           }
          ],
          "scatter": [
           {
            "marker": {
             "colorbar": {
              "outlinewidth": 0,
              "ticks": ""
             }
            },
            "type": "scatter"
           }
          ],
          "scatter3d": [
           {
            "line": {
             "colorbar": {
              "outlinewidth": 0,
              "ticks": ""
             }
            },
            "marker": {
             "colorbar": {
              "outlinewidth": 0,
              "ticks": ""
             }
            },
            "type": "scatter3d"
           }
          ],
          "scattercarpet": [
           {
            "marker": {
             "colorbar": {
              "outlinewidth": 0,
              "ticks": ""
             }
            },
            "type": "scattercarpet"
           }
          ],
          "scattergeo": [
           {
            "marker": {
             "colorbar": {
              "outlinewidth": 0,
              "ticks": ""
             }
            },
            "type": "scattergeo"
           }
          ],
          "scattergl": [
           {
            "marker": {
             "colorbar": {
              "outlinewidth": 0,
              "ticks": ""
             }
            },
            "type": "scattergl"
           }
          ],
          "scattermapbox": [
           {
            "marker": {
             "colorbar": {
              "outlinewidth": 0,
              "ticks": ""
             }
            },
            "type": "scattermapbox"
           }
          ],
          "scatterpolar": [
           {
            "marker": {
             "colorbar": {
              "outlinewidth": 0,
              "ticks": ""
             }
            },
            "type": "scatterpolar"
           }
          ],
          "scatterpolargl": [
           {
            "marker": {
             "colorbar": {
              "outlinewidth": 0,
              "ticks": ""
             }
            },
            "type": "scatterpolargl"
           }
          ],
          "scatterternary": [
           {
            "marker": {
             "colorbar": {
              "outlinewidth": 0,
              "ticks": ""
             }
            },
            "type": "scatterternary"
           }
          ],
          "surface": [
           {
            "colorbar": {
             "outlinewidth": 0,
             "ticks": ""
            },
            "colorscale": [
             [
              0,
              "#0d0887"
             ],
             [
              0.1111111111111111,
              "#46039f"
             ],
             [
              0.2222222222222222,
              "#7201a8"
             ],
             [
              0.3333333333333333,
              "#9c179e"
             ],
             [
              0.4444444444444444,
              "#bd3786"
             ],
             [
              0.5555555555555556,
              "#d8576b"
             ],
             [
              0.6666666666666666,
              "#ed7953"
             ],
             [
              0.7777777777777778,
              "#fb9f3a"
             ],
             [
              0.8888888888888888,
              "#fdca26"
             ],
             [
              1,
              "#f0f921"
             ]
            ],
            "type": "surface"
           }
          ],
          "table": [
           {
            "cells": {
             "fill": {
              "color": "#EBF0F8"
             },
             "line": {
              "color": "white"
             }
            },
            "header": {
             "fill": {
              "color": "#C8D4E3"
             },
             "line": {
              "color": "white"
             }
            },
            "type": "table"
           }
          ]
         },
         "layout": {
          "annotationdefaults": {
           "arrowcolor": "#2a3f5f",
           "arrowhead": 0,
           "arrowwidth": 1
          },
          "colorscale": {
           "diverging": [
            [
             0,
             "#8e0152"
            ],
            [
             0.1,
             "#c51b7d"
            ],
            [
             0.2,
             "#de77ae"
            ],
            [
             0.3,
             "#f1b6da"
            ],
            [
             0.4,
             "#fde0ef"
            ],
            [
             0.5,
             "#f7f7f7"
            ],
            [
             0.6,
             "#e6f5d0"
            ],
            [
             0.7,
             "#b8e186"
            ],
            [
             0.8,
             "#7fbc41"
            ],
            [
             0.9,
             "#4d9221"
            ],
            [
             1,
             "#276419"
            ]
           ],
           "sequential": [
            [
             0,
             "#0d0887"
            ],
            [
             0.1111111111111111,
             "#46039f"
            ],
            [
             0.2222222222222222,
             "#7201a8"
            ],
            [
             0.3333333333333333,
             "#9c179e"
            ],
            [
             0.4444444444444444,
             "#bd3786"
            ],
            [
             0.5555555555555556,
             "#d8576b"
            ],
            [
             0.6666666666666666,
             "#ed7953"
            ],
            [
             0.7777777777777778,
             "#fb9f3a"
            ],
            [
             0.8888888888888888,
             "#fdca26"
            ],
            [
             1,
             "#f0f921"
            ]
           ],
           "sequentialminus": [
            [
             0,
             "#0d0887"
            ],
            [
             0.1111111111111111,
             "#46039f"
            ],
            [
             0.2222222222222222,
             "#7201a8"
            ],
            [
             0.3333333333333333,
             "#9c179e"
            ],
            [
             0.4444444444444444,
             "#bd3786"
            ],
            [
             0.5555555555555556,
             "#d8576b"
            ],
            [
             0.6666666666666666,
             "#ed7953"
            ],
            [
             0.7777777777777778,
             "#fb9f3a"
            ],
            [
             0.8888888888888888,
             "#fdca26"
            ],
            [
             1,
             "#f0f921"
            ]
           ]
          },
          "colorway": [
           "#636efa",
           "#EF553B",
           "#00cc96",
           "#ab63fa",
           "#FFA15A",
           "#19d3f3",
           "#FF6692",
           "#B6E880",
           "#FF97FF",
           "#FECB52"
          ],
          "font": {
           "color": "#2a3f5f"
          },
          "geo": {
           "bgcolor": "white",
           "lakecolor": "white",
           "landcolor": "white",
           "showlakes": true,
           "showland": true,
           "subunitcolor": "#C8D4E3"
          },
          "hoverlabel": {
           "align": "left"
          },
          "hovermode": "closest",
          "mapbox": {
           "style": "light"
          },
          "paper_bgcolor": "white",
          "plot_bgcolor": "white",
          "polar": {
           "angularaxis": {
            "gridcolor": "#EBF0F8",
            "linecolor": "#EBF0F8",
            "ticks": ""
           },
           "bgcolor": "white",
           "radialaxis": {
            "gridcolor": "#EBF0F8",
            "linecolor": "#EBF0F8",
            "ticks": ""
           }
          },
          "scene": {
           "xaxis": {
            "backgroundcolor": "white",
            "gridcolor": "#DFE8F3",
            "gridwidth": 2,
            "linecolor": "#EBF0F8",
            "showbackground": true,
            "ticks": "",
            "zerolinecolor": "#EBF0F8"
           },
           "yaxis": {
            "backgroundcolor": "white",
            "gridcolor": "#DFE8F3",
            "gridwidth": 2,
            "linecolor": "#EBF0F8",
            "showbackground": true,
            "ticks": "",
            "zerolinecolor": "#EBF0F8"
           },
           "zaxis": {
            "backgroundcolor": "white",
            "gridcolor": "#DFE8F3",
            "gridwidth": 2,
            "linecolor": "#EBF0F8",
            "showbackground": true,
            "ticks": "",
            "zerolinecolor": "#EBF0F8"
           }
          },
          "shapedefaults": {
           "line": {
            "color": "#2a3f5f"
           }
          },
          "ternary": {
           "aaxis": {
            "gridcolor": "#DFE8F3",
            "linecolor": "#A2B1C6",
            "ticks": ""
           },
           "baxis": {
            "gridcolor": "#DFE8F3",
            "linecolor": "#A2B1C6",
            "ticks": ""
           },
           "bgcolor": "white",
           "caxis": {
            "gridcolor": "#DFE8F3",
            "linecolor": "#A2B1C6",
            "ticks": ""
           }
          },
          "title": {
           "x": 0.05
          },
          "xaxis": {
           "automargin": true,
           "gridcolor": "#EBF0F8",
           "linecolor": "#EBF0F8",
           "ticks": "",
           "zerolinecolor": "#EBF0F8",
           "zerolinewidth": 2
          },
          "yaxis": {
           "automargin": true,
           "gridcolor": "#EBF0F8",
           "linecolor": "#EBF0F8",
           "ticks": "",
           "zerolinecolor": "#EBF0F8",
           "zerolinewidth": 2
          }
         }
        },
        "title": {
         "text": "Overall Rating of the Facility (scale from 0 lowest to 10 highest)"
        },
        "xaxis": {
         "title": {
          "text": "response"
         }
        },
        "yaxis": {
         "title": {
          "text": "proportion of patients"
         }
        }
       }
      },
      "text/html": [
       "<div>\n",
       "        \n",
       "        \n",
       "            <div id=\"94d1d889-2cc0-4d7c-abce-8e186991db3d\" class=\"plotly-graph-div\" style=\"height:525px; width:100%;\"></div>\n",
       "            <script type=\"text/javascript\">\n",
       "                require([\"plotly\"], function(Plotly) {\n",
       "                    window.PLOTLYENV=window.PLOTLYENV || {};\n",
       "                    \n",
       "                if (document.getElementById(\"94d1d889-2cc0-4d7c-abce-8e186991db3d\")) {\n",
       "                    Plotly.newPlot(\n",
       "                        '94d1d889-2cc0-4d7c-abce-8e186991db3d',\n",
       "                        [{\"boxpoints\": \"all\", \"hoverinfo\": \"text\", \"hovertext\": [\"AK\", \"AL\", \"AR\", \"AZ\", \"CA\", \"CO\", \"CT\", \"DC\", \"DE\", \"FL\", \"GA\", \"HI\", \"IA\", \"ID\", \"IL\", \"IN\", \"KS\", \"KY\", \"LA\", \"MA\", \"MD\", \"ME\", \"MI\", \"MN\", \"MO\", \"MS\", \"MT\", \"NC\", \"ND\", \"NE\", \"NH\", \"NJ\", \"NM\", \"NV\", \"NY\", \"OH\", \"OK\", \"OR\", \"PA\", \"RI\", \"SC\", \"SD\", \"TN\", \"TX\", \"UT\", \"VA\", \"VT\", \"WA\", \"WI\", \"WV\", \"WY\", \"AK\", \"AL\", \"AR\", \"AZ\", \"CA\", \"CO\", \"CT\", \"DC\", \"DE\", \"FL\", \"GA\", \"HI\", \"IA\", \"ID\", \"IL\", \"IN\", \"KS\", \"KY\", \"LA\", \"MA\", \"MD\", \"ME\", \"MI\", \"MN\", \"MO\", \"MS\", \"MT\", \"NC\", \"ND\", \"NE\", \"NH\", \"NJ\", \"NM\", \"NV\", \"NY\", \"OH\", \"OK\", \"OR\", \"PA\", \"RI\", \"SC\", \"SD\", \"TN\", \"TX\", \"UT\", \"VA\", \"VT\", \"WA\", \"WI\", \"WV\", \"WY\", \"AK\", \"AL\", \"AR\", \"AZ\", \"CA\", \"CO\", \"CT\", \"DC\", \"DE\", \"FL\", \"GA\", \"HI\", \"IA\", \"ID\", \"IL\", \"IN\", \"KS\", \"KY\", \"LA\", \"MA\", \"MD\", \"ME\", \"MI\", \"MN\", \"MO\", \"MS\", \"MT\", \"NC\", \"ND\", \"NE\", \"NH\", \"NJ\", \"NM\", \"NV\", \"NY\", \"OH\", \"OK\", \"OR\", \"PA\", \"RI\", \"SC\", \"SD\", \"TN\", \"TX\", \"UT\", \"VA\", \"VT\", \"WA\", \"WI\", \"WV\", \"WY\"], \"jitter\": 0.5, \"type\": \"box\", \"width\": 0.3, \"x\": [\"0-6\", \"0-6\", \"0-6\", \"0-6\", \"0-6\", \"0-6\", \"0-6\", \"0-6\", \"0-6\", \"0-6\", \"0-6\", \"0-6\", \"0-6\", \"0-6\", \"0-6\", \"0-6\", \"0-6\", \"0-6\", \"0-6\", \"0-6\", \"0-6\", \"0-6\", \"0-6\", \"0-6\", \"0-6\", \"0-6\", \"0-6\", \"0-6\", \"0-6\", \"0-6\", \"0-6\", \"0-6\", \"0-6\", \"0-6\", \"0-6\", \"0-6\", \"0-6\", \"0-6\", \"0-6\", \"0-6\", \"0-6\", \"0-6\", \"0-6\", \"0-6\", \"0-6\", \"0-6\", \"0-6\", \"0-6\", \"0-6\", \"0-6\", \"0-6\", \"7-8\", \"7-8\", \"7-8\", \"7-8\", \"7-8\", \"7-8\", \"7-8\", \"7-8\", \"7-8\", \"7-8\", \"7-8\", \"7-8\", \"7-8\", \"7-8\", \"7-8\", \"7-8\", \"7-8\", \"7-8\", \"7-8\", \"7-8\", \"7-8\", \"7-8\", \"7-8\", \"7-8\", \"7-8\", \"7-8\", \"7-8\", \"7-8\", \"7-8\", \"7-8\", \"7-8\", \"7-8\", \"7-8\", \"7-8\", \"7-8\", \"7-8\", \"7-8\", \"7-8\", \"7-8\", \"7-8\", \"7-8\", \"7-8\", \"7-8\", \"7-8\", \"7-8\", \"7-8\", \"7-8\", \"7-8\", \"7-8\", \"7-8\", \"7-8\", \"9-10\", \"9-10\", \"9-10\", \"9-10\", \"9-10\", \"9-10\", \"9-10\", \"9-10\", \"9-10\", \"9-10\", \"9-10\", \"9-10\", \"9-10\", \"9-10\", \"9-10\", \"9-10\", \"9-10\", \"9-10\", \"9-10\", \"9-10\", \"9-10\", \"9-10\", \"9-10\", \"9-10\", \"9-10\", \"9-10\", \"9-10\", \"9-10\", \"9-10\", \"9-10\", \"9-10\", \"9-10\", \"9-10\", \"9-10\", \"9-10\", \"9-10\", \"9-10\", \"9-10\", \"9-10\", \"9-10\", \"9-10\", \"9-10\", \"9-10\", \"9-10\", \"9-10\", \"9-10\", \"9-10\", \"9-10\", \"9-10\", \"9-10\", \"9-10\"], \"y\": [0.010666666666666666, 0.008807733619763695, 0.009468317552804079, 0.003937007874015748, 0.0051533742331288344, 0.0033141033509267214, 0.0048543689320388345, 0.016877637130801686, 0.004987531172069825, 0.0035201877433463117, 0.0066291972906758895, 0.009523809523809525, 0.0029838600298386004, 0.0056634304207119745, 0.003966505068312032, 0.005844773684925921, 0.010222489476849068, 0.0052261306532663315, 0.007675552328596618, 0.003468208092485549, 0.005950019833399445, 0.0065581184984170055, 0.0055998880022399555, 0.003924848796808648, 0.004282994923857868, 0.013367407116178493, 0.00554462529064568, 0.002896333132958085, 0.001791044776119403, 0.00791765637371338, 0.009354536950420954, 0.006458557588805167, 0.009023789991796555, 0.010841121495327103, 0.006090984074614555, 0.0036513827367412907, 0.0035561133772617926, 0.0046875, 0.0030177484527645643, 0.00439453125, 0.006367583212735167, 0.0012453300124533001, 0.0027472527472527475, 0.0069675855801272345, 0.004067980473693726, 0.004616619831393015, 0.003250975292587776, 0.005619457371147598, 0.004052802223251505, 0.0076592564916869044, 0.00558659217877095, 0.06133333333333333, 0.03426423200859291, 0.03896576839038601, 0.02840269966254218, 0.02128834355828221, 0.016816005891739292, 0.025312066574202496, 0.09282700421940929, 0.04239401496259352, 0.01642754280228279, 0.034010664360858915, 0.07142857142857142, 0.0160043401600434, 0.02912621359223301, 0.019271605432909972, 0.03235014272121789, 0.037282020444978956, 0.026331658291457286, 0.03402136707810393, 0.028516377649325627, 0.029353431178103927, 0.033921302578018994, 0.03569928601427971, 0.023999485265731566, 0.030456852791878174, 0.03715352860231964, 0.03219459846181363, 0.018033772337286192, 0.01253731343283582, 0.04908946951702296, 0.05519176800748363, 0.024757804090419805, 0.03978671041837572, 0.05121495327102804, 0.02721908508343379, 0.018795642284209265, 0.023846877941637906, 0.03459821428571429, 0.018566825226331133, 0.0234375, 0.029522431259044864, 0.011830635118306352, 0.013486513486513486, 0.03165707361405635, 0.02287109021876695, 0.02509032517061421, 0.016905071521456438, 0.029150935112828166, 0.025937934228809634, 0.03325238184195778, 0.0446927374301676, 0.4613333333333333, 0.19323308270676692, 0.24289876183539694, 0.19263217097862767, 0.13, 0.13943782987602799, 0.17787794729542303, 0.31223628691983124, 0.20199501246882792, 0.11872633207104379, 0.21155786136330884, 0.3952380952380952, 0.10986030109860301, 0.20792880258899676, 0.14103129131776113, 0.24724751936930814, 0.25315694527961513, 0.16944723618090451, 0.2487293849185769, 0.1606936416184971, 0.20269734232447442, 0.16304839439167798, 0.2106957860842783, 0.15223265988933213, 0.17147842639593908, 0.2443483389030863, 0.17689143265963156, 0.14847805891032298, 0.04537313432835821, 0.2596991290577989, 0.2628624883068288, 0.18406889128094725, 0.2793273174733388, 0.274392523364486, 0.150688408095933, 0.12420687178259308, 0.18178014852002927, 0.20625, 0.11651577924402844, 0.16748046875, 0.1667149059334298, 0.11145703611457036, 0.09199134199134198, 0.24916691911541958, 0.15386006147170495, 0.17101565636290647, 0.10988296488946683, 0.17595925893405917, 0.17264937471051411, 0.18326172239865496, 0.22905027932960895]}],\n",
       "                        {\"template\": {\"data\": {\"bar\": [{\"error_x\": {\"color\": \"#2a3f5f\"}, \"error_y\": {\"color\": \"#2a3f5f\"}, \"marker\": {\"line\": {\"color\": \"white\", \"width\": 0.5}}, \"type\": \"bar\"}], \"barpolar\": [{\"marker\": {\"line\": {\"color\": \"white\", \"width\": 0.5}}, \"type\": \"barpolar\"}], \"carpet\": [{\"aaxis\": {\"endlinecolor\": \"#2a3f5f\", \"gridcolor\": \"#C8D4E3\", \"linecolor\": \"#C8D4E3\", \"minorgridcolor\": \"#C8D4E3\", \"startlinecolor\": \"#2a3f5f\"}, \"baxis\": {\"endlinecolor\": \"#2a3f5f\", \"gridcolor\": \"#C8D4E3\", \"linecolor\": \"#C8D4E3\", \"minorgridcolor\": \"#C8D4E3\", \"startlinecolor\": \"#2a3f5f\"}, \"type\": \"carpet\"}], \"choropleth\": [{\"colorbar\": {\"outlinewidth\": 0, \"ticks\": \"\"}, \"type\": \"choropleth\"}], \"contour\": [{\"colorbar\": {\"outlinewidth\": 0, \"ticks\": \"\"}, \"colorscale\": [[0.0, \"#0d0887\"], [0.1111111111111111, \"#46039f\"], [0.2222222222222222, \"#7201a8\"], [0.3333333333333333, \"#9c179e\"], [0.4444444444444444, \"#bd3786\"], [0.5555555555555556, \"#d8576b\"], [0.6666666666666666, \"#ed7953\"], [0.7777777777777778, \"#fb9f3a\"], [0.8888888888888888, \"#fdca26\"], [1.0, \"#f0f921\"]], \"type\": \"contour\"}], \"contourcarpet\": [{\"colorbar\": {\"outlinewidth\": 0, \"ticks\": \"\"}, \"type\": \"contourcarpet\"}], \"heatmap\": [{\"colorbar\": {\"outlinewidth\": 0, \"ticks\": \"\"}, \"colorscale\": [[0.0, \"#0d0887\"], [0.1111111111111111, \"#46039f\"], [0.2222222222222222, \"#7201a8\"], [0.3333333333333333, \"#9c179e\"], [0.4444444444444444, \"#bd3786\"], [0.5555555555555556, \"#d8576b\"], [0.6666666666666666, \"#ed7953\"], [0.7777777777777778, \"#fb9f3a\"], [0.8888888888888888, \"#fdca26\"], [1.0, \"#f0f921\"]], \"type\": \"heatmap\"}], \"heatmapgl\": [{\"colorbar\": {\"outlinewidth\": 0, \"ticks\": \"\"}, \"colorscale\": [[0.0, \"#0d0887\"], [0.1111111111111111, \"#46039f\"], [0.2222222222222222, \"#7201a8\"], [0.3333333333333333, \"#9c179e\"], [0.4444444444444444, \"#bd3786\"], [0.5555555555555556, \"#d8576b\"], [0.6666666666666666, \"#ed7953\"], [0.7777777777777778, \"#fb9f3a\"], [0.8888888888888888, \"#fdca26\"], [1.0, \"#f0f921\"]], \"type\": \"heatmapgl\"}], \"histogram\": [{\"marker\": {\"colorbar\": {\"outlinewidth\": 0, \"ticks\": \"\"}}, \"type\": \"histogram\"}], \"histogram2d\": [{\"colorbar\": {\"outlinewidth\": 0, \"ticks\": \"\"}, \"colorscale\": [[0.0, \"#0d0887\"], [0.1111111111111111, \"#46039f\"], [0.2222222222222222, \"#7201a8\"], [0.3333333333333333, \"#9c179e\"], [0.4444444444444444, \"#bd3786\"], [0.5555555555555556, \"#d8576b\"], [0.6666666666666666, \"#ed7953\"], [0.7777777777777778, \"#fb9f3a\"], [0.8888888888888888, \"#fdca26\"], [1.0, \"#f0f921\"]], \"type\": \"histogram2d\"}], \"histogram2dcontour\": [{\"colorbar\": {\"outlinewidth\": 0, \"ticks\": \"\"}, \"colorscale\": [[0.0, \"#0d0887\"], [0.1111111111111111, \"#46039f\"], [0.2222222222222222, \"#7201a8\"], [0.3333333333333333, \"#9c179e\"], [0.4444444444444444, \"#bd3786\"], [0.5555555555555556, \"#d8576b\"], [0.6666666666666666, \"#ed7953\"], [0.7777777777777778, \"#fb9f3a\"], [0.8888888888888888, \"#fdca26\"], [1.0, \"#f0f921\"]], \"type\": \"histogram2dcontour\"}], \"mesh3d\": [{\"colorbar\": {\"outlinewidth\": 0, \"ticks\": \"\"}, \"type\": \"mesh3d\"}], \"parcoords\": [{\"line\": {\"colorbar\": {\"outlinewidth\": 0, \"ticks\": \"\"}}, \"type\": \"parcoords\"}], \"scatter\": [{\"marker\": {\"colorbar\": {\"outlinewidth\": 0, \"ticks\": \"\"}}, \"type\": \"scatter\"}], \"scatter3d\": [{\"line\": {\"colorbar\": {\"outlinewidth\": 0, \"ticks\": \"\"}}, \"marker\": {\"colorbar\": {\"outlinewidth\": 0, \"ticks\": \"\"}}, \"type\": \"scatter3d\"}], \"scattercarpet\": [{\"marker\": {\"colorbar\": {\"outlinewidth\": 0, \"ticks\": \"\"}}, \"type\": \"scattercarpet\"}], \"scattergeo\": [{\"marker\": {\"colorbar\": {\"outlinewidth\": 0, \"ticks\": \"\"}}, \"type\": \"scattergeo\"}], \"scattergl\": [{\"marker\": {\"colorbar\": {\"outlinewidth\": 0, \"ticks\": \"\"}}, \"type\": \"scattergl\"}], \"scattermapbox\": [{\"marker\": {\"colorbar\": {\"outlinewidth\": 0, \"ticks\": \"\"}}, \"type\": \"scattermapbox\"}], \"scatterpolar\": [{\"marker\": {\"colorbar\": {\"outlinewidth\": 0, \"ticks\": \"\"}}, \"type\": \"scatterpolar\"}], \"scatterpolargl\": [{\"marker\": {\"colorbar\": {\"outlinewidth\": 0, \"ticks\": \"\"}}, \"type\": \"scatterpolargl\"}], \"scatterternary\": [{\"marker\": {\"colorbar\": {\"outlinewidth\": 0, \"ticks\": \"\"}}, \"type\": \"scatterternary\"}], \"surface\": [{\"colorbar\": {\"outlinewidth\": 0, \"ticks\": \"\"}, \"colorscale\": [[0.0, \"#0d0887\"], [0.1111111111111111, \"#46039f\"], [0.2222222222222222, \"#7201a8\"], [0.3333333333333333, \"#9c179e\"], [0.4444444444444444, \"#bd3786\"], [0.5555555555555556, \"#d8576b\"], [0.6666666666666666, \"#ed7953\"], [0.7777777777777778, \"#fb9f3a\"], [0.8888888888888888, \"#fdca26\"], [1.0, \"#f0f921\"]], \"type\": \"surface\"}], \"table\": [{\"cells\": {\"fill\": {\"color\": \"#EBF0F8\"}, \"line\": {\"color\": \"white\"}}, \"header\": {\"fill\": {\"color\": \"#C8D4E3\"}, \"line\": {\"color\": \"white\"}}, \"type\": \"table\"}]}, \"layout\": {\"annotationdefaults\": {\"arrowcolor\": \"#2a3f5f\", \"arrowhead\": 0, \"arrowwidth\": 1}, \"colorscale\": {\"diverging\": [[0, \"#8e0152\"], [0.1, \"#c51b7d\"], [0.2, \"#de77ae\"], [0.3, \"#f1b6da\"], [0.4, \"#fde0ef\"], [0.5, \"#f7f7f7\"], [0.6, \"#e6f5d0\"], [0.7, \"#b8e186\"], [0.8, \"#7fbc41\"], [0.9, \"#4d9221\"], [1, \"#276419\"]], \"sequential\": [[0.0, \"#0d0887\"], [0.1111111111111111, \"#46039f\"], [0.2222222222222222, \"#7201a8\"], [0.3333333333333333, \"#9c179e\"], [0.4444444444444444, \"#bd3786\"], [0.5555555555555556, \"#d8576b\"], [0.6666666666666666, \"#ed7953\"], [0.7777777777777778, \"#fb9f3a\"], [0.8888888888888888, \"#fdca26\"], [1.0, \"#f0f921\"]], \"sequentialminus\": [[0.0, \"#0d0887\"], [0.1111111111111111, \"#46039f\"], [0.2222222222222222, \"#7201a8\"], [0.3333333333333333, \"#9c179e\"], [0.4444444444444444, \"#bd3786\"], [0.5555555555555556, \"#d8576b\"], [0.6666666666666666, \"#ed7953\"], [0.7777777777777778, \"#fb9f3a\"], [0.8888888888888888, \"#fdca26\"], [1.0, \"#f0f921\"]]}, \"colorway\": [\"#636efa\", \"#EF553B\", \"#00cc96\", \"#ab63fa\", \"#FFA15A\", \"#19d3f3\", \"#FF6692\", \"#B6E880\", \"#FF97FF\", \"#FECB52\"], \"font\": {\"color\": \"#2a3f5f\"}, \"geo\": {\"bgcolor\": \"white\", \"lakecolor\": \"white\", \"landcolor\": \"white\", \"showlakes\": true, \"showland\": true, \"subunitcolor\": \"#C8D4E3\"}, \"hoverlabel\": {\"align\": \"left\"}, \"hovermode\": \"closest\", \"mapbox\": {\"style\": \"light\"}, \"paper_bgcolor\": \"white\", \"plot_bgcolor\": \"white\", \"polar\": {\"angularaxis\": {\"gridcolor\": \"#EBF0F8\", \"linecolor\": \"#EBF0F8\", \"ticks\": \"\"}, \"bgcolor\": \"white\", \"radialaxis\": {\"gridcolor\": \"#EBF0F8\", \"linecolor\": \"#EBF0F8\", \"ticks\": \"\"}}, \"scene\": {\"xaxis\": {\"backgroundcolor\": \"white\", \"gridcolor\": \"#DFE8F3\", \"gridwidth\": 2, \"linecolor\": \"#EBF0F8\", \"showbackground\": true, \"ticks\": \"\", \"zerolinecolor\": \"#EBF0F8\"}, \"yaxis\": {\"backgroundcolor\": \"white\", \"gridcolor\": \"#DFE8F3\", \"gridwidth\": 2, \"linecolor\": \"#EBF0F8\", \"showbackground\": true, \"ticks\": \"\", \"zerolinecolor\": \"#EBF0F8\"}, \"zaxis\": {\"backgroundcolor\": \"white\", \"gridcolor\": \"#DFE8F3\", \"gridwidth\": 2, \"linecolor\": \"#EBF0F8\", \"showbackground\": true, \"ticks\": \"\", \"zerolinecolor\": \"#EBF0F8\"}}, \"shapedefaults\": {\"line\": {\"color\": \"#2a3f5f\"}}, \"ternary\": {\"aaxis\": {\"gridcolor\": \"#DFE8F3\", \"linecolor\": \"#A2B1C6\", \"ticks\": \"\"}, \"baxis\": {\"gridcolor\": \"#DFE8F3\", \"linecolor\": \"#A2B1C6\", \"ticks\": \"\"}, \"bgcolor\": \"white\", \"caxis\": {\"gridcolor\": \"#DFE8F3\", \"linecolor\": \"#A2B1C6\", \"ticks\": \"\"}}, \"title\": {\"x\": 0.05}, \"xaxis\": {\"automargin\": true, \"gridcolor\": \"#EBF0F8\", \"linecolor\": \"#EBF0F8\", \"ticks\": \"\", \"zerolinecolor\": \"#EBF0F8\", \"zerolinewidth\": 2}, \"yaxis\": {\"automargin\": true, \"gridcolor\": \"#EBF0F8\", \"linecolor\": \"#EBF0F8\", \"ticks\": \"\", \"zerolinecolor\": \"#EBF0F8\", \"zerolinewidth\": 2}}}, \"title\": {\"text\": \"Overall Rating of the Facility (scale from 0 lowest to 10 highest)\"}, \"xaxis\": {\"title\": {\"text\": \"response\"}}, \"yaxis\": {\"title\": {\"text\": \"proportion of patients\"}}},\n",
       "                        {\"responsive\": true}\n",
       "                    ).then(function(){\n",
       "                            \n",
       "var gd = document.getElementById('94d1d889-2cc0-4d7c-abce-8e186991db3d');\n",
       "var x = new MutationObserver(function (mutations, observer) {{\n",
       "        var display = window.getComputedStyle(gd).display;\n",
       "        if (!display || display === 'none') {{\n",
       "            console.log([gd, 'removed!']);\n",
       "            Plotly.purge(gd);\n",
       "            observer.disconnect();\n",
       "        }}\n",
       "}});\n",
       "\n",
       "// Listen for the removal of the full notebook cells\n",
       "var notebookContainer = gd.closest('#notebook-container');\n",
       "if (notebookContainer) {{\n",
       "    x.observe(notebookContainer, {childList: true});\n",
       "}}\n",
       "\n",
       "// Listen for the clearing of the current output cell\n",
       "var outputEl = gd.closest('.output');\n",
       "if (outputEl) {{\n",
       "    x.observe(outputEl, {childList: true});\n",
       "}}\n",
       "\n",
       "                        })\n",
       "                };\n",
       "                });\n",
       "            </script>\n",
       "        </div>"
      ]
     },
     "metadata": {},
     "output_type": "display_data"
    }
   ],
   "source": [
    "# Get statewide count sums\n",
    "grp_df=grp_df.groupby(by='state').sum().reset_index()\n",
    "\n",
    "\n",
    "def plot_resp_by_state(columns, names, graphTitle):\n",
    "    \"\"\"Plots the proportion of patients who gave each response to a survey question\n",
    "    args:\n",
    "    columns = bracketed list of column names\n",
    "    names = bracketed list of column names to-be\n",
    "    graphTilte = string\"\"\"\n",
    "\n",
    "    # create dict of current and to-be column names \n",
    "    name_dict={}\n",
    "\n",
    "    for i, col in enumerate(columns):\n",
    "        name_dict[col]=names[i]\n",
    "    \n",
    "    # add the following two columns to column list\n",
    "    col_list=['state','number_of_completed_surveys']\n",
    "    col_list.extend(columns)\n",
    "\n",
    "    # create new df from grp_df and rename columns\n",
    "    df=grp_df[col_list].rename(columns=name_dict)\n",
    "\n",
    "    # change measure from count to proportion of total surveyed patients\n",
    "    l=len(col_list)\n",
    "    df.iloc[:,2:l]=df.values[:,2:l]/df.values[:,1,None]\n",
    "\n",
    "    # restructure DataFrame\n",
    "    df=df.melt(id_vars='state', value_vars=names, var_name='rating', value_name='proportion of patients')\n",
    "\n",
    "    # create plot\n",
    "    fig = go.Figure(data=[go.Box(x=df['rating'], y=df['proportion of patients'], boxpoints='all', jitter=0.5, width=.3, hoverinfo='text', hovertext=comm_df['state'])])\n",
    "    fig.update_layout(title_text=graphTitle, template=\"plotly_white\")\n",
    "    fig.update_xaxes(title_text=\"response\")\n",
    "    fig.update_yaxes(title_text=\"proportion of patients\")\n",
    "    fig.show()\n",
    "\n",
    "\n",
    "# create a list of column lists, a list of name lists, and a list of graph ttiles for 4 measures\n",
    "\n",
    "columns=[['patients_who_reported_that_staff_did_not_communicate_about_what_to_expect_during_and_after_the_procedure','patients_who_reported_that_staff_somewhat_communicated_about_what_to_expect_during_and_after_the_procedure', 'patients_who_reported_that_staff_definitely_communicated_about_what_to_expect_during_and_after_the_procedure'],\n",
    "['patients_who_reported_no_they_would_not_recommend_the_facility_to_family_or_friends','patients_who_reported_probably_yes_they_would_recommend_the_facility_to_family_or_friends','patients_who_reported_yes_they_would_definitely_recommend_the_facility_to_family_or_friends'],\n",
    "['patients_who_reported_that_staff_did_not_give_care_in_a_professional_way_or_the_facility_was_not_clean','patients_who_reported_that_staff_somewhat_gave_care_in_a_professional_way_or_the_facility_was_somewhat_clean','patients_who_reported_that_staff_definitely_gave_care_in_a_professional_way_and_the_facility_was_clean'],\n",
    "['patients_who_gave_the_facility_a_rating_of_0_to_6_on_a_scale_from_0_lowest_to_10_highest','patients_who_gave_the_facility_a_rating_of_7_or_8_on_a_scale_from_0_lowest_to_10_highest','patients_who_gave_the_facility_a_rating_of_9_or_10_on_a_scale_from_0_lowest_to_10_highest']]\n",
    "names_list=[['not at all', 'somewhat', 'definitely'],\n",
    "['no','probably', 'yes definitely'],\n",
    "['not at all', 'somewhat', 'definitely'],\n",
    "['0-6','7-8','9-10']]\n",
    "graphTitle_list=[\"Patient Ratings of Staff Communication about the Procedure\", \"Patient Ratings of If They Would Recommend the Facility\", \"Patient Ratings of Professional Care and Facility Cleanliness\",\"Overall Rating of the Facility (scale from 0 lowest to 10 highest)\"]\n",
    "\n",
    "\n",
    "# plot each of 4 measures\n",
    "\n",
    "for i, o in enumerate(columns):\n",
    "    columns=o\n",
    "    names=names_list[i]\n",
    "    graphTitle=graphTitle_list[i]\n",
    "    plot_resp_by_state(columns, names, graphTitle)\n"
   ]
  },
  {
   "cell_type": "code",
   "execution_count": 65,
   "metadata": {},
   "outputs": [
    {
     "data": {
      "image/png": "[encoded data removed]",
      "text/plain": [
       "<Figure size 432x432 with 12 Axes>"
      ]
     },
     "metadata": {},
     "output_type": "display_data"
    }
   ],
   "source": [
    "plt_df = mergedMUA_df\n",
    "d = sns.pairplot(plt_df, height = 2, vars=['patients_rating_of_the_facility_linear_mean_score', 'patients_recommending_the_facility_linear_mean_score', 'communication_about_your_procedure_linear_mean_score'], )\n",
    "replacements = {'communication_about_your_procedure_linear_mean_score': 'communication', 'patients_recommending_the_facility_linear_mean_score': 'recommendation', 'patients_rating_of_the_facility_linear_mean_score': 'overall rating'}\n",
    "for i in range(3):\n",
    "    for j in range(3):\n",
    "        xlabel = d.axes[i][j].get_xlabel()\n",
    "        ylabel = d.axes[i][j].get_ylabel()\n",
    "        if xlabel in replacements.keys():\n",
    "            d.axes[i][j].set_xlabel(replacements[xlabel])\n",
    "        if ylabel in replacements.keys():\n",
    "            d.axes[i][j].set_ylabel(replacements[ylabel])"
   ]
  },
  {
   "cell_type": "code",
   "execution_count": 70,
   "metadata": {},
   "outputs": [
    {
     "data": {
      "text/plain": [
       "<matplotlib.legend.Legend at 0x12067c748>"
      ]
     },
     "execution_count": 70,
     "metadata": {},
     "output_type": "execute_result"
    },
    {
     "data": {
      "image/png": "[encoded data removed]",
      "text/plain": [
       "<Figure size 432x288 with 1 Axes>"
      ]
     },
     "metadata": {},
     "output_type": "display_data"
    }
   ],
   "source": [
    "sns.set_style('white')\n",
    "sns.set_style('ticks')\n",
    "a = sns.scatterplot(data = plt_df, x = \"rate_of_readmission\", y = \"patients_rating_of_the_facility_linear_mean_score\", hue = \"is-MUA?\",  palette=[\"#9b59b6\", \"#3498db\"])\n",
    "sns.despine()\n",
    "a.xaxis.set_major_locator(ticker.MultipleLocator(1))\n",
    "plt.xlabel(\"Readmission Rate\")\n",
    "plt.ylabel(\"Patients' Mean Rating of the Facility\")\n",
    "custom = [Line2D([], [], marker='.', color=\"#9b59b6\", linestyle='None'),Line2D([], [], marker='.', color=\"#3498db\", linestyle='None')]\n",
    "plt.legend(custom, ['MUA', 'Not MUA'], loc='lower right')\n"
   ]
  },
  {
   "cell_type": "code",
   "execution_count": 166,
   "metadata": {},
   "outputs": [
    {
     "ename": "KeyError",
     "evalue": "False",
     "output_type": "error",
     "traceback": [
      "\u001b[0;31m---------------------------------------------------------------------------\u001b[0m",
      "\u001b[0;31mKeyError\u001b[0m                                  Traceback (most recent call last)",
      "\u001b[0;32m~/anaconda3/lib/python3.7/site-packages/pandas/core/indexes/base.py\u001b[0m in \u001b[0;36mget_loc\u001b[0;34m(self, key, method, tolerance)\u001b[0m\n\u001b[1;32m   2656\u001b[0m             \u001b[0;32mtry\u001b[0m\u001b[0;34m:\u001b[0m\u001b[0;34m\u001b[0m\u001b[0;34m\u001b[0m\u001b[0m\n\u001b[0;32m-> 2657\u001b[0;31m                 \u001b[0;32mreturn\u001b[0m \u001b[0mself\u001b[0m\u001b[0;34m.\u001b[0m\u001b[0m_engine\u001b[0m\u001b[0;34m.\u001b[0m\u001b[0mget_loc\u001b[0m\u001b[0;34m(\u001b[0m\u001b[0mkey\u001b[0m\u001b[0;34m)\u001b[0m\u001b[0;34m\u001b[0m\u001b[0;34m\u001b[0m\u001b[0m\n\u001b[0m\u001b[1;32m   2658\u001b[0m             \u001b[0;32mexcept\u001b[0m \u001b[0mKeyError\u001b[0m\u001b[0;34m:\u001b[0m\u001b[0;34m\u001b[0m\u001b[0;34m\u001b[0m\u001b[0m\n",
      "\u001b[0;32mpandas/_libs/index.pyx\u001b[0m in \u001b[0;36mpandas._libs.index.IndexEngine.get_loc\u001b[0;34m()\u001b[0m\n",
      "\u001b[0;32mpandas/_libs/index.pyx\u001b[0m in \u001b[0;36mpandas._libs.index.IndexEngine.get_loc\u001b[0;34m()\u001b[0m\n",
      "\u001b[0;32mpandas/_libs/hashtable_class_helper.pxi\u001b[0m in \u001b[0;36mpandas._libs.hashtable.PyObjectHashTable.get_item\u001b[0;34m()\u001b[0m\n",
      "\u001b[0;32mpandas/_libs/hashtable_class_helper.pxi\u001b[0m in \u001b[0;36mpandas._libs.hashtable.PyObjectHashTable.get_item\u001b[0;34m()\u001b[0m\n",
      "\u001b[0;31mKeyError\u001b[0m: False",
      "\nDuring handling of the above exception, another exception occurred:\n",
      "\u001b[0;31mKeyError\u001b[0m                                  Traceback (most recent call last)",
      "\u001b[0;32m<ipython-input-166-846c794c826f>\u001b[0m in \u001b[0;36m<module>\u001b[0;34m\u001b[0m\n\u001b[1;32m      1\u001b[0m \u001b[0mplt_df\u001b[0m \u001b[0;34m=\u001b[0m \u001b[0mmergedMUA_df\u001b[0m\u001b[0;34m\u001b[0m\u001b[0;34m\u001b[0m\u001b[0m\n\u001b[0;32m----> 2\u001b[0;31m \u001b[0mtrace1\u001b[0m\u001b[0;34m=\u001b[0m\u001b[0mgo\u001b[0m\u001b[0;34m.\u001b[0m\u001b[0mScattergl\u001b[0m\u001b[0;34m(\u001b[0m\u001b[0mx\u001b[0m\u001b[0;34m=\u001b[0m\u001b[0mplt_df\u001b[0m\u001b[0;34m[\u001b[0m\u001b[0mplt_df\u001b[0m\u001b[0;34m[\u001b[0m\u001b[0;34m'is-MUA?'\u001b[0m\u001b[0;34m==\u001b[0m\u001b[0;34m'Yes'\u001b[0m\u001b[0;34m]\u001b[0m\u001b[0;34m]\u001b[0m\u001b[0;34m.\u001b[0m\u001b[0mrate_of_readmission\u001b[0m\u001b[0;34m,\u001b[0m \u001b[0my\u001b[0m \u001b[0;34m=\u001b[0m \u001b[0mplt_df\u001b[0m\u001b[0;34m[\u001b[0m\u001b[0mplt_df\u001b[0m\u001b[0;34m[\u001b[0m\u001b[0;34m'is-MUA?'\u001b[0m\u001b[0;34m==\u001b[0m\u001b[0;34m'Yes'\u001b[0m\u001b[0;34m]\u001b[0m\u001b[0;34m]\u001b[0m\u001b[0;34m.\u001b[0m\u001b[0mpatients_rating_of_the_facility_linear_mean_score\u001b[0m\u001b[0;34m,\u001b[0m \u001b[0mmode\u001b[0m\u001b[0;34m=\u001b[0m\u001b[0;34m'markers'\u001b[0m\u001b[0;34m,\u001b[0m \u001b[0mhoverinfo\u001b[0m\u001b[0;34m=\u001b[0m\u001b[0;34m\"text\"\u001b[0m\u001b[0;34m,\u001b[0m \u001b[0mhovertext\u001b[0m\u001b[0;34m=\u001b[0m\u001b[0mplt_df\u001b[0m\u001b[0;34m.\u001b[0m\u001b[0mfacility_name\u001b[0m  \u001b[0;34m+\u001b[0m \u001b[0mplt_df\u001b[0m\u001b[0;34m.\u001b[0m\u001b[0maddress\u001b[0m \u001b[0;34m)\u001b[0m\u001b[0;34m\u001b[0m\u001b[0;34m\u001b[0m\u001b[0m\n\u001b[0m\u001b[1;32m      3\u001b[0m \u001b[0mfig\u001b[0m \u001b[0;34m=\u001b[0m \u001b[0mgo\u001b[0m\u001b[0;34m.\u001b[0m\u001b[0mFigure\u001b[0m\u001b[0;34m(\u001b[0m\u001b[0mdata\u001b[0m\u001b[0;34m=\u001b[0m\u001b[0;34m[\u001b[0m\u001b[0mgo\u001b[0m\u001b[0;34m.\u001b[0m\u001b[0mScattergl\u001b[0m\u001b[0;34m(\u001b[0m\u001b[0mx\u001b[0m \u001b[0;34m=\u001b[0m \u001b[0mplt_df\u001b[0m\u001b[0;34m[\u001b[0m\u001b[0;34m'rate_of_readmission'\u001b[0m\u001b[0;34m]\u001b[0m\u001b[0;34m,\u001b[0m \u001b[0my\u001b[0m \u001b[0;34m=\u001b[0m \u001b[0mplt_df\u001b[0m\u001b[0;34m[\u001b[0m\u001b[0;34m'patients_rating_of_the_facility_linear_mean_score'\u001b[0m\u001b[0;34m]\u001b[0m\u001b[0;34m,\u001b[0m \u001b[0mmode\u001b[0m\u001b[0;34m=\u001b[0m\u001b[0;34m'markers'\u001b[0m\u001b[0;34m,\u001b[0m \u001b[0mhoverinfo\u001b[0m\u001b[0;34m=\u001b[0m\u001b[0;34m\"text\"\u001b[0m\u001b[0;34m,\u001b[0m \u001b[0mhovertext\u001b[0m\u001b[0;34m=\u001b[0m\u001b[0;34m[\u001b[0m\u001b[0mplt_df\u001b[0m\u001b[0;34m.\u001b[0m\u001b[0mfacility_name\u001b[0m \u001b[0;34m+\u001b[0m \u001b[0;34m','\u001b[0m \u001b[0;34m+\u001b[0m \u001b[0mplt_df\u001b[0m\u001b[0;34m.\u001b[0m\u001b[0maddress\u001b[0m\u001b[0;34m]\u001b[0m\u001b[0;34m)\u001b[0m\u001b[0;34m]\u001b[0m\u001b[0;34m)\u001b[0m\u001b[0;34m\u001b[0m\u001b[0;34m\u001b[0m\u001b[0m\n\u001b[1;32m      4\u001b[0m \u001b[0mfig\u001b[0m\u001b[0;34m.\u001b[0m\u001b[0mupdate_layout\u001b[0m\u001b[0;34m(\u001b[0m\u001b[0mtemplate\u001b[0m\u001b[0;34m=\u001b[0m\u001b[0;34m\"plotly_white\"\u001b[0m\u001b[0;34m)\u001b[0m\u001b[0;34m\u001b[0m\u001b[0;34m\u001b[0m\u001b[0m\n\u001b[1;32m      5\u001b[0m \u001b[0mfig\u001b[0m\u001b[0;34m.\u001b[0m\u001b[0mupdate_xaxes\u001b[0m\u001b[0;34m(\u001b[0m\u001b[0mtitle_text\u001b[0m\u001b[0;34m=\u001b[0m\u001b[0;34m\"Readmission Rate\"\u001b[0m\u001b[0;34m)\u001b[0m\u001b[0;34m\u001b[0m\u001b[0;34m\u001b[0m\u001b[0m\n",
      "\u001b[0;32m~/anaconda3/lib/python3.7/site-packages/pandas/core/frame.py\u001b[0m in \u001b[0;36m__getitem__\u001b[0;34m(self, key)\u001b[0m\n\u001b[1;32m   2925\u001b[0m             \u001b[0;32mif\u001b[0m \u001b[0mself\u001b[0m\u001b[0;34m.\u001b[0m\u001b[0mcolumns\u001b[0m\u001b[0;34m.\u001b[0m\u001b[0mnlevels\u001b[0m \u001b[0;34m>\u001b[0m \u001b[0;36m1\u001b[0m\u001b[0;34m:\u001b[0m\u001b[0;34m\u001b[0m\u001b[0;34m\u001b[0m\u001b[0m\n\u001b[1;32m   2926\u001b[0m                 \u001b[0;32mreturn\u001b[0m \u001b[0mself\u001b[0m\u001b[0;34m.\u001b[0m\u001b[0m_getitem_multilevel\u001b[0m\u001b[0;34m(\u001b[0m\u001b[0mkey\u001b[0m\u001b[0;34m)\u001b[0m\u001b[0;34m\u001b[0m\u001b[0;34m\u001b[0m\u001b[0m\n\u001b[0;32m-> 2927\u001b[0;31m             \u001b[0mindexer\u001b[0m \u001b[0;34m=\u001b[0m \u001b[0mself\u001b[0m\u001b[0;34m.\u001b[0m\u001b[0mcolumns\u001b[0m\u001b[0;34m.\u001b[0m\u001b[0mget_loc\u001b[0m\u001b[0;34m(\u001b[0m\u001b[0mkey\u001b[0m\u001b[0;34m)\u001b[0m\u001b[0;34m\u001b[0m\u001b[0;34m\u001b[0m\u001b[0m\n\u001b[0m\u001b[1;32m   2928\u001b[0m             \u001b[0;32mif\u001b[0m \u001b[0mis_integer\u001b[0m\u001b[0;34m(\u001b[0m\u001b[0mindexer\u001b[0m\u001b[0;34m)\u001b[0m\u001b[0;34m:\u001b[0m\u001b[0;34m\u001b[0m\u001b[0;34m\u001b[0m\u001b[0m\n\u001b[1;32m   2929\u001b[0m                 \u001b[0mindexer\u001b[0m \u001b[0;34m=\u001b[0m \u001b[0;34m[\u001b[0m\u001b[0mindexer\u001b[0m\u001b[0;34m]\u001b[0m\u001b[0;34m\u001b[0m\u001b[0;34m\u001b[0m\u001b[0m\n",
      "\u001b[0;32m~/anaconda3/lib/python3.7/site-packages/pandas/core/indexes/base.py\u001b[0m in \u001b[0;36mget_loc\u001b[0;34m(self, key, method, tolerance)\u001b[0m\n\u001b[1;32m   2657\u001b[0m                 \u001b[0;32mreturn\u001b[0m \u001b[0mself\u001b[0m\u001b[0;34m.\u001b[0m\u001b[0m_engine\u001b[0m\u001b[0;34m.\u001b[0m\u001b[0mget_loc\u001b[0m\u001b[0;34m(\u001b[0m\u001b[0mkey\u001b[0m\u001b[0;34m)\u001b[0m\u001b[0;34m\u001b[0m\u001b[0;34m\u001b[0m\u001b[0m\n\u001b[1;32m   2658\u001b[0m             \u001b[0;32mexcept\u001b[0m \u001b[0mKeyError\u001b[0m\u001b[0;34m:\u001b[0m\u001b[0;34m\u001b[0m\u001b[0;34m\u001b[0m\u001b[0m\n\u001b[0;32m-> 2659\u001b[0;31m                 \u001b[0;32mreturn\u001b[0m \u001b[0mself\u001b[0m\u001b[0;34m.\u001b[0m\u001b[0m_engine\u001b[0m\u001b[0;34m.\u001b[0m\u001b[0mget_loc\u001b[0m\u001b[0;34m(\u001b[0m\u001b[0mself\u001b[0m\u001b[0;34m.\u001b[0m\u001b[0m_maybe_cast_indexer\u001b[0m\u001b[0;34m(\u001b[0m\u001b[0mkey\u001b[0m\u001b[0;34m)\u001b[0m\u001b[0;34m)\u001b[0m\u001b[0;34m\u001b[0m\u001b[0;34m\u001b[0m\u001b[0m\n\u001b[0m\u001b[1;32m   2660\u001b[0m         \u001b[0mindexer\u001b[0m \u001b[0;34m=\u001b[0m \u001b[0mself\u001b[0m\u001b[0;34m.\u001b[0m\u001b[0mget_indexer\u001b[0m\u001b[0;34m(\u001b[0m\u001b[0;34m[\u001b[0m\u001b[0mkey\u001b[0m\u001b[0;34m]\u001b[0m\u001b[0;34m,\u001b[0m \u001b[0mmethod\u001b[0m\u001b[0;34m=\u001b[0m\u001b[0mmethod\u001b[0m\u001b[0;34m,\u001b[0m \u001b[0mtolerance\u001b[0m\u001b[0;34m=\u001b[0m\u001b[0mtolerance\u001b[0m\u001b[0;34m)\u001b[0m\u001b[0;34m\u001b[0m\u001b[0;34m\u001b[0m\u001b[0m\n\u001b[1;32m   2661\u001b[0m         \u001b[0;32mif\u001b[0m \u001b[0mindexer\u001b[0m\u001b[0;34m.\u001b[0m\u001b[0mndim\u001b[0m \u001b[0;34m>\u001b[0m \u001b[0;36m1\u001b[0m \u001b[0;32mor\u001b[0m \u001b[0mindexer\u001b[0m\u001b[0;34m.\u001b[0m\u001b[0msize\u001b[0m \u001b[0;34m>\u001b[0m \u001b[0;36m1\u001b[0m\u001b[0;34m:\u001b[0m\u001b[0;34m\u001b[0m\u001b[0;34m\u001b[0m\u001b[0m\n",
      "\u001b[0;32mpandas/_libs/index.pyx\u001b[0m in \u001b[0;36mpandas._libs.index.IndexEngine.get_loc\u001b[0;34m()\u001b[0m\n",
      "\u001b[0;32mpandas/_libs/index.pyx\u001b[0m in \u001b[0;36mpandas._libs.index.IndexEngine.get_loc\u001b[0;34m()\u001b[0m\n",
      "\u001b[0;32mpandas/_libs/hashtable_class_helper.pxi\u001b[0m in \u001b[0;36mpandas._libs.hashtable.PyObjectHashTable.get_item\u001b[0;34m()\u001b[0m\n",
      "\u001b[0;32mpandas/_libs/hashtable_class_helper.pxi\u001b[0m in \u001b[0;36mpandas._libs.hashtable.PyObjectHashTable.get_item\u001b[0;34m()\u001b[0m\n",
      "\u001b[0;31mKeyError\u001b[0m: False"
     ]
    }
   ],
   "source": [
    "plt_df = mergedMUA_df\n",
    "trace1=go.Scattergl(x=plt_df[plt_df['is-MUA?'=='Yes']].rate_of_readmission, y = plt_df[plt_df['is-MUA?'=='Yes']].patients_rating_of_the_facility_linear_mean_score, mode='markers', hoverinfo=\"text\", hovertext=plt_df.facility_name  + plt_df.address )\n",
    "fig = go.Figure(data=[go.Scattergl(x = plt_df['rate_of_readmission'], y = plt_df['patients_rating_of_the_facility_linear_mean_score'], mode='markers', hoverinfo=\"text\", hovertext=[plt_df.facility_name + ',' + plt_df.address])])\n",
    "fig.update_layout(template=\"plotly_white\")\n",
    "fig.update_xaxes(title_text=\"Readmission Rate\")\n",
    "fig.update_yaxes(title_text=\"Patients' Mean Rating of the Facility\")\n",
    "fig.show()\n"
   ]
  },
  {
   "cell_type": "code",
   "execution_count": 163,
   "metadata": {},
   "outputs": [
    {
     "data": {
      "application/vnd.plotly.v1+json": {
       "config": {
        "plotlyServerURL": "https://plot.ly"
       },
       "data": [
        {
         "hoverinfo": "text",
         "hovertext": [
          "{plt_df.at[i, \"facility_name\"]} <br> {plt_df.at[i, \"address\"]}<br>{plt_df.at[i, \"city\"]}"
         ],
         "mode": "markers",
         "name": "Hi",
         "type": "scattergl",
         "x": [
          14.7,
          15,
          16.2,
          16.2,
          15.3,
          15.2,
          14.7,
          14.7,
          14.8,
          15.8,
          15.1,
          15,
          15.8,
          15.3,
          15.3,
          15.7,
          15.4,
          16.4,
          15.3,
          16.3,
          14.2,
          15.4,
          13.9,
          15.2,
          13.4,
          14.6,
          14.4,
          13.2,
          14.7,
          13.9,
          14.2,
          15.1,
          16.9,
          16.4,
          17.6,
          15.7,
          16.8,
          16.4,
          15.8,
          15.1,
          15.8,
          14.4,
          13.9,
          14.9,
          15.7,
          16.7,
          14.3,
          14.9,
          15.1,
          15.2,
          14.9,
          15.7,
          15.1,
          16.1,
          15.1,
          15.6,
          15,
          15.6,
          15.2,
          14.8,
          15.1,
          15.2,
          15.9,
          15.7,
          16.3,
          14.2,
          13.6,
          14.6,
          14.9,
          15.7,
          16,
          15.3,
          15,
          15.2,
          16.1,
          14.9,
          15.3,
          14.5,
          15.1,
          15.1,
          15.3,
          14.8,
          16.4,
          14.1,
          16,
          15.4,
          14.4,
          15.2,
          15.4,
          15.3,
          15.1,
          13.4,
          17.4,
          15.5,
          14,
          15,
          14.1,
          15.4,
          15.2,
          14.1,
          16.1,
          14.7,
          15.2,
          14.6,
          15.4,
          14.9,
          15.1,
          13.5,
          15.6,
          15.9,
          14.7,
          14.7,
          15.1,
          15.5,
          15.2,
          14.8,
          15.5,
          15.2,
          15.2,
          14.5,
          15.7,
          16.6,
          15.6,
          15.3,
          16,
          16.2,
          15.8,
          14.6,
          16.9,
          15,
          15.1,
          14.7,
          15.6,
          14.8,
          14.8,
          12,
          15.9,
          15.8,
          15.2,
          15,
          14.3,
          15.1,
          14.7,
          14.8,
          13.8,
          13.7,
          13.5,
          14,
          14.6,
          13.6,
          15.4,
          15,
          14,
          15,
          15.3,
          14.8,
          14.9,
          15.2,
          14.8,
          15.2,
          15.6,
          16.2,
          16.1,
          16.6,
          14.4,
          15.9,
          15,
          14.3,
          16,
          15.9,
          15.5,
          16.1,
          16.5,
          15.8,
          15.5,
          14.9,
          16,
          15.1,
          15.3,
          14.5,
          16.5,
          15.4,
          14.9,
          16.4,
          15.4,
          17.3,
          17.6,
          14.6,
          15.3,
          14.7,
          15.7,
          17,
          15.5,
          15.5,
          15.9,
          15.2,
          15.3,
          15.1,
          15.2,
          15.2,
          15.5,
          14.6,
          15.3,
          16.5,
          15.8,
          15.2,
          14.9,
          14.8,
          15.1,
          15.2,
          15.3,
          15.4,
          15,
          16.1,
          16.3,
          15.2,
          15.5,
          15.2,
          14.3,
          15.9,
          14.9,
          15.4,
          15.3,
          15,
          14.8,
          13.9,
          13.3,
          14.7,
          14.6,
          14.9,
          15.5,
          15,
          14.7,
          15.2,
          14.6,
          15.1,
          15,
          14.9,
          14.7,
          15.7,
          15.9,
          15.7,
          15.5,
          14.8,
          15.4,
          16.1,
          16.7,
          16,
          16.8,
          15,
          15.5,
          14.7,
          15.3,
          17.4,
          15,
          15,
          15.1,
          15.6,
          15.5,
          15.2,
          15.8,
          14.5,
          14.4,
          15.5,
          14.7,
          14.1,
          14.6,
          15,
          15.2,
          15.1,
          14.5,
          15.5,
          15.4,
          15.4,
          15.2,
          16.6,
          15.3,
          15.3,
          14.6,
          16,
          14.6,
          15.8,
          16.2,
          13.6,
          14,
          14.7,
          15,
          14.4,
          14.3,
          15.1,
          14.4,
          14.5,
          15.1,
          16.3,
          15.1,
          15.3,
          15,
          14.9,
          15.3,
          14,
          15,
          14.6,
          13.6,
          14,
          14.7,
          14.7,
          15.9,
          14.7,
          15.5,
          15.2,
          15.8,
          13.9,
          14.9,
          14.9,
          15,
          15.9,
          16.6,
          14.5,
          14.7,
          14.8,
          14.9,
          18.6,
          13.9,
          15.6,
          16.2,
          15.9,
          14.8,
          15.3,
          15.4,
          15.4,
          14.6,
          14,
          16.2,
          15,
          14.9,
          15.6,
          14.9,
          15.9,
          15.1,
          15,
          16.1,
          15.3,
          15.6,
          15.5,
          14.8,
          14.9,
          14.4,
          16.6,
          16.7,
          15.3,
          15.4,
          15.3,
          14.6,
          16,
          13.9,
          14.8,
          15.1,
          15.4,
          14.1,
          14.7,
          15.3,
          14.8,
          15.3,
          14.5,
          14.6,
          15.5,
          15.4,
          14.6,
          14.4,
          14.2,
          14.9,
          13.9,
          14.5,
          17.7,
          14.7,
          16.2,
          16.2,
          15.4,
          16,
          11.2,
          16.6,
          16.8,
          13.9,
          14.4,
          14.7,
          14.1,
          14.4,
          14.9,
          15.7,
          15,
          16.9,
          14.3,
          15.6,
          15,
          15.2,
          16.5,
          14.6,
          14.6,
          15,
          15,
          15.7,
          15.5,
          15,
          14.5,
          14.9,
          15.4,
          14.7,
          15.3,
          15,
          14.8,
          15.7,
          14.8,
          13.9,
          16,
          16.1,
          14.9,
          15.7,
          14.9,
          14.9,
          16.3,
          14.7,
          15.3,
          15.1,
          15.8,
          15.7,
          15.1,
          15.3,
          15.4,
          15.5,
          15.4,
          14.8,
          15.7,
          14.6,
          15.4,
          14.8,
          15.6,
          16.5,
          15.7,
          17,
          15.4,
          17.1,
          15.3,
          15.4,
          15.1,
          16.2,
          16.2,
          15.5,
          15,
          15.4,
          14.8,
          15.1,
          15.9,
          15.3,
          15.9,
          14.7,
          14.8,
          15.4,
          13.6,
          15.2,
          13.8,
          14.2,
          14.5,
          15.1,
          14.9,
          15.1,
          14.7,
          14.8,
          15.6,
          14.7,
          15.8,
          15.2,
          14.1,
          15.5,
          14.8,
          14.2,
          14.8,
          17,
          16.3,
          16.8,
          17,
          14.8,
          16.6,
          15.8,
          14.3,
          16.2,
          14.7,
          15,
          15.5,
          15.2,
          14.9,
          16,
          17.3,
          12.9,
          14.6,
          14.4,
          14.3,
          15.2,
          15,
          14.5,
          13.9,
          15.1,
          15.4,
          16.2,
          16.8,
          15.3,
          15.8,
          15.9,
          15.2,
          15.4,
          16.2,
          16.7,
          16.3,
          15.5,
          16.7,
          17,
          16.8,
          14.4,
          16,
          16.2,
          17.6,
          10.2,
          15.5,
          16.6,
          15.9,
          14.4,
          14.9,
          18.2,
          15.5,
          16,
          13,
          15.1,
          15.7,
          14.8,
          15.8,
          14.2,
          15.1,
          16.2,
          15.2,
          14.6,
          14.8,
          14.2,
          13.8,
          15.4,
          15,
          14.5,
          15.3,
          15.2,
          15.5,
          15.1,
          15.6,
          13.7,
          14.9,
          16.5,
          14,
          14.6,
          14.6,
          14.1,
          14.5,
          15.5,
          15.5,
          14.6,
          16.4,
          14.6,
          16.3,
          15.1,
          15.5,
          15.5,
          16.2,
          15.9,
          15.4,
          15,
          14.8,
          14.9,
          15.7,
          15.7,
          15.5,
          16.2,
          15.1,
          14.7,
          15.2,
          13.9,
          14.2,
          15,
          15,
          15,
          14.8,
          15.2,
          15.9,
          14.3,
          14.9,
          14.2,
          14.8,
          14.7,
          15.7,
          15.1,
          14.8,
          15.5,
          15.8,
          14.8,
          15.4,
          13.6,
          15.5,
          15.5,
          15.2,
          14.9,
          15.3,
          15.9,
          15.3,
          16,
          15.6,
          14.1,
          14.5,
          15.3,
          15,
          15.1,
          15.1,
          15.6,
          15.7,
          15.4,
          14.8,
          15.1,
          13.1,
          15.5,
          15.7,
          15,
          14.7,
          14.2,
          14.3,
          16,
          13.6,
          15,
          14.4,
          13.7,
          15.3,
          14.5,
          15.2,
          15.2,
          15.6,
          14.7,
          15.1,
          15.5,
          16,
          15.8,
          14,
          15.1,
          14.7,
          14.2,
          13.5,
          16.3,
          15.3,
          15.1,
          15.8,
          14.6,
          15.1,
          14.2,
          14.9,
          14.1,
          16.4,
          14.8,
          15.7,
          15.3,
          15.2,
          16.6,
          16.2,
          14.6,
          15.1,
          15,
          14.3,
          16.2,
          14.6,
          15.5,
          15.6,
          14.6,
          15.4,
          15.1,
          15.1,
          15,
          15.2,
          14.6,
          13.4,
          15.1,
          15.4,
          16.7,
          15.1,
          16.2,
          16.3,
          15.1,
          15.6,
          15.2,
          15.1,
          15,
          14.8,
          15,
          14.4,
          15.3,
          15.4,
          14.4,
          15.1,
          16.1,
          15.3,
          15.6,
          16.1,
          15,
          15.7,
          15.5,
          14.9,
          15.3,
          15.5,
          15.6,
          16.3,
          15.2,
          15.2,
          15.3,
          16.8,
          15.5,
          14.6,
          14.7,
          16.2,
          15.1,
          15.4,
          14.8,
          14.1,
          15.1,
          14.2,
          14.9,
          14.6,
          16.1,
          15,
          16.1,
          15.2,
          13.5,
          14.6,
          14.5,
          14.6,
          15.4,
          15.2,
          15.3,
          14.2,
          15.1,
          15,
          14.5,
          14,
          13.3,
          14.1,
          14.5,
          14.7,
          13,
          14.3,
          14,
          14.4,
          14.4,
          15,
          13.5,
          13.8,
          15,
          14.8,
          15.1,
          15.3,
          15.2,
          15.2,
          15,
          15.4,
          14.7,
          14.6,
          15.4,
          15,
          15.5,
          15.9,
          14.6,
          16,
          15,
          15.3,
          14.5,
          14.6,
          15.2,
          16,
          13.9,
          14.4,
          14.4,
          13.9,
          14.2,
          13.9,
          13.8,
          13.8,
          14.2,
          15.3,
          15.7,
          13.4,
          14,
          14.1,
          14.5,
          15.1,
          14.6,
          14.9,
          14.2,
          14.1,
          14.7,
          16.5,
          14.8,
          14.5,
          16.7,
          16.9,
          15.4,
          15.7,
          15.6,
          15.8,
          15.2,
          14.7,
          15,
          14.9,
          14.2,
          15,
          15.8,
          15,
          14.7,
          13.9,
          13.8,
          16.3,
          14.6,
          12.9,
          15,
          15,
          15.7,
          14.4,
          14,
          14.8,
          13.8,
          14.3,
          15,
          15,
          13.6,
          14.1,
          15,
          15.1,
          15.3,
          15.3,
          15,
          15.5,
          14.7,
          14.9,
          15,
          16,
          15.5,
          15.5,
          15.3,
          15.7,
          15.3,
          14.8,
          14.5,
          14.3,
          16.2,
          14.6,
          14.7,
          15.3
         ],
         "y": [
          94,
          95,
          95,
          93,
          96,
          96,
          91,
          90,
          93,
          93,
          89,
          94,
          93,
          94,
          92,
          93,
          91,
          92,
          86,
          91,
          96,
          90,
          94,
          95,
          93,
          94,
          92,
          93,
          94,
          96,
          96,
          94,
          93,
          93,
          91,
          91,
          96,
          96,
          94,
          96,
          94,
          92,
          95,
          94,
          93,
          89,
          95,
          94,
          95,
          94,
          95,
          94,
          93,
          92,
          92,
          86,
          94,
          93,
          92,
          90,
          94,
          95,
          95,
          94,
          90,
          96,
          93,
          91,
          90,
          92,
          94,
          96,
          92,
          95,
          91,
          93,
          95,
          92,
          93,
          93,
          91,
          94,
          92,
          93,
          89,
          92,
          94,
          92,
          94,
          95,
          94,
          96,
          84,
          92,
          94,
          96,
          93,
          94,
          94,
          95,
          90,
          94,
          94,
          95,
          94,
          93,
          94,
          94,
          89,
          95,
          94,
          93,
          96,
          96,
          95,
          95,
          89,
          94,
          92,
          95,
          95,
          93,
          94,
          94,
          92,
          92,
          90,
          90,
          88,
          94,
          91,
          94,
          91,
          95,
          95,
          97,
          94,
          92,
          95,
          94,
          89,
          92,
          96,
          94,
          92,
          94,
          94,
          94,
          95,
          94,
          95,
          95,
          96,
          95,
          95,
          95,
          94,
          96,
          93,
          92,
          95,
          95,
          92,
          90,
          95,
          94,
          92,
          96,
          94,
          93,
          92,
          95,
          94,
          94,
          95,
          94,
          95,
          95,
          90,
          95,
          93,
          93,
          96,
          93,
          94,
          92,
          92,
          92,
          96,
          94,
          94,
          95,
          94,
          94,
          93,
          94,
          91,
          93,
          96,
          94,
          89,
          93,
          94,
          92,
          93,
          89,
          95,
          91,
          92,
          94,
          94,
          92,
          92,
          90,
          94,
          94,
          94,
          94,
          96,
          98,
          95,
          90,
          95,
          95,
          93,
          95,
          94,
          95,
          95,
          97,
          94,
          91,
          94,
          91,
          94,
          94,
          96,
          93,
          94,
          93,
          94,
          93,
          93,
          95,
          93,
          95,
          96,
          98,
          90,
          93,
          94,
          96,
          94,
          91,
          92,
          95,
          92,
          92,
          93,
          95,
          95,
          95,
          93,
          95,
          93,
          95,
          94,
          95,
          95,
          95,
          95,
          92,
          95,
          92,
          96,
          90,
          95,
          94,
          94,
          96,
          95,
          96,
          94,
          95,
          93,
          94,
          95,
          96,
          94,
          94,
          94,
          98,
          92,
          95,
          91,
          94,
          93,
          93,
          92,
          92,
          94,
          94,
          95,
          93,
          94,
          94,
          94,
          93,
          92,
          94,
          93,
          94,
          95,
          95,
          95,
          93,
          91,
          94,
          93,
          94,
          94,
          90,
          94,
          93,
          91,
          95,
          94,
          96,
          95,
          93,
          95,
          96,
          94,
          96,
          95,
          94,
          93,
          92,
          94,
          96,
          92,
          93,
          94,
          95,
          93,
          94,
          94,
          93,
          91,
          91,
          96,
          97,
          96,
          96,
          96,
          95,
          93,
          90,
          93,
          92,
          92,
          93,
          92,
          91,
          92,
          91,
          95,
          93,
          91,
          95,
          94,
          93,
          95,
          92,
          91,
          94,
          87,
          95,
          95,
          96,
          95,
          95,
          96,
          96,
          93,
          94,
          94,
          93,
          95,
          94,
          93,
          91,
          95,
          93,
          94,
          91,
          92,
          96,
          93,
          93,
          94,
          93,
          94,
          93,
          91,
          94,
          93,
          95,
          94,
          94,
          93,
          93,
          93,
          93,
          94,
          93,
          93,
          94,
          94,
          94,
          95,
          96,
          93,
          95,
          93,
          93,
          92,
          94,
          93,
          93,
          94,
          97,
          95,
          94,
          95,
          94,
          94,
          94,
          93,
          89,
          92,
          95,
          94,
          75,
          93,
          93,
          94,
          94,
          92,
          90,
          92,
          94,
          94,
          94,
          95,
          93,
          94,
          91,
          91,
          93,
          94,
          93,
          93,
          97,
          92,
          95,
          93,
          94,
          92,
          95,
          92,
          93,
          91,
          95,
          92,
          94,
          90,
          89,
          92,
          92,
          94,
          91,
          94,
          91,
          94,
          89,
          94,
          91,
          95,
          92,
          94,
          93,
          92,
          93,
          93,
          97,
          94,
          93,
          96,
          93,
          92,
          91,
          93,
          93,
          95,
          91,
          94,
          92,
          92,
          91,
          92,
          94,
          93,
          90,
          90,
          90,
          91,
          93,
          92,
          91,
          97,
          93,
          94,
          95,
          94,
          94,
          88,
          96,
          95,
          95,
          96,
          94,
          95,
          96,
          94,
          93,
          93,
          95,
          94,
          95,
          94,
          95,
          94,
          94,
          94,
          95,
          95,
          95,
          94,
          96,
          95,
          95,
          93,
          96,
          95,
          95,
          94,
          96,
          96,
          95,
          91,
          89,
          94,
          95,
          92,
          93,
          92,
          93,
          94,
          93,
          93,
          95,
          94,
          92,
          93,
          95,
          91,
          95,
          93,
          94,
          95,
          96,
          95,
          94,
          94,
          94,
          90,
          93,
          94,
          93,
          91,
          95,
          92,
          93,
          94,
          95,
          93,
          92,
          93,
          93,
          95,
          97,
          95,
          95,
          93,
          93,
          93,
          94,
          94,
          94,
          94,
          92,
          95,
          95,
          95,
          88,
          94,
          95,
          95,
          95,
          97,
          95,
          95,
          95,
          97,
          96,
          95,
          97,
          96,
          94,
          95,
          92,
          93,
          93,
          93,
          93,
          93,
          93,
          94,
          94,
          95,
          93,
          94,
          95,
          94,
          93,
          93,
          95,
          95,
          93,
          94,
          92,
          92,
          94,
          94,
          91,
          93,
          94,
          93,
          93,
          95,
          95,
          93,
          94,
          94,
          94,
          93,
          93,
          93,
          95,
          95,
          95,
          94,
          92,
          92,
          92,
          91,
          94,
          95,
          95,
          93,
          93,
          94,
          94,
          95,
          94,
          92,
          91,
          95,
          96,
          94,
          94,
          93,
          96,
          95,
          94,
          94,
          94,
          95,
          92,
          88,
          93,
          92,
          95,
          93,
          91,
          93,
          95,
          93,
          96,
          95,
          94,
          93,
          93,
          95,
          91,
          94,
          95,
          95,
          93,
          94,
          94,
          92,
          93,
          94,
          96,
          95,
          96,
          94,
          95,
          96,
          95,
          94,
          95,
          94,
          97,
          96,
          97,
          94,
          96,
          96,
          92,
          93,
          93,
          94,
          95,
          93,
          95,
          94,
          93,
          93,
          95,
          94,
          94,
          96,
          95,
          92,
          91,
          94,
          92,
          95,
          92,
          94,
          92,
          93,
          94,
          95,
          93,
          93,
          93,
          95,
          96,
          94,
          93,
          93,
          93,
          93,
          93,
          92,
          92,
          93,
          90,
          92,
          93,
          93,
          93,
          93,
          92,
          92,
          93,
          96,
          93,
          95,
          94,
          94,
          94,
          96,
          94,
          93,
          93,
          93,
          92,
          92,
          94,
          90,
          90,
          95,
          93,
          93,
          94,
          92,
          94,
          93,
          94,
          94,
          93,
          94,
          94,
          95,
          94,
          94,
          95,
          92,
          92,
          93,
          93,
          93,
          93,
          93,
          93,
          93,
          97,
          95,
          93,
          94,
          94,
          94,
          94,
          94,
          96,
          95,
          93,
          95,
          95,
          94,
          96,
          93,
          95,
          96,
          97,
          96,
          96,
          96,
          95
         ]
        }
       ],
       "layout": {
        "template": {
         "data": {
          "bar": [
           {
            "error_x": {
             "color": "#2a3f5f"
            },
            "error_y": {
             "color": "#2a3f5f"
            },
            "marker": {
             "line": {
              "color": "white",
              "width": 0.5
             }
            },
            "type": "bar"
           }
          ],
          "barpolar": [
           {
            "marker": {
             "line": {
              "color": "white",
              "width": 0.5
             }
            },
            "type": "barpolar"
           }
          ],
          "carpet": [
           {
            "aaxis": {
             "endlinecolor": "#2a3f5f",
             "gridcolor": "#C8D4E3",
             "linecolor": "#C8D4E3",
             "minorgridcolor": "#C8D4E3",
             "startlinecolor": "#2a3f5f"
            },
            "baxis": {
             "endlinecolor": "#2a3f5f",
             "gridcolor": "#C8D4E3",
             "linecolor": "#C8D4E3",
             "minorgridcolor": "#C8D4E3",
             "startlinecolor": "#2a3f5f"
            },
            "type": "carpet"
           }
          ],
          "choropleth": [
           {
            "colorbar": {
             "outlinewidth": 0,
             "ticks": ""
            },
            "type": "choropleth"
           }
          ],
          "contour": [
           {
            "colorbar": {
             "outlinewidth": 0,
             "ticks": ""
            },
            "colorscale": [
             [
              0,
              "#0d0887"
             ],
             [
              0.1111111111111111,
              "#46039f"
             ],
             [
              0.2222222222222222,
              "#7201a8"
             ],
             [
              0.3333333333333333,
              "#9c179e"
             ],
             [
              0.4444444444444444,
              "#bd3786"
             ],
             [
              0.5555555555555556,
              "#d8576b"
             ],
             [
              0.6666666666666666,
              "#ed7953"
             ],
             [
              0.7777777777777778,
              "#fb9f3a"
             ],
             [
              0.8888888888888888,
              "#fdca26"
             ],
             [
              1,
              "#f0f921"
             ]
            ],
            "type": "contour"
           }
          ],
          "contourcarpet": [
           {
            "colorbar": {
             "outlinewidth": 0,
             "ticks": ""
            },
            "type": "contourcarpet"
           }
          ],
          "heatmap": [
           {
            "colorbar": {
             "outlinewidth": 0,
             "ticks": ""
            },
            "colorscale": [
             [
              0,
              "#0d0887"
             ],
             [
              0.1111111111111111,
              "#46039f"
             ],
             [
              0.2222222222222222,
              "#7201a8"
             ],
             [
              0.3333333333333333,
              "#9c179e"
             ],
             [
              0.4444444444444444,
              "#bd3786"
             ],
             [
              0.5555555555555556,
              "#d8576b"
             ],
             [
              0.6666666666666666,
              "#ed7953"
             ],
             [
              0.7777777777777778,
              "#fb9f3a"
             ],
             [
              0.8888888888888888,
              "#fdca26"
             ],
             [
              1,
              "#f0f921"
             ]
            ],
            "type": "heatmap"
           }
          ],
          "heatmapgl": [
           {
            "colorbar": {
             "outlinewidth": 0,
             "ticks": ""
            },
            "colorscale": [
             [
              0,
              "#0d0887"
             ],
             [
              0.1111111111111111,
              "#46039f"
             ],
             [
              0.2222222222222222,
              "#7201a8"
             ],
             [
              0.3333333333333333,
              "#9c179e"
             ],
             [
              0.4444444444444444,
              "#bd3786"
             ],
             [
              0.5555555555555556,
              "#d8576b"
             ],
             [
              0.6666666666666666,
              "#ed7953"
             ],
             [
              0.7777777777777778,
              "#fb9f3a"
             ],
             [
              0.8888888888888888,
              "#fdca26"
             ],
             [
              1,
              "#f0f921"
             ]
            ],
            "type": "heatmapgl"
           }
          ],
          "histogram": [
           {
            "marker": {
             "colorbar": {
              "outlinewidth": 0,
              "ticks": ""
             }
            },
            "type": "histogram"
           }
          ],
          "histogram2d": [
           {
            "colorbar": {
             "outlinewidth": 0,
             "ticks": ""
            },
            "colorscale": [
             [
              0,
              "#0d0887"
             ],
             [
              0.1111111111111111,
              "#46039f"
             ],
             [
              0.2222222222222222,
              "#7201a8"
             ],
             [
              0.3333333333333333,
              "#9c179e"
             ],
             [
              0.4444444444444444,
              "#bd3786"
             ],
             [
              0.5555555555555556,
              "#d8576b"
             ],
             [
              0.6666666666666666,
              "#ed7953"
             ],
             [
              0.7777777777777778,
              "#fb9f3a"
             ],
             [
              0.8888888888888888,
              "#fdca26"
             ],
             [
              1,
              "#f0f921"
             ]
            ],
            "type": "histogram2d"
           }
          ],
          "histogram2dcontour": [
           {
            "colorbar": {
             "outlinewidth": 0,
             "ticks": ""
            },
            "colorscale": [
             [
              0,
              "#0d0887"
             ],
             [
              0.1111111111111111,
              "#46039f"
             ],
             [
              0.2222222222222222,
              "#7201a8"
             ],
             [
              0.3333333333333333,
              "#9c179e"
             ],
             [
              0.4444444444444444,
              "#bd3786"
             ],
             [
              0.5555555555555556,
              "#d8576b"
             ],
             [
              0.6666666666666666,
              "#ed7953"
             ],
             [
              0.7777777777777778,
              "#fb9f3a"
             ],
             [
              0.8888888888888888,
              "#fdca26"
             ],
             [
              1,
              "#f0f921"
             ]
            ],
            "type": "histogram2dcontour"
           }
          ],
          "mesh3d": [
           {
            "colorbar": {
             "outlinewidth": 0,
             "ticks": ""
            },
            "type": "mesh3d"
           }
          ],
          "parcoords": [
           {
            "line": {
             "colorbar": {
              "outlinewidth": 0,
              "ticks": ""
             }
            },
            "type": "parcoords"
           }
          ],
          "scatter": [
           {
            "marker": {
             "colorbar": {
              "outlinewidth": 0,
              "ticks": ""
             }
            },
            "type": "scatter"
           }
          ],
          "scatter3d": [
           {
            "line": {
             "colorbar": {
              "outlinewidth": 0,
              "ticks": ""
             }
            },
            "marker": {
             "colorbar": {
              "outlinewidth": 0,
              "ticks": ""
             }
            },
            "type": "scatter3d"
           }
          ],
          "scattercarpet": [
           {
            "marker": {
             "colorbar": {
              "outlinewidth": 0,
              "ticks": ""
             }
            },
            "type": "scattercarpet"
           }
          ],
          "scattergeo": [
           {
            "marker": {
             "colorbar": {
              "outlinewidth": 0,
              "ticks": ""
             }
            },
            "type": "scattergeo"
           }
          ],
          "scattergl": [
           {
            "marker": {
             "colorbar": {
              "outlinewidth": 0,
              "ticks": ""
             }
            },
            "type": "scattergl"
           }
          ],
          "scattermapbox": [
           {
            "marker": {
             "colorbar": {
              "outlinewidth": 0,
              "ticks": ""
             }
            },
            "type": "scattermapbox"
           }
          ],
          "scatterpolar": [
           {
            "marker": {
             "colorbar": {
              "outlinewidth": 0,
              "ticks": ""
             }
            },
            "type": "scatterpolar"
           }
          ],
          "scatterpolargl": [
           {
            "marker": {
             "colorbar": {
              "outlinewidth": 0,
              "ticks": ""
             }
            },
            "type": "scatterpolargl"
           }
          ],
          "scatterternary": [
           {
            "marker": {
             "colorbar": {
              "outlinewidth": 0,
              "ticks": ""
             }
            },
            "type": "scatterternary"
           }
          ],
          "surface": [
           {
            "colorbar": {
             "outlinewidth": 0,
             "ticks": ""
            },
            "colorscale": [
             [
              0,
              "#0d0887"
             ],
             [
              0.1111111111111111,
              "#46039f"
             ],
             [
              0.2222222222222222,
              "#7201a8"
             ],
             [
              0.3333333333333333,
              "#9c179e"
             ],
             [
              0.4444444444444444,
              "#bd3786"
             ],
             [
              0.5555555555555556,
              "#d8576b"
             ],
             [
              0.6666666666666666,
              "#ed7953"
             ],
             [
              0.7777777777777778,
              "#fb9f3a"
             ],
             [
              0.8888888888888888,
              "#fdca26"
             ],
             [
              1,
              "#f0f921"
             ]
            ],
            "type": "surface"
           }
          ],
          "table": [
           {
            "cells": {
             "fill": {
              "color": "#EBF0F8"
             },
             "line": {
              "color": "white"
             }
            },
            "header": {
             "fill": {
              "color": "#C8D4E3"
             },
             "line": {
              "color": "white"
             }
            },
            "type": "table"
           }
          ]
         },
         "layout": {
          "annotationdefaults": {
           "arrowcolor": "#2a3f5f",
           "arrowhead": 0,
           "arrowwidth": 1
          },
          "colorscale": {
           "diverging": [
            [
             0,
             "#8e0152"
            ],
            [
             0.1,
             "#c51b7d"
            ],
            [
             0.2,
             "#de77ae"
            ],
            [
             0.3,
             "#f1b6da"
            ],
            [
             0.4,
             "#fde0ef"
            ],
            [
             0.5,
             "#f7f7f7"
            ],
            [
             0.6,
             "#e6f5d0"
            ],
            [
             0.7,
             "#b8e186"
            ],
            [
             0.8,
             "#7fbc41"
            ],
            [
             0.9,
             "#4d9221"
            ],
            [
             1,
             "#276419"
            ]
           ],
           "sequential": [
            [
             0,
             "#0d0887"
            ],
            [
             0.1111111111111111,
             "#46039f"
            ],
            [
             0.2222222222222222,
             "#7201a8"
            ],
            [
             0.3333333333333333,
             "#9c179e"
            ],
            [
             0.4444444444444444,
             "#bd3786"
            ],
            [
             0.5555555555555556,
             "#d8576b"
            ],
            [
             0.6666666666666666,
             "#ed7953"
            ],
            [
             0.7777777777777778,
             "#fb9f3a"
            ],
            [
             0.8888888888888888,
             "#fdca26"
            ],
            [
             1,
             "#f0f921"
            ]
           ],
           "sequentialminus": [
            [
             0,
             "#0d0887"
            ],
            [
             0.1111111111111111,
             "#46039f"
            ],
            [
             0.2222222222222222,
             "#7201a8"
            ],
            [
             0.3333333333333333,
             "#9c179e"
            ],
            [
             0.4444444444444444,
             "#bd3786"
            ],
            [
             0.5555555555555556,
             "#d8576b"
            ],
            [
             0.6666666666666666,
             "#ed7953"
            ],
            [
             0.7777777777777778,
             "#fb9f3a"
            ],
            [
             0.8888888888888888,
             "#fdca26"
            ],
            [
             1,
             "#f0f921"
            ]
           ]
          },
          "colorway": [
           "#636efa",
           "#EF553B",
           "#00cc96",
           "#ab63fa",
           "#FFA15A",
           "#19d3f3",
           "#FF6692",
           "#B6E880",
           "#FF97FF",
           "#FECB52"
          ],
          "font": {
           "color": "#2a3f5f"
          },
          "geo": {
           "bgcolor": "white",
           "lakecolor": "white",
           "landcolor": "white",
           "showlakes": true,
           "showland": true,
           "subunitcolor": "#C8D4E3"
          },
          "hoverlabel": {
           "align": "left"
          },
          "hovermode": "closest",
          "mapbox": {
           "style": "light"
          },
          "paper_bgcolor": "white",
          "plot_bgcolor": "white",
          "polar": {
           "angularaxis": {
            "gridcolor": "#EBF0F8",
            "linecolor": "#EBF0F8",
            "ticks": ""
           },
           "bgcolor": "white",
           "radialaxis": {
            "gridcolor": "#EBF0F8",
            "linecolor": "#EBF0F8",
            "ticks": ""
           }
          },
          "scene": {
           "xaxis": {
            "backgroundcolor": "white",
            "gridcolor": "#DFE8F3",
            "gridwidth": 2,
            "linecolor": "#EBF0F8",
            "showbackground": true,
            "ticks": "",
            "zerolinecolor": "#EBF0F8"
           },
           "yaxis": {
            "backgroundcolor": "white",
            "gridcolor": "#DFE8F3",
            "gridwidth": 2,
            "linecolor": "#EBF0F8",
            "showbackground": true,
            "ticks": "",
            "zerolinecolor": "#EBF0F8"
           },
           "zaxis": {
            "backgroundcolor": "white",
            "gridcolor": "#DFE8F3",
            "gridwidth": 2,
            "linecolor": "#EBF0F8",
            "showbackground": true,
            "ticks": "",
            "zerolinecolor": "#EBF0F8"
           }
          },
          "shapedefaults": {
           "line": {
            "color": "#2a3f5f"
           }
          },
          "ternary": {
           "aaxis": {
            "gridcolor": "#DFE8F3",
            "linecolor": "#A2B1C6",
            "ticks": ""
           },
           "baxis": {
            "gridcolor": "#DFE8F3",
            "linecolor": "#A2B1C6",
            "ticks": ""
           },
           "bgcolor": "white",
           "caxis": {
            "gridcolor": "#DFE8F3",
            "linecolor": "#A2B1C6",
            "ticks": ""
           }
          },
          "title": {
           "x": 0.05
          },
          "xaxis": {
           "automargin": true,
           "gridcolor": "#EBF0F8",
           "linecolor": "#EBF0F8",
           "ticks": "",
           "zerolinecolor": "#EBF0F8",
           "zerolinewidth": 2
          },
          "yaxis": {
           "automargin": true,
           "gridcolor": "#EBF0F8",
           "linecolor": "#EBF0F8",
           "ticks": "",
           "zerolinecolor": "#EBF0F8",
           "zerolinewidth": 2
          }
         }
        },
        "xaxis": {
         "title": {
          "text": "Readmission Rate"
         }
        },
        "yaxis": {
         "title": {
          "text": "Patients' Mean Rating of the Facility"
         }
        }
       }
      },
      "text/html": [
       "<div>\n",
       "        \n",
       "        \n",
       "            <div id=\"272b938f-4163-4732-9e8c-90209773d200\" class=\"plotly-graph-div\" style=\"height:525px; width:100%;\"></div>\n",
       "            <script type=\"text/javascript\">\n",
       "                require([\"plotly\"], function(Plotly) {\n",
       "                    window.PLOTLYENV=window.PLOTLYENV || {};\n",
       "                    \n",
       "                if (document.getElementById(\"272b938f-4163-4732-9e8c-90209773d200\")) {\n",
       "                    Plotly.newPlot(\n",
       "                        '272b938f-4163-4732-9e8c-90209773d200',\n",
       "                        [{\"hoverinfo\": \"text\", \"hovertext\": [\"{plt_df.at[i, \\\"facility_name\\\"]} <br> {plt_df.at[i, \\\"address\\\"]}<br>{plt_df.at[i, \\\"city\\\"]}\"], \"mode\": \"markers\", \"name\": \"Hi\", \"type\": \"scattergl\", \"x\": [14.7, 15.0, 16.2, 16.2, 15.3, 15.2, 14.7, 14.7, 14.8, 15.8, 15.1, 15.0, 15.8, 15.3, 15.3, 15.7, 15.4, 16.4, 15.3, 16.3, 14.2, 15.4, 13.9, 15.2, 13.4, 14.6, 14.4, 13.2, 14.7, 13.9, 14.2, 15.1, 16.9, 16.4, 17.6, 15.7, 16.8, 16.4, 15.8, 15.1, 15.8, 14.4, 13.9, 14.9, 15.7, 16.7, 14.3, 14.9, 15.1, 15.2, 14.9, 15.7, 15.1, 16.1, 15.1, 15.6, 15.0, 15.6, 15.2, 14.8, 15.1, 15.2, 15.9, 15.7, 16.3, 14.2, 13.6, 14.6, 14.9, 15.7, 16.0, 15.3, 15.0, 15.2, 16.1, 14.9, 15.3, 14.5, 15.1, 15.1, 15.3, 14.8, 16.4, 14.1, 16.0, 15.4, 14.4, 15.2, 15.4, 15.3, 15.1, 13.4, 17.4, 15.5, 14.0, 15.0, 14.1, 15.4, 15.2, 14.1, 16.1, 14.7, 15.2, 14.6, 15.4, 14.9, 15.1, 13.5, 15.6, 15.9, 14.7, 14.7, 15.1, 15.5, 15.2, 14.8, 15.5, 15.2, 15.2, 14.5, 15.7, 16.6, 15.6, 15.3, 16.0, 16.2, 15.8, 14.6, 16.9, 15.0, 15.1, 14.7, 15.6, 14.8, 14.8, 12.0, 15.9, 15.8, 15.2, 15.0, 14.3, 15.1, 14.7, 14.8, 13.8, 13.7, 13.5, 14.0, 14.6, 13.6, 15.4, 15.0, 14.0, 15.0, 15.3, 14.8, 14.9, 15.2, 14.8, 15.2, 15.6, 16.2, 16.1, 16.6, 14.4, 15.9, 15.0, 14.3, 16.0, 15.9, 15.5, 16.1, 16.5, 15.8, 15.5, 14.9, 16.0, 15.1, 15.3, 14.5, 16.5, 15.4, 14.9, 16.4, 15.4, 17.3, 17.6, 14.6, 15.3, 14.7, 15.7, 17.0, 15.5, 15.5, 15.9, 15.2, 15.3, 15.1, 15.2, 15.2, 15.5, 14.6, 15.3, 16.5, 15.8, 15.2, 14.9, 14.8, 15.1, 15.2, 15.3, 15.4, 15.0, 16.1, 16.3, 15.2, 15.5, 15.2, 14.3, 15.9, 14.9, 15.4, 15.3, 15.0, 14.8, 13.9, 13.3, 14.7, 14.6, 14.9, 15.5, 15.0, 14.7, 15.2, 14.6, 15.1, 15.0, 14.9, 14.7, 15.7, 15.9, 15.7, 15.5, 14.8, 15.4, 16.1, 16.7, 16.0, 16.8, 15.0, 15.5, 14.7, 15.3, 17.4, 15.0, 15.0, 15.1, 15.6, 15.5, 15.2, 15.8, 14.5, 14.4, 15.5, 14.7, 14.1, 14.6, 15.0, 15.2, 15.1, 14.5, 15.5, 15.4, 15.4, 15.2, 16.6, 15.3, 15.3, 14.6, 16.0, 14.6, 15.8, 16.2, 13.6, 14.0, 14.7, 15.0, 14.4, 14.3, 15.1, 14.4, 14.5, 15.1, 16.3, 15.1, 15.3, 15.0, 14.9, 15.3, 14.0, 15.0, 14.6, 13.6, 14.0, 14.7, 14.7, 15.9, 14.7, 15.5, 15.2, 15.8, 13.9, 14.9, 14.9, 15.0, 15.9, 16.6, 14.5, 14.7, 14.8, 14.9, 18.6, 13.9, 15.6, 16.2, 15.9, 14.8, 15.3, 15.4, 15.4, 14.6, 14.0, 16.2, 15.0, 14.9, 15.6, 14.9, 15.9, 15.1, 15.0, 16.1, 15.3, 15.6, 15.5, 14.8, 14.9, 14.4, 16.6, 16.7, 15.3, 15.4, 15.3, 14.6, 16.0, 13.9, 14.8, 15.1, 15.4, 14.1, 14.7, 15.3, 14.8, 15.3, 14.5, 14.6, 15.5, 15.4, 14.6, 14.4, 14.2, 14.9, 13.9, 14.5, 17.7, 14.7, 16.2, 16.2, 15.4, 16.0, 11.2, 16.6, 16.8, 13.9, 14.4, 14.7, 14.1, 14.4, 14.9, 15.7, 15.0, 16.9, 14.3, 15.6, 15.0, 15.2, 16.5, 14.6, 14.6, 15.0, 15.0, 15.7, 15.5, 15.0, 14.5, 14.9, 15.4, 14.7, 15.3, 15.0, 14.8, 15.7, 14.8, 13.9, 16.0, 16.1, 14.9, 15.7, 14.9, 14.9, 16.3, 14.7, 15.3, 15.1, 15.8, 15.7, 15.1, 15.3, 15.4, 15.5, 15.4, 14.8, 15.7, 14.6, 15.4, 14.8, 15.6, 16.5, 15.7, 17.0, 15.4, 17.1, 15.3, 15.4, 15.1, 16.2, 16.2, 15.5, 15.0, 15.4, 14.8, 15.1, 15.9, 15.3, 15.9, 14.7, 14.8, 15.4, 13.6, 15.2, 13.8, 14.2, 14.5, 15.1, 14.9, 15.1, 14.7, 14.8, 15.6, 14.7, 15.8, 15.2, 14.1, 15.5, 14.8, 14.2, 14.8, 17.0, 16.3, 16.8, 17.0, 14.8, 16.6, 15.8, 14.3, 16.2, 14.7, 15.0, 15.5, 15.2, 14.9, 16.0, 17.3, 12.9, 14.6, 14.4, 14.3, 15.2, 15.0, 14.5, 13.9, 15.1, 15.4, 16.2, 16.8, 15.3, 15.8, 15.9, 15.2, 15.4, 16.2, 16.7, 16.3, 15.5, 16.7, 17.0, 16.8, 14.4, 16.0, 16.2, 17.6, 10.2, 15.5, 16.6, 15.9, 14.4, 14.9, 18.2, 15.5, 16.0, 13.0, 15.1, 15.7, 14.8, 15.8, 14.2, 15.1, 16.2, 15.2, 14.6, 14.8, 14.2, 13.8, 15.4, 15.0, 14.5, 15.3, 15.2, 15.5, 15.1, 15.6, 13.7, 14.9, 16.5, 14.0, 14.6, 14.6, 14.1, 14.5, 15.5, 15.5, 14.6, 16.4, 14.6, 16.3, 15.1, 15.5, 15.5, 16.2, 15.9, 15.4, 15.0, 14.8, 14.9, 15.7, 15.7, 15.5, 16.2, 15.1, 14.7, 15.2, 13.9, 14.2, 15.0, 15.0, 15.0, 14.8, 15.2, 15.9, 14.3, 14.9, 14.2, 14.8, 14.7, 15.7, 15.1, 14.8, 15.5, 15.8, 14.8, 15.4, 13.6, 15.5, 15.5, 15.2, 14.9, 15.3, 15.9, 15.3, 16.0, 15.6, 14.1, 14.5, 15.3, 15.0, 15.1, 15.1, 15.6, 15.7, 15.4, 14.8, 15.1, 13.1, 15.5, 15.7, 15.0, 14.7, 14.2, 14.3, 16.0, 13.6, 15.0, 14.4, 13.7, 15.3, 14.5, 15.2, 15.2, 15.6, 14.7, 15.1, 15.5, 16.0, 15.8, 14.0, 15.1, 14.7, 14.2, 13.5, 16.3, 15.3, 15.1, 15.8, 14.6, 15.1, 14.2, 14.9, 14.1, 16.4, 14.8, 15.7, 15.3, 15.2, 16.6, 16.2, 14.6, 15.1, 15.0, 14.3, 16.2, 14.6, 15.5, 15.6, 14.6, 15.4, 15.1, 15.1, 15.0, 15.2, 14.6, 13.4, 15.1, 15.4, 16.7, 15.1, 16.2, 16.3, 15.1, 15.6, 15.2, 15.1, 15.0, 14.8, 15.0, 14.4, 15.3, 15.4, 14.4, 15.1, 16.1, 15.3, 15.6, 16.1, 15.0, 15.7, 15.5, 14.9, 15.3, 15.5, 15.6, 16.3, 15.2, 15.2, 15.3, 16.8, 15.5, 14.6, 14.7, 16.2, 15.1, 15.4, 14.8, 14.1, 15.1, 14.2, 14.9, 14.6, 16.1, 15.0, 16.1, 15.2, 13.5, 14.6, 14.5, 14.6, 15.4, 15.2, 15.3, 14.2, 15.1, 15.0, 14.5, 14.0, 13.3, 14.1, 14.5, 14.7, 13.0, 14.3, 14.0, 14.4, 14.4, 15.0, 13.5, 13.8, 15.0, 14.8, 15.1, 15.3, 15.2, 15.2, 15.0, 15.4, 14.7, 14.6, 15.4, 15.0, 15.5, 15.9, 14.6, 16.0, 15.0, 15.3, 14.5, 14.6, 15.2, 16.0, 13.9, 14.4, 14.4, 13.9, 14.2, 13.9, 13.8, 13.8, 14.2, 15.3, 15.7, 13.4, 14.0, 14.1, 14.5, 15.1, 14.6, 14.9, 14.2, 14.1, 14.7, 16.5, 14.8, 14.5, 16.7, 16.9, 15.4, 15.7, 15.6, 15.8, 15.2, 14.7, 15.0, 14.9, 14.2, 15.0, 15.8, 15.0, 14.7, 13.9, 13.8, 16.3, 14.6, 12.9, 15.0, 15.0, 15.7, 14.4, 14.0, 14.8, 13.8, 14.3, 15.0, 15.0, 13.6, 14.1, 15.0, 15.1, 15.3, 15.3, 15.0, 15.5, 14.7, 14.9, 15.0, 16.0, 15.5, 15.5, 15.3, 15.7, 15.3, 14.8, 14.5, 14.3, 16.2, 14.6, 14.7, 15.3], \"y\": [94, 95, 95, 93, 96, 96, 91, 90, 93, 93, 89, 94, 93, 94, 92, 93, 91, 92, 86, 91, 96, 90, 94, 95, 93, 94, 92, 93, 94, 96, 96, 94, 93, 93, 91, 91, 96, 96, 94, 96, 94, 92, 95, 94, 93, 89, 95, 94, 95, 94, 95, 94, 93, 92, 92, 86, 94, 93, 92, 90, 94, 95, 95, 94, 90, 96, 93, 91, 90, 92, 94, 96, 92, 95, 91, 93, 95, 92, 93, 93, 91, 94, 92, 93, 89, 92, 94, 92, 94, 95, 94, 96, 84, 92, 94, 96, 93, 94, 94, 95, 90, 94, 94, 95, 94, 93, 94, 94, 89, 95, 94, 93, 96, 96, 95, 95, 89, 94, 92, 95, 95, 93, 94, 94, 92, 92, 90, 90, 88, 94, 91, 94, 91, 95, 95, 97, 94, 92, 95, 94, 89, 92, 96, 94, 92, 94, 94, 94, 95, 94, 95, 95, 96, 95, 95, 95, 94, 96, 93, 92, 95, 95, 92, 90, 95, 94, 92, 96, 94, 93, 92, 95, 94, 94, 95, 94, 95, 95, 90, 95, 93, 93, 96, 93, 94, 92, 92, 92, 96, 94, 94, 95, 94, 94, 93, 94, 91, 93, 96, 94, 89, 93, 94, 92, 93, 89, 95, 91, 92, 94, 94, 92, 92, 90, 94, 94, 94, 94, 96, 98, 95, 90, 95, 95, 93, 95, 94, 95, 95, 97, 94, 91, 94, 91, 94, 94, 96, 93, 94, 93, 94, 93, 93, 95, 93, 95, 96, 98, 90, 93, 94, 96, 94, 91, 92, 95, 92, 92, 93, 95, 95, 95, 93, 95, 93, 95, 94, 95, 95, 95, 95, 92, 95, 92, 96, 90, 95, 94, 94, 96, 95, 96, 94, 95, 93, 94, 95, 96, 94, 94, 94, 98, 92, 95, 91, 94, 93, 93, 92, 92, 94, 94, 95, 93, 94, 94, 94, 93, 92, 94, 93, 94, 95, 95, 95, 93, 91, 94, 93, 94, 94, 90, 94, 93, 91, 95, 94, 96, 95, 93, 95, 96, 94, 96, 95, 94, 93, 92, 94, 96, 92, 93, 94, 95, 93, 94, 94, 93, 91, 91, 96, 97, 96, 96, 96, 95, 93, 90, 93, 92, 92, 93, 92, 91, 92, 91, 95, 93, 91, 95, 94, 93, 95, 92, 91, 94, 87, 95, 95, 96, 95, 95, 96, 96, 93, 94, 94, 93, 95, 94, 93, 91, 95, 93, 94, 91, 92, 96, 93, 93, 94, 93, 94, 93, 91, 94, 93, 95, 94, 94, 93, 93, 93, 93, 94, 93, 93, 94, 94, 94, 95, 96, 93, 95, 93, 93, 92, 94, 93, 93, 94, 97, 95, 94, 95, 94, 94, 94, 93, 89, 92, 95, 94, 75, 93, 93, 94, 94, 92, 90, 92, 94, 94, 94, 95, 93, 94, 91, 91, 93, 94, 93, 93, 97, 92, 95, 93, 94, 92, 95, 92, 93, 91, 95, 92, 94, 90, 89, 92, 92, 94, 91, 94, 91, 94, 89, 94, 91, 95, 92, 94, 93, 92, 93, 93, 97, 94, 93, 96, 93, 92, 91, 93, 93, 95, 91, 94, 92, 92, 91, 92, 94, 93, 90, 90, 90, 91, 93, 92, 91, 97, 93, 94, 95, 94, 94, 88, 96, 95, 95, 96, 94, 95, 96, 94, 93, 93, 95, 94, 95, 94, 95, 94, 94, 94, 95, 95, 95, 94, 96, 95, 95, 93, 96, 95, 95, 94, 96, 96, 95, 91, 89, 94, 95, 92, 93, 92, 93, 94, 93, 93, 95, 94, 92, 93, 95, 91, 95, 93, 94, 95, 96, 95, 94, 94, 94, 90, 93, 94, 93, 91, 95, 92, 93, 94, 95, 93, 92, 93, 93, 95, 97, 95, 95, 93, 93, 93, 94, 94, 94, 94, 92, 95, 95, 95, 88, 94, 95, 95, 95, 97, 95, 95, 95, 97, 96, 95, 97, 96, 94, 95, 92, 93, 93, 93, 93, 93, 93, 94, 94, 95, 93, 94, 95, 94, 93, 93, 95, 95, 93, 94, 92, 92, 94, 94, 91, 93, 94, 93, 93, 95, 95, 93, 94, 94, 94, 93, 93, 93, 95, 95, 95, 94, 92, 92, 92, 91, 94, 95, 95, 93, 93, 94, 94, 95, 94, 92, 91, 95, 96, 94, 94, 93, 96, 95, 94, 94, 94, 95, 92, 88, 93, 92, 95, 93, 91, 93, 95, 93, 96, 95, 94, 93, 93, 95, 91, 94, 95, 95, 93, 94, 94, 92, 93, 94, 96, 95, 96, 94, 95, 96, 95, 94, 95, 94, 97, 96, 97, 94, 96, 96, 92, 93, 93, 94, 95, 93, 95, 94, 93, 93, 95, 94, 94, 96, 95, 92, 91, 94, 92, 95, 92, 94, 92, 93, 94, 95, 93, 93, 93, 95, 96, 94, 93, 93, 93, 93, 93, 92, 92, 93, 90, 92, 93, 93, 93, 93, 92, 92, 93, 96, 93, 95, 94, 94, 94, 96, 94, 93, 93, 93, 92, 92, 94, 90, 90, 95, 93, 93, 94, 92, 94, 93, 94, 94, 93, 94, 94, 95, 94, 94, 95, 92, 92, 93, 93, 93, 93, 93, 93, 93, 97, 95, 93, 94, 94, 94, 94, 94, 96, 95, 93, 95, 95, 94, 96, 93, 95, 96, 97, 96, 96, 96, 95]}],\n",
       "                        {\"template\": {\"data\": {\"bar\": [{\"error_x\": {\"color\": \"#2a3f5f\"}, \"error_y\": {\"color\": \"#2a3f5f\"}, \"marker\": {\"line\": {\"color\": \"white\", \"width\": 0.5}}, \"type\": \"bar\"}], \"barpolar\": [{\"marker\": {\"line\": {\"color\": \"white\", \"width\": 0.5}}, \"type\": \"barpolar\"}], \"carpet\": [{\"aaxis\": {\"endlinecolor\": \"#2a3f5f\", \"gridcolor\": \"#C8D4E3\", \"linecolor\": \"#C8D4E3\", \"minorgridcolor\": \"#C8D4E3\", \"startlinecolor\": \"#2a3f5f\"}, \"baxis\": {\"endlinecolor\": \"#2a3f5f\", \"gridcolor\": \"#C8D4E3\", \"linecolor\": \"#C8D4E3\", \"minorgridcolor\": \"#C8D4E3\", \"startlinecolor\": \"#2a3f5f\"}, \"type\": \"carpet\"}], \"choropleth\": [{\"colorbar\": {\"outlinewidth\": 0, \"ticks\": \"\"}, \"type\": \"choropleth\"}], \"contour\": [{\"colorbar\": {\"outlinewidth\": 0, \"ticks\": \"\"}, \"colorscale\": [[0.0, \"#0d0887\"], [0.1111111111111111, \"#46039f\"], [0.2222222222222222, \"#7201a8\"], [0.3333333333333333, \"#9c179e\"], [0.4444444444444444, \"#bd3786\"], [0.5555555555555556, \"#d8576b\"], [0.6666666666666666, \"#ed7953\"], [0.7777777777777778, \"#fb9f3a\"], [0.8888888888888888, \"#fdca26\"], [1.0, \"#f0f921\"]], \"type\": \"contour\"}], \"contourcarpet\": [{\"colorbar\": {\"outlinewidth\": 0, \"ticks\": \"\"}, \"type\": \"contourcarpet\"}], \"heatmap\": [{\"colorbar\": {\"outlinewidth\": 0, \"ticks\": \"\"}, \"colorscale\": [[0.0, \"#0d0887\"], [0.1111111111111111, \"#46039f\"], [0.2222222222222222, \"#7201a8\"], [0.3333333333333333, \"#9c179e\"], [0.4444444444444444, \"#bd3786\"], [0.5555555555555556, \"#d8576b\"], [0.6666666666666666, \"#ed7953\"], [0.7777777777777778, \"#fb9f3a\"], [0.8888888888888888, \"#fdca26\"], [1.0, \"#f0f921\"]], \"type\": \"heatmap\"}], \"heatmapgl\": [{\"colorbar\": {\"outlinewidth\": 0, \"ticks\": \"\"}, \"colorscale\": [[0.0, \"#0d0887\"], [0.1111111111111111, \"#46039f\"], [0.2222222222222222, \"#7201a8\"], [0.3333333333333333, \"#9c179e\"], [0.4444444444444444, \"#bd3786\"], [0.5555555555555556, \"#d8576b\"], [0.6666666666666666, \"#ed7953\"], [0.7777777777777778, \"#fb9f3a\"], [0.8888888888888888, \"#fdca26\"], [1.0, \"#f0f921\"]], \"type\": \"heatmapgl\"}], \"histogram\": [{\"marker\": {\"colorbar\": {\"outlinewidth\": 0, \"ticks\": \"\"}}, \"type\": \"histogram\"}], \"histogram2d\": [{\"colorbar\": {\"outlinewidth\": 0, \"ticks\": \"\"}, \"colorscale\": [[0.0, \"#0d0887\"], [0.1111111111111111, \"#46039f\"], [0.2222222222222222, \"#7201a8\"], [0.3333333333333333, \"#9c179e\"], [0.4444444444444444, \"#bd3786\"], [0.5555555555555556, \"#d8576b\"], [0.6666666666666666, \"#ed7953\"], [0.7777777777777778, \"#fb9f3a\"], [0.8888888888888888, \"#fdca26\"], [1.0, \"#f0f921\"]], \"type\": \"histogram2d\"}], \"histogram2dcontour\": [{\"colorbar\": {\"outlinewidth\": 0, \"ticks\": \"\"}, \"colorscale\": [[0.0, \"#0d0887\"], [0.1111111111111111, \"#46039f\"], [0.2222222222222222, \"#7201a8\"], [0.3333333333333333, \"#9c179e\"], [0.4444444444444444, \"#bd3786\"], [0.5555555555555556, \"#d8576b\"], [0.6666666666666666, \"#ed7953\"], [0.7777777777777778, \"#fb9f3a\"], [0.8888888888888888, \"#fdca26\"], [1.0, \"#f0f921\"]], \"type\": \"histogram2dcontour\"}], \"mesh3d\": [{\"colorbar\": {\"outlinewidth\": 0, \"ticks\": \"\"}, \"type\": \"mesh3d\"}], \"parcoords\": [{\"line\": {\"colorbar\": {\"outlinewidth\": 0, \"ticks\": \"\"}}, \"type\": \"parcoords\"}], \"scatter\": [{\"marker\": {\"colorbar\": {\"outlinewidth\": 0, \"ticks\": \"\"}}, \"type\": \"scatter\"}], \"scatter3d\": [{\"line\": {\"colorbar\": {\"outlinewidth\": 0, \"ticks\": \"\"}}, \"marker\": {\"colorbar\": {\"outlinewidth\": 0, \"ticks\": \"\"}}, \"type\": \"scatter3d\"}], \"scattercarpet\": [{\"marker\": {\"colorbar\": {\"outlinewidth\": 0, \"ticks\": \"\"}}, \"type\": \"scattercarpet\"}], \"scattergeo\": [{\"marker\": {\"colorbar\": {\"outlinewidth\": 0, \"ticks\": \"\"}}, \"type\": \"scattergeo\"}], \"scattergl\": [{\"marker\": {\"colorbar\": {\"outlinewidth\": 0, \"ticks\": \"\"}}, \"type\": \"scattergl\"}], \"scattermapbox\": [{\"marker\": {\"colorbar\": {\"outlinewidth\": 0, \"ticks\": \"\"}}, \"type\": \"scattermapbox\"}], \"scatterpolar\": [{\"marker\": {\"colorbar\": {\"outlinewidth\": 0, \"ticks\": \"\"}}, \"type\": \"scatterpolar\"}], \"scatterpolargl\": [{\"marker\": {\"colorbar\": {\"outlinewidth\": 0, \"ticks\": \"\"}}, \"type\": \"scatterpolargl\"}], \"scatterternary\": [{\"marker\": {\"colorbar\": {\"outlinewidth\": 0, \"ticks\": \"\"}}, \"type\": \"scatterternary\"}], \"surface\": [{\"colorbar\": {\"outlinewidth\": 0, \"ticks\": \"\"}, \"colorscale\": [[0.0, \"#0d0887\"], [0.1111111111111111, \"#46039f\"], [0.2222222222222222, \"#7201a8\"], [0.3333333333333333, \"#9c179e\"], [0.4444444444444444, \"#bd3786\"], [0.5555555555555556, \"#d8576b\"], [0.6666666666666666, \"#ed7953\"], [0.7777777777777778, \"#fb9f3a\"], [0.8888888888888888, \"#fdca26\"], [1.0, \"#f0f921\"]], \"type\": \"surface\"}], \"table\": [{\"cells\": {\"fill\": {\"color\": \"#EBF0F8\"}, \"line\": {\"color\": \"white\"}}, \"header\": {\"fill\": {\"color\": \"#C8D4E3\"}, \"line\": {\"color\": \"white\"}}, \"type\": \"table\"}]}, \"layout\": {\"annotationdefaults\": {\"arrowcolor\": \"#2a3f5f\", \"arrowhead\": 0, \"arrowwidth\": 1}, \"colorscale\": {\"diverging\": [[0, \"#8e0152\"], [0.1, \"#c51b7d\"], [0.2, \"#de77ae\"], [0.3, \"#f1b6da\"], [0.4, \"#fde0ef\"], [0.5, \"#f7f7f7\"], [0.6, \"#e6f5d0\"], [0.7, \"#b8e186\"], [0.8, \"#7fbc41\"], [0.9, \"#4d9221\"], [1, \"#276419\"]], \"sequential\": [[0.0, \"#0d0887\"], [0.1111111111111111, \"#46039f\"], [0.2222222222222222, \"#7201a8\"], [0.3333333333333333, \"#9c179e\"], [0.4444444444444444, \"#bd3786\"], [0.5555555555555556, \"#d8576b\"], [0.6666666666666666, \"#ed7953\"], [0.7777777777777778, \"#fb9f3a\"], [0.8888888888888888, \"#fdca26\"], [1.0, \"#f0f921\"]], \"sequentialminus\": [[0.0, \"#0d0887\"], [0.1111111111111111, \"#46039f\"], [0.2222222222222222, \"#7201a8\"], [0.3333333333333333, \"#9c179e\"], [0.4444444444444444, \"#bd3786\"], [0.5555555555555556, \"#d8576b\"], [0.6666666666666666, \"#ed7953\"], [0.7777777777777778, \"#fb9f3a\"], [0.8888888888888888, \"#fdca26\"], [1.0, \"#f0f921\"]]}, \"colorway\": [\"#636efa\", \"#EF553B\", \"#00cc96\", \"#ab63fa\", \"#FFA15A\", \"#19d3f3\", \"#FF6692\", \"#B6E880\", \"#FF97FF\", \"#FECB52\"], \"font\": {\"color\": \"#2a3f5f\"}, \"geo\": {\"bgcolor\": \"white\", \"lakecolor\": \"white\", \"landcolor\": \"white\", \"showlakes\": true, \"showland\": true, \"subunitcolor\": \"#C8D4E3\"}, \"hoverlabel\": {\"align\": \"left\"}, \"hovermode\": \"closest\", \"mapbox\": {\"style\": \"light\"}, \"paper_bgcolor\": \"white\", \"plot_bgcolor\": \"white\", \"polar\": {\"angularaxis\": {\"gridcolor\": \"#EBF0F8\", \"linecolor\": \"#EBF0F8\", \"ticks\": \"\"}, \"bgcolor\": \"white\", \"radialaxis\": {\"gridcolor\": \"#EBF0F8\", \"linecolor\": \"#EBF0F8\", \"ticks\": \"\"}}, \"scene\": {\"xaxis\": {\"backgroundcolor\": \"white\", \"gridcolor\": \"#DFE8F3\", \"gridwidth\": 2, \"linecolor\": \"#EBF0F8\", \"showbackground\": true, \"ticks\": \"\", \"zerolinecolor\": \"#EBF0F8\"}, \"yaxis\": {\"backgroundcolor\": \"white\", \"gridcolor\": \"#DFE8F3\", \"gridwidth\": 2, \"linecolor\": \"#EBF0F8\", \"showbackground\": true, \"ticks\": \"\", \"zerolinecolor\": \"#EBF0F8\"}, \"zaxis\": {\"backgroundcolor\": \"white\", \"gridcolor\": \"#DFE8F3\", \"gridwidth\": 2, \"linecolor\": \"#EBF0F8\", \"showbackground\": true, \"ticks\": \"\", \"zerolinecolor\": \"#EBF0F8\"}}, \"shapedefaults\": {\"line\": {\"color\": \"#2a3f5f\"}}, \"ternary\": {\"aaxis\": {\"gridcolor\": \"#DFE8F3\", \"linecolor\": \"#A2B1C6\", \"ticks\": \"\"}, \"baxis\": {\"gridcolor\": \"#DFE8F3\", \"linecolor\": \"#A2B1C6\", \"ticks\": \"\"}, \"bgcolor\": \"white\", \"caxis\": {\"gridcolor\": \"#DFE8F3\", \"linecolor\": \"#A2B1C6\", \"ticks\": \"\"}}, \"title\": {\"x\": 0.05}, \"xaxis\": {\"automargin\": true, \"gridcolor\": \"#EBF0F8\", \"linecolor\": \"#EBF0F8\", \"ticks\": \"\", \"zerolinecolor\": \"#EBF0F8\", \"zerolinewidth\": 2}, \"yaxis\": {\"automargin\": true, \"gridcolor\": \"#EBF0F8\", \"linecolor\": \"#EBF0F8\", \"ticks\": \"\", \"zerolinecolor\": \"#EBF0F8\", \"zerolinewidth\": 2}}}, \"xaxis\": {\"title\": {\"text\": \"Readmission Rate\"}}, \"yaxis\": {\"title\": {\"text\": \"Patients' Mean Rating of the Facility\"}}},\n",
       "                        {\"responsive\": true}\n",
       "                    ).then(function(){\n",
       "                            \n",
       "var gd = document.getElementById('272b938f-4163-4732-9e8c-90209773d200');\n",
       "var x = new MutationObserver(function (mutations, observer) {{\n",
       "        var display = window.getComputedStyle(gd).display;\n",
       "        if (!display || display === 'none') {{\n",
       "            console.log([gd, 'removed!']);\n",
       "            Plotly.purge(gd);\n",
       "            observer.disconnect();\n",
       "        }}\n",
       "}});\n",
       "\n",
       "// Listen for the removal of the full notebook cells\n",
       "var notebookContainer = gd.closest('#notebook-container');\n",
       "if (notebookContainer) {{\n",
       "    x.observe(notebookContainer, {childList: true});\n",
       "}}\n",
       "\n",
       "// Listen for the clearing of the current output cell\n",
       "var outputEl = gd.closest('.output');\n",
       "if (outputEl) {{\n",
       "    x.observe(outputEl, {childList: true});\n",
       "}}\n",
       "\n",
       "                        })\n",
       "                };\n",
       "                });\n",
       "            </script>\n",
       "        </div>"
      ]
     },
     "metadata": {},
     "output_type": "display_data"
    }
   ],
   "source": [
    "plt_df = mergedMUA_df\n",
    "fig = go.Figure(data=[\n",
    "    go.Scattergl(\n",
    "        x = plt_df['rate_of_readmission'], \n",
    "        y = plt_df['patients_rating_of_the_facility_linear_mean_score'], \n",
    "        mode='markers', \n",
    "        hoverinfo=\"text\", \n",
    "        hovertext=[ '{plt_df.at[i, \"facility_name\"]} <br> {plt_df.at[i, \"address\"]}<br>{plt_df.at[i, \"city\"]}' for i in range(len(plt_df))],\n",
    "        name = 'Hi')])\n",
    "fig.update_layout(template=\"plotly_white\")\n",
    "fig.update_xaxes(title_text=\"Readmission Rate\")\n",
    "fig.update_yaxes(title_text=\"Patients' Mean Rating of the Facility\")\n",
    "fig.show()\n"
   ]
  },
  {
   "cell_type": "code",
   "execution_count": null,
   "metadata": {},
   "outputs": [],
   "source": [
    "data=[]\n",
    "for level in plt_df['is-MUA?'].unique():\n",
    "    trace=plt_df[plt_df['is-MUA?'] == level]\n",
    "    data.append(\n",
    "        go.Scatter(\n",
    "            x = trace.rate_of_readmission,\n",
    "            y = trace.patients_rating_of_the_facility_linear_mean_score,\n",
    "            mode = 'markers',\n",
    "            name = str(level)\n",
    "            "
   ]
  },
  {
   "cell_type": "code",
   "execution_count": 138,
   "metadata": {},
   "outputs": [
    {
     "data": {
      "application/vnd.plotly.v1+json": {
       "config": {
        "plotlyServerURL": "https://plot.ly"
       },
       "data": [
        {
         "customdata": [
          [
           "CRENSHAW COMMUNITY HOSPITAL",
           "101 HOSPITAL CIRCLE",
           "LUVERNE",
           "AL"
          ],
          [
           "DALE MEDICAL CENTER",
           "126 HOSPITAL AVE",
           "OZARK",
           "AL"
          ],
          [
           "CULLMAN REGIONAL MEDICAL CENTER",
           "1912 ALABAMA HIGHWAY 157",
           "CULLMAN",
           "AL"
          ],
          [
           "MARION REGIONAL MEDICAL CENTER",
           "1256 MILITARY STREET SOUTH",
           "HAMILTON",
           "AL"
          ],
          [
           "FAYETTE MEDICAL CENTER",
           "1653 TEMPLE AVENUE NORTH",
           "FAYETTE",
           "AL"
          ],
          [
           "LAWRENCE MEDICAL CENTER",
           "202 HOSPITAL STREET",
           "MOULTON",
           "AL"
          ],
          [
           "HIGHLANDS MEDICAL CENTER",
           "380 WOODS COVE ROAD",
           "SCOTTSBORO",
           "AL"
          ],
          [
           "RUSSELL MEDICAL CENTER",
           "3316 HIGHWAY 280",
           "ALEXANDER CITY",
           "AL"
          ],
          [
           "NORTHEAST ALABAMA REGIONAL MEDICAL CENTER",
           "400 EAST 10TH STREET",
           "ANNISTON",
           "AL"
          ],
          [
           "ATHENS LIMESTONE HOSPITAL",
           "700 WEST MARKET STREET",
           "ATHENS",
           "AL"
          ],
          [
           "D C H REGIONAL MEDICAL CENTER",
           "809 UNIVERSITY BOULEVARD EAST",
           "TUSCALOOSA",
           "AL"
          ],
          [
           "THOMAS HOSPITAL",
           "750 MORPHY AVENUE",
           "FAIRHOPE",
           "AL"
          ],
          [
           "PICKENS COUNTY MEDICAL CENTER",
           "241 ROBERT K WILSON DRIVE",
           "CARROLLTON",
           "AL"
          ],
          [
           "MOBILE INFIRMARY MEDICAL CENTER",
           "5 MOBILE INFIRMARY CIRCLE",
           "MOBILE",
           "AL"
          ],
          [
           "NORTH BALDWIN INFIRMARY",
           "1815 HAND AVENUE",
           "BAY MINETTE",
           "AL"
          ],
          [
           "EVERGREEN MEDICAL CENTER",
           "101 CRESTVIEW AVENUE",
           "EVERGREEN",
           "AL"
          ],
          [
           "COOSA VALLEY MEDICAL CENTER",
           "315 W HICKORY ST",
           "SYLACAUGA",
           "AL"
          ],
          [
           "JACK HUGHSTON MEMORIAL HOSPITAL",
           "4401 RIVER CHASE DRIVE",
           "PHENIX CITY",
           "AL"
          ],
          [
           "ATMORE COMMUNITY HOSPITAL",
           "401 MEDICAL PARK DRIVE",
           "ATMORE",
           "AL"
          ],
          [
           "PROVIDENCE ALASKA MEDICAL CENTER",
           "3200 PROVIDENCE DRIVE",
           "ANCHORAGE",
           "AK"
          ],
          [
           "YUMA REGIONAL MEDICAL CENTER",
           "2400 SOUTH AVENUE A",
           "YUMA",
           "AZ"
          ],
          [
           "SUMMIT HEALTHCARE REGIONAL MEDICAL CENTER",
           "2200 EAST SHOW LOW LAKE ROAD",
           "SHOW LOW",
           "AZ"
          ],
          [
           "SANTA CRUZ VALLEY REGIONAL HOSPITAL",
           "4455 SOUTH I-19 FRONTAGE ROAD",
           "GREEN VALLEY",
           "AZ"
          ],
          [
           "JOHNSON REGIONAL MEDICAL CENTER",
           "1100 EAST POPLAR STREET",
           "CLARKSVILLE",
           "AR"
          ],
          [
           "WHITE COUNTY MEDICAL CENTER",
           "3214 EAST RACE AVENUE",
           "SEARCY",
           "AR"
          ],
          [
           "UAMS MEDICAL CENTER",
           "4301 WEST MARKHAM STREET MAIL SLOT 612",
           "LITTLE ROCK",
           "AR"
          ],
          [
           "GREAT RIVER MEDICAL CENTER",
           "1520 N DIVISION STREET",
           "BLYTHEVILLE",
           "AR"
          ],
          [
           "NEA BAPTIST MEMORIAL HOSPITAL",
           "4800 EAST JOHNSON AVENUE",
           "JONESBORO",
           "AR"
          ],
          [
           "ARKANSAS HEART HOSPITAL, LLC",
           "1701 S SHACKLEFORD ROAD",
           "LITTLE ROCK",
           "AR"
          ],
          [
           "OZARK HEALTH",
           "2500 HIGHWAY 65 SOUTH",
           "CLINTON",
           "AR"
          ],
          [
           "CHICOT MEMORIAL MEDICAL CENTER",
           "2729 SOUTH HIGHWAY 65 & 82",
           "LAKE VILLAGE",
           "AR"
          ],
          [
           "ST ROSE HOSPITAL",
           "27200 CALAROGA AVE",
           "HAYWARD",
           "CA"
          ],
          [
           "ST JOSEPH HOSPITAL",
           "2700 DOLBEER ST",
           "EUREKA",
           "CA"
          ],
          [
           "EL CENTRO REGIONAL MEDICAL CENTER",
           "1415 ROSS AVENUE",
           "EL CENTRO",
           "CA"
          ],
          [
           "KAISER FOUNDATION HOSPITAL - SOUTH SAN FRANCISCO",
           "1200 EL CAMINO REAL",
           "SOUTH SAN FRANCISCO",
           "CA"
          ],
          [
           "KAISER FOUNDATION HOSPITAL-SANTA CLARA",
           "700 LAWRENCE EXPRESSWAY",
           "SANTA CLARA",
           "CA"
          ],
          [
           "KAISER FOUNDATION HOSPITAL - WALNUT CREEK",
           "1425 S MAIN STREET",
           "WALNUT CREEK",
           "CA"
          ],
          [
           "KAISER FOUNDATION HOSPITAL AND REHAB CENTER",
           "975 SERENO DR",
           "VALLEJO",
           "CA"
          ],
          [
           "KAISER FOUNDATION HOSPITAL - OAKLAND/RICHMOND",
           "275 WEST MACARTHUR BOULEVARD",
           "OAKLAND",
           "CA"
          ],
          [
           "KAISER FOUNDATION HOSPITAL - SAN FRANCISCO",
           "2425 GEARY BLVD",
           "SAN FRANCISCO",
           "CA"
          ],
          [
           "SCRIPPS MERCY HOSPITAL",
           "4077 5TH AVE",
           "SAN DIEGO",
           "CA"
          ],
          [
           "ADVENTIST HEALTH AND RIDEOUT",
           "726 4TH ST",
           "MARYSVILLE",
           "CA"
          ],
          [
           "KAISER FOUNDATION HOSPITAL FONTANA",
           "9961 SIERRA AVE",
           "FONTANA",
           "CA"
          ],
          [
           "O'CONNOR HOSPITAL",
           "2105 FOREST AVENUE",
           "SAN JOSE",
           "CA"
          ],
          [
           "SANTA ROSA MEMORIAL HOSPITAL",
           "1165 MONTGOMERY DR",
           "SANTA ROSA",
           "CA"
          ],
          [
           "JOHN MUIR MEDICAL CENTER - WALNUT CREEK CAMPUS",
           "1601 YGNACIO VALLEY RD",
           "WALNUT CREEK",
           "CA"
          ],
          [
           "GEORGE L MEE MEMORIAL HOSPITAL",
           "300 CANAL STREET",
           "KING CITY",
           "CA"
          ],
          [
           "ALAMEDA HOSPITAL",
           "2070 CLINTON AVENUE",
           "ALAMEDA",
           "CA"
          ],
          [
           "ARROWHEAD REGIONAL MEDICAL CENTER",
           "400 NORTH PEPPER AVENUE",
           "COLTON",
           "CA"
          ],
          [
           "CONTRA COSTA REGIONAL MEDICAL CENTER",
           "2500 ALHAMBRA AVENUE",
           "MARTINEZ",
           "CA"
          ],
          [
           "SETON MEDICAL CENTER",
           "1900 SULLIVAN AVENUE",
           "DALY CITY",
           "CA"
          ],
          [
           "ST MARY MEDICAL CENTER",
           "18300 HIGHWAY 18",
           "APPLE VALLEY",
           "CA"
          ],
          [
           "ADVENTIST HEALTH UKIAH VALLEY",
           "275 HOSPITAL DRIVE",
           "UKIAH",
           "CA"
          ],
          [
           "KERN MEDICAL CENTER",
           "1700 MOUNT VERNON AVENUE",
           "BAKERSFIELD",
           "CA"
          ],
          [
           "HIGHLAND HOSPITAL",
           "1411 E 31ST STREET",
           "OAKLAND",
           "CA"
          ],
          [
           "SCRIPPS MEMORIAL HOSPITAL LA JOLLA",
           "9888 GENESEE AVENUE",
           "LA JOLLA",
           "CA"
          ],
          [
           "CORONA REGIONAL MEDICAL CENTER",
           "800 SOUTH MAIN STREET",
           "CORONA",
           "CA"
          ],
          [
           "ADVENTIST HEALTH SONORA",
           "1000 GREENLEY ROAD",
           "SONORA",
           "CA"
          ],
          [
           "HEMET VALLEY MEDICAL CENTER",
           "1117 EAST DEVONSHIRE",
           "HEMET",
           "CA"
          ],
          [
           "COMMUNITY MEMORIAL HOSPITAL SAN BUENAVENTURA",
           "147 N BRENT ST",
           "VENTURA",
           "CA"
          ],
          [
           "SCRIPPS GREEN HOSPITAL",
           "10666 NORTH TORREY PINES ROAD",
           "LA JOLLA",
           "CA"
          ],
          [
           "KAISER FOUNDATION HOSPITAL - SACRAMENTO",
           "2025 MORSE AVENUE",
           "SACRAMENTO",
           "CA"
          ],
          [
           "JOHN MUIR MEDICAL CENTER - CONCORD CAMPUS",
           "2540 EAST ST",
           "CONCORD",
           "CA"
          ],
          [
           "SCRIPPS MEMORIAL HOSPITAL - ENCINITAS",
           "354 SANTA FE DRIVE",
           "ENCINITAS",
           "CA"
          ],
          [
           "KAISER FOUNDATION HOSPITAL - FREMONT",
           "39400 PASEO PADRE PKWY",
           "FREMONT",
           "CA"
          ],
          [
           "KAISER FOUNDATION HOSPITAL - ZION",
           "4647 ZION AVE",
           "SAN DIEGO",
           "CA"
          ],
          [
           "KAISER FOUNDATION HOSPITAL - REDWOOD CITY",
           "1100 VETERANS BOULEVARD",
           "REDWOOD CITY",
           "CA"
          ],
          [
           "MADERA COMMUNITY HOSPITAL",
           "1250 E ALMOND AVE",
           "MADERA",
           "CA"
          ],
          [
           "UNIVERSITY OF CALIFORNIA DAVIS MEDICAL CENTER",
           "2315 STOCKTON BOULEVARD",
           "SACRAMENTO",
           "CA"
          ],
          [
           "KAISER FOUNDATION HOSPITAL-SAN JOSE",
           "250 HOSPITAL PARKWAY",
           "SAN JOSE",
           "CA"
          ],
          [
           "KAISER FOUNDATION HOSP SO SACRAMENTO",
           "6600 BRUCEVILLE ROAD",
           "SACRAMENTO",
           "CA"
          ],
          [
           "MENIFEE VALLEY MEDICAL CENTER",
           "28400 MCCALL B0ULEVARD",
           "SUN CITY",
           "CA"
          ],
          [
           "KAISER FOUNDATION HOSPITAL, RIVERSIDE",
           "10800 MAGNOLIA AVENUE",
           "RIVERSIDE",
           "CA"
          ],
          [
           "ST LOUISE REGIONAL HOSPITAL",
           "9400 NO NAME UNO",
           "GILROY",
           "CA"
          ],
          [
           "KAISER FOUNDATION HOSPITAL-SANTA ROSA",
           "401 BICENTENNIAL WAY",
           "SANTA ROSA",
           "CA"
          ],
          [
           "SOUTHWEST HEALTHCARE SYSTEM",
           "25500 MEDICAL CENTER DRIVE",
           "MURRIETA",
           "CA"
          ],
          [
           "KAISER FOUNDATION HOSPITAL - FRESNO",
           "7300 NORTH FRESNO ST",
           "FRESNO",
           "CA"
          ],
          [
           "KAISER FOUNDATION HOSPITAL MANTECA",
           "1777 WEST YOSEMITE AVE",
           "MANTECA",
           "CA"
          ],
          [
           "KAISER FOUNDATION HOSPITAL - ANTIOCH",
           "4501 SAND CREEK ROAD",
           "ANTIOCH",
           "CA"
          ],
          [
           "KAISER FOUNDATION HOSPITAL-MORENO VALLEY",
           "27300 IRIS AVENUE",
           "MORENO VALLEY",
           "CA"
          ],
          [
           "KAISER FOUNDATION HOSPITAL - VACAVILLE",
           "1 QUALITY DRIVE",
           "VACAVILLE",
           "CA"
          ],
          [
           "SAN LEANDRO HOSPITAL",
           "13855 E 14TH STREET",
           "SAN LEANDRO",
           "CA"
          ],
          [
           "TEMECULA VALLEY HOSPITAL",
           "31700 TEMECULA PKWY",
           "TEMECULA",
           "CA"
          ],
          [
           "KAISER FOUNDATION HOSPITAL - SAN LEANDRO",
           "2500 MERCED STREET",
           "SAN LEANDRO",
           "CA"
          ],
          [
           "REDWOOD MEMORIAL HOSPITAL",
           "3300 RENNER DRIVE",
           "FORTUNA",
           "CA"
          ],
          [
           "HEALDSBURG DISTRICT HOSPITAL",
           "1375 UNIVERSITY AVENUE",
           "HEALDSBURG",
           "CA"
          ],
          [
           "PLATTE VALLEY MEDICAL CENTER",
           "1600 PRAIRIE CENTER PARKWAY",
           "BRIGHTON",
           "CO"
          ],
          [
           "SAINT JOSEPH HOSPITAL",
           "1375 EAST 19TH AVENUE",
           "DENVER",
           "CO"
          ],
          [
           "WRAY COMMUNITY DISTRICT HOSPITAL",
           "1017 WEST 7TH STREET",
           "WRAY",
           "CO"
          ],
          [
           "STAMFORD HOSPITAL",
           "ONE HOSPITAL PLAZA",
           "STAMFORD",
           "CT"
          ],
          [
           "LAWRENCE & MEMORIAL HOSPITAL",
           "365 MONTAUK AVE",
           "NEW LONDON",
           "CT"
          ],
          [
           "DANBURY HOSPITAL",
           "24 HOSPITAL AVE",
           "DANBURY",
           "CT"
          ],
          [
           "NORWALK HOSPITAL ASSOCIATION",
           "24 STEVENS STREET",
           "NORWALK",
           "CT"
          ],
          [
           "HALIFAX HEALTH MEDICAL CENTER",
           "303 N CLYDE MORRIS BLVD",
           "DAYTONA BEACH",
           "FL"
          ],
          [
           "MANATEE MEMORIAL HOSPITAL",
           "206 2ND ST E",
           "BRADENTON",
           "FL"
          ],
          [
           "MARTIN MEDICAL CENTER",
           "200 SE HOSPITAL AVE",
           "STUART",
           "FL"
          ],
          [
           "SOUTH LAKE HOSPITAL",
           "1900 DON WICKHAM DR",
           "CLERMONT",
           "FL"
          ],
          [
           "UF HEALTH SHANDS HOSPITAL",
           "1600 SW ARCHER RD",
           "GAINESVILLE",
           "FL"
          ],
          [
           "BAPTIST MEDICAL CENTER - NASSAU",
           "1250 S 18TH ST",
           "FERNANDINA BEACH",
           "FL"
          ],
          [
           "LAKEWOOD RANCH MEDICAL CENTER",
           "8330 LAKEWOOD RANCH BLVD",
           "BRADENTON",
           "FL"
          ],
          [
           "TANNER MEDICAL CENTER - CARROLLTON",
           "705 DIXIE STREET",
           "CARROLLTON",
           "GA"
          ],
          [
           "TANNER MEDICAL CENTER VILLA RICA",
           "601 DALLAS HIGHWAY",
           "VILLA RICA",
           "GA"
          ],
          [
           "WELLSTAR WEST GEORGIA MEDICAL CENTER",
           "1514 VERNON ROAD",
           "LAGRANGE",
           "GA"
          ],
          [
           "PIEDMONT NEWTON HOSPITAL",
           "5126 HOSPITAL DRIVE NE",
           "COVINGTON",
           "GA"
          ],
          [
           "WELLSTAR SPALDING REGIONAL HOSPITAL",
           "601 SOUTH 8TH STREET",
           "GRIFFIN",
           "GA"
          ],
          [
           "APPLING HOSPITAL",
           "163 E TOLLISON STREET",
           "BAXLEY",
           "GA"
          ],
          [
           "PIEDMONT ATHENS REGIONAL MEDICAL CENTER",
           "1199 PRINCE AVENUE",
           "ATHENS",
           "GA"
          ],
          [
           "WAYNE MEMORIAL HOSPITAL",
           "865 SOUTH FIRST STREET",
           "JESUP",
           "GA"
          ],
          [
           "MEMORIAL HOSPITAL AND MANOR",
           "1500 E SHOTWELL STREET",
           "BAINBRIDGE",
           "GA"
          ],
          [
           "TAYLOR REGIONAL HOSPITAL",
           "222 PERRY HWY",
           "HAWKINSVILLE",
           "GA"
          ],
          [
           "PIEDMONT HENRY HOSPITAL",
           "1133 EAGLE'S LANDING PARKWAY",
           "STOCKBRIDGE",
           "GA"
          ],
          [
           "PIEDMONT COLUMBUS REGIONAL NORTHSIDE",
           "100 FRIST COURT",
           "COLUMBUS",
           "GA"
          ],
          [
           "PIEDMONT MOUNTAINSIDE HOSPITAL INC",
           "1266 HIGHWAY 515 SOUTH",
           "JASPER",
           "GA"
          ],
          [
           "PIEDMONT NEWNAN HOSPITAL, INC",
           "745 POPLAR ROAD",
           "NEWNAN",
           "GA"
          ],
          [
           "SOUTHEASTERN REGIONAL MEDICAL CENTER",
           "600 CELEBRATE LIFE PARKWAY",
           "NEWNAN",
           "GA"
          ],
          [
           "EFFINGHAM HEALTH SYSTEM",
           "459 GA HIGHWAY 119 SOUTH",
           "SPRINGFIELD",
           "GA"
          ],
          [
           "OPTIM MEDICAL CENTER - SCREVEN",
           "215 MIMS ROAD",
           "SYLVANIA",
           "GA"
          ],
          [
           "HIGGINS GENERAL HOSPITAL",
           "200 ALLEN MEMORIAL DRIVE",
           "BREMEN",
           "GA"
          ],
          [
           "OPTIM MEDICAL CENTER - TATTNALL",
           "247 S MAIN STREET",
           "REIDSVILLE",
           "GA"
          ],
          [
           "HILO MEDICAL CENTER",
           "1190 WAIANUENUE AVENUE",
           "HILO",
           "HI"
          ],
          [
           "KOOTENAI HEALTH",
           "2003 KOOTENAI HEALTH WAY",
           "COEUR D'ALENE",
           "ID"
          ],
          [
           "NORTHWEST SPECIALTY HOSPITAL",
           "1593 EAST POLSTON AVENUE",
           "POST FALLS",
           "ID"
          ],
          [
           "ST LUKE'S NAMPA MEDICAL CENTER",
           "9850 W ST LUKES DRIVE",
           "NAMPA",
           "ID"
          ],
          [
           "STEELE MEMORIAL MEDICAL CENTER",
           "203 SOUTH DAISY STREET",
           "SALMON",
           "ID"
          ],
          [
           "VALOR HEALTH",
           "1202 EAST LOCUST STREET",
           "EMMETT",
           "ID"
          ],
          [
           "MINIDOKA MEMORIAL HOSPITAL",
           "1224 8TH STREET",
           "RUPERT",
           "ID"
          ],
          [
           "PROCTOR HOSPITAL",
           "5409 N KNOXVILLE AVE",
           "PEORIA",
           "IL"
          ],
          [
           "HSHS GOOD SHEPHERD HOSPITAL INC",
           "200 S CEDAR ST",
           "SHELBYVILLE",
           "IL"
          ],
          [
           "ST ANTHONYS MEMORIAL HOSPITAL",
           "503 N MAPLE STREET",
           "EFFINGHAM",
           "IL"
          ],
          [
           "OSF SAINT ANTHONY'S HEALTH CENTER",
           "ST ANTHONY'S WAY",
           "ALTON",
           "IL"
          ],
          [
           "ST JOHNS HOSPITAL",
           "800 E CARPENTER ST",
           "SPRINGFIELD",
           "IL"
          ],
          [
           "ST MARY MEDICAL CENTER",
           "3333 NORTH SEMINARY",
           "GALESBURG",
           "IL"
          ],
          [
           "THE CARLE FOUNDATION HOSPITAL",
           "611 WEST PARK STREET",
           "URBANA",
           "IL"
          ],
          [
           "GREENVILLE REGIONAL HOSPITAL",
           "200 HEALTH CARE DR",
           "GREENVILLE",
           "IL"
          ],
          [
           "RICHLAND MEMORIAL HOSPITAL",
           "800 EAST LOCUST",
           "OLNEY",
           "IL"
          ],
          [
           "SAINT JAMES HOSPITAL",
           "2500 WEST REYNOLDS STREET",
           "PONTIAC",
           "IL"
          ],
          [
           "ST MARYS HOSPITAL",
           "1800 E LAKE SHORE DR",
           "DECATUR",
           "IL"
          ],
          [
           "METHODIST MEDICAL CENTER OF ILLINOIS",
           "221 N E GLEN OAK AVE",
           "PEORIA",
           "IL"
          ],
          [
           "OSF HOLY FAMILY MEDICAL CENTER",
           "1000 W HARLEM AVENUE",
           "MONMOUTH",
           "IL"
          ],
          [
           "ST JOSEPH'S HOSPITAL",
           "12866 TROXLER AVENUE",
           "HIGHLAND",
           "IL"
          ],
          [
           "ST FRANCIS HOSPITAL",
           "1215 FRANCISCAN DR",
           "LITCHFIELD",
           "IL"
          ],
          [
           "METHODIST HOSPITALS INC",
           "600 GRANT ST",
           "GARY",
           "IN"
          ],
          [
           "KING'S DAUGHTERS' HEALTH",
           "1373 EAST SR 62",
           "MADISON",
           "IN"
          ],
          [
           "FRANCISCAN HEALTH DYER",
           "24 JOLIET ST",
           "DYER",
           "IN"
          ],
          [
           "FRANCISCAN HEALTH LAFAYETTE",
           "1701 S CREASY LN",
           "LAFAYETTE",
           "IN"
          ],
          [
           "FRANCISCAN HEALTH CROWN POINT",
           "1201 S MAIN ST",
           "CROWN POINT",
           "IN"
          ],
          [
           "SULLIVAN COUNTY COMMUNITY HOSPITAL",
           "2200 N SECTION ST",
           "SULLIVAN",
           "IN"
          ],
          [
           "DECATUR COUNTY MEMORIAL HOSPITAL",
           "720 N LINCOLN ST",
           "GREENSBURG",
           "IN"
          ],
          [
           "UNITYPOINT HEALTH-MARSHALLTOWN",
           "3 S 4TH AVE",
           "MARSHALLTOWN",
           "IA"
          ],
          [
           "UNITYPOINT HEALTH - KEOKUK",
           "1600 MORGAN STREET",
           "KEOKUK",
           "IA"
          ],
          [
           "IOWA LUTHERAN HOSPITAL",
           "700 EAST UNIVERSITY AVENUE",
           "DES MOINES",
           "IA"
          ],
          [
           "IOWA METHODIST MEDICAL CENTER",
           "1200 PLEASANT STREET",
           "DES MOINES",
           "IA"
          ],
          [
           "ALLEN HOSPITAL",
           "1825 LOGAN AVENUE",
           "WATERLOO",
           "IA"
          ],
          [
           "FINLEY HOSPITAL",
           "350 NORTH GRANDVIEW AVENUE",
           "DUBUQUE",
           "IA"
          ],
          [
           "FORT MADISON COMMUNITY HOSPITAL",
           "5445 AVE O",
           "FORT MADISON",
           "IA"
          ],
          [
           "ST LUKES REGIONAL MEDICAL CENTER",
           "2720 STONE PARK BOULEVARD",
           "SIOUX CITY",
           "IA"
          ],
          [
           "HUMBOLDT COUNTY MEMORIAL HOSPITAL",
           "1000 NORTH 15TH STREET",
           "HUMBOLDT",
           "IA"
          ],
          [
           "CLARKE COUNTY HOSPITAL",
           "800 S FILLMORE ST",
           "OSCEOLA",
           "IA"
          ],
          [
           "HENRY COUNTY HEALTH CENTER",
           "407 S WHITE ST",
           "MOUNT PLEASANT",
           "IA"
          ],
          [
           "GREATER REGIONAL MEDICAL CENTER",
           "1700 WEST TOWNLINE ROAD",
           "CRESTON",
           "IA"
          ],
          [
           "RINGGOLD COUNTY HOSPITAL",
           "504 NORTH CLEVELAND STREET",
           "MOUNT AYR",
           "IA"
          ],
          [
           "SUSAN B ALLEN MEMORIAL HOSPITAL",
           "720 W CENTRAL ST",
           "EL DORADO",
           "KS"
          ],
          [
           "MERCY HOSPITAL, INC",
           "218 E PACK STREET",
           "MOUNDRIDGE",
           "KS"
          ],
          [
           "COFFEYVILLE REGIONAL MEDICAL CENTER, INC",
           "1400 W 4TH ST",
           "COFFEYVILLE",
           "KS"
          ],
          [
           "WILLIAM NEWTON HOSPITAL",
           "1300 EAST FIFTH AVENUE",
           "WINFIELD",
           "KS"
          ],
          [
           "HARDIN MEMORIAL HOSPITAL",
           "913 NORTH DIXIE AVENUE",
           "ELIZABETHTOWN",
           "KY"
          ],
          [
           "HAZARD ARH REGIONAL MEDICAL CENTER",
           "100 MEDICAL CENTER DRIVE",
           "HAZARD",
           "KY"
          ],
          [
           "JENNIE STUART MEDICAL CENTER",
           "320 WEST 18TH STREET",
           "HOPKINSVILLE",
           "KY"
          ],
          [
           "METHODIST HOSPITAL",
           "1305 N ELM ST",
           "HENDERSON",
           "KY"
          ],
          [
           "UNIVERSITY OF KENTUCKY HOSPITAL",
           "800 ROSE STREET",
           "LEXINGTON",
           "KY"
          ],
          [
           "HARRISON MEMORIAL HOSPITAL",
           "1210 KY HWY 36 E",
           "CYNTHIANA",
           "KY"
          ],
          [
           "METHODIST HOSPITAL UNION COUNTY",
           "4604 US HIGHWAY 60 WEST",
           "MORGANFIELD",
           "KY"
          ],
          [
           "EPHRAIM MCDOWELL FORT LOGAN HOSPITAL",
           "110 METKER TRAIL",
           "STANFORD",
           "KY"
          ],
          [
           "LIVINGSTON HOSPITAL AND HEALTHCARE SERVICES, INC",
           "131 HOSPITAL DRIVE",
           "SALEM",
           "KY"
          ],
          [
           "LAFAYETTE GENERAL MEDICAL CENTER",
           "1214 COOLIDGE AVENUE",
           "LAFAYETTE",
           "LA"
          ],
          [
           "THIBODAUX REGIONAL MEDICAL CENTER",
           "602 N ACADIA ROAD",
           "THIBODAUX",
           "LA"
          ],
          [
           "UNIVERSITY MEDICAL CENTER NEW ORLEANS",
           "2000 CANAL STREET",
           "NEW ORLEANS",
           "LA"
          ],
          [
           "UNIVERSITY HOSPITAL & CLINICS",
           "2390 WEST CONGRESS",
           "LAFAYETTE",
           "LA"
          ],
          [
           "NATCHITOCHES REGIONAL MEDICAL CENTER",
           "501 KEYSER AVE",
           "NATCHITOCHES",
           "LA"
          ],
          [
           "TERREBONNE GENERAL MEDICAL CENTER",
           "8166 MAIN STREET",
           "HOUMA",
           "LA"
          ],
          [
           "OPELOUSAS GENERAL HEALTH SYSTEM",
           "539 EAST PRUDHOMME STREET",
           "OPELOUSAS",
           "LA"
          ],
          [
           "CHRISTUS ST FRANCES CABRINI HOSPITAL",
           "3330 MASONIC DRIVE",
           "ALEXANDRIA",
           "LA"
          ],
          [
           "CHRISTUS OCHSNER ST PATRICK HOSPITAL",
           "524 DR MICHAEL DEBAKEY STREET",
           "LAKE CHARLES",
           "LA"
          ],
          [
           "ABBEVILLE GENERAL HOSPITAL",
           "118 N HOSPITAL DR",
           "ABBEVILLE",
           "LA"
          ],
          [
           "WEST JEFFERSON MEDICAL CENTER",
           "1101 MEDICAL CENTER BLVD",
           "MARRERO",
           "LA"
          ],
          [
           "SLIDELL MEMORIAL HOSPITAL",
           "1001 GAUSE BLVD",
           "SLIDELL",
           "LA"
          ],
          [
           "CHRISTUS HEALTH SHREVEPORT - BOSSIER",
           "1453 E BERT KOUNS INDUSTRIAL DRIVE",
           "SHREVEPORT",
           "LA"
          ],
          [
           "ACADIA GENERAL HOSPITAL",
           "1305 CROWLEY RAYNE HIGHWAY",
           "CROWLEY",
           "LA"
          ],
          [
           "TOURO INFIRMARY",
           "1401 FOUCHER STREET",
           "NEW ORLEANS",
           "LA"
          ],
          [
           "IBERIA MEDICAL CENTER",
           "2315 E MAIN STREET",
           "NEW IBERIA",
           "LA"
          ],
          [
           "WINN PARISH MEDICAL CENTER",
           "301 W BOUNDARY AVE",
           "WINNFIELD",
           "LA"
          ],
          [
           "OCHSNER LSU HEALTH SHREVEPORT",
           "1541 KINGS HIGHWAY",
           "SHREVEPORT",
           "LA"
          ],
          [
           "EAST JEFFERSON GENERAL HOSPITAL",
           "4200 HOUMA BLVD",
           "METAIRIE",
           "LA"
          ],
          [
           "LAFAYETTE SURGICAL SPECIALTY HOSPITAL",
           "1101 KALISTE SALOOM RD",
           "LAFAYETTE",
           "LA"
          ],
          [
           "LAFAYETTE GENERAL SURGICAL HOSPITAL",
           "1000 W PINHOOK RD SUITE 100",
           "LAFAYETTE",
           "LA"
          ],
          [
           "SOUTHERN SURGICAL HOSPITAL",
           "1700 W LINDBERG DRIVE",
           "SLIDELL",
           "LA"
          ],
          [
           "SPECIALISTS HOSPITAL SHREVEPORT",
           "1500 LINE AVENUE",
           "SHREVEPORT",
           "LA"
          ],
          [
           "CYPRESS POINTE SURGICAL HOSPITAL",
           "42570 SOUTH AIRPORT RD",
           "HAMMOND",
           "LA"
          ],
          [
           "FRANKLIN FOUNDATION HOSPITAL",
           "1097 NORTHWEST BLVD",
           "FRANKLIN",
           "LA"
          ],
          [
           "JACKSON PARISH HOSPITAL",
           "165 BEECH SPRINGS ROAD",
           "JONESBORO",
           "LA"
          ],
          [
           "CENTRAL MAINE MEDICAL CENTER",
           "300 MAIN STREET",
           "LEWISTON",
           "ME"
          ],
          [
           "EASTERN MAINE MEDICAL CENTER",
           "PO BOX 404",
           "BANGOR",
           "ME"
          ],
          [
           "FRANKLIN MEMORIAL HOSPITAL",
           "111 FRANKLIN HEALTH COMMONS",
           "FARMINGTON",
           "ME"
          ],
          [
           "NORTHERN LIGHT INLAND HOSPITAL",
           "200 KENNEDY MEMORIAL DRIVE",
           "WATERVILLE",
           "ME"
          ],
          [
           "NORTHERN LIGHT MAINE COAST HOSPITAL",
           "50 UNION STREET",
           "ELLSWORTH",
           "ME"
          ],
          [
           "NORTHERN MAINE MEDICAL CENTER",
           "194 E MAIN STREET",
           "FORT KENT",
           "ME"
          ],
          [
           "CALAIS REGIONAL HOSPITAL",
           "24 HOSPITAL LANE",
           "CALAIS",
           "ME"
          ],
          [
           "DOWN EAST COMMUNITY HOSPITAL",
           "11 HOSPITAL DRIVE",
           "MACHIAS",
           "ME"
          ],
          [
           "SINAI HOSPITAL OF BALTIMORE",
           "2401 WEST BELVEDERE AVENUE",
           "BALTIMORE",
           "MD"
          ],
          [
           "CALVERTHEALTH MEDICAL CENTER",
           "100 HOSPITAL ROAD",
           "PRINCE FREDERICK",
           "MD"
          ],
          [
           "NORTHWEST HOSPITAL CENTER",
           "5401 OLD COURT ROAD",
           "RANDALLSTOWN",
           "MD"
          ],
          [
           "STURDY MEMORIAL HOSPITAL",
           "211 PARK STREET",
           "ATTLEBORO",
           "MA"
          ],
          [
           "CAMBRIDGE HEALTH ALLIANCE",
           "1493 CAMBRIDGE STREET",
           "CAMBRIDGE",
           "MA"
          ],
          [
           "BAYSTATE FRANKLIN MEDICAL CENTER",
           "164 HIGH STREET",
           "GREENFIELD",
           "MA"
          ],
          [
           "MASSACHUSETTS EYE AND EAR INFIRMARY -",
           "243 CHARLES STREET",
           "BOSTON",
           "MA"
          ],
          [
           "NEW ENGLAND BAPTIST HOSPITAL",
           "125 PARKER HILL AVENUE",
           "BOSTON",
           "MA"
          ],
          [
           "SOUTH SHORE HOSPITAL",
           "55 FOGG ROAD",
           "SOUTH WEYMOUTH",
           "MA"
          ],
          [
           "TUFTS MEDICAL CENTER",
           "800 WASHINGTON STREET",
           "BOSTON",
           "MA"
          ],
          [
           "SPECTRUM HEALTH ZEELAND COMMUNITY HOSPITAL",
           "8333 FELCH ST",
           "ZEELAND",
           "MI"
          ],
          [
           "THREE RIVERS HEALTH",
           "701 S HEALTH PARKWAY",
           "THREE RIVERS",
           "MI"
          ],
          [
           "PROMEDICA COLDWATER REGIONAL HOSPITAL",
           "274 E CHICAGO ST",
           "COLDWATER",
           "MI"
          ],
          [
           "BRONSON SOUTH HAVEN HOSPITAL",
           "955 S BAILEY AVE",
           "SOUTH HAVEN",
           "MI"
          ],
          [
           "SPECTRUM HEALTH BIG RAPIDS HOSPITAL",
           "605 OAK STREET",
           "BIG RAPIDS",
           "MI"
          ],
          [
           "PROMEDICA MONROE REGIONAL HOSPITAL",
           "718 N MACOMB ST",
           "MONROE",
           "MI"
          ],
          [
           "ASPIRUS IRON RIVER HOSPITAL & CLINICS, INC",
           "1400 W ICE LAKE ROAD",
           "IRON RIVER",
           "MI"
          ],
          [
           "BRONSON LAKEVIEW HOSPITAL",
           "408 HAZEN STREET",
           "PAW PAW",
           "MI"
          ],
          [
           "ASPIRUS IRONWOOD HOSPITAL",
           "N10561 GRAND VIEW LANE",
           "IRONWOOD",
           "MI"
          ],
          [
           "SPECTRUM HEALTH GERBER MEMORIAL",
           "212 S SULLIVAN ST",
           "FREMONT",
           "MI"
          ],
          [
           "WINONA HEALTH SERVICES",
           "855 MANKATO AVENUE",
           "WINONA",
           "MN"
          ],
          [
           "PARK NICOLLET METHODIST HOSPITAL",
           "6500 EXCELSIOR BLVD",
           "SAINT LOUIS PARK",
           "MN"
          ],
          [
           "ABBOTT NORTHWESTERN HOSPITAL",
           "800 EAST 28TH STREET",
           "MINNEAPOLIS",
           "MN"
          ],
          [
           "DISTRICT ONE HOSPITAL",
           "200 STATE AVENUE",
           "FARIBAULT",
           "MN"
          ],
          [
           "BUFFALO HOSPITAL",
           "303 CATLIN ST",
           "BUFFALO",
           "MN"
          ],
          [
           "FAIRVIEW SOUTHDALE HOSPITAL",
           "6401 FRANCE AVENUE SOUTH",
           "EDINA",
           "MN"
          ],
          [
           "UNIVERSITY OF MINNESOTA  MEDICAL CENTER, FAIRVIEW",
           "2450 RIVERSIDE AVENUE",
           "MINNEAPOLIS",
           "MN"
          ],
          [
           "REGIONS HOSPITAL",
           "640 JACKSON STREET",
           "SAINT PAUL",
           "MN"
          ],
          [
           "MAPLE GROVE HOSPITAL",
           "9875 HOSPITAL DRIVE",
           "MAPLE GROVE",
           "MN"
          ],
          [
           "RIVERVIEW HOSPITAL",
           "323 SOUTH MINNESOTA",
           "CROOKSTON",
           "MN"
          ],
          [
           "CENTRACARE HEALTH SYSTEM - LONG PRAIRIE",
           "50 CENTRACARE DRIVE",
           "LONG PRAIRIE",
           "MN"
          ],
          [
           "LAKEWOOD HEALTH SYSTEM",
           "49725 COUNTY ROAD 83",
           "STAPLES",
           "MN"
          ],
          [
           "PERHAM HEALTH",
           "1000 CONEY STREET WEST",
           "PERHAM",
           "MN"
          ],
          [
           "NORTH MISSISSIPPI MEDICAL CENTER",
           "830 S GLOSTER",
           "TUPELO",
           "MS"
          ],
          [
           "BAPTIST MEMORIAL HOSPITAL UNION COUNTY",
           "200 HWY 30 WEST",
           "NEW ALBANY",
           "MS"
          ],
          [
           "MAGNOLIA REGIONAL HEALTH CENTER",
           "611 ALCORN DRIVE",
           "CORINTH",
           "MS"
          ],
          [
           "BAPTIST MEMORIAL HOSPITAL NORTH MS",
           "1100 BELK BLVD",
           "OXFORD",
           "MS"
          ],
          [
           "GEORGE REGIONAL HEALTH SYSTEM",
           "859 WINTER STREET",
           "LUCEDALE",
           "MS"
          ],
          [
           "BAPTIST MEMORIAL HOSPITAL BOONEVILLE",
           "100 HOSPITAL DRIVE",
           "BOONEVILLE",
           "MS"
          ],
          [
           "ST DOMINIC-JACKSON MEMORIAL HOSPITAL",
           "969 LAKELAND DR",
           "JACKSON",
           "MS"
          ],
          [
           "FORREST GENERAL HOSPITAL",
           "6051 US HIGHWAY 49",
           "HATTIESBURG",
           "MS"
          ],
          [
           "MISSISSIPPI BAPTIST MEDICAL CENTER",
           "1225 N STATE ST",
           "JACKSON",
           "MS"
          ],
          [
           "HIGHLAND COMMUNITY  HOSPITAL",
           "130 HIGHLAND PKWY",
           "PICAYUNE",
           "MS"
          ],
          [
           "NORTH OAK REGIONAL MEDICAL CENTER",
           "401 GETWELL DR",
           "SENATOBIA",
           "MS"
          ],
          [
           "NORTH SUNFLOWER MEDICAL CENTER CAH",
           "840 NORTH OAK AVENUE",
           "RULEVILLE",
           "MS"
          ],
          [
           "GREENE COUNTY HOSPITAL CAH",
           "1017 JACKSON STREET",
           "LEAKESVILLE",
           "MS"
          ],
          [
           "HANNIBAL REGIONAL HOSPITAL",
           "6000 HOSPITAL DR",
           "HANNIBAL",
           "MO"
          ],
          [
           "COX MEDICAL CENTERS",
           "3801 SOUTH NATIONAL AVENUE",
           "SPRINGFIELD",
           "MO"
          ],
          [
           "TRUMAN MEDICAL CENTER HOSPITAL HILL",
           "2301 HOLMES STREET",
           "KANSAS CITY",
           "MO"
          ],
          [
           "NEVADA REGIONAL MEDICAL CENTER",
           "800 S ASH ST",
           "NEVADA",
           "MO"
          ],
          [
           "SSM HEALTH ST. MARY'S HOSPITAL-AUDRAIN",
           "620 E MONROE",
           "MEXICO",
           "MO"
          ],
          [
           "SSM HEALTH ST MARY'S HOSPITAL - ST LOUIS",
           "6420 CLAYTON RD",
           "RICHMOND HEIGHTS",
           "MO"
          ],
          [
           "WESTERN MISSOURI MEDICAL CENTER",
           "403 BURKARTH ROAD",
           "WARRENSBURG",
           "MO"
          ],
          [
           "TRUMAN MEDICAL CENTER LAKEWOOD",
           "7900 LEE'S SUMMIT RD",
           "KANSAS CITY",
           "MO"
          ],
          [
           "ST LUKES HOSPITAL",
           "232 S WOODS MILL RD",
           "CHESTERFIELD",
           "MO"
          ],
          [
           "SAINT FRANCIS MEDICAL CENTER",
           "211 ST FRANCIS DR",
           "CAPE GIRARDEAU",
           "MO"
          ],
          [
           "CITIZENS MEMORIAL HOSPITAL",
           "1500 N OAKLAND",
           "BOLIVAR",
           "MO"
          ],
          [
           "BENEFIS HOSPITALS INC",
           "1101 26TH ST S",
           "GREAT FALLS",
           "MT"
          ],
          [
           "ST JAMES HEALTHCARE",
           "400 S CLARK ST",
           "BUTTE",
           "MT"
          ],
          [
           "KALISPELL REGIONAL MEDICAL CENTER",
           "310 SUNNYVIEW LANE",
           "KALISPELL",
           "MT"
          ],
          [
           "THE HEALTHCENTER",
           "320 SUNNYVIEW LANE",
           "KALISPELL",
           "MT"
          ],
          [
           "BARRETT HOSPITAL & HEALTHCARE",
           "600 MT HWY 91 S",
           "DILLON",
           "MT"
          ],
          [
           "CABINET PEAKS MEDICAL CENTER",
           "209 HEALTH PARK DR",
           "LIBBY",
           "MT"
          ],
          [
           "PROVIDENCE ST JOSEPH MEDICAL CENTER",
           "6 13TH AVE E",
           "POLSON",
           "MT"
          ],
          [
           "HOLY ROSARY HEALTHCARE",
           "2600 WILSON ST",
           "MILES CITY",
           "MT"
          ],
          [
           "COLUMBUS COMMUNITY HOSPITAL",
           "4600 38TH ST",
           "COLUMBUS",
           "NE"
          ],
          [
           "FAITH REGIONAL HEALTH SERVICES",
           "2700 WEST NORFOLK AVE",
           "NORFOLK",
           "NE"
          ],
          [
           "PROVIDENCE MEDICAL CENTER",
           "1200 PROVIDENCE RD",
           "WAYNE",
           "NE"
          ],
          [
           "VALLEY HOSPITAL MEDICAL CENTER",
           "620 SHADOW LANE",
           "LAS VEGAS",
           "NV"
          ],
          [
           "DESERT SPRINGS HOSPITAL",
           "2075 EAST FLAMINGO ROAD",
           "LAS VEGAS",
           "NV"
          ],
          [
           "SUMMERLIN HOSPITAL MEDICAL CENTER",
           "657 TOWN CENTER DRIVE",
           "LAS VEGAS",
           "NV"
          ],
          [
           "SPRING VALLEY HOSPITAL MEDICAL CENTER",
           "5400 SOUTH RAINBOW BLVD",
           "LAS VEGAS",
           "NV"
          ],
          [
           "CENTENNIAL HILLS HOSPITAL MEDICAL CENTER",
           "6900 N DURANGO DR",
           "LAS VEGAS",
           "NV"
          ],
          [
           "HENDERSON HOSPITAL",
           "1050 WEST GALLERIA DRIVE",
           "HENDERSON",
           "NV"
          ],
          [
           "MEMORIAL HOSPITAL, THE",
           "3073 WHITE MOUNTAIN HIGHWAY",
           "NORTH CONWAY",
           "NH"
          ],
          [
           "SHORE MEDICAL CENTER",
           "100 MEDICAL CENTER WAY",
           "SOMERS POINT",
           "NJ"
          ],
          [
           "JEFFERSON STRATFORD HOSPITAL",
           "18 EAST LAUREL ROAD",
           "STRATFORD",
           "NJ"
          ],
          [
           "CHRISTUS ST VINCENT REGIONAL MEDICAL CENTER",
           "455 ST MICHAEL'S DRIVE",
           "SANTA FE",
           "NM"
          ],
          [
           "PRESBYTERIAN ESPANOLA HOSPITAL",
           "1010 SPRUCE STREET",
           "ESPANOLA",
           "NM"
          ],
          [
           "PRESBYTERIAN HOSPITAL",
           "1100 CENTRAL AVENUE SE",
           "ALBUQUERQUE",
           "NM"
          ],
          [
           "PLAINS REGIONAL MEDICAL CENTER",
           "2100 N MARTIN LUTHER KING, JR, BLVD",
           "CLOVIS",
           "NM"
          ],
          [
           "ARTESIA GENERAL HOSPITAL",
           "702 N 13TH STREET",
           "ARTESIA",
           "NM"
          ],
          [
           "SOCORRO GENERAL HOSPITAL",
           "1202 HIGHWAY 60 WEST",
           "SOCORRO",
           "NM"
          ],
          [
           "NOR-LEA HOSPITAL DISTRICT",
           "1600 NORTH MAIN AVE",
           "LOVINGTON",
           "NM"
          ],
          [
           "LINCOLN COUNTY MEDICAL CENTER",
           "211 SUDDERTH DRIVE",
           "RUIDOSO",
           "NM"
          ],
          [
           "MOUNT SINAI HOSPITAL",
           "ONE GUSTAVE L LEVY PLACE",
           "NEW YORK",
           "NY"
          ],
          [
           "NIAGARA FALLS MEMORIAL MEDICAL CENTER",
           "621 TENTH STREET",
           "NIAGARA FALLS",
           "NY"
          ],
          [
           "AURELIA OSBORN FOX MEMORIAL HOSPITAL",
           "ONE NORTON AVENUE",
           "ONEONTA",
           "NY"
          ],
          [
           "ARNOT OGDEN MEDICAL CENTER",
           "600 ROE AVENUE",
           "ELMIRA",
           "NY"
          ],
          [
           "LENOX HILL HOSPITAL",
           "100 EAST 77TH STREET",
           "NEW YORK",
           "NY"
          ],
          [
           "STATEN ISLAND UNIVERSITY HOSPITAL",
           "475 SEAVIEW AVENUE",
           "STATEN ISLAND",
           "NY"
          ],
          [
           "HIGHLAND HOSPITAL",
           "1000 SOUTH AVENUE",
           "ROCHESTER",
           "NY"
          ],
          [
           "MOUNT SINAI BETH ISRAEL",
           "FIRST AVENUE AT 16TH STREET",
           "NEW YORK",
           "NY"
          ],
          [
           "CLAXTON-HEPBURN MEDICAL CENTER",
           "214 KING STREET",
           "OGDENSBURG",
           "NY"
          ],
          [
           "ROME MEMORIAL HOSPITAL, INC",
           "1500 NORTH JAMES STREET",
           "ROME",
           "NY"
          ],
          [
           "MASSENA MEMORIAL HOSPITAL",
           "1 HOSPITAL DRIVE",
           "MASSENA",
           "NY"
          ],
          [
           "HOSPITAL FOR SPECIAL SURGERY",
           "535 EAST 70TH STREET",
           "NEW YORK",
           "NY"
          ],
          [
           "NATHAN LITTAUER HOSPITAL",
           "99 EAST STATE STREET",
           "GLOVERSVILLE",
           "NY"
          ],
          [
           "STRONG MEMORIAL HOSPITAL",
           "601 ELMWOOD AVE",
           "ROCHESTER",
           "NY"
          ],
          [
           "O'CONNOR HOSPITAL",
           "460 ANDES ROAD",
           "DELHI",
           "NY"
          ],
          [
           "LITTLE FALLS HOSPITAL",
           "140 BURWELL STREET",
           "LITTLE FALLS",
           "NY"
          ],
          [
           "MEMORIAL MISSION HOSPITAL AND ASHEVILLE SURGERY CE",
           "509 BILTMORE AVE",
           "ASHEVILLE",
           "NC"
          ],
          [
           "SCOTLAND MEMORIAL HOSPITAL",
           "500 LAUCHWOOD DR",
           "LAURINBURG",
           "NC"
          ],
          [
           "WAYNE MEMORIAL HOSPITAL",
           "2700 WAYNE MEMORIAL DR",
           "GOLDSBORO",
           "NC"
          ],
          [
           "NOVANT HEALTH FORSYTH MEDICAL CENTER",
           "3333 SILAS CREEK PARKWAY",
           "WINSTON-SALEM",
           "NC"
          ],
          [
           "NOVANT HEALTH ROWAN MEDICAL CENTER",
           "612 MOCKSVILLE AVE",
           "SALISBURY",
           "NC"
          ],
          [
           "SAMPSON REGIONAL MEDICAL CENTER",
           "607 BEAMAN ST",
           "CLINTON",
           "NC"
          ],
          [
           "UNC LENOIR HEALTH CARE",
           "100 AIRPORT RD",
           "KINSTON",
           "NC"
          ],
          [
           "DUKE UNIVERSITY HOSPITAL",
           "PO BOX 3814 DUMC  ERWIN RD",
           "DURHAM",
           "NC"
          ],
          [
           "CALDWELL MEMORIAL HOSPITAL",
           "321 MULBERRY ST SW",
           "LENOIR",
           "NC"
          ],
          [
           "ONSLOW MEMORIAL HOSPITAL",
           "317 WESTERN BOULEVARD",
           "JACKSONVILLE",
           "NC"
          ],
          [
           "NORTH CAROLINA SPECIALTY HOSPITAL",
           "3916 BEN FRANKLIN BOULEVARD",
           "DURHAM",
           "NC"
          ],
          [
           "WATAUGA MEDICAL CENTER",
           "336 DEERFIELD ROAD",
           "BOONE",
           "NC"
          ],
          [
           "UNIVERSITY OF NORTH CAROLINA HOSPITAL",
           "101 MANNING DRIVE",
           "CHAPEL HILL",
           "NC"
          ],
          [
           "ALAMANCE REGIONAL MEDICAL CENTER",
           "1240 HUFFMAN MILL RD",
           "BURLINGTON",
           "NC"
          ],
          [
           "DUKE HEALTH RALEIGH HOSPITAL",
           "3400 WAKE FOREST RD",
           "RALEIGH",
           "NC"
          ],
          [
           "JOHNSTON HEALTH",
           "509 BRIGHT LEAF BLVD",
           "SMITHFIELD",
           "NC"
          ],
          [
           "REX HOSPITAL",
           "4420 LAKE BOONE TRAIL",
           "RALEIGH",
           "NC"
          ],
          [
           "FIRSTHEALTH MOORE REGIONAL HOSPITAL",
           "155 MEMORIAL DRIVE",
           "PINEHURST",
           "NC"
          ],
          [
           "RANDOLPH HOSPITAL",
           "364 WHITE OAK STREET",
           "ASHEBORO",
           "NC"
          ],
          [
           "CAROLINAS HEALTHCARE SYSTEM UNION",
           "600 HOSPITAL DR",
           "MONROE",
           "NC"
          ],
          [
           "CAROLINA EAST MEDICAL CENTER",
           "2000 NEUSE BLVD",
           "NEW BERN",
           "NC"
          ],
          [
           "CATAWBA VALLEY MEDICAL CENTER",
           "810 FAIRGROVE CHURCH RD",
           "HICKORY",
           "NC"
          ],
          [
           "NASH GENERAL HOSPITAL",
           "2460 CURTIS ELLIS DRIVE",
           "ROCKY MOUNT",
           "NC"
          ],
          [
           "NOVANT HEALTH MEDICAL PARK HOSPITAL",
           "1950 S HAWTHORNE RD",
           "WINSTON-SALEM",
           "NC"
          ],
          [
           "DUKE REGIONAL HOSPITAL",
           "3643 N ROXBORO ROAD",
           "DURHAM",
           "NC"
          ],
          [
           "CAROLINAS MED CTR-UNIVERSITY",
           "8800 NORTH TYRON STREET",
           "CHARLOTTE",
           "NC"
          ],
          [
           "NOVANT HEALTH HUNTERSVILLE MEDICAL CENTER",
           "10030 GILEAD ROAD",
           "HUNTERSVILLE",
           "NC"
          ],
          [
           "PENDER MEMORIAL HOSPITAL",
           "507 E FREMONT ST",
           "BURGAW",
           "NC"
          ],
          [
           "CHARLES A CANNON JR MEMORIAL HOSPITAL",
           "434 HOSPITAL DRIVE",
           "LINVILLE",
           "NC"
          ],
          [
           "BLUE RIDGE REGIONAL HOSPITAL, INC",
           "125 HOSPITAL DR",
           "SPRUCE PINE",
           "NC"
          ],
          [
           "ALTRU HOSPITAL",
           "1200 S COLUMBIA RD",
           "GRAND FORKS",
           "ND"
          ],
          [
           "UNIVERSITY OF CINCINNATI MEDICAL CENTER, LLC",
           "234 GOODMAN STREET",
           "CINCINNATI",
           "OH"
          ],
          [
           "RIVERSIDE METHODIST HOSPITAL",
           "3535 OLENTANGY RIVER RD",
           "COLUMBUS",
           "OH"
          ],
          [
           "SOUTHERN OHIO MEDICAL CENTER",
           "1805 27TH STREET",
           "PORTSMOUTH",
           "OH"
          ],
          [
           "LIMA MEMORIAL HEALTH SYSTEM",
           "1001 BELLEFONTAINE AVENUE",
           "LIMA",
           "OH"
          ],
          [
           "MARION GENERAL HOSPITAL",
           "1000 MCKINLEY PARK DRIVE",
           "MARION",
           "OH"
          ],
          [
           "OHIOHEALTH O'BLENESS HOSPITAL",
           "55 HOSPITAL DRIVE",
           "ATHENS",
           "OH"
          ],
          [
           "GRANT MEDICAL CENTER",
           "111 SOUTH GRANT AVENUE",
           "COLUMBUS",
           "OH"
          ],
          [
           "SUMMA HEALTH SYSTEM",
           "525 EAST MARKET STREET",
           "AKRON",
           "OH"
          ],
          [
           "GREENE MEMORIAL HOSPITAL",
           "1141 NORTH MONROE DRIVE",
           "XENIA",
           "OH"
          ],
          [
           "MCCULLOUGH-HYDE MEMORIAL HOSPITAL",
           "110 NORTH POPLAR STREET",
           "OXFORD",
           "OH"
          ],
          [
           "MIAMI VALLEY HOSPITAL",
           "ONE WYOMING STREET",
           "DAYTON",
           "OH"
          ],
          [
           "METROHEALTH SYSTEM",
           "2500 METROHEALTH DRIVE",
           "CLEVELAND",
           "OH"
          ],
          [
           "FLOWER HOSPITAL",
           "5200 HARROUN ROAD",
           "SYLVANIA",
           "OH"
          ],
          [
           "KETTERING MEDICAL CENTER",
           "3535 SOUTHERN BOULEVARD",
           "KETTERING",
           "OH"
          ],
          [
           "ST LUKE'S HOSPITAL",
           "5901 MONCLOVA ROAD",
           "MAUMEE",
           "OH"
          ],
          [
           "BELLEVUE HOSPITAL",
           "1400 WEST MAIN STREET",
           "BELLEVUE",
           "OH"
          ],
          [
           "COSHOCTON REGIONAL MEDICAL CENTER",
           "1460 ORANGE STREET",
           "COSHOCTON",
           "OH"
          ],
          [
           "FORT HAMILTON HUGHES MEMORIAL HOSPITAL",
           "630 EATON AVENUE",
           "HAMILTON",
           "OH"
          ],
          [
           "GOOD SAMARITAN HOSPITAL",
           "375 DIXMYTH AVENUE",
           "CINCINNATI",
           "OH"
          ],
          [
           "POMERENE HOSPITAL",
           "981 WOOSTER ROAD",
           "MILLERSBURG",
           "OH"
          ],
          [
           "SOUTHWEST GENERAL HEALTH CENTER",
           "18697 BAGLEY ROAD",
           "MIDDLEBURG HEIGHTS",
           "OH"
          ],
          [
           "MEMORIAL HOSPITAL",
           "715 SOUTH TAFT AVENUE",
           "FREMONT",
           "OH"
          ],
          [
           "BETHESDA NORTH",
           "10500 MONTGOMERY ROAD",
           "CINCINNATI",
           "OH"
          ],
          [
           "SOUTHEASTERN OHIO REGIONAL MEDICAL CENTER",
           "1341 NORTH CLARK STREET",
           "CAMBRIDGE",
           "OH"
          ],
          [
           "BAY PARK COMMUNITY HOSPITAL",
           "2801 BAY PARK DRIVE",
           "OREGON",
           "OH"
          ],
          [
           "DUBLIN METHODIST HOSPITAL",
           "7500 HOSPITAL AVENUE",
           "DUBLIN",
           "OH"
          ],
          [
           "OHIO VALLEY MEDICAL CENTER, LLC",
           "100 WEST MAIN STREET",
           "SPRINGFIELD",
           "OH"
          ],
          [
           "SOIN MEDICAL CENTER",
           "3535 PENTAGON PARK BLVD",
           "BEAVER CREEK",
           "OH"
          ],
          [
           "TRIHEALTH EVENDALE HOSPITAL",
           "3155 GLENDALE MILFORD ROAD",
           "CINCINNATI",
           "OH"
          ],
          [
           "HARDIN MEMORIAL HOSPITAL",
           "921 EAST FRANKLIN STREET",
           "KENTON",
           "OH"
          ],
          [
           "ADAMS COUNTY REGIONAL MEDICAL CENTER",
           "230 MEDICAL CENTER DRIVE",
           "SEAMAN",
           "OH"
          ],
          [
           "INTEGRIS MIAMI HOSPITAL",
           "200 SECOND AVENUE SOUTHWEST",
           "MIAMI",
           "OK"
          ],
          [
           "INTEGRIS BASS BAPTIST HEALTH CENTER",
           "600 SOUTH MONROE",
           "ENID",
           "OK"
          ],
          [
           "ST MARY'S REGIONAL MEDICAL CENTER",
           "305 SOUTH 5TH STREET",
           "ENID",
           "OK"
          ],
          [
           "CHOCTAW MEMORIAL HOSPITAL",
           "1405 EAST KIRK ROAD",
           "HUGO",
           "OK"
          ],
          [
           "INTEGRIS GROVE HOSPITAL",
           "1001 EAST 18TH STREET",
           "GROVE",
           "OK"
          ],
          [
           "SSM HEALTH ST ANTHONY HOSPITAL - SHAWNEE",
           "1102 W MACARTHUR",
           "SHAWNEE",
           "OK"
          ],
          [
           "CHOCTAW NATION HEALTH SERVICES AUTHORITY",
           "1 CHOCTAW WAY",
           "TALIHINA",
           "OK"
          ],
          [
           "CHICKASAW NATION MEDICAL CENTER",
           "1921 STONECIPHER BLVD",
           "ADA",
           "OK"
          ],
          [
           "INTEGRIS CANADIAN VALLEY HOSPITAL",
           "1201 HEALTH CENTER PARKWAY",
           "YUKON",
           "OK"
          ],
          [
           "PROVIDENCE NEWBERG MEDICAL CENTER",
           "1001 PROVIDENCE DRIVE",
           "NEWBERG",
           "OR"
          ],
          [
           "PROVIDENCE WILLAMETTE FALLS MEDICAL CENTER",
           "1500 DIVISION STREET",
           "OREGON CITY",
           "OR"
          ],
          [
           "PROVIDENCE MILWAUKIE HOSPITAL",
           "10150 SE 32ND AVENUE",
           "MILWAUKIE",
           "OR"
          ],
          [
           "PROVIDENCE SEASIDE HOSPITAL",
           "725 S WAHANNA ROAD",
           "SEASIDE",
           "OR"
          ],
          [
           "ADVENTIST HEALTH TILLAMOOK",
           "1000 THIRD STREET",
           "TILLAMOOK",
           "OR"
          ],
          [
           "READING HOSPITAL",
           "SIXTH AVENUE AND SPRUCE ST",
           "READING",
           "PA"
          ],
          [
           "J C BLAIR MEMORIAL HOSPITAL",
           "1225 WARM SPRINGS AVE",
           "HUNTINGDON",
           "PA"
          ],
          [
           "ST JOSEPH MEDICAL CENTER",
           "2500 BERNVILLE ROAD",
           "READING",
           "PA"
          ],
          [
           "LANCASTER GENERAL HOSPITAL",
           "555 NORTH DUKE STREET",
           "LANCASTER",
           "PA"
          ],
          [
           "HOSPITAL OF UNIV OF PENNSYLVANIA",
           "34TH & SPRUCE STS",
           "PHILADELPHIA",
           "PA"
          ],
          [
           "CHAN SOON- SHIONG MEDICAL CENTER AT WINDBER",
           "600 SOMERSET AVENUE",
           "WINDBER",
           "PA"
          ],
          [
           "MEADVILLE MEDICAL CENTER",
           "751 LIBERTY STREET",
           "MEADVILLE",
           "PA"
          ],
          [
           "ARIA HEALTH",
           "10800 KNIGHTS ROAD",
           "PHILADELPHIA",
           "PA"
          ],
          [
           "WAYNE MEMORIAL HOSPITAL",
           "601 PARK STREET",
           "HONESDALE",
           "PA"
          ],
          [
           "LEHIGH VALLEY HOSPITAL",
           "1200 SOUTH CEDAR CREST BOULEVARD",
           "ALLENTOWN",
           "PA"
          ],
          [
           "BUTLER MEMORIAL HOSPITAL",
           "ONE HOSPITAL WAY",
           "BUTLER",
           "PA"
          ],
          [
           "THOMAS JEFFERSON UNIVERSITY HOSPITAL",
           "111 SOUTH 11TH STREET",
           "PHILADELPHIA",
           "PA"
          ],
          [
           "CHESTER COUNTY HOSPITAL",
           "701 EAST MARSHALL STREET",
           "WEST CHESTER",
           "PA"
          ],
          [
           "PENN PRESBYTERIAN MEDICAL CENTER",
           "51 NORTH 39TH STREET",
           "PHILADELPHIA",
           "PA"
          ],
          [
           "PENNSYLVANIA HOSPITAL",
           "800 SPRUCE STREET",
           "PHILADELPHIA",
           "PA"
          ],
          [
           "ABINGTON MEMORIAL HOSPITAL",
           "1200 OLD YORK ROAD",
           "ABINGTON",
           "PA"
          ],
          [
           "MOUNT NITTANY MEDICAL CENTER",
           "1800 EAST PARK AVE",
           "STATE COLLEGE",
           "PA"
          ],
          [
           "SURGICAL INSTITUTE OF READING",
           "2752 CENTURY BOULEVARD",
           "WYOMISSING",
           "PA"
          ],
          [
           "NEWPORT HOSPITAL",
           "FRIENDSHIP STREET",
           "NEWPORT",
           "RI"
          ],
          [
           "RHODE ISLAND HOSPITAL",
           "593 EDDY STREET",
           "PROVIDENCE",
           "RI"
          ],
          [
           "THE MIRIAM HOSPITAL",
           "164 SUMMIT AVENUE",
           "PROVIDENCE",
           "RI"
          ],
          [
           "MUSC MEDICAL CENTER",
           "169 ASHLEY AVE",
           "CHARLESTON",
           "SC"
          ],
          [
           "TIDELANDS HEALTH",
           "606 BLACK RIVER RD DRAWER 1718",
           "GEORGETOWN",
           "SC"
          ],
          [
           "SELF REGIONAL HEALTHCARE",
           "1325 SPRING STREET",
           "GREENWOOD",
           "SC"
          ],
          [
           "HAMPTON REGIONAL MEDICAL CENTER",
           "595 WEST CAROLINA AVENUE",
           "VARNVILLE",
           "SC"
          ],
          [
           "AIKEN REGIONAL MEDICAL CENTER",
           "302 UNIVERSITY PARKWAY",
           "AIKEN",
           "SC"
          ],
          [
           "TIDELANDS WACCAMAW COMMUNITY HOSPITAL",
           "4070 HIGHWAY 17 BYPASS PO DRAWER 3350",
           "MURRELLS INLET",
           "SC"
          ],
          [
           "DUNES SURGICAL HOSPITAL",
           "600 N SIOUX POINT ROAD",
           "DAKOTA DUNES",
           "SD"
          ],
          [
           "AVERA HEART HOSPITAL OF SOUTH DAKOTA",
           "4500 W 69TH ST",
           "SIOUX FALLS",
           "SD"
          ],
          [
           "WAYNE MEDICAL CENTER",
           "103 J V MANGUBAT DR",
           "WAYNESBORO",
           "TN"
          ],
          [
           "SYCAMORE SHOALS HOSPITAL",
           "1501 WEST ELK AVENUE",
           "ELIZABETHTON",
           "TN"
          ],
          [
           "VANDERBILT UNIVERSITY MEDICAL CENTER",
           "1211 MEDICAL CENTER DRIVE",
           "NASHVILLE",
           "TN"
          ],
          [
           "BAPTIST MEMORIAL HOSPITAL",
           "6019 WALNUT GROVE ROAD",
           "MEMPHIS",
           "TN"
          ],
          [
           "METHODIST HEALTHCARE MEMPHIS HOSPITALS",
           "1265 UNION AVE SUITE 700",
           "MEMPHIS",
           "TN"
          ],
          [
           "MAURY REGIONAL HOSPITAL",
           "1224 TROTWOOD AVE",
           "COLUMBIA",
           "TN"
          ],
          [
           "BAPTIST MEMORIAL HOSPITAL TIPTON",
           "1995 HIGHWAY 51 S",
           "COVINGTON",
           "TN"
          ],
          [
           "MARSHALL MEDICAL CENTER",
           "1080 NORTH ELLINGTON PARKWAY",
           "LEWISBURG",
           "TN"
          ],
          [
           "PETERSON REGIONAL MEDICAL CENTER",
           "551 HILL COUNTRY DRIVE",
           "KERRVILLE",
           "TX"
          ],
          [
           "CHRISTUS SOUTHEAST TEXAS- ST ELIZABETH",
           "2830 CALDER AVENUE",
           "BEAUMONT",
           "TX"
          ],
          [
           "JPS HEALTH NETWORK",
           "1500 S MAIN ST",
           "FORT WORTH",
           "TX"
          ],
          [
           "COVENANT MEDICAL CENTER",
           "3615 19TH STREET",
           "LUBBOCK",
           "TX"
          ],
          [
           "CHRISTUS SPOHN HOSPITAL CORPUS CHRISTI",
           "600 ELIZABETH STREET",
           "CORPUS CHRISTI",
           "TX"
          ],
          [
           "TEXAS HEALTH ARLINGTON MEMORIAL HOSPITAL",
           "800 W RANDOL MILL RD",
           "ARLINGTON",
           "TX"
          ],
          [
           "CHRISTUS SPOHN HOSPITAL BEEVILLE",
           "1500 E HOUSTON HWY",
           "BEEVILLE",
           "TX"
          ],
          [
           "NORTH TEXAS MEDICAL CENTER",
           "1900 HOSPITAL BLVD",
           "GAINESVILLE",
           "TX"
          ],
          [
           "FORT DUNCAN MEDICAL CENTER",
           "3333 N FOSTER MALDONADO BLVD",
           "EAGLE PASS",
           "TX"
          ],
          [
           "GUADALUPE REGIONAL MEDICAL CENTER",
           "1215 E COURT ST",
           "SEGUIN",
           "TX"
          ],
          [
           "SOUTH TEXAS HEALTH SYSTEM",
           "1102 W TRENTON ROAD",
           "EDINBURG",
           "TX"
          ],
          [
           "MIDLAND MEMORIAL HOSPITAL",
           "400 ROSALIND REDFERN GROVER PARKWAY",
           "MIDLAND",
           "TX"
          ],
          [
           "TEXAS HEALTH HARRIS METHODIST HOSPITAL CLEBURNE",
           "201 WALLS DRIVE",
           "CLEBURNE",
           "TX"
          ],
          [
           "VAL VERDE REGIONAL MEDICAL CENTER",
           "801 BEDELL AVE",
           "DEL RIO",
           "TX"
          ],
          [
           "CHRISTUS SPOHN HOSPITAL KLEBERG",
           "1311 EAST GENERAL CAVAZOS BLVD",
           "KINGSVILLE",
           "TX"
          ],
          [
           "CHRISTUS MOTHER FRANCES HOSPITAL SULPHUR SPRINGS",
           "115 AIRPORT RD",
           "SULPHUR SPRINGS",
           "TX"
          ],
          [
           "CHRISTUS SANTA ROSA MEDICAL CENTER",
           "2827 BABCOCK ROAD",
           "SAN ANTONIO",
           "TX"
          ],
          [
           "TEXAS HEALTH PRESBYTERIAN HOSPITAL KAUFMAN",
           "850 ED HALL",
           "KAUFMAN",
           "TX"
          ],
          [
           "TEXAS HEALTH HARRIS METHODIST HOSPITAL STEPHENVILL",
           "411 N BELKNAP ST",
           "STEPHENVILLE",
           "TX"
          ],
          [
           "EASTLAND MEMORIAL HOSPITAL",
           "304 S DAUGHERTY",
           "EASTLAND",
           "TX"
          ],
          [
           "TEXAS HEALTH HARRIS METHODIST HOSPITAL AZLE",
           "108 DENVER TRAIL",
           "AZLE",
           "TX"
          ],
          [
           "BAYLOR MEDICAL CENTER AT UPTOWN",
           "2727 EAST LEMMON AVENUE BUILDING I",
           "DALLAS",
           "TX"
          ],
          [
           "COVENANT HOSPITAL PLAINVIEW",
           "2601 DIMMITT RD",
           "PLAINVIEW",
           "TX"
          ],
          [
           "SHANNON MEDICAL CENTER",
           "120 EAST HARRIS AVENUE",
           "SAN ANGELO",
           "TX"
          ],
          [
           "WILBARGER GENERAL HOSPITAL",
           "920 HILLCREST DR",
           "VERNON",
           "TX"
          ],
          [
           "DOCTORS HOSPITAL OF LAREDO",
           "10700 MCPHERSON ROAD",
           "LAREDO",
           "TX"
          ],
          [
           "UNIVERSITY MEDICAL CENTER",
           "602 INDIANA AVENUE",
           "LUBBOCK",
           "TX"
          ],
          [
           "TEXAS HEALTH PRESBYTERIAN HOSPITAL DENTON",
           "3000 N I-35",
           "DENTON",
           "TX"
          ],
          [
           "COVENANT HOSPITAL LEVELLAND",
           "1900 COLLEGE AVE",
           "LEVELLAND",
           "TX"
          ],
          [
           "TEXAS HEALTH PRESBYTERIAN HOSPITAL PLANO",
           "6200 W PARKER RD",
           "PLANO",
           "TX"
          ],
          [
           "TOPS SURGICAL SPECIALTY HOSPITAL",
           "17080 RED OAK DRIVE",
           "HOUSTON",
           "TX"
          ],
          [
           "TEXAS HEALTH HARRIS METHODIST HOSPITAL SOUTHWEST F",
           "6100 HARRIS PKWY",
           "FORT WORTH",
           "TX"
          ],
          [
           "NORTHWEST HILLS SURGICAL HOSPITAL",
           "6818 AUSTIN CTR BLVD SUITE 100",
           "AUSTIN",
           "TX"
          ],
          [
           "CHRISTUS SPOHN HOSPITAL ALICE",
           "2500 E MAIN STREET",
           "ALICE",
           "TX"
          ],
          [
           "PHYSICIANS CENTRE,THE",
           "3131 UNIVERSITY DRIVE EAST",
           "BRYAN",
           "TX"
          ],
          [
           "TEXAS HEALTH PRESBYTERIAN HOSPITAL ALLEN",
           "1105 CENTRAL EXPRESSWAY NORTH",
           "ALLEN",
           "TX"
          ],
          [
           "SOUTH TEXAS SPINE AND SURGICAL HOSPITAL",
           "18600 NORTH HARDY OAK BLVD",
           "SAN ANTONIO",
           "TX"
          ],
          [
           "SUGAR LAND SURGICAL HOSPITAL LLP",
           "16906 SOUTHWEST FREEWAY",
           "SUGAR LAND",
           "TX"
          ],
          [
           "ARISE AUSTIN MEDICAL CENTER",
           "3003 BEE CAVES ROAD",
           "AUSTIN",
           "TX"
          ],
          [
           "BAYLOR SURGICAL HOSPITAL AT LAS COLINAS",
           "400 WEST INTERSTATE 635 SUITE 101",
           "IRVING",
           "TX"
          ],
          [
           "TEXAS HEALTH HARRIS METHODIST HOSPITAL SOUTHLAKE",
           "1545 E SOUTHLAKE BLVD",
           "SOUTHLAKE",
           "TX"
          ],
          [
           "TEXAS INSTITUTE FOR SURGERY AT PRESBYTERIAN HOSPIT",
           "7115 GREENVILLE AVENUE SUITE 100",
           "DALLAS",
           "TX"
          ],
          [
           "UTAH VALLEY HOSPITAL",
           "1034 NORTH 500 WEST",
           "PROVO",
           "UT"
          ],
          [
           "MCKAY DEE HOSPITAL",
           "4401 HARRISON BOULEVARD",
           "OGDEN",
           "UT"
          ],
          [
           "DIXIE REGIONAL MEDICAL CENTER",
           "1380 EAST MEDICAL CENTER DRIVE",
           "ST GEORGE",
           "UT"
          ],
          [
           "AMERICAN FORK HOSPITAL",
           "170 NORTH 1100 EAST",
           "AMERICAN FORK",
           "UT"
          ],
          [
           "SANPETE VALLEY HOSPITAL - CAH",
           "1100 SOUTH MEDICAL DRIVE",
           "MOUNT PLEASANT",
           "UT"
          ],
          [
           "CENTRAL VERMONT MEDICAL CENTER",
           "BOX 547",
           "BARRE",
           "VT"
          ],
          [
           "NOVANT HEALTH UVA HEALTH SYSTEM CULPEPER MED CENTE",
           "501 SUNSET LANE",
           "CULPEPER",
           "VA"
          ],
          [
           "RIVERSIDE SHORE MEMORIAL HOSPITAL",
           "20480 MARKET STREET",
           "ONANCOCK",
           "VA"
          ],
          [
           "SMYTH COUNTY COMMUNITY HOSPITAL",
           "245 MEDICAL PARK DRIVE",
           "MARION",
           "VA"
          ],
          [
           "RIVERSIDE REGIONAL MEDICAL CENTER",
           "500 J CLYDE MORRIS BLVD",
           "NEWPORT NEWS",
           "VA"
          ],
          [
           "JOHNSTON MEMORIAL HOSPITAL",
           "16000 JOHNSTON MEMORIAL DRIVE",
           "ABINGDON",
           "VA"
          ],
          [
           "RIVERSIDE TAPPAHANNOCK HOSPITAL",
           "618 HOSPITAL ROAD",
           "TAPPAHANNOCK",
           "VA"
          ],
          [
           "RIVERSIDE WALTER REED HOSPITAL",
           "7519 HOSPITAL ROAD",
           "GLOUCESTER",
           "VA"
          ],
          [
           "STAFFORD HOSPITAL, LLC",
           "101 HOSPITAL CENTER BOULEVARD",
           "STAFFORD",
           "VA"
          ],
          [
           "PROVIDENCE REGIONAL MEDICAL CENTER EVERETT",
           "1321 COLBY AVENUE",
           "EVERETT",
           "WA"
          ],
          [
           "PROVIDENCE ST PETER HOSPITAL",
           "413 LILLY ROAD NE",
           "OLYMPIA",
           "WA"
          ],
          [
           "SWEDISH MEDICAL CENTER / CHERRY HILL",
           "500 17TH AVENUE",
           "SEATTLE",
           "WA"
          ],
          [
           "SWEDISH EDMONDS HOSPITAL",
           "21601 76TH AVENUE WEST",
           "EDMONDS",
           "WA"
          ],
          [
           "SWEDISH MEDICAL CENTER",
           "747 BROADWAY",
           "SEATTLE",
           "WA"
          ],
          [
           "SAMARITAN HOSPITAL",
           "801 EAST WHEELER ROAD",
           "MOSES LAKE",
           "WA"
          ],
          [
           "YAKIMA VALLEY MEMORIAL HOSPITAL",
           "2811 TIETON DRIVE",
           "YAKIMA",
           "WA"
          ],
          [
           "CASCADE VALLEY HOSPITAL",
           "330 S STILLAGUAMISH AVE",
           "ARLINGTON",
           "WA"
          ],
          [
           "HARBORVIEW MEDICAL CENTER",
           "325 9TH AVENUE",
           "SEATTLE",
           "WA"
          ],
          [
           "VALLEY MEDICAL CENTER",
           "400 S 43RD ST",
           "RENTON",
           "WA"
          ],
          [
           "SWEDISH ISSAQUAH",
           "751 NE BLAKELY DR",
           "ISSAQUAH",
           "WA"
          ],
          [
           "COULEE MEDICAL CENTER",
           "411 FORTUYN ROAD",
           "GRAND COULEE",
           "WA"
          ],
          [
           "PROVIDENCE ST JOSEPH HOSPITAL",
           "500 EAST WEBSTER",
           "CHEWELAH",
           "WA"
          ],
          [
           "PROVIDENCE MOUNT CARMEL HOSPITAL",
           "982 EAST COLUMBIA",
           "COLVILLE",
           "WA"
          ],
          [
           "WEST VIRGINIA UNIVERSITY HOSPITALS",
           "MEDICAL CENTER DRIVE",
           "MORGANTOWN",
           "WV"
          ],
          [
           "UNITED HOSPITAL CENTER",
           "327 MEDICAL PARK DRIVE",
           "BRIDGEPORT",
           "WV"
          ],
          [
           "BERKELEY MEDICAL CENTER",
           "2500 HOSPITAL DRIVE",
           "MARTINSBURG",
           "WV"
          ],
          [
           "STONEWALL JACKSON MEMORIAL HOSPITAL",
           "230 HOSPITAL PLAZA",
           "WESTON",
           "WV"
          ],
          [
           "PRINCETON COMMUNITY HOSPITAL",
           "122 12TH STREET",
           "PRINCETON",
           "WV"
          ],
          [
           "FAIRMONT REGIONAL MEDICAL CENTER",
           "1325 LOCUST AVENUE",
           "FAIRMONT",
           "WV"
          ],
          [
           "CABELL HUNTINGTON HOSPITAL INC",
           "1340 HAL GREER BOULEVARD",
           "HUNTINGTON",
           "WV"
          ],
          [
           "BECKLEY ARH HOSPITAL",
           "306 STANAFORD ROAD",
           "BECKLEY",
           "WV"
          ],
          [
           "SUMMERSVILLE REGIONAL MEDICAL CENTER",
           "400 FAIRVIEW HEIGHTS ROAD",
           "SUMMERSVILLE",
           "WV"
          ],
          [
           "JEFFERSON MEDICAL CENTER",
           "300 SOUTH PRESTON STREET",
           "RANSON",
           "WV"
          ],
          [
           "SACRED HEART HOSPITAL",
           "900 W CLAIREMONT AVE",
           "EAU CLAIRE",
           "WI"
          ],
          [
           "ASPIRUS WAUSAU HOSPITAL",
           "333 PINE RIDGE BLVD",
           "WAUSAU",
           "WI"
          ],
          [
           "ASPIRUS RIVERVIEW HOSPITAL & CLINICS INC",
           "410 DEWEY ST",
           "WISCONSIN RAPIDS",
           "WI"
          ],
          [
           "MERCY HEALTH SYSTEM CORP",
           "1000 MINERAL POINT AVE",
           "JANESVILLE",
           "WI"
          ],
          [
           "MILE BLUFF MEDICAL CENTER",
           "1050 DIVISION ST",
           "MAUSTON",
           "WI"
          ],
          [
           "AURORA ST LUKES MEDICAL CENTER",
           "2900 W OKLAHOMA AVE",
           "MILWAUKEE",
           "WI"
          ],
          [
           "OAKLEAF SURGICAL HOSPITAL",
           "1000 OAKLEAF WAY",
           "ALTOONA",
           "WI"
          ],
          [
           "SSM HEALTH ST MARY'S HOSPITAL - JANESVILLE",
           "3400 EAST RACINE STREET",
           "JANESVILLE",
           "WI"
          ],
          [
           "AMERY HOSPITAL & CLINIC",
           "265 GRIFFIN STREET EAST",
           "AMERY",
           "WI"
          ],
          [
           "HSHS ST CLARE MEMORIAL HOSPITAL",
           "855 S MAIN ST",
           "OCONTO FALLS",
           "WI"
          ],
          [
           "EDGERTON HOSPITAL AND HEALTH SERVICES",
           "11101 N SHERMAN ROAD",
           "EDGERTON",
           "WI"
          ],
          [
           "ASPIRUS MEDFORD HOSPITAL & CLINICS, INC",
           "135 S GIBSON ST",
           "MEDFORD",
           "WI"
          ],
          [
           "FLAMBEAU HOSPITAL",
           "98 SHERRY AVE",
           "PARK FALLS",
           "WI"
          ],
          [
           "SPOONER HEALTH SYSTEM",
           "1280 CHANDLER DR",
           "SPOONER",
           "WI"
          ],
          [
           "WESTFIELDS HOSPITAL AND CLINIC",
           "535 HOSPITAL RD",
           "NEW RICHMOND",
           "WI"
          ],
          [
           "CUMBERLAND MEMORIAL HOSPITAL",
           "1110 7TH AVENUE",
           "CUMBERLAND",
           "WI"
          ],
          [
           "BELLIN HEALTH OCONTO HOSPITAL",
           "820 ARBUTUS AVE",
           "OCONTO",
           "WI"
          ],
          [
           "IVINSON MEMORIAL HOSPITAL",
           "255 N 30TH",
           "LARAMIE",
           "WY"
          ],
          [
           "MEMORIAL HERMANN SURGICAL HOSPITAL KINGWOOD",
           "300 KINGWOOD MEDICAL DRIVE",
           "KINGWOOD",
           "TX"
          ],
          [
           "THE HOSPITAL AT WESTLAKE MEDICAL CENTER",
           "5656 BEE CAVES ROAD, SUITE M-302",
           "AUSTIN",
           "TX"
          ],
          [
           "NORTH CENTRAL SURGICAL CENTER LLP",
           "9301 NORTH CENTRAL EXPRESSWAY SUITE 100",
           "DALLAS",
           "TX"
          ],
          [
           "BAYLOR ORTHOPEDIC AND SPINE HOSPITAL AT ARLINGTON",
           "707 HIGHLANDER BLVD",
           "ARLINGTON",
           "TX"
          ],
          [
           "TEXAS HEALTH PRESBYTERIAN HOSPITAL FLOWER MOUND",
           "4400 LONG PRAIRIE ROAD",
           "FLOWER MOUND",
           "TX"
          ],
          [
           "METHODIST HOSPITAL FOR SURGERY",
           "17101 DALLAS PARKWAY",
           "ADDISON",
           "TX"
          ],
          [
           "TEXAS HEALTH HARRIS METHODIST HOSPITAL ALLIANCE",
           "10864 TEXAS HEALTH TRAIL",
           "FORT WORTH",
           "TX"
          ]
         ],
         "hoverlabel": {
          "namelength": 0
         },
         "hovertemplate": "is-MUA?=Yes<br>rate_of_readmission=%{x}<br>patients_rating_of_the_facility_linear_mean_score=%{y}<br>facility_name=%{customdata[0]}<br>address=%{customdata[1]}<br>city=%{customdata[2]}<br>state=%{customdata[3]}",
         "legendgroup": "is-MUA?=Yes",
         "marker": {
          "color": "#636efa",
          "symbol": "circle"
         },
         "mode": "markers",
         "name": "is-MUA?=Yes",
         "showlegend": true,
         "type": "scatter",
         "x": [
          14.7,
          15,
          16.2,
          15.3,
          15.2,
          14.7,
          14.7,
          15.8,
          15.1,
          15,
          15.8,
          15.3,
          15.3,
          15.7,
          16.4,
          15.3,
          16.3,
          14.2,
          15.4,
          13.9,
          14.4,
          14.7,
          15.1,
          16.9,
          16.4,
          17.6,
          15.7,
          16.8,
          16.4,
          15.8,
          15.1,
          15.8,
          14.4,
          15.7,
          14.9,
          15.1,
          15.2,
          14.9,
          15.7,
          15.1,
          16.1,
          14.8,
          15.7,
          16.3,
          13.6,
          14.6,
          14.9,
          16,
          16.1,
          14.5,
          15.3,
          16.4,
          14.1,
          16,
          15.4,
          14.4,
          15.2,
          15.4,
          17.4,
          15.5,
          14.1,
          15.4,
          14.1,
          14.7,
          15.2,
          14.6,
          15.4,
          15.6,
          15.9,
          14.7,
          15.2,
          15.5,
          15.2,
          15.2,
          14.5,
          16.6,
          15.6,
          15,
          14.7,
          14.8,
          14.8,
          15.8,
          15.2,
          15,
          14.3,
          15.1,
          14.8,
          14.6,
          15.3,
          15.2,
          14.8,
          15.6,
          16.2,
          14.4,
          15.9,
          16.1,
          16.5,
          16,
          14.5,
          14.6,
          17,
          15.5,
          15.5,
          15.9,
          15.3,
          15.5,
          14.6,
          14.9,
          14.8,
          15.1,
          15.4,
          16.3,
          15.5,
          15.2,
          15.9,
          14.9,
          15.4,
          15.3,
          15,
          14.8,
          13.3,
          14.6,
          14.9,
          15.5,
          15,
          14.7,
          14.6,
          15,
          14.9,
          15.9,
          15.7,
          14.8,
          16.1,
          15,
          15.3,
          15,
          15.6,
          14.7,
          14.5,
          15.4,
          15.2,
          16.6,
          14,
          14.7,
          14.4,
          15.1,
          16.3,
          15.3,
          15,
          14.9,
          15,
          14,
          14.7,
          15.9,
          14.7,
          15.5,
          15.2,
          15.8,
          14.9,
          14.9,
          15,
          15.9,
          14.5,
          14.7,
          14.8,
          14.9,
          18.6,
          15.6,
          16.2,
          15.9,
          14.8,
          15.3,
          15.4,
          15.4,
          14.6,
          14,
          16.2,
          15,
          14.9,
          15.6,
          14.9,
          15.9,
          15.1,
          15,
          16.1,
          15.3,
          15.6,
          15.5,
          14.8,
          14.9,
          16.6,
          16.7,
          15.3,
          15.3,
          14.6,
          16,
          13.9,
          14.8,
          15.1,
          15.4,
          14.7,
          15.3,
          14.8,
          15.3,
          14.5,
          14.6,
          15.5,
          15.4,
          14.4,
          13.9,
          14.5,
          17.7,
          14.7,
          16.2,
          15.4,
          11.2,
          16.6,
          16.8,
          14.4,
          14.7,
          14.9,
          15,
          15.2,
          16.5,
          14.6,
          15,
          15,
          15.7,
          14.9,
          15.4,
          14.7,
          15.7,
          14.8,
          13.9,
          16,
          14.9,
          14.7,
          15.3,
          15.1,
          15.8,
          15.4,
          15.4,
          14.8,
          15.7,
          14.6,
          15.4,
          14.8,
          15.6,
          16.5,
          15.7,
          17,
          15.4,
          15.4,
          15.1,
          16.2,
          15.5,
          15.4,
          14.8,
          15.1,
          15.9,
          15.3,
          15.9,
          14.7,
          14.8,
          15.4,
          13.6,
          15.2,
          14.2,
          15.1,
          14.9,
          15.1,
          14.8,
          14.7,
          14.1,
          15.5,
          14.8,
          17,
          16.3,
          16.8,
          17,
          16.6,
          15.8,
          15.5,
          16,
          17.3,
          12.9,
          14.6,
          14.4,
          14.3,
          15.2,
          15,
          14.5,
          13.9,
          15.1,
          15.4,
          16.8,
          15.8,
          15.4,
          16.7,
          15.5,
          16.7,
          14.4,
          16,
          16.2,
          10.2,
          15.5,
          16.6,
          15.5,
          16,
          13,
          15.1,
          15.7,
          14.8,
          15.8,
          15.1,
          16.2,
          15.2,
          14.6,
          14.8,
          14.2,
          13.8,
          15.4,
          15,
          14.5,
          15.3,
          15.2,
          15.5,
          15.1,
          15.6,
          13.7,
          14.9,
          16.5,
          14,
          14.6,
          14.6,
          14.1,
          14.5,
          15.5,
          15.5,
          14.6,
          16.4,
          14.6,
          16.3,
          15.1,
          15.5,
          16.2,
          15.9,
          15.4,
          15,
          15.7,
          15.5,
          16.2,
          13.9,
          15,
          15,
          14.8,
          15.2,
          14.3,
          14.9,
          14.2,
          14.8,
          14.7,
          14.8,
          15.8,
          15.4,
          13.6,
          15.5,
          15.5,
          15.2,
          14.9,
          16,
          15.6,
          14.1,
          14.5,
          15.1,
          15.7,
          15.4,
          14.8,
          15.1,
          15.5,
          15,
          14.4,
          14.5,
          15.2,
          14.7,
          14,
          15.1,
          14.2,
          13.5,
          16.3,
          15.3,
          15.1,
          15.8,
          14.6,
          15.1,
          14.1,
          16.4,
          14.8,
          15.2,
          16.6,
          16.2,
          14.6,
          15.1,
          14.3,
          16.2,
          15.5,
          15.6,
          14.6,
          15.1,
          15.1,
          15,
          15.2,
          14.6,
          13.4,
          15.1,
          16.7,
          15.1,
          16.2,
          16.3,
          15.2,
          15.1,
          15,
          14.4,
          15.3,
          15.4,
          14.4,
          15.1,
          16.1,
          15.6,
          16.1,
          15,
          15.7,
          15.5,
          14.9,
          15.5,
          15.6,
          16.3,
          15.2,
          15.2,
          15.3,
          15.5,
          14.6,
          14.7,
          16.2,
          14.8,
          14.1,
          15.1,
          14.9,
          14.6,
          16.1,
          15,
          16.1,
          15.2,
          13.5,
          14.6,
          14.5,
          14.6,
          15.4,
          15.2,
          15.3,
          14.2,
          15.1,
          15,
          14.5,
          14,
          13.3,
          14,
          14.4,
          15.2,
          15.4,
          14.6,
          15.4,
          15,
          15.5,
          15.9,
          14.6,
          16,
          15,
          16,
          14.4,
          14.4,
          13.9,
          14.2,
          13.9,
          13.8,
          15.3,
          15.7,
          14.1,
          14.5,
          15.1,
          14.6,
          14.1,
          16.5,
          14.8,
          14.5,
          16.7,
          16.9,
          15.4,
          15.7,
          15.6,
          15.8,
          15,
          14.2,
          15.8,
          15,
          15.7,
          15,
          15,
          14.1,
          15,
          15.1,
          15.3,
          15.3,
          15,
          15.5,
          14.7,
          14.9,
          16,
          15.5,
          15.3,
          15.7,
          15.3,
          14.5,
          14.3,
          16.2,
          14.6,
          15.3
         ],
         "xaxis": "x",
         "y": [
          94,
          95,
          93,
          96,
          96,
          91,
          90,
          93,
          89,
          94,
          93,
          94,
          92,
          93,
          92,
          86,
          91,
          96,
          90,
          94,
          92,
          94,
          94,
          93,
          93,
          91,
          91,
          96,
          96,
          94,
          96,
          94,
          92,
          93,
          94,
          95,
          94,
          95,
          94,
          93,
          92,
          90,
          94,
          90,
          93,
          91,
          90,
          94,
          91,
          92,
          91,
          92,
          93,
          89,
          92,
          94,
          92,
          94,
          84,
          92,
          93,
          94,
          95,
          94,
          94,
          95,
          94,
          89,
          95,
          93,
          95,
          89,
          94,
          92,
          95,
          93,
          94,
          94,
          94,
          95,
          95,
          92,
          95,
          94,
          89,
          92,
          94,
          95,
          95,
          96,
          93,
          95,
          95,
          95,
          93,
          95,
          94,
          95,
          95,
          92,
          95,
          94,
          94,
          93,
          91,
          89,
          93,
          95,
          91,
          92,
          92,
          94,
          94,
          94,
          98,
          95,
          90,
          95,
          95,
          93,
          94,
          95,
          97,
          94,
          91,
          94,
          94,
          96,
          93,
          94,
          93,
          95,
          95,
          93,
          94,
          95,
          92,
          93,
          95,
          95,
          96,
          90,
          93,
          94,
          96,
          94,
          95,
          94,
          93,
          93,
          94,
          93,
          94,
          94,
          93,
          92,
          94,
          93,
          95,
          95,
          95,
          93,
          94,
          93,
          94,
          94,
          90,
          93,
          91,
          95,
          94,
          96,
          95,
          93,
          95,
          96,
          94,
          96,
          95,
          94,
          93,
          92,
          94,
          96,
          92,
          93,
          94,
          95,
          93,
          94,
          93,
          91,
          91,
          97,
          96,
          96,
          96,
          95,
          93,
          90,
          92,
          92,
          93,
          92,
          91,
          92,
          91,
          95,
          91,
          93,
          95,
          92,
          91,
          94,
          95,
          96,
          95,
          95,
          96,
          93,
          93,
          93,
          94,
          91,
          96,
          93,
          93,
          94,
          91,
          94,
          93,
          93,
          93,
          93,
          93,
          93,
          95,
          96,
          93,
          95,
          94,
          93,
          94,
          97,
          95,
          94,
          95,
          94,
          94,
          94,
          93,
          89,
          94,
          75,
          93,
          94,
          92,
          90,
          92,
          94,
          94,
          94,
          95,
          93,
          94,
          91,
          91,
          94,
          93,
          97,
          92,
          93,
          92,
          93,
          91,
          95,
          90,
          89,
          92,
          92,
          91,
          94,
          91,
          94,
          93,
          92,
          93,
          93,
          97,
          94,
          93,
          96,
          93,
          92,
          91,
          93,
          91,
          92,
          92,
          93,
          90,
          91,
          93,
          92,
          97,
          93,
          94,
          96,
          95,
          95,
          96,
          94,
          95,
          96,
          93,
          93,
          95,
          94,
          95,
          94,
          95,
          94,
          94,
          94,
          95,
          95,
          95,
          94,
          96,
          95,
          95,
          93,
          96,
          95,
          95,
          94,
          96,
          96,
          95,
          91,
          89,
          94,
          95,
          92,
          93,
          93,
          94,
          93,
          93,
          93,
          95,
          91,
          95,
          95,
          94,
          94,
          90,
          94,
          93,
          91,
          95,
          92,
          95,
          92,
          93,
          95,
          97,
          95,
          95,
          93,
          94,
          94,
          94,
          92,
          88,
          95,
          95,
          95,
          97,
          95,
          95,
          92,
          93,
          93,
          94,
          95,
          94,
          93,
          95,
          95,
          93,
          94,
          92,
          92,
          94,
          93,
          94,
          93,
          95,
          93,
          94,
          94,
          94,
          93,
          93,
          95,
          95,
          94,
          92,
          92,
          91,
          94,
          95,
          95,
          93,
          94,
          94,
          95,
          94,
          95,
          96,
          93,
          96,
          95,
          94,
          94,
          94,
          95,
          88,
          93,
          92,
          95,
          93,
          91,
          95,
          93,
          96,
          95,
          94,
          93,
          95,
          91,
          94,
          95,
          94,
          94,
          92,
          94,
          96,
          95,
          96,
          94,
          95,
          96,
          95,
          94,
          95,
          94,
          97,
          96,
          97,
          94,
          96,
          96,
          92,
          93,
          94,
          93,
          94,
          92,
          92,
          93,
          94,
          95,
          93,
          93,
          93,
          95,
          93,
          93,
          92,
          92,
          93,
          90,
          92,
          93,
          93,
          93,
          96,
          93,
          95,
          94,
          94,
          93,
          93,
          93,
          92,
          92,
          94,
          90,
          90,
          93,
          92,
          93,
          94,
          92,
          93,
          93,
          97,
          95,
          93,
          94,
          94,
          94,
          94,
          94,
          96,
          93,
          95,
          94,
          96,
          93,
          96,
          97,
          96,
          96,
          95
         ],
         "yaxis": "y"
        },
        {
         "customdata": [
          [
           "UNIVERSITY OF ALABAMA HOSPITAL",
           "619 SOUTH 19TH STREET",
           "BIRMINGHAM",
           "AL"
          ],
          [
           "WIREGRASS MEDICAL CENTER",
           "1200 W MAPLE AVENUE",
           "GENEVA",
           "AL"
          ],
          [
           "TROY REGIONAL MEDICAL CENTER",
           "1330 HIGHWAY 231 SOUTH",
           "TROY",
           "AL"
          ],
          [
           "PROVIDENCE KODIAK ISLAND MEDICAL CTR",
           "1915 EAST REZANOF DRIVE",
           "KODIAK",
           "AK"
          ],
          [
           "VERDE VALLEY MEDICAL CENTER",
           "269 SOUTH CANDY LANE",
           "COTTONWOOD",
           "AZ"
          ],
          [
           "YAVAPAI REGIONAL MEDICAL CENTER",
           "1003 WILLOW CREEK ROAD",
           "PRESCOTT",
           "AZ"
          ],
          [
           "FLAGSTAFF MEDICAL CENTER",
           "1200 NORTH BEAVER STREET",
           "FLAGSTAFF",
           "AZ"
          ],
          [
           "ARIZONA SPINE AND JOINT HOSPITAL",
           "4620 EAST BASELINE ROAD",
           "MESA",
           "AZ"
          ],
          [
           "O.A.S.I.S. HOSPITAL",
           "750 NORTH 40TH STREET",
           "PHOENIX",
           "AZ"
          ],
          [
           "QUEEN OF THE VALLEY MEDICAL CENTER",
           "1000 TRANCAS ST",
           "NAPA",
           "CA"
          ],
          [
           "ADVENTIST HEALTH ST HELENA",
           "10 WOODLAND ROAD",
           "SAINT HELENA",
           "CA"
          ],
          [
           "HOLLYWOOD PRESBYTERIAN MEDICAL CENTER",
           "1300 N VERMONT AVE",
           "LOS ANGELES",
           "CA"
          ],
          [
           "ST JOSEPH HOSPITAL",
           "1100 WEST STEWART DR",
           "ORANGE",
           "CA"
          ],
          [
           "PROVIDENCE LITTLE CO OF MARY MED CTR SAN PEDRO",
           "1300 W 7TH ST",
           "SAN PEDRO",
           "CA"
          ],
          [
           "SAINT FRANCIS MEDICAL CENTER",
           "3630 EAST IMPERIAL HIGHWAY",
           "LYNWOOD",
           "CA"
          ],
          [
           "SANTA MONICA - UCLA MED CTR & ORTHOPAEDIC HOSPITAL",
           "1250 16TH STREET",
           "SANTA MONICA",
           "CA"
          ],
          [
           "VALLEY PRESBYTERIAN HOSPITAL",
           "15107 VANOWEN ST",
           "VAN NUYS",
           "CA"
          ],
          [
           "SAN GABRIEL VALLEY MEDICAL CENTER",
           "438 W LAS TUNAS DRIVE",
           "SAN GABRIEL",
           "CA"
          ],
          [
           "KAISER FOUNDATION HOSPITAL - PANORAMA CITY",
           "13652 CANTARA ST",
           "PANORAMA CITY",
           "CA"
          ],
          [
           "KAISER FOUNDATION HOSPITAL - LOS ANGELES",
           "4867 SUNSET BLVD",
           "LOS ANGELES",
           "CA"
          ],
          [
           "KAISER FOUNDATION HOSPITAL - DOWNEY",
           "9333 IMPERIAL HIGHWAY",
           "DOWNEY",
           "CA"
          ],
          [
           "ST JUDE MEDICAL CENTER",
           "101 E VALENCIA MESA DRIVE",
           "FULLERTON",
           "CA"
          ],
          [
           "PALMDALE REGIONAL MEDICAL CENTER",
           "38600 MEDICAL CENTER DRIVE",
           "PALMDALE",
           "CA"
          ],
          [
           "HOAG MEMORIAL HOSPITAL PRESBYTERIAN",
           "ONE HOAG DRIVE",
           "NEWPORT BEACH",
           "CA"
          ],
          [
           "AHMC ANAHEIM REGIONAL MEDICAL CENTER",
           "1111 W LA PALMA AVENUE",
           "ANAHEIM",
           "CA"
          ],
          [
           "METHODIST HOSPITAL OF SOUTHERN CA",
           "300 W HUNTINGTON DR",
           "ARCADIA",
           "CA"
          ],
          [
           "SIERRA VIEW MEDICAL CENTER",
           "465 W PUTNAM AVE",
           "PORTERVILLE",
           "CA"
          ],
          [
           "RONALD REAGAN U C L A MEDICAL CENTER",
           "757 WESTWOOD PLAZA",
           "LOS ANGELES",
           "CA"
          ],
          [
           "PROVIDENCE HOLY CROSS MEDICAL CENTER",
           "15031 RINALDI ST",
           "MISSION HILLS",
           "CA"
          ],
          [
           "ALHAMBRA HOSPITAL MEDICAL CENTER",
           "100 S RAYMOND AVE",
           "ALHAMBRA",
           "CA"
          ],
          [
           "PROVIDENCE SAINT JOHN'S HEALTH CENTER",
           "2121 SANTA MONICA BLVD",
           "SANTA MONICA",
           "CA"
          ],
          [
           "TORRANCE MEMORIAL MEDICAL CENTER",
           "3330 LOMITA BLVD",
           "TORRANCE",
           "CA"
          ],
          [
           "PROVIDENCE LITTLE COMPANY OF MARY MED CTR TORRANCE",
           "4101 TORRANCE BLVD",
           "TORRANCE",
           "CA"
          ],
          [
           "GOLETA VALLEY COTTAGE HOSPITAL",
           "351 S PATTERSON AVE",
           "SANTA BARBARA",
           "CA"
          ],
          [
           "SANTA BARBARA COTTAGE HOSPITAL",
           "400 WEST PUEBLO",
           "SANTA BARBARA",
           "CA"
          ],
          [
           "KAISER FOUNDATION HOSPITAL - SOUTH BAY",
           "25825 SOUTH VERMONT AVENUE",
           "HARBOR CITY",
           "CA"
          ],
          [
           "LONG BEACH MEMORIAL MEDICAL CENTER",
           "2801 ATLANTIC AVE",
           "LONG BEACH",
           "CA"
          ],
          [
           "SAINT VINCENT MEDICAL CENTER",
           "2131 W 3RD ST",
           "LOS ANGELES",
           "CA"
          ],
          [
           "PIEDMONT HOSPITAL",
           "1968 PEACHTREE RD NW",
           "ATLANTA",
           "GA"
          ],
          [
           "KAISER FOUNDATION HOSPITAL - WEST LA",
           "6041 CADILLAC AVE",
           "LOS ANGELES",
           "CA"
          ],
          [
           "MISSION HOSPITAL REGIONAL MED CENTER",
           "27700 MEDICAL CENTER RD",
           "MISSION VIEJO",
           "CA"
          ],
          [
           "MEMORIALCARE SADDLEBACK MEDICAL CENTER",
           "24451 HEALTH CENTER DRIVE",
           "LAGUNA HILLS",
           "CA"
          ],
          [
           "KAISER FOUNDATION HOSPITAL - ORANGE COUNTY - ANAHE",
           "3440 E LA PALMA AVE",
           "ANAHEIM",
           "CA"
          ],
          [
           "CEDARS-SINAI MEDICAL CENTER",
           "8700 BEVERLY BLVD",
           "LOS ANGELES",
           "CA"
          ],
          [
           "KAISER FOUNDATION HOSPITAL - WOODLAND HILLS",
           "5601 DE SOTO AVENUE",
           "WOODLAND HILLS",
           "CA"
          ],
          [
           "KECK HOSPITAL OF USC",
           "1500 SAN PABLO STREET",
           "LOS ANGELES",
           "CA"
          ],
          [
           "KAISER FOUNDATION HOSPITAL - BALDWIN PARK",
           "1011 BALDWIN PARK BLVD",
           "BALDWIN PARK",
           "CA"
          ],
          [
           "WHITTIER HOSPITAL MEDICAL CENTER",
           "9080 COLIMA RD",
           "WHITTIER",
           "CA"
          ],
          [
           "MONTEREY PARK HOSPITAL",
           "900 S ATLANTIC BLVD",
           "MONTEREY PARK",
           "CA"
          ],
          [
           "GARFIELD MEDICAL CENTER",
           "525 N GARFIELD AVE",
           "MONTEREY PARK",
           "CA"
          ],
          [
           "GREATER EL MONTE COMMUNITY HOSPITAL",
           "1701 SANTA ANITA AVE",
           "SOUTH EL MONTE",
           "CA"
          ],
          [
           "OLYMPIA MEDICAL CENTER",
           "5900 WEST OLYMPIC BOULEVARD",
           "LOS ANGELES",
           "CA"
          ],
          [
           "MIRACLE MILE MEDICAL CENTER",
           "6000 SAN VICENTE BLVD",
           "LOS ANGELES",
           "CA"
          ],
          [
           "PROVIDENCE TARZANA MEDICAL CENTER",
           "18321 CLARK STREET",
           "TARZANA",
           "CA"
          ],
          [
           "HOAG ORTHOPEDIC INSTITUTE",
           "16250 SAND CANYON AVENUE",
           "IRVINE",
           "CA"
          ],
          [
           "KAISER FOUNDATION HOSPITAL - ROSEVILLE",
           "1600 EUREKA ROAD",
           "ROSEVILLE",
           "CA"
          ],
          [
           "SANTA YNEZ VALLEY COTTAGE HOSPITAL",
           "2050 VIBORG RD",
           "SOLVANG",
           "CA"
          ],
          [
           "MONTROSE MEMORIAL HOSPITAL",
           "800 SOUTH 3RD STREET",
           "MONTROSE",
           "CO"
          ],
          [
           "LUTHERAN MEDICAL CENTER",
           "8300 W 38TH AVE",
           "WHEAT RIDGE",
           "CO"
          ],
          [
           "MERCY REGIONAL MEDICAL CENTER",
           "1010 THREE SPRINGS BLVD",
           "DURANGO",
           "CO"
          ],
          [
           "CENTURA HEALTH-ST ANTHONY HOSPITAL",
           "11600 WEST 2ND PLACE",
           "LAKEWOOD",
           "CO"
          ],
          [
           "CENTURA HEALTH-PENROSE ST FRANCIS HEALTH SERVICES",
           "2222 NORTH NEVADA AVENUE",
           "COLORADO SPRINGS",
           "CO"
          ],
          [
           "CENTURA HEALTH-AVISTA ADVENTIST HOSPITAL",
           "100 HEALTH PARK DRIVE",
           "LOUISVILLE",
           "CO"
          ],
          [
           "PARKER ADVENTIST HOSPITAL",
           "9395 CROWN CREST BLVD",
           "PARKER",
           "CO"
          ],
          [
           "ORTHOCOLORADO HOSPITAL AT ST ANTHONY MED CAMPUS",
           "11650 WEST 2ND PLACE",
           "LAKEWOOD",
           "CO"
          ],
          [
           "CASTLE ROCK ADVENTIST HOSPITAL",
           "2350 MEADOWS BOULEVARD",
           "CASTLE ROCK",
           "CO"
          ],
          [
           "HEART OF THE ROCKIES REGIONAL MEDICAL CENTER",
           "1000 RUSH DRIVE",
           "SALIDA",
           "CO"
          ],
          [
           "DAY KIMBALL HOSPITAL",
           "320 POMFRET STREET",
           "PUTNAM",
           "CT"
          ],
          [
           "CHARLOTTE HUNGERFORD HOSPITAL",
           "540 LITCHFIELD ST",
           "TORRINGTON",
           "CT"
          ],
          [
           "BAYHEALTH HOSPITAL, KENT CAMPUS",
           "640 S STATE STREET",
           "DOVER",
           "DE"
          ],
          [
           "GEORGE WASHINGTON UNIV HOSPITAL",
           "900 23RD ST NW",
           "WASHINGTON",
           "DC"
          ],
          [
           "HOLMES REGIONAL MEDICAL CENTER",
           "1350 S HICKORY ST",
           "MELBOURNE",
           "FL"
          ],
          [
           "PARRISH MEDICAL CENTER",
           "951 N WASHINGTON AVE",
           "TITUSVILLE",
           "FL"
          ],
          [
           "HEALTH CENTRAL",
           "10000 W COLONIAL DR",
           "OCOEE",
           "FL"
          ],
          [
           "MOUNT SINAI MEDICAL CENTER",
           "4300 ALTON RD",
           "MIAMI BEACH",
           "FL"
          ],
          [
           "BROWARD HEALTH MEDICAL CENTER",
           "1600 S ANDREWS AVE",
           "FORT LAUDERDALE",
           "FL"
          ],
          [
           "BROWARD HEALTH NORTH",
           "201 E SAMPLE RD",
           "POMPANO BEACH",
           "FL"
          ],
          [
           "BAPTIST MEDICAL CENTER JACKSONVILLE",
           "800 PRUDENTIAL DR",
           "JACKSONVILLE",
           "FL"
          ],
          [
           "FLAGLER HOSPITAL",
           "400 HEALTH PARK BLVD",
           "SAINT AUGUSTINE",
           "FL"
          ],
          [
           "TAMPA GENERAL HOSPITAL",
           "1 TAMPA GENERAL CIR",
           "TAMPA",
           "FL"
          ],
          [
           "LAKESIDE MEDICAL CENTER",
           "39200 HOOKER HWY",
           "BELLE GLADE",
           "FL"
          ],
          [
           "BOCA RATON REGIONAL HOSPITAL",
           "800 MEADOWS RD",
           "BOCA RATON",
           "FL"
          ],
          [
           "DESOTO MEMORIAL HOSPITAL",
           "900 N ROBERT AVE",
           "ARCADIA",
           "FL"
          ],
          [
           "CAPE CANAVERAL HOSPITAL",
           "701 W COCOA BEACH CAUSEWAY",
           "COCOA BEACH",
           "FL"
          ],
          [
           "LARKIN COMMUNITY HOSPITAL",
           "7031 SW 62ND AVE",
           "SOUTH MIAMI",
           "FL"
          ],
          [
           "BROWARD HEALTH IMPERIAL POINT",
           "6401 N FEDERAL HWY",
           "FORT LAUDERDALE",
           "FL"
          ],
          [
           "WELLINGTON REGIONAL MEDICAL CENTER LLC",
           "10101 FOREST HILL BLVD",
           "WELLINGTON",
           "FL"
          ],
          [
           "BROWARD HEALTH CORAL SPRINGS",
           "3000 CORAL HILLS DR",
           "CORAL SPRINGS",
           "FL"
          ],
          [
           "VIERA HOSPITAL",
           "8745 N WICKHAM RD",
           "MELBOURNE",
           "FL"
          ],
          [
           "PALM BAY HOSPITAL",
           "1425 MALABAR RD, NE",
           "PALM BAY",
           "FL"
          ],
          [
           "EMORY UNIVERSITY HOSPITAL",
           "1364 CLIFTON ROAD, NE",
           "ATLANTA",
           "GA"
          ],
          [
           "CANDLER HOSPITAL",
           "5353 REYNOLDS STREET",
           "SAVANNAH",
           "GA"
          ],
          [
           "WELLSTAR KENNESTONE HOSPITAL",
           "677 CHURCH STREET",
           "MARIETTA",
           "GA"
          ],
          [
           "WELLSTAR PAULDING HOSPITAL",
           "2518 JIMMY LEE SMITH PARKWAY",
           "HIRAM",
           "GA"
          ],
          [
           "ST JOSEPH'S HOSPITAL - SAVANNAH",
           "11705 MERCY BOULEVARD",
           "SAVANNAH",
           "GA"
          ],
          [
           "SAINT JOSEPH'S HOSPITAL OF ATLANTA, INC",
           "5665 PEACHTREE DUNWOODY ROAD",
           "ATLANTA",
           "GA"
          ],
          [
           "PIEDMONT ROCKDALE HOSPITAL",
           "1412 MILSTEAD AVENUE, NE",
           "CONYERS",
           "GA"
          ],
          [
           "TIFT REGIONAL MEDICAL CENTER",
           "901 E 18TH STREET",
           "TIFTON",
           "GA"
          ],
          [
           "WELLSTAR ATLANTA MEDICAL CENTER",
           "303 PARKWAY DRIVE, NE",
           "ATLANTA",
           "GA"
          ],
          [
           "WELLSTAR COBB HOSPITAL",
           "3950 AUSTELL RD",
           "AUSTELL",
           "GA"
          ],
          [
           "WELLSTAR DOUGLAS HOSPITAL",
           "8954 HOSPITAL DRIVE",
           "DOUGLASVILLE",
           "GA"
          ],
          [
           "DONALSONVILLE HOSPITAL INC",
           "102 HOSPITAL CIR",
           "DONALSONVILLE",
           "GA"
          ],
          [
           "WELLSTAR NORTH FULTON HOSPITAL",
           "3000 HOSPITAL BOULEVARD",
           "ROSWELL",
           "GA"
          ],
          [
           "PIEDMONT FAYETTE HOSPITAL",
           "1255 HIGHWAY 54 WEST",
           "FAYETTEVILLE",
           "GA"
          ],
          [
           "EMORY JOHNS CREEK HOSPITAL",
           "6325 HOSPITAL PARKWAY",
           "JOHNS CREEK",
           "GA"
          ],
          [
           "ST LUKE'S REGIONAL MEDICAL CENTER",
           "190 EAST BANNOCK STREET",
           "BOISE",
           "ID"
          ],
          [
           "TREASURE VALLEY HOSPITAL",
           "8800 WEST EMERALD STREET",
           "BOISE",
           "ID"
          ],
          [
           "CASSIA REGIONAL HOSPITAL",
           "1501 HILAND AVENUE",
           "BURLEY",
           "ID"
          ],
          [
           "BLESSING HOSPITAL",
           "BROADWAY ST & N 11TH ST",
           "QUINCY",
           "IL"
          ],
          [
           "SSM HEALTH ST MARY'S HOSPITAL -CENTRALIA",
           "400 NORTH PLEASANT AVENUE",
           "CENTRALIA",
           "IL"
          ],
          [
           "ADVOCATE TRINITY HOSPITAL",
           "2320 E 93RD ST",
           "CHICAGO",
           "IL"
          ],
          [
           "MACNEAL  HOSPITAL",
           "3249 SOUTH OAK PARK AVENUE",
           "BERWYN",
           "IL"
          ],
          [
           "MC DONOUGH DISTRICT HOSPITAL",
           "525 EAST GRANT STREET",
           "MACOMB",
           "IL"
          ],
          [
           "SAINT ANTHONY HOSPITAL",
           "2875 WEST 19TH STREET",
           "CHICAGO",
           "IL"
          ],
          [
           "MIDWESTERN REGION MED CENTER",
           "2520 ELISHA AVENUE",
           "ZION",
           "IL"
          ],
          [
           "PEKIN MEMORIAL HOSPITAL",
           "600 SOUTH 13TH STREET",
           "PEKIN",
           "IL"
          ],
          [
           "ST MARGARETS HOSPITAL",
           "600 E 1ST ST",
           "SPRING VALLEY",
           "IL"
          ],
          [
           "ST JOSEPHS HOSPITAL",
           "9515 HOLY CROSS LN",
           "BREESE",
           "IL"
          ],
          [
           "UNIVERSITY OF ILLINOIS HOSPITAL",
           "1740 WEST TAYLOR ST SUITE 1400",
           "CHICAGO",
           "IL"
          ],
          [
           "FHN MEMORIAL HOSPITAL",
           "1045 WEST STEPHENSON STREET",
           "FREEPORT",
           "IL"
          ],
          [
           "ST JOSEPH MEDICAL CENTER",
           "2200 E WASHINGTON",
           "BLOOMINGTON",
           "IL"
          ],
          [
           "LITTLE COMPANY OF MARY HOSPITAL",
           "2800 W 95TH ST",
           "EVERGREEN PARK",
           "IL"
          ],
          [
           "ADVOCATE ILLINOIS MASONIC MEDICAL CENTER",
           "836 WEST WELLINGTON AVENUE",
           "CHICAGO",
           "IL"
          ],
          [
           "HSHS ST ELIZABETH'S HOSPITAL",
           "ONE ST ELIZABETH BOULEVARD",
           "O FALLON",
           "IL"
          ],
          [
           "ELMHURST MEMORIAL HOSPITAL",
           "155 EAST BRUSH HILL ROAD",
           "ELMHURST",
           "IL"
          ],
          [
           "ADVOCATE CONDELL MEDICAL CENTER",
           "801 S MILWAUKEE AVE",
           "LIBERTYVILLE",
           "IL"
          ],
          [
           "ADVOCATE CHRIST HOSPITAL & MEDICAL CENTER",
           "4440 W 95TH STREET",
           "OAK LAWN",
           "IL"
          ],
          [
           "ADVOCATE LUTHERAN GENERAL HOSPITAL",
           "1775 DEMPSTER ST",
           "PARK RIDGE",
           "IL"
          ],
          [
           "EDWARD HOSPITAL",
           "801 SOUTH WASHINGTON",
           "NAPERVILLE",
           "IL"
          ],
          [
           "ADVOCATE SOUTH SUBURBAN HOSPITAL",
           "17800 S KEDZIE AVE",
           "HAZEL CREST",
           "IL"
          ],
          [
           "ADVOCATE GOOD SAMARITAN HOSPITAL",
           "3815 HIGHLAND AVENUE",
           "DOWNERS GROVE",
           "IL"
          ],
          [
           "ADVOCATE GOOD SHEPHERD HOSPITAL",
           "450 WEST HIGHWAY 22",
           "BARRINGTON",
           "IL"
          ],
          [
           "MERCY HARVARD HOSPITAL",
           "901 S GRANT STREET",
           "HARVARD",
           "IL"
          ],
          [
           "PERRY MEMORIAL HOSPITAL",
           "530 PARK AVENUE EAST",
           "PRINCETON",
           "IL"
          ],
          [
           "HENDRICKS REGIONAL HEALTH",
           "1000 E MAIN ST",
           "DANVILLE",
           "IN"
          ],
          [
           "FRANCISCAN HEALTH CRAWFORDSVILLE",
           "1710 LAFAYETTE RD",
           "CRAWFORDSVILLE",
           "IN"
          ],
          [
           "ESKENAZI HEALTH",
           "720 ESKENAZI AVENUE",
           "INDIANAPOLIS",
           "IN"
          ],
          [
           "HENRY COUNTY MEMORIAL HOSPITAL",
           "1000 N 16TH ST",
           "NEW CASTLE",
           "IN"
          ],
          [
           "HANCOCK REGIONAL HOSPITAL",
           "801 N STATE ST",
           "GREENFIELD",
           "IN"
          ],
          [
           "GOOD SAMARITAN HOSPITAL",
           "520 S 7TH ST",
           "VINCENNES",
           "IN"
          ],
          [
           "DEKALB HEALTH",
           "1316 E SEVENTH ST",
           "AUBURN",
           "IN"
          ],
          [
           "SCHNECK MEDICAL CENTER",
           "411 W TIPTON ST",
           "SEYMOUR",
           "IN"
          ],
          [
           "MAJOR HOSPITAL",
           "2451 INTELLIPLEX DR",
           "SHELBYVILLE",
           "IN"
          ],
          [
           "MEMORIAL HOSPITAL AND HEALTH CARE CENTER",
           "800 W 9TH ST",
           "JASPER",
           "IN"
          ],
          [
           "FRANCISCAN HEALTH INDIANAPOLIS",
           "8111 S EMERSON AVE",
           "INDIANAPOLIS",
           "IN"
          ],
          [
           "FRANCISCAN HEALTH CARMEL",
           "12188 B NORTH MERIDIAN STREET",
           "CARMEL",
           "IN"
          ],
          [
           "FRANCISCAN HEALTH RENSSELAER, INC",
           "1104 E GRACE ST",
           "RENSSELAER",
           "IN"
          ],
          [
           "ADAMS MEMORIAL HOSPITAL",
           "1100 MERCER AVE",
           "DECATUR",
           "IN"
          ],
          [
           "TRINITY MUSCATINE",
           "1518 MULBERRY AVENUE",
           "MUSCATINE",
           "IA"
          ],
          [
           "TRINITY REGIONAL MEDICAL CENTER",
           "802 KENYON RD",
           "FORT DODGE",
           "IA"
          ],
          [
           "ST LUKES HOSPITAL",
           "1026 A AVE NE",
           "CEDAR RAPIDS",
           "IA"
          ],
          [
           "MERCY MEDICAL CENTER - CEDAR RAPIDS",
           "701 10TH STREET SE",
           "CEDAR RAPIDS",
           "IA"
          ],
          [
           "SPENCER MUNICIPAL HOSPITAL",
           "1200 1ST AVENUE EAST",
           "SPENCER",
           "IA"
          ],
          [
           "KNOXVILLE HOSPITAL & CLINICS",
           "1002 SOUTH LINCOLN STREET",
           "KNOXVILLE",
           "IA"
          ],
          [
           "ST CATHERINE HOSPITAL",
           "401 EAST SPRUCE",
           "GARDEN CITY",
           "KS"
          ],
          [
           "OWENSBORO HEALTH REGIONAL HOSPITAL",
           "1201 PLEASANT VALLEY ROAD",
           "OWENSBORO",
           "KY"
          ],
          [
           "BATON ROUGE GENERAL MEDICAL CENTER",
           "3600 FLORIDA BLVD",
           "BATON ROUGE",
           "LA"
          ],
          [
           "SURGICAL SPECIALTY CENTER OF BATON ROUGE",
           "8080 BLUEBONNET BLVD",
           "BATON ROUGE",
           "LA"
          ],
          [
           "SOUTHERN MAINE HEALTH CARE",
           "1 MEDICAL CENTER DRIVE",
           "BIDDEFORD",
           "ME"
          ],
          [
           "MERITUS MEDICAL CENTER",
           "11116 MEDICAL CAMPUS ROAD",
           "HAGERSTOWN",
           "MD"
          ],
          [
           "ANNE ARUNDEL MEDICAL CENTER",
           "2001 MEDICAL PARKWAY",
           "ANNAPOLIS",
           "MD"
          ],
          [
           "CARROLL HOSPITAL CENTER",
           "200 MEMORIAL AVENUE",
           "WESTMINSTER",
           "MD"
          ],
          [
           "BAYSTATE NOBLE HOSPITAL",
           "115 WEST SILVER STREET",
           "WESTFIELD",
           "MA"
          ],
          [
           "BAYSTATE MEDICAL CENTER",
           "759 CHESTNUT STREET",
           "SPRINGFIELD",
           "MA"
          ],
          [
           "FALMOUTH HOSPITAL",
           "67 & 100 TER HEUN DRIVE",
           "FALMOUTH",
           "MA"
          ],
          [
           "BRONSON METHODIST HOSPITAL",
           "601 JOHN STREET",
           "KALAMAZOO",
           "MI"
          ],
          [
           "LAKELAND HOSPITAL, ST JOSEPH",
           "1234 NAPIER AVENUE",
           "ST JOSEPH",
           "MI"
          ],
          [
           "SPECTRUM HEALTH UNITED HOSPITAL",
           "615 S BOWER STREET",
           "GREENVILLE",
           "MI"
          ],
          [
           "SPECTRUM HEALTH - BUTTERWORTH CAMPUS",
           "100 MICHIGAN ST NE",
           "GRAND RAPIDS",
           "MI"
          ],
          [
           "SPECTRUM HEALTH PENNOCK",
           "1009 W GREEN ST",
           "HASTINGS",
           "MI"
          ],
          [
           "BRONSON BATTLE CREEK HOSPITAL",
           "300 NORTH AVENUE",
           "BATTLE CREEK",
           "MI"
          ],
          [
           "LAKELAND HOSPITAL WATERVLIET",
           "400 MEDICAL PARK DR",
           "WATERVLIET",
           "MI"
          ],
          [
           "SPECTRUM HEALTH LUDINGTON HOSPITAL",
           "ONE N ATKINSON DRIVE",
           "LUDINGTON",
           "MI"
          ],
          [
           "CAMBRIDGE MEDICAL CENTER",
           "701 SOUTH DELLWOOD AVENUE",
           "CAMBRIDGE",
           "MN"
          ],
          [
           "ST CLOUD HOSPITAL",
           "1406 6TH AVE NORTH",
           "SAINT CLOUD",
           "MN"
          ],
          [
           "UNIVERSITY MEDICAL CENTER-MESABI/ MESABA CLINICS",
           "750 EAST 34TH ST",
           "HIBBING",
           "MN"
          ],
          [
           "REGINA HOSPITAL",
           "1175 NININGER ROAD",
           "HASTINGS",
           "MN"
          ],
          [
           "LAKEVIEW MEMORIAL HOSPITAL",
           "927 WEST CHURCHILL STREET",
           "STILLWATER",
           "MN"
          ],
          [
           "OWATONNA HOSPITAL",
           "2250 26TH STREET NORTHWEST",
           "OWATONNA",
           "MN"
          ],
          [
           "ST FRANCIS REGIONAL MEDICAL CENTER",
           "1455 ST FRANCIS AVENUE",
           "SHAKOPEE",
           "MN"
          ],
          [
           "MERCY HOSPITAL",
           "4050 COON RAPIDS BLVD",
           "COON RAPIDS",
           "MN"
          ],
          [
           "FAIRVIEW NORTHLAND REGIONAL HOSPITAL",
           "911 NORTHLAND DR",
           "PRINCETON",
           "MN"
          ],
          [
           "HUTCHINSON HEALTH",
           "1095 HIGHWAY 15 SOUTH",
           "HUTCHINSON",
           "MN"
          ],
          [
           "FAIRVIEW RIDGES HOSPITAL",
           "201 EAST NICOLLET BOULEVARD",
           "BURNSVILLE",
           "MN"
          ],
          [
           "CENTRACARE HEALTH SYSTEM - MELROSE HOSPITAL",
           "525 WEST MAIN STREET",
           "MELROSE",
           "MN"
          ],
          [
           "CENTRA CARE HEALTH PAYNESVILLE",
           "200 1ST STREET WEST",
           "PAYNESVILLE",
           "MN"
          ],
          [
           "CENTRACARE HEALTH SYSTEM - SAUK CENTRE",
           "425 NORTH ELM STREET",
           "SAUK CENTRE",
           "MN"
          ],
          [
           "NEW ULM MEDICAL CENTER",
           "1324 FIFTH NORTH STREET",
           "NEW ULM",
           "MN"
          ],
          [
           "BAPTIST MEMORIAL HOSPITAL DESOTO",
           "7601 SOUTHCREST PARKWAY",
           "SOUTHAVEN",
           "MS"
          ],
          [
           "METHODIST HEALTHCARE - OLIVE BRANCH HOSPITAL",
           "4250 BETHEL ROAD",
           "OLIVE BRANCH",
           "MS"
          ],
          [
           "MOSAIC LIFE CARE AT ST JOSEPH",
           "5325 FARAON STREET",
           "SAINT JOSEPH",
           "MO"
          ],
          [
           "CAPITAL REGION MEDICAL CENTER",
           "1125 MADISON ST",
           "JEFFERSON CITY",
           "MO"
          ],
          [
           "ST VINCENT HEALTHCARE",
           "1233 N 30TH ST",
           "BILLINGS",
           "MT"
          ],
          [
           "BOZEMAN HEALTH DEACONESS HOSPITAL",
           "915 HIGHLAND BLVD",
           "BOZEMAN",
           "MT"
          ],
          [
           "COMMUNITY HOSPITAL OF ANACONDA",
           "401 W PENNSYLVANIA",
           "ANACONDA",
           "MT"
          ],
          [
           "SIDNEY HEALTH CENTER",
           "216 14TH AVE SW",
           "SIDNEY",
           "MT"
          ],
          [
           "HOLZER MEDICAL CENTER",
           "100 JACKSON PIKE",
           "GALLIPOLIS",
           "OH"
          ],
          [
           "GREAT PLAINS HEALTH",
           "601 WEST LEOTA ST",
           "NORTH PLATTE",
           "NE"
          ],
          [
           "RENOWN REGIONAL MEDICAL CENTER",
           "1155 MILL STREET",
           "RENO",
           "NV"
          ],
          [
           "CARSON TAHOE REGIONAL MEDICAL CENTER",
           "1600 MEDICAL PARKWAY",
           "CARSON CITY",
           "NV"
          ],
          [
           "RENOWN SOUTH MEADOWS MEDICAL CENTER",
           "10101 DOUBLE R BLVD",
           "RENO",
           "NV"
          ],
          [
           "LAKES REGION GENERAL HOSPITAL",
           "80 HIGHLAND ST",
           "LACONIA",
           "NH"
          ],
          [
           "SOUTHERN NH MEDICAL CENTER",
           "8 PROSPECT STREET",
           "NASHUA",
           "NH"
          ],
          [
           "UPPER CONNECTICUT VALLEY HOSPITAL",
           "181 CORLISS LANE",
           "COLEBROOK",
           "NH"
          ],
          [
           "WEEKS MEDICAL CENTER",
           "173 MIDDLE STREET",
           "LANCASTER",
           "NH"
          ],
          [
           "MONADNOCK COMMUNITY HOSPITAL",
           "452 OLD STREET ROAD",
           "PETERBOROUGH",
           "NH"
          ],
          [
           "ANDROSCOGGIN VALLEY HOSPITAL",
           "59 PAGE HILL ROAD",
           "BERLIN",
           "NH"
          ],
          [
           "F F THOMPSON HOSPITAL",
           "350 PARRISH STREET",
           "CANANDAIGUA",
           "NY"
          ],
          [
           "EASTERN LONG ISLAND HOSPITAL",
           "201 MANOR PLACE",
           "GREENPORT",
           "NY"
          ],
          [
           "NYACK HOSPITAL",
           "160 NORTH MIDLAND AVENUE",
           "NYACK",
           "NY"
          ],
          [
           "PECONIC BAY MEDICAL CENTER",
           "1300 ROANOKE AVENUE",
           "RIVERHEAD",
           "NY"
          ],
          [
           "LONG ISLAND COMMUNITY HOSPITAL",
           "101 HOSPITAL ROAD",
           "PATCHOGUE",
           "NY"
          ],
          [
           "NORTHERN WESTCHESTER HOSPITAL",
           "400 EAST MAIN STREET",
           "MOUNT KISCO",
           "NY"
          ],
          [
           "MAIMONIDES MEDICAL CENTER",
           "4802 TENTH AVENUE",
           "BROOKLYN",
           "NY"
          ],
          [
           "KINGSBROOK JEWISH MEDICAL CENTER",
           "585 SCHENECTADY AVENUE",
           "BROOKLYN",
           "NY"
          ],
          [
           "AUBURN  COMMUNITY  HOSPITAL",
           "17 LANSING STREET",
           "AUBURN",
           "NY"
          ],
          [
           "WHITE PLAINS HOSPITAL CENTER",
           "41 EAST POST R0AD",
           "WHITE PLAINS",
           "NY"
          ],
          [
           "CAYUGA MEDICAL CENTER AT ITHACA",
           "101 DATES DRIVE",
           "ITHACA",
           "NY"
          ],
          [
           "PLAINVIEW HOSPITAL",
           "888 OLD COUNTRY ROAD",
           "PLAINVIEW",
           "NY"
          ],
          [
           "ST JOHN'S EPISCOPAL HOSPITAL AT SOUTH SHORE",
           "327 BEACH 19TH STREET",
           "FAR ROCKAWAY",
           "NY"
          ],
          [
           "MARGARET R PARDEE MEMORIAL HOSPITAL",
           "800 N JUSTICE ST",
           "HENDERSONVILLE",
           "NC"
          ],
          [
           "WILSON MEMORIAL HOSPITAL",
           "915 WEST MICHIGAN STREET",
           "SIDNEY",
           "OH"
          ],
          [
           "WOOSTER COMMUNITY HOSPITAL",
           "1761 BEALL AVENUE",
           "WOOSTER",
           "OH"
          ],
          [
           "GENESIS HOSPITAL",
           "2951 MAPLE AVENUE",
           "ZANESVILLE",
           "OH"
          ],
          [
           "KNOX COMMUNITY HOSPITAL",
           "1330 COSHOCTON ROAD",
           "MOUNT VERNON",
           "OH"
          ],
          [
           "FISHER-TITUS HOSPITAL",
           "272 BENEDICT AVENUE",
           "NORWALK",
           "OH"
          ],
          [
           "MERCY MEDICAL CENTER",
           "1320 MERCY DRIVE NW",
           "CANTON",
           "OH"
          ],
          [
           "FAIRFIELD MEDICAL CENTER",
           "401 NORTH EWING STREET",
           "LANCASTER",
           "OH"
          ],
          [
           "ATRIUM MEDICAL CENTER",
           "ONE MEDICAL CENTER DRIVE",
           "FRANKLIN",
           "OH"
          ],
          [
           "AULTMAN HOSPITAL",
           "2600 SIXTH STREET SW",
           "CANTON",
           "OH"
          ],
          [
           "OHIOHEALTH MANSFIELD HOSPITAL",
           "335 GLESSNER AVENUE",
           "MANSFIELD",
           "OH"
          ],
          [
           "BERGER HOSPITAL",
           "600 NORTH PICKAWAY STREET",
           "CIRCLEVILLE",
           "OH"
          ],
          [
           "UPPER VALLEY MEDICAL CENTER",
           "3130 NORTH COUNTY ROAD 25A",
           "TROY",
           "OH"
          ],
          [
           "MADISON HEALTH",
           "210 NORTH MAIN STREET",
           "LONDON",
           "OH"
          ],
          [
           "GRADY MEMORIAL HOSPITAL",
           "561 WEST CENTRAL AVENUE",
           "DELAWARE",
           "OH"
          ],
          [
           "FOSTORIA COMMUNITY HOSPITAL",
           "501 VAN BUREN STREET",
           "FOSTORIA",
           "OH"
          ],
          [
           "AULTMAN ORRVILLE HOSPITAL",
           "832 SOUTH MAIN STREET",
           "ORRVILLE",
           "OH"
          ],
          [
           "OHIOHEALTH SHELBY HOSPITAL",
           "199 WEST MAIN STREET",
           "SHELBY",
           "OH"
          ],
          [
           "INTEGRIS BAPTIST MEDICAL CENTER, INC",
           "3300 NORTHWEST EXPRESSWAY",
           "OKLAHOMA CITY",
           "OK"
          ],
          [
           "SSM HEALTH ST ANTHONY HOSPITAL - OKLAHOMA CITY",
           "1000 NORTH LEE AVENUE",
           "OKLAHOMA CITY",
           "OK"
          ],
          [
           "SAINT FRANCIS HOSPITAL, INC",
           "6161 SOUTH YALE",
           "TULSA",
           "OK"
          ],
          [
           "INTEGRIS SOUTHWEST MEDICAL CENTER",
           "4401 SOUTH WESTERN AVENUE",
           "OKLAHOMA CITY",
           "OK"
          ],
          [
           "OKLAHOMA SPINE HOSPITAL",
           "14101 PARKWAY COMMONS DRIVE",
           "OKLAHOMA CITY",
           "OK"
          ],
          [
           "OKLAHOMA CENTER FOR ORTHOPAEDIC & MULTI-SP",
           "8100 SOUTH WALKER BLDG C",
           "OKLAHOMA CITY",
           "OK"
          ],
          [
           "OKLAHOMA HEART HOSPITAL, LLC",
           "4050 WEST MEMORIAL ROAD",
           "OKLAHOMA CITY",
           "OK"
          ],
          [
           "SAINT FRANCIS HOSPITAL SOUTH, LLC",
           "10501 EAST 91ST STREET SOUTH",
           "TULSA",
           "OK"
          ],
          [
           "MCBRIDE ORTHOPEDIC HOSPITAL",
           "9600 NORTH BROADWAY EXTENSION",
           "OKLAHOMA CITY",
           "OK"
          ],
          [
           "OKLAHOMA HEART HOSPITAL SOUTH, LLC",
           "5200 EAST I-240 SERVICE ROAD",
           "OKLAHOMA CITY",
           "OK"
          ],
          [
           "INTEGRIS HEALTH EDMOND",
           "4801 INTEGRIS PARKWAY",
           "EDMOND",
           "OK"
          ],
          [
           "PROVIDENCE ST VINCENT MEDICAL CENTER",
           "9205 SW BARNES ROAD",
           "PORTLAND",
           "OR"
          ],
          [
           "PROVIDENCE PORTLAND MEDICAL CENTER",
           "4805 NE GLISAN STREET",
           "PORTLAND",
           "OR"
          ],
          [
           "PROVIDENCE MEDFORD MEDICAL CENTER",
           "1111 CRATER LAKE AVENUE",
           "MEDFORD",
           "OR"
          ],
          [
           "HARNEY DISTRICT HOSPITAL",
           "557 W WASHINGTON STREET",
           "BURNS",
           "OR"
          ],
          [
           "COQUILLE VALLEY HOSPITAL DISTRICT",
           "940 EAST 5TH STREET",
           "COQUILLE",
           "OR"
          ],
          [
           "PROVIDENCE HOOD RIVER MEMORIAL HOSPITAL",
           "810 12TH STREET",
           "HOOD RIVER",
           "OR"
          ],
          [
           "EVANGELICAL COMMUNITY HOSPITAL",
           "ONE HOSPITAL DRIVE",
           "LEWISBURG",
           "PA"
          ],
          [
           "UNIONTOWN HOSPITAL",
           "500 WEST BERKELEY STREET",
           "UNIONTOWN",
           "PA"
          ],
          [
           "WASHINGTON HOSPITAL, THE",
           "155 WILSON AVENUE",
           "WASHINGTON",
           "PA"
          ],
          [
           "GRAND VIEW HOSPITAL",
           "700 LAWN AVENUE",
           "SELLERSVILLE",
           "PA"
          ],
          [
           "WAYNESBORO HOSPITAL",
           "501 EAST MAIN ST",
           "WAYNESBORO",
           "PA"
          ],
          [
           "CHAMBERSBURG HOSPITAL",
           "112 NORTH SEVENTH STREET",
           "CHAMBERSBURG",
           "PA"
          ],
          [
           "LEHIGH VALLEY HOSPITAL - POCONO",
           "206 EAST BROWN STREET",
           "EAST STROUDSBURG",
           "PA"
          ],
          [
           "EXCELA HEALTH LATROBE HOSPITAL",
           "ONE MELLON WAY",
           "LATROBE",
           "PA"
          ],
          [
           "PENN HIGHLANDS ELK",
           "763 JOHNSONBURG ROAD",
           "SAINT MARYS",
           "PA"
          ],
          [
           "SOUTH COUNTY HOSPITAL INC",
           "100 KENYON AVE",
           "WAKEFIELD",
           "RI"
          ],
          [
           "LAKE CITY COMMUNITY HOSPITAL",
           "258 N RON MCNAIR BLVD",
           "LAKE CITY",
           "SC"
          ],
          [
           "BAPTIST MEMORIAL HOSPITAL - CARROLL COUNTY",
           "631 RB WILSON DR",
           "HUNTINGDON",
           "TN"
          ],
          [
           "COOKEVILLE REGIONAL MEDICAL CENTER",
           "1 MEDICAL CENTER BOULEVARD",
           "COOKEVILLE",
           "TN"
          ],
          [
           "JOHNSON CITY MEDICAL CENTER",
           "400 N STATE OF FRANKLIN RD",
           "JOHNSON CITY",
           "TN"
          ],
          [
           "INDIAN PATH COMMUNITY HOSPITAL",
           "2000 BROOKSIDE DR",
           "KINGSPORT",
           "TN"
          ],
          [
           "FRANKLIN WOODS COMMUNITY HOSPITAL",
           "300 MED TECH PARKWAY",
           "JOHNSON CITY",
           "TN"
          ],
          [
           "TITUS REGIONAL MEDICAL CENTER",
           "2001 N JEFFERSON",
           "MOUNT PLEASANT",
           "TX"
          ],
          [
           "PERMIAN REGIONAL MEDICAL CENTER ANDREWS COUNTY HO",
           "720 HOSPITAL DRIVE",
           "ANDREWS",
           "TX"
          ],
          [
           "TEXOMA MEDICAL CENTER",
           "5016 S US HIGHWAY 75",
           "DENISON",
           "TX"
          ],
          [
           "GLEN ROSE MEDICAL CENTER",
           "1021 HOLDEN STREET",
           "GLEN ROSE",
           "TX"
          ],
          [
           "WILSON N JONES REGIONAL MEDICAL CENTER",
           "500 N HIGHLAND AVENUE",
           "SHERMAN",
           "TX"
          ],
          [
           "CUERO REGIONAL HOSPITAL",
           "2550 N ESPLANADE",
           "CUERO",
           "TX"
          ],
          [
           "LDS HOSPITAL",
           "8TH AVENUE AND C STREET",
           "SALT LAKE CITY",
           "UT"
          ],
          [
           "CEDAR CITY HOSPITAL",
           "1303 NORTH MAIN STREET",
           "CEDAR CITY",
           "UT"
          ],
          [
           "UNIVERSITY OF UTAH HOSPITALS AND CLINICS",
           "50 NORTH MEDICAL DRIVE",
           "SALT LAKE CITY",
           "UT"
          ],
          [
           "INTERMOUNTAIN MEDICAL CENTER",
           "5121 SOUTH COTTONWOOD STREET",
           "MURRAY",
           "UT"
          ],
          [
           "LOGAN REGIONAL HOSPITAL",
           "500 EAST 1400 NORTH",
           "LOGAN",
           "UT"
          ],
          [
           "SEVIER VALLEY HOSPITAL",
           "1000 NORTH MAIN STREET",
           "RICHFIELD",
           "UT"
          ],
          [
           "BEAR RIVER VALLEY HOSPITAL",
           "905 NORTH 1000 WEST",
           "TREMONTON",
           "UT"
          ],
          [
           "ALTA VIEW HOSPITAL",
           "9660 SOUTH 1300 EAST",
           "SANDY",
           "UT"
          ],
          [
           "THE ORTHOPEDIC SPECIALTY HOSPITAL",
           "5848 SOUTH 300 EAST",
           "MURRAY",
           "UT"
          ],
          [
           "PARK CITY HOSPITAL",
           "900 ROUND VALLEY DRIVE",
           "PARK CITY",
           "UT"
          ],
          [
           "RIVERTON HOSPITAL",
           "3741 WEST 12600 SOUTH",
           "RIVERTON",
           "UT"
          ],
          [
           "DELTA COMMUNITY HOSPITAL",
           "126 SOUTH WHITE SAGE AVENUE",
           "DELTA",
           "UT"
          ],
          [
           "FILLMORE COMMUNITY HOSPITAL",
           "674 SOUTH HIGHWAY 99",
           "FILLMORE",
           "UT"
          ],
          [
           "HEBER VALLEY HOSPITAL",
           "1485 SOUTH HIGHWAY 40",
           "HEBER CITY",
           "UT"
          ],
          [
           "GARFIELD MEMORIAL HOSPITAL",
           "200 NORTH 400 EAST",
           "PANGUITCH",
           "UT"
          ],
          [
           "RUTLAND REGIONAL MEDICAL CENTER",
           "160 ALLEN ST",
           "RUTLAND",
           "VT"
          ],
          [
           "RIVERSIDE DOCTORS' HOSPITAL OF WILLIAMSBURG",
           "1500 COMMONWEALTH AVENUE",
           "WILLIAMSBURG",
           "VA"
          ],
          [
           "NOVANT HEALTH UVA HEALTH HAYMARKET MEDICAL CENTER",
           "15225 HEALTHCOTE BOULEVARD",
           "HAYMARKET",
           "VA"
          ],
          [
           "PROVIDENCE ST MARY MEDICAL CENTER",
           "401 W POPLAR ST",
           "WALLA WALLA",
           "WA"
          ],
          [
           "SKAGIT VALLEY HOSPITAL",
           "1415 KINCAID STREET",
           "MOUNT VERNON",
           "WA"
          ],
          [
           "PROVIDENCE CENTRALIA HOSPITAL",
           "914 S SCHEUBER ROAD",
           "CENTRALIA",
           "WA"
          ],
          [
           "PROV SACRED HRT MED CTR & CHILDS HOSP.",
           "101 WEST 8TH AVENUE",
           "SPOKANE",
           "WA"
          ],
          [
           "KADLEC REGIONAL MEDICAL CENTER",
           "888 SWIFT BLVD",
           "RICHLAND",
           "WA"
          ],
          [
           "OLYMPIC MEDICAL CENTER",
           "939 CAROLINE ST",
           "PORT ANGELES",
           "WA"
          ],
          [
           "PROVIDENCE HOLY FAMILY HOSPITAL",
           "5633 NORTH LIDGERWOOD",
           "SPOKANE",
           "WA"
          ],
          [
           "PROSSER MEMORIAL HOSPITAL",
           "723 MEMORIAL STREET",
           "PROSSER",
           "WA"
          ],
          [
           "JEFFERSON HEALTHCARE",
           "834 SHERIDAN STREET",
           "PORT TOWNSEND",
           "WA"
          ],
          [
           "WHITMAN HOSPITAL AND MEDICAL CENTER",
           "1200 WEST FAIRVIEW",
           "COLFAX",
           "WA"
          ],
          [
           "ROANE GENERAL HOSPITAL",
           "200 HOSPITAL DRIVE",
           "SPENCER",
           "WV"
          ],
          [
           "POTOMAC VALLEY HOSPITAL",
           "100 PIN OAK LANE",
           "KEYSER",
           "WV"
          ],
          [
           "WAUKESHA MEMORIAL HOSPITAL",
           "725 AMERICAN AVE",
           "WAUKESHA",
           "WI"
          ],
          [
           "THE MONROE CLINIC",
           "2005 5TH STREET",
           "MONROE",
           "WI"
          ],
          [
           "AURORA MEDICAL CTR MANITOWOC COUNTY",
           "5000 MEMORIAL DRIVE",
           "TWO RIVERS",
           "WI"
          ],
          [
           "AURORA SHEBOYGAN MEMORIAL MEDICAL CTR",
           "2629 N 7TH ST",
           "SHEBOYGAN",
           "WI"
          ],
          [
           "AURORA MEDICAL CTR WASHINGTON COUNTY",
           "1032 E SUMNER ST",
           "HARTFORD",
           "WI"
          ],
          [
           "DIVINE SAVIOR HEALTHCARE",
           "2817 NEW PINERY ROAD",
           "PORTAGE",
           "WI"
          ],
          [
           "ST NICHOLAS HOSPITAL",
           "3100 SUPERIOR AVE",
           "SHEBOYGAN",
           "WI"
          ],
          [
           "BELLIN MEMORIAL HOSPITAL",
           "744 S WEBSTER AVE",
           "GREEN BAY",
           "WI"
          ],
          [
           "SSM HEALTH ST CLARE HOSPITAL - BARABOO",
           "707 14TH ST",
           "BARABOO",
           "WI"
          ],
          [
           "OCONOMOWOC MEMORIAL HOSPITAL",
           "791 E SUMMIT AVE",
           "OCONOMOWOC",
           "WI"
          ],
          [
           "FORT MEMORIAL HOSPITAL",
           "611 SHERMAN AVE E",
           "FORT ATKINSON",
           "WI"
          ],
          [
           "ST VINCENT HOSPITAL",
           "835 S VAN BUREN ST",
           "GREEN BAY",
           "WI"
          ],
          [
           "BEAVER DAM COMMUNITY HOSPITAL",
           "707 S UNIVERSITY AVE",
           "BEAVER DAM",
           "WI"
          ],
          [
           "SSM HEALTH ST MARY'S HOSPITAL - MADISON",
           "700 SOUTH PARK ST",
           "MADISON",
           "WI"
          ],
          [
           "AURORA LAKELAND MEDICAL CENTER",
           "W3985 COUNTY ROAD NN",
           "ELKHORN",
           "WI"
          ],
          [
           "THEDACARE REGIONAL MEDICAL CENTER - APPLETON INC",
           "1818 N MEADE ST",
           "APPLETON",
           "WI"
          ],
          [
           "RIVER FALLS AREA HOSPITAL",
           "1629 E DIVISION ST",
           "RIVER FALLS",
           "WI"
          ],
          [
           "MERCY WALWORTH HOSPITAL & MEDICAL CENTER",
           "N2950 STATE ROAD 67",
           "LAKE GENEVA",
           "WI"
          ],
          [
           "TEXAS HEALTH PRESBYTERIAN HOSPITAL ROCKWALL",
           "3150 HORIZON ROAD",
           "ROCKWALL",
           "TX"
          ],
          [
           "BAYLOR SCOTT AND WHITE SURGICAL HOSPITAL AT SHERMA",
           "3601 CALAIS DRIVE",
           "SHERMAN",
           "TX"
          ]
         ],
         "hoverlabel": {
          "namelength": 0
         },
         "hovertemplate": "is-MUA?=No<br>rate_of_readmission=%{x}<br>patients_rating_of_the_facility_linear_mean_score=%{y}<br>facility_name=%{customdata[0]}<br>address=%{customdata[1]}<br>city=%{customdata[2]}<br>state=%{customdata[3]}",
         "legendgroup": "is-MUA?=No",
         "marker": {
          "color": "#EF553B",
          "symbol": "circle"
         },
         "mode": "markers",
         "name": "is-MUA?=No",
         "showlegend": true,
         "type": "scatter",
         "x": [
          16.2,
          14.8,
          15.4,
          15.2,
          13.4,
          14.6,
          13.2,
          13.9,
          14.2,
          13.9,
          14.9,
          16.7,
          14.3,
          15.1,
          15.6,
          15,
          15.6,
          15.2,
          15.1,
          15.2,
          15.9,
          14.2,
          15.7,
          15.3,
          15,
          15.2,
          14.9,
          15.3,
          15.1,
          15.1,
          14.8,
          15.3,
          15.1,
          13.4,
          14,
          15,
          15.2,
          16.1,
          14.9,
          15.1,
          13.5,
          14.7,
          15.1,
          15.5,
          14.8,
          15.7,
          15.3,
          16,
          16.2,
          15.8,
          14.6,
          16.9,
          15.1,
          15.6,
          12,
          15.9,
          14.7,
          13.8,
          13.7,
          13.5,
          14,
          13.6,
          15.4,
          15,
          14,
          15,
          14.8,
          14.9,
          15.2,
          16.1,
          16.6,
          15.9,
          15,
          14.3,
          16,
          15.5,
          15.8,
          15.5,
          14.9,
          15.1,
          15.3,
          16.5,
          15.4,
          14.9,
          16.4,
          15.4,
          17.3,
          17.6,
          15.3,
          14.7,
          15.7,
          15.2,
          15.1,
          15.2,
          15.2,
          15.3,
          16.5,
          15.8,
          15.2,
          15.2,
          15.3,
          15,
          16.1,
          15.2,
          14.3,
          13.9,
          14.7,
          15.2,
          15.1,
          14.7,
          15.7,
          15.5,
          15.4,
          16.7,
          16,
          16.8,
          15.5,
          14.7,
          17.4,
          15,
          15.1,
          15.5,
          15.2,
          15.8,
          14.5,
          14.4,
          15.5,
          14.1,
          14.6,
          15,
          15.2,
          15.1,
          15.5,
          15.4,
          15.3,
          15.3,
          14.6,
          16,
          14.6,
          15.8,
          16.2,
          13.6,
          15,
          14.3,
          14.4,
          14.5,
          15.1,
          15.1,
          15.3,
          14,
          14.6,
          13.6,
          14.7,
          13.9,
          16.6,
          13.9,
          14.4,
          15.4,
          14.1,
          14.6,
          14.2,
          14.9,
          16.2,
          16,
          13.9,
          14.1,
          14.4,
          15.7,
          15,
          16.9,
          14.3,
          15.6,
          14.6,
          15.5,
          15,
          14.5,
          15.3,
          15,
          14.8,
          16.1,
          15.7,
          14.9,
          14.9,
          16.3,
          15.7,
          15.1,
          15.3,
          15.5,
          17.1,
          15.3,
          16.2,
          15,
          13.8,
          14.5,
          14.7,
          15.6,
          15.8,
          15.2,
          14.2,
          14.8,
          14.8,
          14.3,
          16.2,
          14.7,
          15,
          15.2,
          14.9,
          16.2,
          15.3,
          15.9,
          15.2,
          16.2,
          16.3,
          17,
          16.8,
          17.6,
          15.9,
          14.4,
          14.9,
          18.2,
          14.2,
          15.5,
          14.8,
          14.9,
          15.7,
          15.1,
          14.7,
          15.2,
          14.2,
          15,
          15.9,
          15.7,
          15.1,
          15.5,
          14.8,
          15.3,
          15.9,
          15.3,
          15.3,
          15,
          15.1,
          15.6,
          13.1,
          15.7,
          15,
          14.7,
          14.2,
          14.3,
          16,
          13.6,
          13.7,
          15.3,
          15.2,
          15.6,
          15.1,
          15.5,
          16,
          15.8,
          14.7,
          14.2,
          14.9,
          15.7,
          15.3,
          15,
          14.6,
          15.4,
          15.4,
          15.1,
          15.6,
          15,
          14.8,
          15.3,
          15.3,
          16.8,
          15.1,
          15.4,
          14.2,
          14.1,
          14.5,
          14.7,
          13,
          14.3,
          14.4,
          15,
          13.5,
          13.8,
          15,
          14.8,
          15.1,
          15.3,
          15.2,
          15,
          14.7,
          15.3,
          14.5,
          14.6,
          15.2,
          13.9,
          13.8,
          14.2,
          13.4,
          14,
          14.9,
          14.2,
          14.7,
          15.2,
          14.7,
          14.9,
          15,
          14.7,
          13.9,
          13.8,
          16.3,
          14.6,
          12.9,
          15,
          15,
          14.4,
          14,
          14.8,
          13.8,
          14.3,
          13.6,
          15,
          15.5,
          14.8,
          14.7
         ],
         "xaxis": "x",
         "y": [
          95,
          93,
          91,
          95,
          93,
          94,
          93,
          96,
          96,
          95,
          94,
          89,
          95,
          92,
          86,
          94,
          93,
          92,
          94,
          95,
          95,
          96,
          92,
          96,
          92,
          95,
          93,
          95,
          93,
          93,
          94,
          95,
          94,
          96,
          94,
          96,
          94,
          90,
          93,
          94,
          94,
          94,
          96,
          96,
          95,
          95,
          94,
          92,
          92,
          90,
          90,
          88,
          91,
          91,
          97,
          94,
          96,
          92,
          94,
          94,
          94,
          94,
          95,
          95,
          96,
          95,
          95,
          94,
          92,
          92,
          90,
          94,
          92,
          96,
          94,
          92,
          94,
          95,
          94,
          95,
          90,
          93,
          93,
          96,
          93,
          94,
          92,
          92,
          96,
          94,
          94,
          94,
          93,
          96,
          94,
          94,
          92,
          93,
          89,
          94,
          94,
          92,
          90,
          94,
          96,
          95,
          95,
          91,
          94,
          94,
          93,
          93,
          93,
          96,
          98,
          90,
          94,
          96,
          91,
          92,
          92,
          93,
          95,
          95,
          95,
          93,
          95,
          95,
          94,
          95,
          95,
          95,
          92,
          92,
          95,
          94,
          94,
          96,
          95,
          96,
          94,
          95,
          95,
          94,
          94,
          98,
          92,
          91,
          92,
          92,
          94,
          95,
          94,
          94,
          91,
          94,
          94,
          96,
          93,
          93,
          95,
          94,
          87,
          95,
          96,
          94,
          94,
          95,
          94,
          93,
          91,
          95,
          92,
          93,
          94,
          93,
          95,
          94,
          94,
          94,
          93,
          94,
          94,
          94,
          93,
          93,
          92,
          93,
          92,
          95,
          93,
          94,
          93,
          93,
          95,
          94,
          95,
          92,
          92,
          94,
          94,
          91,
          94,
          89,
          94,
          95,
          92,
          93,
          95,
          94,
          92,
          91,
          94,
          90,
          90,
          91,
          95,
          94,
          94,
          88,
          94,
          92,
          95,
          94,
          92,
          95,
          93,
          94,
          96,
          94,
          93,
          93,
          94,
          93,
          93,
          93,
          93,
          94,
          95,
          95,
          95,
          94,
          95,
          95,
          97,
          96,
          95,
          97,
          96,
          94,
          93,
          93,
          93,
          93,
          94,
          95,
          93,
          94,
          93,
          94,
          91,
          93,
          95,
          93,
          95,
          92,
          93,
          92,
          91,
          94,
          94,
          92,
          93,
          93,
          95,
          93,
          93,
          93,
          94,
          95,
          93,
          95,
          93,
          95,
          94,
          94,
          96,
          95,
          92,
          91,
          92,
          95,
          94,
          96,
          94,
          93,
          93,
          93,
          93,
          93,
          92,
          92,
          94,
          94,
          96,
          95,
          93,
          94,
          94,
          94,
          93,
          94,
          94,
          95,
          94,
          94,
          95,
          92,
          93,
          93,
          93,
          93,
          93,
          95,
          95,
          95,
          96
         ],
         "yaxis": "y"
        }
       ],
       "layout": {
        "height": 600,
        "legend": {
         "tracegroupgap": 0
        },
        "margin": {
         "t": 60
        },
        "template": {
         "data": {
          "bar": [
           {
            "error_x": {
             "color": "#2a3f5f"
            },
            "error_y": {
             "color": "#2a3f5f"
            },
            "marker": {
             "line": {
              "color": "#E5ECF6",
              "width": 0.5
             }
            },
            "type": "bar"
           }
          ],
          "barpolar": [
           {
            "marker": {
             "line": {
              "color": "#E5ECF6",
              "width": 0.5
             }
            },
            "type": "barpolar"
           }
          ],
          "carpet": [
           {
            "aaxis": {
             "endlinecolor": "#2a3f5f",
             "gridcolor": "white",
             "linecolor": "white",
             "minorgridcolor": "white",
             "startlinecolor": "#2a3f5f"
            },
            "baxis": {
             "endlinecolor": "#2a3f5f",
             "gridcolor": "white",
             "linecolor": "white",
             "minorgridcolor": "white",
             "startlinecolor": "#2a3f5f"
            },
            "type": "carpet"
           }
          ],
          "choropleth": [
           {
            "colorbar": {
             "outlinewidth": 0,
             "ticks": ""
            },
            "type": "choropleth"
           }
          ],
          "contour": [
           {
            "colorbar": {
             "outlinewidth": 0,
             "ticks": ""
            },
            "colorscale": [
             [
              0,
              "#0d0887"
             ],
             [
              0.1111111111111111,
              "#46039f"
             ],
             [
              0.2222222222222222,
              "#7201a8"
             ],
             [
              0.3333333333333333,
              "#9c179e"
             ],
             [
              0.4444444444444444,
              "#bd3786"
             ],
             [
              0.5555555555555556,
              "#d8576b"
             ],
             [
              0.6666666666666666,
              "#ed7953"
             ],
             [
              0.7777777777777778,
              "#fb9f3a"
             ],
             [
              0.8888888888888888,
              "#fdca26"
             ],
             [
              1,
              "#f0f921"
             ]
            ],
            "type": "contour"
           }
          ],
          "contourcarpet": [
           {
            "colorbar": {
             "outlinewidth": 0,
             "ticks": ""
            },
            "type": "contourcarpet"
           }
          ],
          "heatmap": [
           {
            "colorbar": {
             "outlinewidth": 0,
             "ticks": ""
            },
            "colorscale": [
             [
              0,
              "#0d0887"
             ],
             [
              0.1111111111111111,
              "#46039f"
             ],
             [
              0.2222222222222222,
              "#7201a8"
             ],
             [
              0.3333333333333333,
              "#9c179e"
             ],
             [
              0.4444444444444444,
              "#bd3786"
             ],
             [
              0.5555555555555556,
              "#d8576b"
             ],
             [
              0.6666666666666666,
              "#ed7953"
             ],
             [
              0.7777777777777778,
              "#fb9f3a"
             ],
             [
              0.8888888888888888,
              "#fdca26"
             ],
             [
              1,
              "#f0f921"
             ]
            ],
            "type": "heatmap"
           }
          ],
          "heatmapgl": [
           {
            "colorbar": {
             "outlinewidth": 0,
             "ticks": ""
            },
            "colorscale": [
             [
              0,
              "#0d0887"
             ],
             [
              0.1111111111111111,
              "#46039f"
             ],
             [
              0.2222222222222222,
              "#7201a8"
             ],
             [
              0.3333333333333333,
              "#9c179e"
             ],
             [
              0.4444444444444444,
              "#bd3786"
             ],
             [
              0.5555555555555556,
              "#d8576b"
             ],
             [
              0.6666666666666666,
              "#ed7953"
             ],
             [
              0.7777777777777778,
              "#fb9f3a"
             ],
             [
              0.8888888888888888,
              "#fdca26"
             ],
             [
              1,
              "#f0f921"
             ]
            ],
            "type": "heatmapgl"
           }
          ],
          "histogram": [
           {
            "marker": {
             "colorbar": {
              "outlinewidth": 0,
              "ticks": ""
             }
            },
            "type": "histogram"
           }
          ],
          "histogram2d": [
           {
            "colorbar": {
             "outlinewidth": 0,
             "ticks": ""
            },
            "colorscale": [
             [
              0,
              "#0d0887"
             ],
             [
              0.1111111111111111,
              "#46039f"
             ],
             [
              0.2222222222222222,
              "#7201a8"
             ],
             [
              0.3333333333333333,
              "#9c179e"
             ],
             [
              0.4444444444444444,
              "#bd3786"
             ],
             [
              0.5555555555555556,
              "#d8576b"
             ],
             [
              0.6666666666666666,
              "#ed7953"
             ],
             [
              0.7777777777777778,
              "#fb9f3a"
             ],
             [
              0.8888888888888888,
              "#fdca26"
             ],
             [
              1,
              "#f0f921"
             ]
            ],
            "type": "histogram2d"
           }
          ],
          "histogram2dcontour": [
           {
            "colorbar": {
             "outlinewidth": 0,
             "ticks": ""
            },
            "colorscale": [
             [
              0,
              "#0d0887"
             ],
             [
              0.1111111111111111,
              "#46039f"
             ],
             [
              0.2222222222222222,
              "#7201a8"
             ],
             [
              0.3333333333333333,
              "#9c179e"
             ],
             [
              0.4444444444444444,
              "#bd3786"
             ],
             [
              0.5555555555555556,
              "#d8576b"
             ],
             [
              0.6666666666666666,
              "#ed7953"
             ],
             [
              0.7777777777777778,
              "#fb9f3a"
             ],
             [
              0.8888888888888888,
              "#fdca26"
             ],
             [
              1,
              "#f0f921"
             ]
            ],
            "type": "histogram2dcontour"
           }
          ],
          "mesh3d": [
           {
            "colorbar": {
             "outlinewidth": 0,
             "ticks": ""
            },
            "type": "mesh3d"
           }
          ],
          "parcoords": [
           {
            "line": {
             "colorbar": {
              "outlinewidth": 0,
              "ticks": ""
             }
            },
            "type": "parcoords"
           }
          ],
          "scatter": [
           {
            "marker": {
             "colorbar": {
              "outlinewidth": 0,
              "ticks": ""
             }
            },
            "type": "scatter"
           }
          ],
          "scatter3d": [
           {
            "line": {
             "colorbar": {
              "outlinewidth": 0,
              "ticks": ""
             }
            },
            "marker": {
             "colorbar": {
              "outlinewidth": 0,
              "ticks": ""
             }
            },
            "type": "scatter3d"
           }
          ],
          "scattercarpet": [
           {
            "marker": {
             "colorbar": {
              "outlinewidth": 0,
              "ticks": ""
             }
            },
            "type": "scattercarpet"
           }
          ],
          "scattergeo": [
           {
            "marker": {
             "colorbar": {
              "outlinewidth": 0,
              "ticks": ""
             }
            },
            "type": "scattergeo"
           }
          ],
          "scattergl": [
           {
            "marker": {
             "colorbar": {
              "outlinewidth": 0,
              "ticks": ""
             }
            },
            "type": "scattergl"
           }
          ],
          "scattermapbox": [
           {
            "marker": {
             "colorbar": {
              "outlinewidth": 0,
              "ticks": ""
             }
            },
            "type": "scattermapbox"
           }
          ],
          "scatterpolar": [
           {
            "marker": {
             "colorbar": {
              "outlinewidth": 0,
              "ticks": ""
             }
            },
            "type": "scatterpolar"
           }
          ],
          "scatterpolargl": [
           {
            "marker": {
             "colorbar": {
              "outlinewidth": 0,
              "ticks": ""
             }
            },
            "type": "scatterpolargl"
           }
          ],
          "scatterternary": [
           {
            "marker": {
             "colorbar": {
              "outlinewidth": 0,
              "ticks": ""
             }
            },
            "type": "scatterternary"
           }
          ],
          "surface": [
           {
            "colorbar": {
             "outlinewidth": 0,
             "ticks": ""
            },
            "colorscale": [
             [
              0,
              "#0d0887"
             ],
             [
              0.1111111111111111,
              "#46039f"
             ],
             [
              0.2222222222222222,
              "#7201a8"
             ],
             [
              0.3333333333333333,
              "#9c179e"
             ],
             [
              0.4444444444444444,
              "#bd3786"
             ],
             [
              0.5555555555555556,
              "#d8576b"
             ],
             [
              0.6666666666666666,
              "#ed7953"
             ],
             [
              0.7777777777777778,
              "#fb9f3a"
             ],
             [
              0.8888888888888888,
              "#fdca26"
             ],
             [
              1,
              "#f0f921"
             ]
            ],
            "type": "surface"
           }
          ],
          "table": [
           {
            "cells": {
             "fill": {
              "color": "#EBF0F8"
             },
             "line": {
              "color": "white"
             }
            },
            "header": {
             "fill": {
              "color": "#C8D4E3"
             },
             "line": {
              "color": "white"
             }
            },
            "type": "table"
           }
          ]
         },
         "layout": {
          "annotationdefaults": {
           "arrowcolor": "#2a3f5f",
           "arrowhead": 0,
           "arrowwidth": 1
          },
          "colorscale": {
           "diverging": [
            [
             0,
             "#8e0152"
            ],
            [
             0.1,
             "#c51b7d"
            ],
            [
             0.2,
             "#de77ae"
            ],
            [
             0.3,
             "#f1b6da"
            ],
            [
             0.4,
             "#fde0ef"
            ],
            [
             0.5,
             "#f7f7f7"
            ],
            [
             0.6,
             "#e6f5d0"
            ],
            [
             0.7,
             "#b8e186"
            ],
            [
             0.8,
             "#7fbc41"
            ],
            [
             0.9,
             "#4d9221"
            ],
            [
             1,
             "#276419"
            ]
           ],
           "sequential": [
            [
             0,
             "#0d0887"
            ],
            [
             0.1111111111111111,
             "#46039f"
            ],
            [
             0.2222222222222222,
             "#7201a8"
            ],
            [
             0.3333333333333333,
             "#9c179e"
            ],
            [
             0.4444444444444444,
             "#bd3786"
            ],
            [
             0.5555555555555556,
             "#d8576b"
            ],
            [
             0.6666666666666666,
             "#ed7953"
            ],
            [
             0.7777777777777778,
             "#fb9f3a"
            ],
            [
             0.8888888888888888,
             "#fdca26"
            ],
            [
             1,
             "#f0f921"
            ]
           ],
           "sequentialminus": [
            [
             0,
             "#0d0887"
            ],
            [
             0.1111111111111111,
             "#46039f"
            ],
            [
             0.2222222222222222,
             "#7201a8"
            ],
            [
             0.3333333333333333,
             "#9c179e"
            ],
            [
             0.4444444444444444,
             "#bd3786"
            ],
            [
             0.5555555555555556,
             "#d8576b"
            ],
            [
             0.6666666666666666,
             "#ed7953"
            ],
            [
             0.7777777777777778,
             "#fb9f3a"
            ],
            [
             0.8888888888888888,
             "#fdca26"
            ],
            [
             1,
             "#f0f921"
            ]
           ]
          },
          "colorway": [
           "#636efa",
           "#EF553B",
           "#00cc96",
           "#ab63fa",
           "#FFA15A",
           "#19d3f3",
           "#FF6692",
           "#B6E880",
           "#FF97FF",
           "#FECB52"
          ],
          "font": {
           "color": "#2a3f5f"
          },
          "geo": {
           "bgcolor": "white",
           "lakecolor": "white",
           "landcolor": "#E5ECF6",
           "showlakes": true,
           "showland": true,
           "subunitcolor": "white"
          },
          "hoverlabel": {
           "align": "left"
          },
          "hovermode": "closest",
          "mapbox": {
           "style": "light"
          },
          "paper_bgcolor": "white",
          "plot_bgcolor": "#E5ECF6",
          "polar": {
           "angularaxis": {
            "gridcolor": "white",
            "linecolor": "white",
            "ticks": ""
           },
           "bgcolor": "#E5ECF6",
           "radialaxis": {
            "gridcolor": "white",
            "linecolor": "white",
            "ticks": ""
           }
          },
          "scene": {
           "xaxis": {
            "backgroundcolor": "#E5ECF6",
            "gridcolor": "white",
            "gridwidth": 2,
            "linecolor": "white",
            "showbackground": true,
            "ticks": "",
            "zerolinecolor": "white"
           },
           "yaxis": {
            "backgroundcolor": "#E5ECF6",
            "gridcolor": "white",
            "gridwidth": 2,
            "linecolor": "white",
            "showbackground": true,
            "ticks": "",
            "zerolinecolor": "white"
           },
           "zaxis": {
            "backgroundcolor": "#E5ECF6",
            "gridcolor": "white",
            "gridwidth": 2,
            "linecolor": "white",
            "showbackground": true,
            "ticks": "",
            "zerolinecolor": "white"
           }
          },
          "shapedefaults": {
           "line": {
            "color": "#2a3f5f"
           }
          },
          "ternary": {
           "aaxis": {
            "gridcolor": "white",
            "linecolor": "white",
            "ticks": ""
           },
           "baxis": {
            "gridcolor": "white",
            "linecolor": "white",
            "ticks": ""
           },
           "bgcolor": "#E5ECF6",
           "caxis": {
            "gridcolor": "white",
            "linecolor": "white",
            "ticks": ""
           }
          },
          "title": {
           "x": 0.05
          },
          "xaxis": {
           "automargin": true,
           "gridcolor": "white",
           "linecolor": "white",
           "ticks": "",
           "zerolinecolor": "white",
           "zerolinewidth": 2
          },
          "yaxis": {
           "automargin": true,
           "gridcolor": "white",
           "linecolor": "white",
           "ticks": "",
           "zerolinecolor": "white",
           "zerolinewidth": 2
          }
         }
        },
        "xaxis": {
         "anchor": "y",
         "domain": [
          0,
          0.98
         ],
         "title": {
          "text": "rate_of_readmission"
         }
        },
        "yaxis": {
         "anchor": "x",
         "domain": [
          0,
          1
         ],
         "title": {
          "text": "patients_rating_of_the_facility_linear_mean_score"
         }
        }
       }
      },
      "text/html": [
       "<div>\n",
       "        \n",
       "        \n",
       "            <div id=\"aba32c7b-41d8-4f40-85d4-dade70f3c06e\" class=\"plotly-graph-div\" style=\"height:600px; width:100%;\"></div>\n",
       "            <script type=\"text/javascript\">\n",
       "                require([\"plotly\"], function(Plotly) {\n",
       "                    window.PLOTLYENV=window.PLOTLYENV || {};\n",
       "                    \n",
       "                if (document.getElementById(\"aba32c7b-41d8-4f40-85d4-dade70f3c06e\")) {\n",
       "                    Plotly.newPlot(\n",
       "                        'aba32c7b-41d8-4f40-85d4-dade70f3c06e',\n",
       "                        [{\"customdata\": [[\"CRENSHAW COMMUNITY HOSPITAL\", \"101 HOSPITAL CIRCLE\", \"LUVERNE\", \"AL\"], [\"DALE MEDICAL CENTER\", \"126 HOSPITAL AVE\", \"OZARK\", \"AL\"], [\"CULLMAN REGIONAL MEDICAL CENTER\", \"1912 ALABAMA HIGHWAY 157\", \"CULLMAN\", \"AL\"], [\"MARION REGIONAL MEDICAL CENTER\", \"1256 MILITARY STREET SOUTH\", \"HAMILTON\", \"AL\"], [\"FAYETTE MEDICAL CENTER\", \"1653 TEMPLE AVENUE NORTH\", \"FAYETTE\", \"AL\"], [\"LAWRENCE MEDICAL CENTER\", \"202 HOSPITAL STREET\", \"MOULTON\", \"AL\"], [\"HIGHLANDS MEDICAL CENTER\", \"380 WOODS COVE ROAD\", \"SCOTTSBORO\", \"AL\"], [\"RUSSELL MEDICAL CENTER\", \"3316 HIGHWAY 280\", \"ALEXANDER CITY\", \"AL\"], [\"NORTHEAST ALABAMA REGIONAL MEDICAL CENTER\", \"400 EAST 10TH STREET\", \"ANNISTON\", \"AL\"], [\"ATHENS LIMESTONE HOSPITAL\", \"700 WEST MARKET STREET\", \"ATHENS\", \"AL\"], [\"D C H REGIONAL MEDICAL CENTER\", \"809 UNIVERSITY BOULEVARD EAST\", \"TUSCALOOSA\", \"AL\"], [\"THOMAS HOSPITAL\", \"750 MORPHY AVENUE\", \"FAIRHOPE\", \"AL\"], [\"PICKENS COUNTY MEDICAL CENTER\", \"241 ROBERT K WILSON DRIVE\", \"CARROLLTON\", \"AL\"], [\"MOBILE INFIRMARY MEDICAL CENTER\", \"5 MOBILE INFIRMARY CIRCLE\", \"MOBILE\", \"AL\"], [\"NORTH BALDWIN INFIRMARY\", \"1815 HAND AVENUE\", \"BAY MINETTE\", \"AL\"], [\"EVERGREEN MEDICAL CENTER\", \"101 CRESTVIEW AVENUE\", \"EVERGREEN\", \"AL\"], [\"COOSA VALLEY MEDICAL CENTER\", \"315 W HICKORY ST\", \"SYLACAUGA\", \"AL\"], [\"JACK HUGHSTON MEMORIAL HOSPITAL\", \"4401 RIVER CHASE DRIVE\", \"PHENIX CITY\", \"AL\"], [\"ATMORE COMMUNITY HOSPITAL\", \"401 MEDICAL PARK DRIVE\", \"ATMORE\", \"AL\"], [\"PROVIDENCE ALASKA MEDICAL CENTER\", \"3200 PROVIDENCE DRIVE\", \"ANCHORAGE\", \"AK\"], [\"YUMA REGIONAL MEDICAL CENTER\", \"2400 SOUTH AVENUE A\", \"YUMA\", \"AZ\"], [\"SUMMIT HEALTHCARE REGIONAL MEDICAL CENTER\", \"2200 EAST SHOW LOW LAKE ROAD\", \"SHOW LOW\", \"AZ\"], [\"SANTA CRUZ VALLEY REGIONAL HOSPITAL\", \"4455 SOUTH I-19 FRONTAGE ROAD\", \"GREEN VALLEY\", \"AZ\"], [\"JOHNSON REGIONAL MEDICAL CENTER\", \"1100 EAST POPLAR STREET\", \"CLARKSVILLE\", \"AR\"], [\"WHITE COUNTY MEDICAL CENTER\", \"3214 EAST RACE AVENUE\", \"SEARCY\", \"AR\"], [\"UAMS MEDICAL CENTER\", \"4301 WEST MARKHAM STREET MAIL SLOT 612\", \"LITTLE ROCK\", \"AR\"], [\"GREAT RIVER MEDICAL CENTER\", \"1520 N DIVISION STREET\", \"BLYTHEVILLE\", \"AR\"], [\"NEA BAPTIST MEMORIAL HOSPITAL\", \"4800 EAST JOHNSON AVENUE\", \"JONESBORO\", \"AR\"], [\"ARKANSAS HEART HOSPITAL, LLC\", \"1701 S SHACKLEFORD ROAD\", \"LITTLE ROCK\", \"AR\"], [\"OZARK HEALTH\", \"2500 HIGHWAY 65 SOUTH\", \"CLINTON\", \"AR\"], [\"CHICOT MEMORIAL MEDICAL CENTER\", \"2729 SOUTH HIGHWAY 65 & 82\", \"LAKE VILLAGE\", \"AR\"], [\"ST ROSE HOSPITAL\", \"27200 CALAROGA AVE\", \"HAYWARD\", \"CA\"], [\"ST JOSEPH HOSPITAL\", \"2700 DOLBEER ST\", \"EUREKA\", \"CA\"], [\"EL CENTRO REGIONAL MEDICAL CENTER\", \"1415 ROSS AVENUE\", \"EL CENTRO\", \"CA\"], [\"KAISER FOUNDATION HOSPITAL - SOUTH SAN FRANCISCO\", \"1200 EL CAMINO REAL\", \"SOUTH SAN FRANCISCO\", \"CA\"], [\"KAISER FOUNDATION HOSPITAL-SANTA CLARA\", \"700 LAWRENCE EXPRESSWAY\", \"SANTA CLARA\", \"CA\"], [\"KAISER FOUNDATION HOSPITAL - WALNUT CREEK\", \"1425 S MAIN STREET\", \"WALNUT CREEK\", \"CA\"], [\"KAISER FOUNDATION HOSPITAL AND REHAB CENTER\", \"975 SERENO DR\", \"VALLEJO\", \"CA\"], [\"KAISER FOUNDATION HOSPITAL - OAKLAND/RICHMOND\", \"275 WEST MACARTHUR BOULEVARD\", \"OAKLAND\", \"CA\"], [\"KAISER FOUNDATION HOSPITAL - SAN FRANCISCO\", \"2425 GEARY BLVD\", \"SAN FRANCISCO\", \"CA\"], [\"SCRIPPS MERCY HOSPITAL\", \"4077 5TH AVE\", \"SAN DIEGO\", \"CA\"], [\"ADVENTIST HEALTH AND RIDEOUT\", \"726 4TH ST\", \"MARYSVILLE\", \"CA\"], [\"KAISER FOUNDATION HOSPITAL FONTANA\", \"9961 SIERRA AVE\", \"FONTANA\", \"CA\"], [\"O'CONNOR HOSPITAL\", \"2105 FOREST AVENUE\", \"SAN JOSE\", \"CA\"], [\"SANTA ROSA MEMORIAL HOSPITAL\", \"1165 MONTGOMERY DR\", \"SANTA ROSA\", \"CA\"], [\"JOHN MUIR MEDICAL CENTER - WALNUT CREEK CAMPUS\", \"1601 YGNACIO VALLEY RD\", \"WALNUT CREEK\", \"CA\"], [\"GEORGE L MEE MEMORIAL HOSPITAL\", \"300 CANAL STREET\", \"KING CITY\", \"CA\"], [\"ALAMEDA HOSPITAL\", \"2070 CLINTON AVENUE\", \"ALAMEDA\", \"CA\"], [\"ARROWHEAD REGIONAL MEDICAL CENTER\", \"400 NORTH PEPPER AVENUE\", \"COLTON\", \"CA\"], [\"CONTRA COSTA REGIONAL MEDICAL CENTER\", \"2500 ALHAMBRA AVENUE\", \"MARTINEZ\", \"CA\"], [\"SETON MEDICAL CENTER\", \"1900 SULLIVAN AVENUE\", \"DALY CITY\", \"CA\"], [\"ST MARY MEDICAL CENTER\", \"18300 HIGHWAY 18\", \"APPLE VALLEY\", \"CA\"], [\"ADVENTIST HEALTH UKIAH VALLEY\", \"275 HOSPITAL DRIVE\", \"UKIAH\", \"CA\"], [\"KERN MEDICAL CENTER\", \"1700 MOUNT VERNON AVENUE\", \"BAKERSFIELD\", \"CA\"], [\"HIGHLAND HOSPITAL\", \"1411 E 31ST STREET\", \"OAKLAND\", \"CA\"], [\"SCRIPPS MEMORIAL HOSPITAL LA JOLLA\", \"9888 GENESEE AVENUE\", \"LA JOLLA\", \"CA\"], [\"CORONA REGIONAL MEDICAL CENTER\", \"800 SOUTH MAIN STREET\", \"CORONA\", \"CA\"], [\"ADVENTIST HEALTH SONORA\", \"1000 GREENLEY ROAD\", \"SONORA\", \"CA\"], [\"HEMET VALLEY MEDICAL CENTER\", \"1117 EAST DEVONSHIRE\", \"HEMET\", \"CA\"], [\"COMMUNITY MEMORIAL HOSPITAL SAN BUENAVENTURA\", \"147 N BRENT ST\", \"VENTURA\", \"CA\"], [\"SCRIPPS GREEN HOSPITAL\", \"10666 NORTH TORREY PINES ROAD\", \"LA JOLLA\", \"CA\"], [\"KAISER FOUNDATION HOSPITAL - SACRAMENTO\", \"2025 MORSE AVENUE\", \"SACRAMENTO\", \"CA\"], [\"JOHN MUIR MEDICAL CENTER - CONCORD CAMPUS\", \"2540 EAST ST\", \"CONCORD\", \"CA\"], [\"SCRIPPS MEMORIAL HOSPITAL - ENCINITAS\", \"354 SANTA FE DRIVE\", \"ENCINITAS\", \"CA\"], [\"KAISER FOUNDATION HOSPITAL - FREMONT\", \"39400 PASEO PADRE PKWY\", \"FREMONT\", \"CA\"], [\"KAISER FOUNDATION HOSPITAL - ZION\", \"4647 ZION AVE\", \"SAN DIEGO\", \"CA\"], [\"KAISER FOUNDATION HOSPITAL - REDWOOD CITY\", \"1100 VETERANS BOULEVARD\", \"REDWOOD CITY\", \"CA\"], [\"MADERA COMMUNITY HOSPITAL\", \"1250 E ALMOND AVE\", \"MADERA\", \"CA\"], [\"UNIVERSITY OF CALIFORNIA DAVIS MEDICAL CENTER\", \"2315 STOCKTON BOULEVARD\", \"SACRAMENTO\", \"CA\"], [\"KAISER FOUNDATION HOSPITAL-SAN JOSE\", \"250 HOSPITAL PARKWAY\", \"SAN JOSE\", \"CA\"], [\"KAISER FOUNDATION HOSP SO SACRAMENTO\", \"6600 BRUCEVILLE ROAD\", \"SACRAMENTO\", \"CA\"], [\"MENIFEE VALLEY MEDICAL CENTER\", \"28400 MCCALL B0ULEVARD\", \"SUN CITY\", \"CA\"], [\"KAISER FOUNDATION HOSPITAL, RIVERSIDE\", \"10800 MAGNOLIA AVENUE\", \"RIVERSIDE\", \"CA\"], [\"ST LOUISE REGIONAL HOSPITAL\", \"9400 NO NAME UNO\", \"GILROY\", \"CA\"], [\"KAISER FOUNDATION HOSPITAL-SANTA ROSA\", \"401 BICENTENNIAL WAY\", \"SANTA ROSA\", \"CA\"], [\"SOUTHWEST HEALTHCARE SYSTEM\", \"25500 MEDICAL CENTER DRIVE\", \"MURRIETA\", \"CA\"], [\"KAISER FOUNDATION HOSPITAL - FRESNO\", \"7300 NORTH FRESNO ST\", \"FRESNO\", \"CA\"], [\"KAISER FOUNDATION HOSPITAL MANTECA\", \"1777 WEST YOSEMITE AVE\", \"MANTECA\", \"CA\"], [\"KAISER FOUNDATION HOSPITAL - ANTIOCH\", \"4501 SAND CREEK ROAD\", \"ANTIOCH\", \"CA\"], [\"KAISER FOUNDATION HOSPITAL-MORENO VALLEY\", \"27300 IRIS AVENUE\", \"MORENO VALLEY\", \"CA\"], [\"KAISER FOUNDATION HOSPITAL - VACAVILLE\", \"1 QUALITY DRIVE\", \"VACAVILLE\", \"CA\"], [\"SAN LEANDRO HOSPITAL\", \"13855 E 14TH STREET\", \"SAN LEANDRO\", \"CA\"], [\"TEMECULA VALLEY HOSPITAL\", \"31700 TEMECULA PKWY\", \"TEMECULA\", \"CA\"], [\"KAISER FOUNDATION HOSPITAL - SAN LEANDRO\", \"2500 MERCED STREET\", \"SAN LEANDRO\", \"CA\"], [\"REDWOOD MEMORIAL HOSPITAL\", \"3300 RENNER DRIVE\", \"FORTUNA\", \"CA\"], [\"HEALDSBURG DISTRICT HOSPITAL\", \"1375 UNIVERSITY AVENUE\", \"HEALDSBURG\", \"CA\"], [\"PLATTE VALLEY MEDICAL CENTER\", \"1600 PRAIRIE CENTER PARKWAY\", \"BRIGHTON\", \"CO\"], [\"SAINT JOSEPH HOSPITAL\", \"1375 EAST 19TH AVENUE\", \"DENVER\", \"CO\"], [\"WRAY COMMUNITY DISTRICT HOSPITAL\", \"1017 WEST 7TH STREET\", \"WRAY\", \"CO\"], [\"STAMFORD HOSPITAL\", \"ONE HOSPITAL PLAZA\", \"STAMFORD\", \"CT\"], [\"LAWRENCE & MEMORIAL HOSPITAL\", \"365 MONTAUK AVE\", \"NEW LONDON\", \"CT\"], [\"DANBURY HOSPITAL\", \"24 HOSPITAL AVE\", \"DANBURY\", \"CT\"], [\"NORWALK HOSPITAL ASSOCIATION\", \"24 STEVENS STREET\", \"NORWALK\", \"CT\"], [\"HALIFAX HEALTH MEDICAL CENTER\", \"303 N CLYDE MORRIS BLVD\", \"DAYTONA BEACH\", \"FL\"], [\"MANATEE MEMORIAL HOSPITAL\", \"206 2ND ST E\", \"BRADENTON\", \"FL\"], [\"MARTIN MEDICAL CENTER\", \"200 SE HOSPITAL AVE\", \"STUART\", \"FL\"], [\"SOUTH LAKE HOSPITAL\", \"1900 DON WICKHAM DR\", \"CLERMONT\", \"FL\"], [\"UF HEALTH SHANDS HOSPITAL\", \"1600 SW ARCHER RD\", \"GAINESVILLE\", \"FL\"], [\"BAPTIST MEDICAL CENTER - NASSAU\", \"1250 S 18TH ST\", \"FERNANDINA BEACH\", \"FL\"], [\"LAKEWOOD RANCH MEDICAL CENTER\", \"8330 LAKEWOOD RANCH BLVD\", \"BRADENTON\", \"FL\"], [\"TANNER MEDICAL CENTER - CARROLLTON\", \"705 DIXIE STREET\", \"CARROLLTON\", \"GA\"], [\"TANNER MEDICAL CENTER VILLA RICA\", \"601 DALLAS HIGHWAY\", \"VILLA RICA\", \"GA\"], [\"WELLSTAR WEST GEORGIA MEDICAL CENTER\", \"1514 VERNON ROAD\", \"LAGRANGE\", \"GA\"], [\"PIEDMONT NEWTON HOSPITAL\", \"5126 HOSPITAL DRIVE NE\", \"COVINGTON\", \"GA\"], [\"WELLSTAR SPALDING REGIONAL HOSPITAL\", \"601 SOUTH 8TH STREET\", \"GRIFFIN\", \"GA\"], [\"APPLING HOSPITAL\", \"163 E TOLLISON STREET\", \"BAXLEY\", \"GA\"], [\"PIEDMONT ATHENS REGIONAL MEDICAL CENTER\", \"1199 PRINCE AVENUE\", \"ATHENS\", \"GA\"], [\"WAYNE MEMORIAL HOSPITAL\", \"865 SOUTH FIRST STREET\", \"JESUP\", \"GA\"], [\"MEMORIAL HOSPITAL AND MANOR\", \"1500 E SHOTWELL STREET\", \"BAINBRIDGE\", \"GA\"], [\"TAYLOR REGIONAL HOSPITAL\", \"222 PERRY HWY\", \"HAWKINSVILLE\", \"GA\"], [\"PIEDMONT HENRY HOSPITAL\", \"1133 EAGLE'S LANDING PARKWAY\", \"STOCKBRIDGE\", \"GA\"], [\"PIEDMONT COLUMBUS REGIONAL NORTHSIDE\", \"100 FRIST COURT\", \"COLUMBUS\", \"GA\"], [\"PIEDMONT MOUNTAINSIDE HOSPITAL INC\", \"1266 HIGHWAY 515 SOUTH\", \"JASPER\", \"GA\"], [\"PIEDMONT NEWNAN HOSPITAL, INC\", \"745 POPLAR ROAD\", \"NEWNAN\", \"GA\"], [\"SOUTHEASTERN REGIONAL MEDICAL CENTER\", \"600 CELEBRATE LIFE PARKWAY\", \"NEWNAN\", \"GA\"], [\"EFFINGHAM HEALTH SYSTEM\", \"459 GA HIGHWAY 119 SOUTH\", \"SPRINGFIELD\", \"GA\"], [\"OPTIM MEDICAL CENTER - SCREVEN\", \"215 MIMS ROAD\", \"SYLVANIA\", \"GA\"], [\"HIGGINS GENERAL HOSPITAL\", \"200 ALLEN MEMORIAL DRIVE\", \"BREMEN\", \"GA\"], [\"OPTIM MEDICAL CENTER - TATTNALL\", \"247 S MAIN STREET\", \"REIDSVILLE\", \"GA\"], [\"HILO MEDICAL CENTER\", \"1190 WAIANUENUE AVENUE\", \"HILO\", \"HI\"], [\"KOOTENAI HEALTH\", \"2003 KOOTENAI HEALTH WAY\", \"COEUR D'ALENE\", \"ID\"], [\"NORTHWEST SPECIALTY HOSPITAL\", \"1593 EAST POLSTON AVENUE\", \"POST FALLS\", \"ID\"], [\"ST LUKE'S NAMPA MEDICAL CENTER\", \"9850 W ST LUKES DRIVE\", \"NAMPA\", \"ID\"], [\"STEELE MEMORIAL MEDICAL CENTER\", \"203 SOUTH DAISY STREET\", \"SALMON\", \"ID\"], [\"VALOR HEALTH\", \"1202 EAST LOCUST STREET\", \"EMMETT\", \"ID\"], [\"MINIDOKA MEMORIAL HOSPITAL\", \"1224 8TH STREET\", \"RUPERT\", \"ID\"], [\"PROCTOR HOSPITAL\", \"5409 N KNOXVILLE AVE\", \"PEORIA\", \"IL\"], [\"HSHS GOOD SHEPHERD HOSPITAL INC\", \"200 S CEDAR ST\", \"SHELBYVILLE\", \"IL\"], [\"ST ANTHONYS MEMORIAL HOSPITAL\", \"503 N MAPLE STREET\", \"EFFINGHAM\", \"IL\"], [\"OSF SAINT ANTHONY'S HEALTH CENTER\", \"ST ANTHONY'S WAY\", \"ALTON\", \"IL\"], [\"ST JOHNS HOSPITAL\", \"800 E CARPENTER ST\", \"SPRINGFIELD\", \"IL\"], [\"ST MARY MEDICAL CENTER\", \"3333 NORTH SEMINARY\", \"GALESBURG\", \"IL\"], [\"THE CARLE FOUNDATION HOSPITAL\", \"611 WEST PARK STREET\", \"URBANA\", \"IL\"], [\"GREENVILLE REGIONAL HOSPITAL\", \"200 HEALTH CARE DR\", \"GREENVILLE\", \"IL\"], [\"RICHLAND MEMORIAL HOSPITAL\", \"800 EAST LOCUST\", \"OLNEY\", \"IL\"], [\"SAINT JAMES HOSPITAL\", \"2500 WEST REYNOLDS STREET\", \"PONTIAC\", \"IL\"], [\"ST MARYS HOSPITAL\", \"1800 E LAKE SHORE DR\", \"DECATUR\", \"IL\"], [\"METHODIST MEDICAL CENTER OF ILLINOIS\", \"221 N E GLEN OAK AVE\", \"PEORIA\", \"IL\"], [\"OSF HOLY FAMILY MEDICAL CENTER\", \"1000 W HARLEM AVENUE\", \"MONMOUTH\", \"IL\"], [\"ST JOSEPH'S HOSPITAL\", \"12866 TROXLER AVENUE\", \"HIGHLAND\", \"IL\"], [\"ST FRANCIS HOSPITAL\", \"1215 FRANCISCAN DR\", \"LITCHFIELD\", \"IL\"], [\"METHODIST HOSPITALS INC\", \"600 GRANT ST\", \"GARY\", \"IN\"], [\"KING'S DAUGHTERS' HEALTH\", \"1373 EAST SR 62\", \"MADISON\", \"IN\"], [\"FRANCISCAN HEALTH DYER\", \"24 JOLIET ST\", \"DYER\", \"IN\"], [\"FRANCISCAN HEALTH LAFAYETTE\", \"1701 S CREASY LN\", \"LAFAYETTE\", \"IN\"], [\"FRANCISCAN HEALTH CROWN POINT\", \"1201 S MAIN ST\", \"CROWN POINT\", \"IN\"], [\"SULLIVAN COUNTY COMMUNITY HOSPITAL\", \"2200 N SECTION ST\", \"SULLIVAN\", \"IN\"], [\"DECATUR COUNTY MEMORIAL HOSPITAL\", \"720 N LINCOLN ST\", \"GREENSBURG\", \"IN\"], [\"UNITYPOINT HEALTH-MARSHALLTOWN\", \"3 S 4TH AVE\", \"MARSHALLTOWN\", \"IA\"], [\"UNITYPOINT HEALTH - KEOKUK\", \"1600 MORGAN STREET\", \"KEOKUK\", \"IA\"], [\"IOWA LUTHERAN HOSPITAL\", \"700 EAST UNIVERSITY AVENUE\", \"DES MOINES\", \"IA\"], [\"IOWA METHODIST MEDICAL CENTER\", \"1200 PLEASANT STREET\", \"DES MOINES\", \"IA\"], [\"ALLEN HOSPITAL\", \"1825 LOGAN AVENUE\", \"WATERLOO\", \"IA\"], [\"FINLEY HOSPITAL\", \"350 NORTH GRANDVIEW AVENUE\", \"DUBUQUE\", \"IA\"], [\"FORT MADISON COMMUNITY HOSPITAL\", \"5445 AVE O\", \"FORT MADISON\", \"IA\"], [\"ST LUKES REGIONAL MEDICAL CENTER\", \"2720 STONE PARK BOULEVARD\", \"SIOUX CITY\", \"IA\"], [\"HUMBOLDT COUNTY MEMORIAL HOSPITAL\", \"1000 NORTH 15TH STREET\", \"HUMBOLDT\", \"IA\"], [\"CLARKE COUNTY HOSPITAL\", \"800 S FILLMORE ST\", \"OSCEOLA\", \"IA\"], [\"HENRY COUNTY HEALTH CENTER\", \"407 S WHITE ST\", \"MOUNT PLEASANT\", \"IA\"], [\"GREATER REGIONAL MEDICAL CENTER\", \"1700 WEST TOWNLINE ROAD\", \"CRESTON\", \"IA\"], [\"RINGGOLD COUNTY HOSPITAL\", \"504 NORTH CLEVELAND STREET\", \"MOUNT AYR\", \"IA\"], [\"SUSAN B ALLEN MEMORIAL HOSPITAL\", \"720 W CENTRAL ST\", \"EL DORADO\", \"KS\"], [\"MERCY HOSPITAL, INC\", \"218 E PACK STREET\", \"MOUNDRIDGE\", \"KS\"], [\"COFFEYVILLE REGIONAL MEDICAL CENTER, INC\", \"1400 W 4TH ST\", \"COFFEYVILLE\", \"KS\"], [\"WILLIAM NEWTON HOSPITAL\", \"1300 EAST FIFTH AVENUE\", \"WINFIELD\", \"KS\"], [\"HARDIN MEMORIAL HOSPITAL\", \"913 NORTH DIXIE AVENUE\", \"ELIZABETHTOWN\", \"KY\"], [\"HAZARD ARH REGIONAL MEDICAL CENTER\", \"100 MEDICAL CENTER DRIVE\", \"HAZARD\", \"KY\"], [\"JENNIE STUART MEDICAL CENTER\", \"320 WEST 18TH STREET\", \"HOPKINSVILLE\", \"KY\"], [\"METHODIST HOSPITAL\", \"1305 N ELM ST\", \"HENDERSON\", \"KY\"], [\"UNIVERSITY OF KENTUCKY HOSPITAL\", \"800 ROSE STREET\", \"LEXINGTON\", \"KY\"], [\"HARRISON MEMORIAL HOSPITAL\", \"1210 KY HWY 36 E\", \"CYNTHIANA\", \"KY\"], [\"METHODIST HOSPITAL UNION COUNTY\", \"4604 US HIGHWAY 60 WEST\", \"MORGANFIELD\", \"KY\"], [\"EPHRAIM MCDOWELL FORT LOGAN HOSPITAL\", \"110 METKER TRAIL\", \"STANFORD\", \"KY\"], [\"LIVINGSTON HOSPITAL AND HEALTHCARE SERVICES, INC\", \"131 HOSPITAL DRIVE\", \"SALEM\", \"KY\"], [\"LAFAYETTE GENERAL MEDICAL CENTER\", \"1214 COOLIDGE AVENUE\", \"LAFAYETTE\", \"LA\"], [\"THIBODAUX REGIONAL MEDICAL CENTER\", \"602 N ACADIA ROAD\", \"THIBODAUX\", \"LA\"], [\"UNIVERSITY MEDICAL CENTER NEW ORLEANS\", \"2000 CANAL STREET\", \"NEW ORLEANS\", \"LA\"], [\"UNIVERSITY HOSPITAL & CLINICS\", \"2390 WEST CONGRESS\", \"LAFAYETTE\", \"LA\"], [\"NATCHITOCHES REGIONAL MEDICAL CENTER\", \"501 KEYSER AVE\", \"NATCHITOCHES\", \"LA\"], [\"TERREBONNE GENERAL MEDICAL CENTER\", \"8166 MAIN STREET\", \"HOUMA\", \"LA\"], [\"OPELOUSAS GENERAL HEALTH SYSTEM\", \"539 EAST PRUDHOMME STREET\", \"OPELOUSAS\", \"LA\"], [\"CHRISTUS ST FRANCES CABRINI HOSPITAL\", \"3330 MASONIC DRIVE\", \"ALEXANDRIA\", \"LA\"], [\"CHRISTUS OCHSNER ST PATRICK HOSPITAL\", \"524 DR MICHAEL DEBAKEY STREET\", \"LAKE CHARLES\", \"LA\"], [\"ABBEVILLE GENERAL HOSPITAL\", \"118 N HOSPITAL DR\", \"ABBEVILLE\", \"LA\"], [\"WEST JEFFERSON MEDICAL CENTER\", \"1101 MEDICAL CENTER BLVD\", \"MARRERO\", \"LA\"], [\"SLIDELL MEMORIAL HOSPITAL\", \"1001 GAUSE BLVD\", \"SLIDELL\", \"LA\"], [\"CHRISTUS HEALTH SHREVEPORT - BOSSIER\", \"1453 E BERT KOUNS INDUSTRIAL DRIVE\", \"SHREVEPORT\", \"LA\"], [\"ACADIA GENERAL HOSPITAL\", \"1305 CROWLEY RAYNE HIGHWAY\", \"CROWLEY\", \"LA\"], [\"TOURO INFIRMARY\", \"1401 FOUCHER STREET\", \"NEW ORLEANS\", \"LA\"], [\"IBERIA MEDICAL CENTER\", \"2315 E MAIN STREET\", \"NEW IBERIA\", \"LA\"], [\"WINN PARISH MEDICAL CENTER\", \"301 W BOUNDARY AVE\", \"WINNFIELD\", \"LA\"], [\"OCHSNER LSU HEALTH SHREVEPORT\", \"1541 KINGS HIGHWAY\", \"SHREVEPORT\", \"LA\"], [\"EAST JEFFERSON GENERAL HOSPITAL\", \"4200 HOUMA BLVD\", \"METAIRIE\", \"LA\"], [\"LAFAYETTE SURGICAL SPECIALTY HOSPITAL\", \"1101 KALISTE SALOOM RD\", \"LAFAYETTE\", \"LA\"], [\"LAFAYETTE GENERAL SURGICAL HOSPITAL\", \"1000 W PINHOOK RD SUITE 100\", \"LAFAYETTE\", \"LA\"], [\"SOUTHERN SURGICAL HOSPITAL\", \"1700 W LINDBERG DRIVE\", \"SLIDELL\", \"LA\"], [\"SPECIALISTS HOSPITAL SHREVEPORT\", \"1500 LINE AVENUE\", \"SHREVEPORT\", \"LA\"], [\"CYPRESS POINTE SURGICAL HOSPITAL\", \"42570 SOUTH AIRPORT RD\", \"HAMMOND\", \"LA\"], [\"FRANKLIN FOUNDATION HOSPITAL\", \"1097 NORTHWEST BLVD\", \"FRANKLIN\", \"LA\"], [\"JACKSON PARISH HOSPITAL\", \"165 BEECH SPRINGS ROAD\", \"JONESBORO\", \"LA\"], [\"CENTRAL MAINE MEDICAL CENTER\", \"300 MAIN STREET\", \"LEWISTON\", \"ME\"], [\"EASTERN MAINE MEDICAL CENTER\", \"PO BOX 404\", \"BANGOR\", \"ME\"], [\"FRANKLIN MEMORIAL HOSPITAL\", \"111 FRANKLIN HEALTH COMMONS\", \"FARMINGTON\", \"ME\"], [\"NORTHERN LIGHT INLAND HOSPITAL\", \"200 KENNEDY MEMORIAL DRIVE\", \"WATERVILLE\", \"ME\"], [\"NORTHERN LIGHT MAINE COAST HOSPITAL\", \"50 UNION STREET\", \"ELLSWORTH\", \"ME\"], [\"NORTHERN MAINE MEDICAL CENTER\", \"194 E MAIN STREET\", \"FORT KENT\", \"ME\"], [\"CALAIS REGIONAL HOSPITAL\", \"24 HOSPITAL LANE\", \"CALAIS\", \"ME\"], [\"DOWN EAST COMMUNITY HOSPITAL\", \"11 HOSPITAL DRIVE\", \"MACHIAS\", \"ME\"], [\"SINAI HOSPITAL OF BALTIMORE\", \"2401 WEST BELVEDERE AVENUE\", \"BALTIMORE\", \"MD\"], [\"CALVERTHEALTH MEDICAL CENTER\", \"100 HOSPITAL ROAD\", \"PRINCE FREDERICK\", \"MD\"], [\"NORTHWEST HOSPITAL CENTER\", \"5401 OLD COURT ROAD\", \"RANDALLSTOWN\", \"MD\"], [\"STURDY MEMORIAL HOSPITAL\", \"211 PARK STREET\", \"ATTLEBORO\", \"MA\"], [\"CAMBRIDGE HEALTH ALLIANCE\", \"1493 CAMBRIDGE STREET\", \"CAMBRIDGE\", \"MA\"], [\"BAYSTATE FRANKLIN MEDICAL CENTER\", \"164 HIGH STREET\", \"GREENFIELD\", \"MA\"], [\"MASSACHUSETTS EYE AND EAR INFIRMARY -\", \"243 CHARLES STREET\", \"BOSTON\", \"MA\"], [\"NEW ENGLAND BAPTIST HOSPITAL\", \"125 PARKER HILL AVENUE\", \"BOSTON\", \"MA\"], [\"SOUTH SHORE HOSPITAL\", \"55 FOGG ROAD\", \"SOUTH WEYMOUTH\", \"MA\"], [\"TUFTS MEDICAL CENTER\", \"800 WASHINGTON STREET\", \"BOSTON\", \"MA\"], [\"SPECTRUM HEALTH ZEELAND COMMUNITY HOSPITAL\", \"8333 FELCH ST\", \"ZEELAND\", \"MI\"], [\"THREE RIVERS HEALTH\", \"701 S HEALTH PARKWAY\", \"THREE RIVERS\", \"MI\"], [\"PROMEDICA COLDWATER REGIONAL HOSPITAL\", \"274 E CHICAGO ST\", \"COLDWATER\", \"MI\"], [\"BRONSON SOUTH HAVEN HOSPITAL\", \"955 S BAILEY AVE\", \"SOUTH HAVEN\", \"MI\"], [\"SPECTRUM HEALTH BIG RAPIDS HOSPITAL\", \"605 OAK STREET\", \"BIG RAPIDS\", \"MI\"], [\"PROMEDICA MONROE REGIONAL HOSPITAL\", \"718 N MACOMB ST\", \"MONROE\", \"MI\"], [\"ASPIRUS IRON RIVER HOSPITAL & CLINICS, INC\", \"1400 W ICE LAKE ROAD\", \"IRON RIVER\", \"MI\"], [\"BRONSON LAKEVIEW HOSPITAL\", \"408 HAZEN STREET\", \"PAW PAW\", \"MI\"], [\"ASPIRUS IRONWOOD HOSPITAL\", \"N10561 GRAND VIEW LANE\", \"IRONWOOD\", \"MI\"], [\"SPECTRUM HEALTH GERBER MEMORIAL\", \"212 S SULLIVAN ST\", \"FREMONT\", \"MI\"], [\"WINONA HEALTH SERVICES\", \"855 MANKATO AVENUE\", \"WINONA\", \"MN\"], [\"PARK NICOLLET METHODIST HOSPITAL\", \"6500 EXCELSIOR BLVD\", \"SAINT LOUIS PARK\", \"MN\"], [\"ABBOTT NORTHWESTERN HOSPITAL\", \"800 EAST 28TH STREET\", \"MINNEAPOLIS\", \"MN\"], [\"DISTRICT ONE HOSPITAL\", \"200 STATE AVENUE\", \"FARIBAULT\", \"MN\"], [\"BUFFALO HOSPITAL\", \"303 CATLIN ST\", \"BUFFALO\", \"MN\"], [\"FAIRVIEW SOUTHDALE HOSPITAL\", \"6401 FRANCE AVENUE SOUTH\", \"EDINA\", \"MN\"], [\"UNIVERSITY OF MINNESOTA  MEDICAL CENTER, FAIRVIEW\", \"2450 RIVERSIDE AVENUE\", \"MINNEAPOLIS\", \"MN\"], [\"REGIONS HOSPITAL\", \"640 JACKSON STREET\", \"SAINT PAUL\", \"MN\"], [\"MAPLE GROVE HOSPITAL\", \"9875 HOSPITAL DRIVE\", \"MAPLE GROVE\", \"MN\"], [\"RIVERVIEW HOSPITAL\", \"323 SOUTH MINNESOTA\", \"CROOKSTON\", \"MN\"], [\"CENTRACARE HEALTH SYSTEM - LONG PRAIRIE\", \"50 CENTRACARE DRIVE\", \"LONG PRAIRIE\", \"MN\"], [\"LAKEWOOD HEALTH SYSTEM\", \"49725 COUNTY ROAD 83\", \"STAPLES\", \"MN\"], [\"PERHAM HEALTH\", \"1000 CONEY STREET WEST\", \"PERHAM\", \"MN\"], [\"NORTH MISSISSIPPI MEDICAL CENTER\", \"830 S GLOSTER\", \"TUPELO\", \"MS\"], [\"BAPTIST MEMORIAL HOSPITAL UNION COUNTY\", \"200 HWY 30 WEST\", \"NEW ALBANY\", \"MS\"], [\"MAGNOLIA REGIONAL HEALTH CENTER\", \"611 ALCORN DRIVE\", \"CORINTH\", \"MS\"], [\"BAPTIST MEMORIAL HOSPITAL NORTH MS\", \"1100 BELK BLVD\", \"OXFORD\", \"MS\"], [\"GEORGE REGIONAL HEALTH SYSTEM\", \"859 WINTER STREET\", \"LUCEDALE\", \"MS\"], [\"BAPTIST MEMORIAL HOSPITAL BOONEVILLE\", \"100 HOSPITAL DRIVE\", \"BOONEVILLE\", \"MS\"], [\"ST DOMINIC-JACKSON MEMORIAL HOSPITAL\", \"969 LAKELAND DR\", \"JACKSON\", \"MS\"], [\"FORREST GENERAL HOSPITAL\", \"6051 US HIGHWAY 49\", \"HATTIESBURG\", \"MS\"], [\"MISSISSIPPI BAPTIST MEDICAL CENTER\", \"1225 N STATE ST\", \"JACKSON\", \"MS\"], [\"HIGHLAND COMMUNITY  HOSPITAL\", \"130 HIGHLAND PKWY\", \"PICAYUNE\", \"MS\"], [\"NORTH OAK REGIONAL MEDICAL CENTER\", \"401 GETWELL DR\", \"SENATOBIA\", \"MS\"], [\"NORTH SUNFLOWER MEDICAL CENTER CAH\", \"840 NORTH OAK AVENUE\", \"RULEVILLE\", \"MS\"], [\"GREENE COUNTY HOSPITAL CAH\", \"1017 JACKSON STREET\", \"LEAKESVILLE\", \"MS\"], [\"HANNIBAL REGIONAL HOSPITAL\", \"6000 HOSPITAL DR\", \"HANNIBAL\", \"MO\"], [\"COX MEDICAL CENTERS\", \"3801 SOUTH NATIONAL AVENUE\", \"SPRINGFIELD\", \"MO\"], [\"TRUMAN MEDICAL CENTER HOSPITAL HILL\", \"2301 HOLMES STREET\", \"KANSAS CITY\", \"MO\"], [\"NEVADA REGIONAL MEDICAL CENTER\", \"800 S ASH ST\", \"NEVADA\", \"MO\"], [\"SSM HEALTH ST. MARY'S HOSPITAL-AUDRAIN\", \"620 E MONROE\", \"MEXICO\", \"MO\"], [\"SSM HEALTH ST MARY'S HOSPITAL - ST LOUIS\", \"6420 CLAYTON RD\", \"RICHMOND HEIGHTS\", \"MO\"], [\"WESTERN MISSOURI MEDICAL CENTER\", \"403 BURKARTH ROAD\", \"WARRENSBURG\", \"MO\"], [\"TRUMAN MEDICAL CENTER LAKEWOOD\", \"7900 LEE'S SUMMIT RD\", \"KANSAS CITY\", \"MO\"], [\"ST LUKES HOSPITAL\", \"232 S WOODS MILL RD\", \"CHESTERFIELD\", \"MO\"], [\"SAINT FRANCIS MEDICAL CENTER\", \"211 ST FRANCIS DR\", \"CAPE GIRARDEAU\", \"MO\"], [\"CITIZENS MEMORIAL HOSPITAL\", \"1500 N OAKLAND\", \"BOLIVAR\", \"MO\"], [\"BENEFIS HOSPITALS INC\", \"1101 26TH ST S\", \"GREAT FALLS\", \"MT\"], [\"ST JAMES HEALTHCARE\", \"400 S CLARK ST\", \"BUTTE\", \"MT\"], [\"KALISPELL REGIONAL MEDICAL CENTER\", \"310 SUNNYVIEW LANE\", \"KALISPELL\", \"MT\"], [\"THE HEALTHCENTER\", \"320 SUNNYVIEW LANE\", \"KALISPELL\", \"MT\"], [\"BARRETT HOSPITAL & HEALTHCARE\", \"600 MT HWY 91 S\", \"DILLON\", \"MT\"], [\"CABINET PEAKS MEDICAL CENTER\", \"209 HEALTH PARK DR\", \"LIBBY\", \"MT\"], [\"PROVIDENCE ST JOSEPH MEDICAL CENTER\", \"6 13TH AVE E\", \"POLSON\", \"MT\"], [\"HOLY ROSARY HEALTHCARE\", \"2600 WILSON ST\", \"MILES CITY\", \"MT\"], [\"COLUMBUS COMMUNITY HOSPITAL\", \"4600 38TH ST\", \"COLUMBUS\", \"NE\"], [\"FAITH REGIONAL HEALTH SERVICES\", \"2700 WEST NORFOLK AVE\", \"NORFOLK\", \"NE\"], [\"PROVIDENCE MEDICAL CENTER\", \"1200 PROVIDENCE RD\", \"WAYNE\", \"NE\"], [\"VALLEY HOSPITAL MEDICAL CENTER\", \"620 SHADOW LANE\", \"LAS VEGAS\", \"NV\"], [\"DESERT SPRINGS HOSPITAL\", \"2075 EAST FLAMINGO ROAD\", \"LAS VEGAS\", \"NV\"], [\"SUMMERLIN HOSPITAL MEDICAL CENTER\", \"657 TOWN CENTER DRIVE\", \"LAS VEGAS\", \"NV\"], [\"SPRING VALLEY HOSPITAL MEDICAL CENTER\", \"5400 SOUTH RAINBOW BLVD\", \"LAS VEGAS\", \"NV\"], [\"CENTENNIAL HILLS HOSPITAL MEDICAL CENTER\", \"6900 N DURANGO DR\", \"LAS VEGAS\", \"NV\"], [\"HENDERSON HOSPITAL\", \"1050 WEST GALLERIA DRIVE\", \"HENDERSON\", \"NV\"], [\"MEMORIAL HOSPITAL, THE\", \"3073 WHITE MOUNTAIN HIGHWAY\", \"NORTH CONWAY\", \"NH\"], [\"SHORE MEDICAL CENTER\", \"100 MEDICAL CENTER WAY\", \"SOMERS POINT\", \"NJ\"], [\"JEFFERSON STRATFORD HOSPITAL\", \"18 EAST LAUREL ROAD\", \"STRATFORD\", \"NJ\"], [\"CHRISTUS ST VINCENT REGIONAL MEDICAL CENTER\", \"455 ST MICHAEL'S DRIVE\", \"SANTA FE\", \"NM\"], [\"PRESBYTERIAN ESPANOLA HOSPITAL\", \"1010 SPRUCE STREET\", \"ESPANOLA\", \"NM\"], [\"PRESBYTERIAN HOSPITAL\", \"1100 CENTRAL AVENUE SE\", \"ALBUQUERQUE\", \"NM\"], [\"PLAINS REGIONAL MEDICAL CENTER\", \"2100 N MARTIN LUTHER KING, JR, BLVD\", \"CLOVIS\", \"NM\"], [\"ARTESIA GENERAL HOSPITAL\", \"702 N 13TH STREET\", \"ARTESIA\", \"NM\"], [\"SOCORRO GENERAL HOSPITAL\", \"1202 HIGHWAY 60 WEST\", \"SOCORRO\", \"NM\"], [\"NOR-LEA HOSPITAL DISTRICT\", \"1600 NORTH MAIN AVE\", \"LOVINGTON\", \"NM\"], [\"LINCOLN COUNTY MEDICAL CENTER\", \"211 SUDDERTH DRIVE\", \"RUIDOSO\", \"NM\"], [\"MOUNT SINAI HOSPITAL\", \"ONE GUSTAVE L LEVY PLACE\", \"NEW YORK\", \"NY\"], [\"NIAGARA FALLS MEMORIAL MEDICAL CENTER\", \"621 TENTH STREET\", \"NIAGARA FALLS\", \"NY\"], [\"AURELIA OSBORN FOX MEMORIAL HOSPITAL\", \"ONE NORTON AVENUE\", \"ONEONTA\", \"NY\"], [\"ARNOT OGDEN MEDICAL CENTER\", \"600 ROE AVENUE\", \"ELMIRA\", \"NY\"], [\"LENOX HILL HOSPITAL\", \"100 EAST 77TH STREET\", \"NEW YORK\", \"NY\"], [\"STATEN ISLAND UNIVERSITY HOSPITAL\", \"475 SEAVIEW AVENUE\", \"STATEN ISLAND\", \"NY\"], [\"HIGHLAND HOSPITAL\", \"1000 SOUTH AVENUE\", \"ROCHESTER\", \"NY\"], [\"MOUNT SINAI BETH ISRAEL\", \"FIRST AVENUE AT 16TH STREET\", \"NEW YORK\", \"NY\"], [\"CLAXTON-HEPBURN MEDICAL CENTER\", \"214 KING STREET\", \"OGDENSBURG\", \"NY\"], [\"ROME MEMORIAL HOSPITAL, INC\", \"1500 NORTH JAMES STREET\", \"ROME\", \"NY\"], [\"MASSENA MEMORIAL HOSPITAL\", \"1 HOSPITAL DRIVE\", \"MASSENA\", \"NY\"], [\"HOSPITAL FOR SPECIAL SURGERY\", \"535 EAST 70TH STREET\", \"NEW YORK\", \"NY\"], [\"NATHAN LITTAUER HOSPITAL\", \"99 EAST STATE STREET\", \"GLOVERSVILLE\", \"NY\"], [\"STRONG MEMORIAL HOSPITAL\", \"601 ELMWOOD AVE\", \"ROCHESTER\", \"NY\"], [\"O'CONNOR HOSPITAL\", \"460 ANDES ROAD\", \"DELHI\", \"NY\"], [\"LITTLE FALLS HOSPITAL\", \"140 BURWELL STREET\", \"LITTLE FALLS\", \"NY\"], [\"MEMORIAL MISSION HOSPITAL AND ASHEVILLE SURGERY CE\", \"509 BILTMORE AVE\", \"ASHEVILLE\", \"NC\"], [\"SCOTLAND MEMORIAL HOSPITAL\", \"500 LAUCHWOOD DR\", \"LAURINBURG\", \"NC\"], [\"WAYNE MEMORIAL HOSPITAL\", \"2700 WAYNE MEMORIAL DR\", \"GOLDSBORO\", \"NC\"], [\"NOVANT HEALTH FORSYTH MEDICAL CENTER\", \"3333 SILAS CREEK PARKWAY\", \"WINSTON-SALEM\", \"NC\"], [\"NOVANT HEALTH ROWAN MEDICAL CENTER\", \"612 MOCKSVILLE AVE\", \"SALISBURY\", \"NC\"], [\"SAMPSON REGIONAL MEDICAL CENTER\", \"607 BEAMAN ST\", \"CLINTON\", \"NC\"], [\"UNC LENOIR HEALTH CARE\", \"100 AIRPORT RD\", \"KINSTON\", \"NC\"], [\"DUKE UNIVERSITY HOSPITAL\", \"PO BOX 3814 DUMC  ERWIN RD\", \"DURHAM\", \"NC\"], [\"CALDWELL MEMORIAL HOSPITAL\", \"321 MULBERRY ST SW\", \"LENOIR\", \"NC\"], [\"ONSLOW MEMORIAL HOSPITAL\", \"317 WESTERN BOULEVARD\", \"JACKSONVILLE\", \"NC\"], [\"NORTH CAROLINA SPECIALTY HOSPITAL\", \"3916 BEN FRANKLIN BOULEVARD\", \"DURHAM\", \"NC\"], [\"WATAUGA MEDICAL CENTER\", \"336 DEERFIELD ROAD\", \"BOONE\", \"NC\"], [\"UNIVERSITY OF NORTH CAROLINA HOSPITAL\", \"101 MANNING DRIVE\", \"CHAPEL HILL\", \"NC\"], [\"ALAMANCE REGIONAL MEDICAL CENTER\", \"1240 HUFFMAN MILL RD\", \"BURLINGTON\", \"NC\"], [\"DUKE HEALTH RALEIGH HOSPITAL\", \"3400 WAKE FOREST RD\", \"RALEIGH\", \"NC\"], [\"JOHNSTON HEALTH\", \"509 BRIGHT LEAF BLVD\", \"SMITHFIELD\", \"NC\"], [\"REX HOSPITAL\", \"4420 LAKE BOONE TRAIL\", \"RALEIGH\", \"NC\"], [\"FIRSTHEALTH MOORE REGIONAL HOSPITAL\", \"155 MEMORIAL DRIVE\", \"PINEHURST\", \"NC\"], [\"RANDOLPH HOSPITAL\", \"364 WHITE OAK STREET\", \"ASHEBORO\", \"NC\"], [\"CAROLINAS HEALTHCARE SYSTEM UNION\", \"600 HOSPITAL DR\", \"MONROE\", \"NC\"], [\"CAROLINA EAST MEDICAL CENTER\", \"2000 NEUSE BLVD\", \"NEW BERN\", \"NC\"], [\"CATAWBA VALLEY MEDICAL CENTER\", \"810 FAIRGROVE CHURCH RD\", \"HICKORY\", \"NC\"], [\"NASH GENERAL HOSPITAL\", \"2460 CURTIS ELLIS DRIVE\", \"ROCKY MOUNT\", \"NC\"], [\"NOVANT HEALTH MEDICAL PARK HOSPITAL\", \"1950 S HAWTHORNE RD\", \"WINSTON-SALEM\", \"NC\"], [\"DUKE REGIONAL HOSPITAL\", \"3643 N ROXBORO ROAD\", \"DURHAM\", \"NC\"], [\"CAROLINAS MED CTR-UNIVERSITY\", \"8800 NORTH TYRON STREET\", \"CHARLOTTE\", \"NC\"], [\"NOVANT HEALTH HUNTERSVILLE MEDICAL CENTER\", \"10030 GILEAD ROAD\", \"HUNTERSVILLE\", \"NC\"], [\"PENDER MEMORIAL HOSPITAL\", \"507 E FREMONT ST\", \"BURGAW\", \"NC\"], [\"CHARLES A CANNON JR MEMORIAL HOSPITAL\", \"434 HOSPITAL DRIVE\", \"LINVILLE\", \"NC\"], [\"BLUE RIDGE REGIONAL HOSPITAL, INC\", \"125 HOSPITAL DR\", \"SPRUCE PINE\", \"NC\"], [\"ALTRU HOSPITAL\", \"1200 S COLUMBIA RD\", \"GRAND FORKS\", \"ND\"], [\"UNIVERSITY OF CINCINNATI MEDICAL CENTER, LLC\", \"234 GOODMAN STREET\", \"CINCINNATI\", \"OH\"], [\"RIVERSIDE METHODIST HOSPITAL\", \"3535 OLENTANGY RIVER RD\", \"COLUMBUS\", \"OH\"], [\"SOUTHERN OHIO MEDICAL CENTER\", \"1805 27TH STREET\", \"PORTSMOUTH\", \"OH\"], [\"LIMA MEMORIAL HEALTH SYSTEM\", \"1001 BELLEFONTAINE AVENUE\", \"LIMA\", \"OH\"], [\"MARION GENERAL HOSPITAL\", \"1000 MCKINLEY PARK DRIVE\", \"MARION\", \"OH\"], [\"OHIOHEALTH O'BLENESS HOSPITAL\", \"55 HOSPITAL DRIVE\", \"ATHENS\", \"OH\"], [\"GRANT MEDICAL CENTER\", \"111 SOUTH GRANT AVENUE\", \"COLUMBUS\", \"OH\"], [\"SUMMA HEALTH SYSTEM\", \"525 EAST MARKET STREET\", \"AKRON\", \"OH\"], [\"GREENE MEMORIAL HOSPITAL\", \"1141 NORTH MONROE DRIVE\", \"XENIA\", \"OH\"], [\"MCCULLOUGH-HYDE MEMORIAL HOSPITAL\", \"110 NORTH POPLAR STREET\", \"OXFORD\", \"OH\"], [\"MIAMI VALLEY HOSPITAL\", \"ONE WYOMING STREET\", \"DAYTON\", \"OH\"], [\"METROHEALTH SYSTEM\", \"2500 METROHEALTH DRIVE\", \"CLEVELAND\", \"OH\"], [\"FLOWER HOSPITAL\", \"5200 HARROUN ROAD\", \"SYLVANIA\", \"OH\"], [\"KETTERING MEDICAL CENTER\", \"3535 SOUTHERN BOULEVARD\", \"KETTERING\", \"OH\"], [\"ST LUKE'S HOSPITAL\", \"5901 MONCLOVA ROAD\", \"MAUMEE\", \"OH\"], [\"BELLEVUE HOSPITAL\", \"1400 WEST MAIN STREET\", \"BELLEVUE\", \"OH\"], [\"COSHOCTON REGIONAL MEDICAL CENTER\", \"1460 ORANGE STREET\", \"COSHOCTON\", \"OH\"], [\"FORT HAMILTON HUGHES MEMORIAL HOSPITAL\", \"630 EATON AVENUE\", \"HAMILTON\", \"OH\"], [\"GOOD SAMARITAN HOSPITAL\", \"375 DIXMYTH AVENUE\", \"CINCINNATI\", \"OH\"], [\"POMERENE HOSPITAL\", \"981 WOOSTER ROAD\", \"MILLERSBURG\", \"OH\"], [\"SOUTHWEST GENERAL HEALTH CENTER\", \"18697 BAGLEY ROAD\", \"MIDDLEBURG HEIGHTS\", \"OH\"], [\"MEMORIAL HOSPITAL\", \"715 SOUTH TAFT AVENUE\", \"FREMONT\", \"OH\"], [\"BETHESDA NORTH\", \"10500 MONTGOMERY ROAD\", \"CINCINNATI\", \"OH\"], [\"SOUTHEASTERN OHIO REGIONAL MEDICAL CENTER\", \"1341 NORTH CLARK STREET\", \"CAMBRIDGE\", \"OH\"], [\"BAY PARK COMMUNITY HOSPITAL\", \"2801 BAY PARK DRIVE\", \"OREGON\", \"OH\"], [\"DUBLIN METHODIST HOSPITAL\", \"7500 HOSPITAL AVENUE\", \"DUBLIN\", \"OH\"], [\"OHIO VALLEY MEDICAL CENTER, LLC\", \"100 WEST MAIN STREET\", \"SPRINGFIELD\", \"OH\"], [\"SOIN MEDICAL CENTER\", \"3535 PENTAGON PARK BLVD\", \"BEAVER CREEK\", \"OH\"], [\"TRIHEALTH EVENDALE HOSPITAL\", \"3155 GLENDALE MILFORD ROAD\", \"CINCINNATI\", \"OH\"], [\"HARDIN MEMORIAL HOSPITAL\", \"921 EAST FRANKLIN STREET\", \"KENTON\", \"OH\"], [\"ADAMS COUNTY REGIONAL MEDICAL CENTER\", \"230 MEDICAL CENTER DRIVE\", \"SEAMAN\", \"OH\"], [\"INTEGRIS MIAMI HOSPITAL\", \"200 SECOND AVENUE SOUTHWEST\", \"MIAMI\", \"OK\"], [\"INTEGRIS BASS BAPTIST HEALTH CENTER\", \"600 SOUTH MONROE\", \"ENID\", \"OK\"], [\"ST MARY'S REGIONAL MEDICAL CENTER\", \"305 SOUTH 5TH STREET\", \"ENID\", \"OK\"], [\"CHOCTAW MEMORIAL HOSPITAL\", \"1405 EAST KIRK ROAD\", \"HUGO\", \"OK\"], [\"INTEGRIS GROVE HOSPITAL\", \"1001 EAST 18TH STREET\", \"GROVE\", \"OK\"], [\"SSM HEALTH ST ANTHONY HOSPITAL - SHAWNEE\", \"1102 W MACARTHUR\", \"SHAWNEE\", \"OK\"], [\"CHOCTAW NATION HEALTH SERVICES AUTHORITY\", \"1 CHOCTAW WAY\", \"TALIHINA\", \"OK\"], [\"CHICKASAW NATION MEDICAL CENTER\", \"1921 STONECIPHER BLVD\", \"ADA\", \"OK\"], [\"INTEGRIS CANADIAN VALLEY HOSPITAL\", \"1201 HEALTH CENTER PARKWAY\", \"YUKON\", \"OK\"], [\"PROVIDENCE NEWBERG MEDICAL CENTER\", \"1001 PROVIDENCE DRIVE\", \"NEWBERG\", \"OR\"], [\"PROVIDENCE WILLAMETTE FALLS MEDICAL CENTER\", \"1500 DIVISION STREET\", \"OREGON CITY\", \"OR\"], [\"PROVIDENCE MILWAUKIE HOSPITAL\", \"10150 SE 32ND AVENUE\", \"MILWAUKIE\", \"OR\"], [\"PROVIDENCE SEASIDE HOSPITAL\", \"725 S WAHANNA ROAD\", \"SEASIDE\", \"OR\"], [\"ADVENTIST HEALTH TILLAMOOK\", \"1000 THIRD STREET\", \"TILLAMOOK\", \"OR\"], [\"READING HOSPITAL\", \"SIXTH AVENUE AND SPRUCE ST\", \"READING\", \"PA\"], [\"J C BLAIR MEMORIAL HOSPITAL\", \"1225 WARM SPRINGS AVE\", \"HUNTINGDON\", \"PA\"], [\"ST JOSEPH MEDICAL CENTER\", \"2500 BERNVILLE ROAD\", \"READING\", \"PA\"], [\"LANCASTER GENERAL HOSPITAL\", \"555 NORTH DUKE STREET\", \"LANCASTER\", \"PA\"], [\"HOSPITAL OF UNIV OF PENNSYLVANIA\", \"34TH & SPRUCE STS\", \"PHILADELPHIA\", \"PA\"], [\"CHAN SOON- SHIONG MEDICAL CENTER AT WINDBER\", \"600 SOMERSET AVENUE\", \"WINDBER\", \"PA\"], [\"MEADVILLE MEDICAL CENTER\", \"751 LIBERTY STREET\", \"MEADVILLE\", \"PA\"], [\"ARIA HEALTH\", \"10800 KNIGHTS ROAD\", \"PHILADELPHIA\", \"PA\"], [\"WAYNE MEMORIAL HOSPITAL\", \"601 PARK STREET\", \"HONESDALE\", \"PA\"], [\"LEHIGH VALLEY HOSPITAL\", \"1200 SOUTH CEDAR CREST BOULEVARD\", \"ALLENTOWN\", \"PA\"], [\"BUTLER MEMORIAL HOSPITAL\", \"ONE HOSPITAL WAY\", \"BUTLER\", \"PA\"], [\"THOMAS JEFFERSON UNIVERSITY HOSPITAL\", \"111 SOUTH 11TH STREET\", \"PHILADELPHIA\", \"PA\"], [\"CHESTER COUNTY HOSPITAL\", \"701 EAST MARSHALL STREET\", \"WEST CHESTER\", \"PA\"], [\"PENN PRESBYTERIAN MEDICAL CENTER\", \"51 NORTH 39TH STREET\", \"PHILADELPHIA\", \"PA\"], [\"PENNSYLVANIA HOSPITAL\", \"800 SPRUCE STREET\", \"PHILADELPHIA\", \"PA\"], [\"ABINGTON MEMORIAL HOSPITAL\", \"1200 OLD YORK ROAD\", \"ABINGTON\", \"PA\"], [\"MOUNT NITTANY MEDICAL CENTER\", \"1800 EAST PARK AVE\", \"STATE COLLEGE\", \"PA\"], [\"SURGICAL INSTITUTE OF READING\", \"2752 CENTURY BOULEVARD\", \"WYOMISSING\", \"PA\"], [\"NEWPORT HOSPITAL\", \"FRIENDSHIP STREET\", \"NEWPORT\", \"RI\"], [\"RHODE ISLAND HOSPITAL\", \"593 EDDY STREET\", \"PROVIDENCE\", \"RI\"], [\"THE MIRIAM HOSPITAL\", \"164 SUMMIT AVENUE\", \"PROVIDENCE\", \"RI\"], [\"MUSC MEDICAL CENTER\", \"169 ASHLEY AVE\", \"CHARLESTON\", \"SC\"], [\"TIDELANDS HEALTH\", \"606 BLACK RIVER RD DRAWER 1718\", \"GEORGETOWN\", \"SC\"], [\"SELF REGIONAL HEALTHCARE\", \"1325 SPRING STREET\", \"GREENWOOD\", \"SC\"], [\"HAMPTON REGIONAL MEDICAL CENTER\", \"595 WEST CAROLINA AVENUE\", \"VARNVILLE\", \"SC\"], [\"AIKEN REGIONAL MEDICAL CENTER\", \"302 UNIVERSITY PARKWAY\", \"AIKEN\", \"SC\"], [\"TIDELANDS WACCAMAW COMMUNITY HOSPITAL\", \"4070 HIGHWAY 17 BYPASS PO DRAWER 3350\", \"MURRELLS INLET\", \"SC\"], [\"DUNES SURGICAL HOSPITAL\", \"600 N SIOUX POINT ROAD\", \"DAKOTA DUNES\", \"SD\"], [\"AVERA HEART HOSPITAL OF SOUTH DAKOTA\", \"4500 W 69TH ST\", \"SIOUX FALLS\", \"SD\"], [\"WAYNE MEDICAL CENTER\", \"103 J V MANGUBAT DR\", \"WAYNESBORO\", \"TN\"], [\"SYCAMORE SHOALS HOSPITAL\", \"1501 WEST ELK AVENUE\", \"ELIZABETHTON\", \"TN\"], [\"VANDERBILT UNIVERSITY MEDICAL CENTER\", \"1211 MEDICAL CENTER DRIVE\", \"NASHVILLE\", \"TN\"], [\"BAPTIST MEMORIAL HOSPITAL\", \"6019 WALNUT GROVE ROAD\", \"MEMPHIS\", \"TN\"], [\"METHODIST HEALTHCARE MEMPHIS HOSPITALS\", \"1265 UNION AVE SUITE 700\", \"MEMPHIS\", \"TN\"], [\"MAURY REGIONAL HOSPITAL\", \"1224 TROTWOOD AVE\", \"COLUMBIA\", \"TN\"], [\"BAPTIST MEMORIAL HOSPITAL TIPTON\", \"1995 HIGHWAY 51 S\", \"COVINGTON\", \"TN\"], [\"MARSHALL MEDICAL CENTER\", \"1080 NORTH ELLINGTON PARKWAY\", \"LEWISBURG\", \"TN\"], [\"PETERSON REGIONAL MEDICAL CENTER\", \"551 HILL COUNTRY DRIVE\", \"KERRVILLE\", \"TX\"], [\"CHRISTUS SOUTHEAST TEXAS- ST ELIZABETH\", \"2830 CALDER AVENUE\", \"BEAUMONT\", \"TX\"], [\"JPS HEALTH NETWORK\", \"1500 S MAIN ST\", \"FORT WORTH\", \"TX\"], [\"COVENANT MEDICAL CENTER\", \"3615 19TH STREET\", \"LUBBOCK\", \"TX\"], [\"CHRISTUS SPOHN HOSPITAL CORPUS CHRISTI\", \"600 ELIZABETH STREET\", \"CORPUS CHRISTI\", \"TX\"], [\"TEXAS HEALTH ARLINGTON MEMORIAL HOSPITAL\", \"800 W RANDOL MILL RD\", \"ARLINGTON\", \"TX\"], [\"CHRISTUS SPOHN HOSPITAL BEEVILLE\", \"1500 E HOUSTON HWY\", \"BEEVILLE\", \"TX\"], [\"NORTH TEXAS MEDICAL CENTER\", \"1900 HOSPITAL BLVD\", \"GAINESVILLE\", \"TX\"], [\"FORT DUNCAN MEDICAL CENTER\", \"3333 N FOSTER MALDONADO BLVD\", \"EAGLE PASS\", \"TX\"], [\"GUADALUPE REGIONAL MEDICAL CENTER\", \"1215 E COURT ST\", \"SEGUIN\", \"TX\"], [\"SOUTH TEXAS HEALTH SYSTEM\", \"1102 W TRENTON ROAD\", \"EDINBURG\", \"TX\"], [\"MIDLAND MEMORIAL HOSPITAL\", \"400 ROSALIND REDFERN GROVER PARKWAY\", \"MIDLAND\", \"TX\"], [\"TEXAS HEALTH HARRIS METHODIST HOSPITAL CLEBURNE\", \"201 WALLS DRIVE\", \"CLEBURNE\", \"TX\"], [\"VAL VERDE REGIONAL MEDICAL CENTER\", \"801 BEDELL AVE\", \"DEL RIO\", \"TX\"], [\"CHRISTUS SPOHN HOSPITAL KLEBERG\", \"1311 EAST GENERAL CAVAZOS BLVD\", \"KINGSVILLE\", \"TX\"], [\"CHRISTUS MOTHER FRANCES HOSPITAL SULPHUR SPRINGS\", \"115 AIRPORT RD\", \"SULPHUR SPRINGS\", \"TX\"], [\"CHRISTUS SANTA ROSA MEDICAL CENTER\", \"2827 BABCOCK ROAD\", \"SAN ANTONIO\", \"TX\"], [\"TEXAS HEALTH PRESBYTERIAN HOSPITAL KAUFMAN\", \"850 ED HALL\", \"KAUFMAN\", \"TX\"], [\"TEXAS HEALTH HARRIS METHODIST HOSPITAL STEPHENVILL\", \"411 N BELKNAP ST\", \"STEPHENVILLE\", \"TX\"], [\"EASTLAND MEMORIAL HOSPITAL\", \"304 S DAUGHERTY\", \"EASTLAND\", \"TX\"], [\"TEXAS HEALTH HARRIS METHODIST HOSPITAL AZLE\", \"108 DENVER TRAIL\", \"AZLE\", \"TX\"], [\"BAYLOR MEDICAL CENTER AT UPTOWN\", \"2727 EAST LEMMON AVENUE BUILDING I\", \"DALLAS\", \"TX\"], [\"COVENANT HOSPITAL PLAINVIEW\", \"2601 DIMMITT RD\", \"PLAINVIEW\", \"TX\"], [\"SHANNON MEDICAL CENTER\", \"120 EAST HARRIS AVENUE\", \"SAN ANGELO\", \"TX\"], [\"WILBARGER GENERAL HOSPITAL\", \"920 HILLCREST DR\", \"VERNON\", \"TX\"], [\"DOCTORS HOSPITAL OF LAREDO\", \"10700 MCPHERSON ROAD\", \"LAREDO\", \"TX\"], [\"UNIVERSITY MEDICAL CENTER\", \"602 INDIANA AVENUE\", \"LUBBOCK\", \"TX\"], [\"TEXAS HEALTH PRESBYTERIAN HOSPITAL DENTON\", \"3000 N I-35\", \"DENTON\", \"TX\"], [\"COVENANT HOSPITAL LEVELLAND\", \"1900 COLLEGE AVE\", \"LEVELLAND\", \"TX\"], [\"TEXAS HEALTH PRESBYTERIAN HOSPITAL PLANO\", \"6200 W PARKER RD\", \"PLANO\", \"TX\"], [\"TOPS SURGICAL SPECIALTY HOSPITAL\", \"17080 RED OAK DRIVE\", \"HOUSTON\", \"TX\"], [\"TEXAS HEALTH HARRIS METHODIST HOSPITAL SOUTHWEST F\", \"6100 HARRIS PKWY\", \"FORT WORTH\", \"TX\"], [\"NORTHWEST HILLS SURGICAL HOSPITAL\", \"6818 AUSTIN CTR BLVD SUITE 100\", \"AUSTIN\", \"TX\"], [\"CHRISTUS SPOHN HOSPITAL ALICE\", \"2500 E MAIN STREET\", \"ALICE\", \"TX\"], [\"PHYSICIANS CENTRE,THE\", \"3131 UNIVERSITY DRIVE EAST\", \"BRYAN\", \"TX\"], [\"TEXAS HEALTH PRESBYTERIAN HOSPITAL ALLEN\", \"1105 CENTRAL EXPRESSWAY NORTH\", \"ALLEN\", \"TX\"], [\"SOUTH TEXAS SPINE AND SURGICAL HOSPITAL\", \"18600 NORTH HARDY OAK BLVD\", \"SAN ANTONIO\", \"TX\"], [\"SUGAR LAND SURGICAL HOSPITAL LLP\", \"16906 SOUTHWEST FREEWAY\", \"SUGAR LAND\", \"TX\"], [\"ARISE AUSTIN MEDICAL CENTER\", \"3003 BEE CAVES ROAD\", \"AUSTIN\", \"TX\"], [\"BAYLOR SURGICAL HOSPITAL AT LAS COLINAS\", \"400 WEST INTERSTATE 635 SUITE 101\", \"IRVING\", \"TX\"], [\"TEXAS HEALTH HARRIS METHODIST HOSPITAL SOUTHLAKE\", \"1545 E SOUTHLAKE BLVD\", \"SOUTHLAKE\", \"TX\"], [\"TEXAS INSTITUTE FOR SURGERY AT PRESBYTERIAN HOSPIT\", \"7115 GREENVILLE AVENUE SUITE 100\", \"DALLAS\", \"TX\"], [\"UTAH VALLEY HOSPITAL\", \"1034 NORTH 500 WEST\", \"PROVO\", \"UT\"], [\"MCKAY DEE HOSPITAL\", \"4401 HARRISON BOULEVARD\", \"OGDEN\", \"UT\"], [\"DIXIE REGIONAL MEDICAL CENTER\", \"1380 EAST MEDICAL CENTER DRIVE\", \"ST GEORGE\", \"UT\"], [\"AMERICAN FORK HOSPITAL\", \"170 NORTH 1100 EAST\", \"AMERICAN FORK\", \"UT\"], [\"SANPETE VALLEY HOSPITAL - CAH\", \"1100 SOUTH MEDICAL DRIVE\", \"MOUNT PLEASANT\", \"UT\"], [\"CENTRAL VERMONT MEDICAL CENTER\", \"BOX 547\", \"BARRE\", \"VT\"], [\"NOVANT HEALTH UVA HEALTH SYSTEM CULPEPER MED CENTE\", \"501 SUNSET LANE\", \"CULPEPER\", \"VA\"], [\"RIVERSIDE SHORE MEMORIAL HOSPITAL\", \"20480 MARKET STREET\", \"ONANCOCK\", \"VA\"], [\"SMYTH COUNTY COMMUNITY HOSPITAL\", \"245 MEDICAL PARK DRIVE\", \"MARION\", \"VA\"], [\"RIVERSIDE REGIONAL MEDICAL CENTER\", \"500 J CLYDE MORRIS BLVD\", \"NEWPORT NEWS\", \"VA\"], [\"JOHNSTON MEMORIAL HOSPITAL\", \"16000 JOHNSTON MEMORIAL DRIVE\", \"ABINGDON\", \"VA\"], [\"RIVERSIDE TAPPAHANNOCK HOSPITAL\", \"618 HOSPITAL ROAD\", \"TAPPAHANNOCK\", \"VA\"], [\"RIVERSIDE WALTER REED HOSPITAL\", \"7519 HOSPITAL ROAD\", \"GLOUCESTER\", \"VA\"], [\"STAFFORD HOSPITAL, LLC\", \"101 HOSPITAL CENTER BOULEVARD\", \"STAFFORD\", \"VA\"], [\"PROVIDENCE REGIONAL MEDICAL CENTER EVERETT\", \"1321 COLBY AVENUE\", \"EVERETT\", \"WA\"], [\"PROVIDENCE ST PETER HOSPITAL\", \"413 LILLY ROAD NE\", \"OLYMPIA\", \"WA\"], [\"SWEDISH MEDICAL CENTER / CHERRY HILL\", \"500 17TH AVENUE\", \"SEATTLE\", \"WA\"], [\"SWEDISH EDMONDS HOSPITAL\", \"21601 76TH AVENUE WEST\", \"EDMONDS\", \"WA\"], [\"SWEDISH MEDICAL CENTER\", \"747 BROADWAY\", \"SEATTLE\", \"WA\"], [\"SAMARITAN HOSPITAL\", \"801 EAST WHEELER ROAD\", \"MOSES LAKE\", \"WA\"], [\"YAKIMA VALLEY MEMORIAL HOSPITAL\", \"2811 TIETON DRIVE\", \"YAKIMA\", \"WA\"], [\"CASCADE VALLEY HOSPITAL\", \"330 S STILLAGUAMISH AVE\", \"ARLINGTON\", \"WA\"], [\"HARBORVIEW MEDICAL CENTER\", \"325 9TH AVENUE\", \"SEATTLE\", \"WA\"], [\"VALLEY MEDICAL CENTER\", \"400 S 43RD ST\", \"RENTON\", \"WA\"], [\"SWEDISH ISSAQUAH\", \"751 NE BLAKELY DR\", \"ISSAQUAH\", \"WA\"], [\"COULEE MEDICAL CENTER\", \"411 FORTUYN ROAD\", \"GRAND COULEE\", \"WA\"], [\"PROVIDENCE ST JOSEPH HOSPITAL\", \"500 EAST WEBSTER\", \"CHEWELAH\", \"WA\"], [\"PROVIDENCE MOUNT CARMEL HOSPITAL\", \"982 EAST COLUMBIA\", \"COLVILLE\", \"WA\"], [\"WEST VIRGINIA UNIVERSITY HOSPITALS\", \"MEDICAL CENTER DRIVE\", \"MORGANTOWN\", \"WV\"], [\"UNITED HOSPITAL CENTER\", \"327 MEDICAL PARK DRIVE\", \"BRIDGEPORT\", \"WV\"], [\"BERKELEY MEDICAL CENTER\", \"2500 HOSPITAL DRIVE\", \"MARTINSBURG\", \"WV\"], [\"STONEWALL JACKSON MEMORIAL HOSPITAL\", \"230 HOSPITAL PLAZA\", \"WESTON\", \"WV\"], [\"PRINCETON COMMUNITY HOSPITAL\", \"122 12TH STREET\", \"PRINCETON\", \"WV\"], [\"FAIRMONT REGIONAL MEDICAL CENTER\", \"1325 LOCUST AVENUE\", \"FAIRMONT\", \"WV\"], [\"CABELL HUNTINGTON HOSPITAL INC\", \"1340 HAL GREER BOULEVARD\", \"HUNTINGTON\", \"WV\"], [\"BECKLEY ARH HOSPITAL\", \"306 STANAFORD ROAD\", \"BECKLEY\", \"WV\"], [\"SUMMERSVILLE REGIONAL MEDICAL CENTER\", \"400 FAIRVIEW HEIGHTS ROAD\", \"SUMMERSVILLE\", \"WV\"], [\"JEFFERSON MEDICAL CENTER\", \"300 SOUTH PRESTON STREET\", \"RANSON\", \"WV\"], [\"SACRED HEART HOSPITAL\", \"900 W CLAIREMONT AVE\", \"EAU CLAIRE\", \"WI\"], [\"ASPIRUS WAUSAU HOSPITAL\", \"333 PINE RIDGE BLVD\", \"WAUSAU\", \"WI\"], [\"ASPIRUS RIVERVIEW HOSPITAL & CLINICS INC\", \"410 DEWEY ST\", \"WISCONSIN RAPIDS\", \"WI\"], [\"MERCY HEALTH SYSTEM CORP\", \"1000 MINERAL POINT AVE\", \"JANESVILLE\", \"WI\"], [\"MILE BLUFF MEDICAL CENTER\", \"1050 DIVISION ST\", \"MAUSTON\", \"WI\"], [\"AURORA ST LUKES MEDICAL CENTER\", \"2900 W OKLAHOMA AVE\", \"MILWAUKEE\", \"WI\"], [\"OAKLEAF SURGICAL HOSPITAL\", \"1000 OAKLEAF WAY\", \"ALTOONA\", \"WI\"], [\"SSM HEALTH ST MARY'S HOSPITAL - JANESVILLE\", \"3400 EAST RACINE STREET\", \"JANESVILLE\", \"WI\"], [\"AMERY HOSPITAL & CLINIC\", \"265 GRIFFIN STREET EAST\", \"AMERY\", \"WI\"], [\"HSHS ST CLARE MEMORIAL HOSPITAL\", \"855 S MAIN ST\", \"OCONTO FALLS\", \"WI\"], [\"EDGERTON HOSPITAL AND HEALTH SERVICES\", \"11101 N SHERMAN ROAD\", \"EDGERTON\", \"WI\"], [\"ASPIRUS MEDFORD HOSPITAL & CLINICS, INC\", \"135 S GIBSON ST\", \"MEDFORD\", \"WI\"], [\"FLAMBEAU HOSPITAL\", \"98 SHERRY AVE\", \"PARK FALLS\", \"WI\"], [\"SPOONER HEALTH SYSTEM\", \"1280 CHANDLER DR\", \"SPOONER\", \"WI\"], [\"WESTFIELDS HOSPITAL AND CLINIC\", \"535 HOSPITAL RD\", \"NEW RICHMOND\", \"WI\"], [\"CUMBERLAND MEMORIAL HOSPITAL\", \"1110 7TH AVENUE\", \"CUMBERLAND\", \"WI\"], [\"BELLIN HEALTH OCONTO HOSPITAL\", \"820 ARBUTUS AVE\", \"OCONTO\", \"WI\"], [\"IVINSON MEMORIAL HOSPITAL\", \"255 N 30TH\", \"LARAMIE\", \"WY\"], [\"MEMORIAL HERMANN SURGICAL HOSPITAL KINGWOOD\", \"300 KINGWOOD MEDICAL DRIVE\", \"KINGWOOD\", \"TX\"], [\"THE HOSPITAL AT WESTLAKE MEDICAL CENTER\", \"5656 BEE CAVES ROAD, SUITE M-302\", \"AUSTIN\", \"TX\"], [\"NORTH CENTRAL SURGICAL CENTER LLP\", \"9301 NORTH CENTRAL EXPRESSWAY SUITE 100\", \"DALLAS\", \"TX\"], [\"BAYLOR ORTHOPEDIC AND SPINE HOSPITAL AT ARLINGTON\", \"707 HIGHLANDER BLVD\", \"ARLINGTON\", \"TX\"], [\"TEXAS HEALTH PRESBYTERIAN HOSPITAL FLOWER MOUND\", \"4400 LONG PRAIRIE ROAD\", \"FLOWER MOUND\", \"TX\"], [\"METHODIST HOSPITAL FOR SURGERY\", \"17101 DALLAS PARKWAY\", \"ADDISON\", \"TX\"], [\"TEXAS HEALTH HARRIS METHODIST HOSPITAL ALLIANCE\", \"10864 TEXAS HEALTH TRAIL\", \"FORT WORTH\", \"TX\"]], \"hoverlabel\": {\"namelength\": 0}, \"hovertemplate\": \"is-MUA?=Yes<br>rate_of_readmission=%{x}<br>patients_rating_of_the_facility_linear_mean_score=%{y}<br>facility_name=%{customdata[0]}<br>address=%{customdata[1]}<br>city=%{customdata[2]}<br>state=%{customdata[3]}\", \"legendgroup\": \"is-MUA?=Yes\", \"marker\": {\"color\": \"#636efa\", \"symbol\": \"circle\"}, \"mode\": \"markers\", \"name\": \"is-MUA?=Yes\", \"showlegend\": true, \"type\": \"scatter\", \"x\": [14.7, 15.0, 16.2, 15.3, 15.2, 14.7, 14.7, 15.8, 15.1, 15.0, 15.8, 15.3, 15.3, 15.7, 16.4, 15.3, 16.3, 14.2, 15.4, 13.9, 14.4, 14.7, 15.1, 16.9, 16.4, 17.6, 15.7, 16.8, 16.4, 15.8, 15.1, 15.8, 14.4, 15.7, 14.9, 15.1, 15.2, 14.9, 15.7, 15.1, 16.1, 14.8, 15.7, 16.3, 13.6, 14.6, 14.9, 16.0, 16.1, 14.5, 15.3, 16.4, 14.1, 16.0, 15.4, 14.4, 15.2, 15.4, 17.4, 15.5, 14.1, 15.4, 14.1, 14.7, 15.2, 14.6, 15.4, 15.6, 15.9, 14.7, 15.2, 15.5, 15.2, 15.2, 14.5, 16.6, 15.6, 15.0, 14.7, 14.8, 14.8, 15.8, 15.2, 15.0, 14.3, 15.1, 14.8, 14.6, 15.3, 15.2, 14.8, 15.6, 16.2, 14.4, 15.9, 16.1, 16.5, 16.0, 14.5, 14.6, 17.0, 15.5, 15.5, 15.9, 15.3, 15.5, 14.6, 14.9, 14.8, 15.1, 15.4, 16.3, 15.5, 15.2, 15.9, 14.9, 15.4, 15.3, 15.0, 14.8, 13.3, 14.6, 14.9, 15.5, 15.0, 14.7, 14.6, 15.0, 14.9, 15.9, 15.7, 14.8, 16.1, 15.0, 15.3, 15.0, 15.6, 14.7, 14.5, 15.4, 15.2, 16.6, 14.0, 14.7, 14.4, 15.1, 16.3, 15.3, 15.0, 14.9, 15.0, 14.0, 14.7, 15.9, 14.7, 15.5, 15.2, 15.8, 14.9, 14.9, 15.0, 15.9, 14.5, 14.7, 14.8, 14.9, 18.6, 15.6, 16.2, 15.9, 14.8, 15.3, 15.4, 15.4, 14.6, 14.0, 16.2, 15.0, 14.9, 15.6, 14.9, 15.9, 15.1, 15.0, 16.1, 15.3, 15.6, 15.5, 14.8, 14.9, 16.6, 16.7, 15.3, 15.3, 14.6, 16.0, 13.9, 14.8, 15.1, 15.4, 14.7, 15.3, 14.8, 15.3, 14.5, 14.6, 15.5, 15.4, 14.4, 13.9, 14.5, 17.7, 14.7, 16.2, 15.4, 11.2, 16.6, 16.8, 14.4, 14.7, 14.9, 15.0, 15.2, 16.5, 14.6, 15.0, 15.0, 15.7, 14.9, 15.4, 14.7, 15.7, 14.8, 13.9, 16.0, 14.9, 14.7, 15.3, 15.1, 15.8, 15.4, 15.4, 14.8, 15.7, 14.6, 15.4, 14.8, 15.6, 16.5, 15.7, 17.0, 15.4, 15.4, 15.1, 16.2, 15.5, 15.4, 14.8, 15.1, 15.9, 15.3, 15.9, 14.7, 14.8, 15.4, 13.6, 15.2, 14.2, 15.1, 14.9, 15.1, 14.8, 14.7, 14.1, 15.5, 14.8, 17.0, 16.3, 16.8, 17.0, 16.6, 15.8, 15.5, 16.0, 17.3, 12.9, 14.6, 14.4, 14.3, 15.2, 15.0, 14.5, 13.9, 15.1, 15.4, 16.8, 15.8, 15.4, 16.7, 15.5, 16.7, 14.4, 16.0, 16.2, 10.2, 15.5, 16.6, 15.5, 16.0, 13.0, 15.1, 15.7, 14.8, 15.8, 15.1, 16.2, 15.2, 14.6, 14.8, 14.2, 13.8, 15.4, 15.0, 14.5, 15.3, 15.2, 15.5, 15.1, 15.6, 13.7, 14.9, 16.5, 14.0, 14.6, 14.6, 14.1, 14.5, 15.5, 15.5, 14.6, 16.4, 14.6, 16.3, 15.1, 15.5, 16.2, 15.9, 15.4, 15.0, 15.7, 15.5, 16.2, 13.9, 15.0, 15.0, 14.8, 15.2, 14.3, 14.9, 14.2, 14.8, 14.7, 14.8, 15.8, 15.4, 13.6, 15.5, 15.5, 15.2, 14.9, 16.0, 15.6, 14.1, 14.5, 15.1, 15.7, 15.4, 14.8, 15.1, 15.5, 15.0, 14.4, 14.5, 15.2, 14.7, 14.0, 15.1, 14.2, 13.5, 16.3, 15.3, 15.1, 15.8, 14.6, 15.1, 14.1, 16.4, 14.8, 15.2, 16.6, 16.2, 14.6, 15.1, 14.3, 16.2, 15.5, 15.6, 14.6, 15.1, 15.1, 15.0, 15.2, 14.6, 13.4, 15.1, 16.7, 15.1, 16.2, 16.3, 15.2, 15.1, 15.0, 14.4, 15.3, 15.4, 14.4, 15.1, 16.1, 15.6, 16.1, 15.0, 15.7, 15.5, 14.9, 15.5, 15.6, 16.3, 15.2, 15.2, 15.3, 15.5, 14.6, 14.7, 16.2, 14.8, 14.1, 15.1, 14.9, 14.6, 16.1, 15.0, 16.1, 15.2, 13.5, 14.6, 14.5, 14.6, 15.4, 15.2, 15.3, 14.2, 15.1, 15.0, 14.5, 14.0, 13.3, 14.0, 14.4, 15.2, 15.4, 14.6, 15.4, 15.0, 15.5, 15.9, 14.6, 16.0, 15.0, 16.0, 14.4, 14.4, 13.9, 14.2, 13.9, 13.8, 15.3, 15.7, 14.1, 14.5, 15.1, 14.6, 14.1, 16.5, 14.8, 14.5, 16.7, 16.9, 15.4, 15.7, 15.6, 15.8, 15.0, 14.2, 15.8, 15.0, 15.7, 15.0, 15.0, 14.1, 15.0, 15.1, 15.3, 15.3, 15.0, 15.5, 14.7, 14.9, 16.0, 15.5, 15.3, 15.7, 15.3, 14.5, 14.3, 16.2, 14.6, 15.3], \"xaxis\": \"x\", \"y\": [94, 95, 93, 96, 96, 91, 90, 93, 89, 94, 93, 94, 92, 93, 92, 86, 91, 96, 90, 94, 92, 94, 94, 93, 93, 91, 91, 96, 96, 94, 96, 94, 92, 93, 94, 95, 94, 95, 94, 93, 92, 90, 94, 90, 93, 91, 90, 94, 91, 92, 91, 92, 93, 89, 92, 94, 92, 94, 84, 92, 93, 94, 95, 94, 94, 95, 94, 89, 95, 93, 95, 89, 94, 92, 95, 93, 94, 94, 94, 95, 95, 92, 95, 94, 89, 92, 94, 95, 95, 96, 93, 95, 95, 95, 93, 95, 94, 95, 95, 92, 95, 94, 94, 93, 91, 89, 93, 95, 91, 92, 92, 94, 94, 94, 98, 95, 90, 95, 95, 93, 94, 95, 97, 94, 91, 94, 94, 96, 93, 94, 93, 95, 95, 93, 94, 95, 92, 93, 95, 95, 96, 90, 93, 94, 96, 94, 95, 94, 93, 93, 94, 93, 94, 94, 93, 92, 94, 93, 95, 95, 95, 93, 94, 93, 94, 94, 90, 93, 91, 95, 94, 96, 95, 93, 95, 96, 94, 96, 95, 94, 93, 92, 94, 96, 92, 93, 94, 95, 93, 94, 93, 91, 91, 97, 96, 96, 96, 95, 93, 90, 92, 92, 93, 92, 91, 92, 91, 95, 91, 93, 95, 92, 91, 94, 95, 96, 95, 95, 96, 93, 93, 93, 94, 91, 96, 93, 93, 94, 91, 94, 93, 93, 93, 93, 93, 93, 95, 96, 93, 95, 94, 93, 94, 97, 95, 94, 95, 94, 94, 94, 93, 89, 94, 75, 93, 94, 92, 90, 92, 94, 94, 94, 95, 93, 94, 91, 91, 94, 93, 97, 92, 93, 92, 93, 91, 95, 90, 89, 92, 92, 91, 94, 91, 94, 93, 92, 93, 93, 97, 94, 93, 96, 93, 92, 91, 93, 91, 92, 92, 93, 90, 91, 93, 92, 97, 93, 94, 96, 95, 95, 96, 94, 95, 96, 93, 93, 95, 94, 95, 94, 95, 94, 94, 94, 95, 95, 95, 94, 96, 95, 95, 93, 96, 95, 95, 94, 96, 96, 95, 91, 89, 94, 95, 92, 93, 93, 94, 93, 93, 93, 95, 91, 95, 95, 94, 94, 90, 94, 93, 91, 95, 92, 95, 92, 93, 95, 97, 95, 95, 93, 94, 94, 94, 92, 88, 95, 95, 95, 97, 95, 95, 92, 93, 93, 94, 95, 94, 93, 95, 95, 93, 94, 92, 92, 94, 93, 94, 93, 95, 93, 94, 94, 94, 93, 93, 95, 95, 94, 92, 92, 91, 94, 95, 95, 93, 94, 94, 95, 94, 95, 96, 93, 96, 95, 94, 94, 94, 95, 88, 93, 92, 95, 93, 91, 95, 93, 96, 95, 94, 93, 95, 91, 94, 95, 94, 94, 92, 94, 96, 95, 96, 94, 95, 96, 95, 94, 95, 94, 97, 96, 97, 94, 96, 96, 92, 93, 94, 93, 94, 92, 92, 93, 94, 95, 93, 93, 93, 95, 93, 93, 92, 92, 93, 90, 92, 93, 93, 93, 96, 93, 95, 94, 94, 93, 93, 93, 92, 92, 94, 90, 90, 93, 92, 93, 94, 92, 93, 93, 97, 95, 93, 94, 94, 94, 94, 94, 96, 93, 95, 94, 96, 93, 96, 97, 96, 96, 95], \"yaxis\": \"y\"}, {\"customdata\": [[\"UNIVERSITY OF ALABAMA HOSPITAL\", \"619 SOUTH 19TH STREET\", \"BIRMINGHAM\", \"AL\"], [\"WIREGRASS MEDICAL CENTER\", \"1200 W MAPLE AVENUE\", \"GENEVA\", \"AL\"], [\"TROY REGIONAL MEDICAL CENTER\", \"1330 HIGHWAY 231 SOUTH\", \"TROY\", \"AL\"], [\"PROVIDENCE KODIAK ISLAND MEDICAL CTR\", \"1915 EAST REZANOF DRIVE\", \"KODIAK\", \"AK\"], [\"VERDE VALLEY MEDICAL CENTER\", \"269 SOUTH CANDY LANE\", \"COTTONWOOD\", \"AZ\"], [\"YAVAPAI REGIONAL MEDICAL CENTER\", \"1003 WILLOW CREEK ROAD\", \"PRESCOTT\", \"AZ\"], [\"FLAGSTAFF MEDICAL CENTER\", \"1200 NORTH BEAVER STREET\", \"FLAGSTAFF\", \"AZ\"], [\"ARIZONA SPINE AND JOINT HOSPITAL\", \"4620 EAST BASELINE ROAD\", \"MESA\", \"AZ\"], [\"O.A.S.I.S. HOSPITAL\", \"750 NORTH 40TH STREET\", \"PHOENIX\", \"AZ\"], [\"QUEEN OF THE VALLEY MEDICAL CENTER\", \"1000 TRANCAS ST\", \"NAPA\", \"CA\"], [\"ADVENTIST HEALTH ST HELENA\", \"10 WOODLAND ROAD\", \"SAINT HELENA\", \"CA\"], [\"HOLLYWOOD PRESBYTERIAN MEDICAL CENTER\", \"1300 N VERMONT AVE\", \"LOS ANGELES\", \"CA\"], [\"ST JOSEPH HOSPITAL\", \"1100 WEST STEWART DR\", \"ORANGE\", \"CA\"], [\"PROVIDENCE LITTLE CO OF MARY MED CTR SAN PEDRO\", \"1300 W 7TH ST\", \"SAN PEDRO\", \"CA\"], [\"SAINT FRANCIS MEDICAL CENTER\", \"3630 EAST IMPERIAL HIGHWAY\", \"LYNWOOD\", \"CA\"], [\"SANTA MONICA - UCLA MED CTR & ORTHOPAEDIC HOSPITAL\", \"1250 16TH STREET\", \"SANTA MONICA\", \"CA\"], [\"VALLEY PRESBYTERIAN HOSPITAL\", \"15107 VANOWEN ST\", \"VAN NUYS\", \"CA\"], [\"SAN GABRIEL VALLEY MEDICAL CENTER\", \"438 W LAS TUNAS DRIVE\", \"SAN GABRIEL\", \"CA\"], [\"KAISER FOUNDATION HOSPITAL - PANORAMA CITY\", \"13652 CANTARA ST\", \"PANORAMA CITY\", \"CA\"], [\"KAISER FOUNDATION HOSPITAL - LOS ANGELES\", \"4867 SUNSET BLVD\", \"LOS ANGELES\", \"CA\"], [\"KAISER FOUNDATION HOSPITAL - DOWNEY\", \"9333 IMPERIAL HIGHWAY\", \"DOWNEY\", \"CA\"], [\"ST JUDE MEDICAL CENTER\", \"101 E VALENCIA MESA DRIVE\", \"FULLERTON\", \"CA\"], [\"PALMDALE REGIONAL MEDICAL CENTER\", \"38600 MEDICAL CENTER DRIVE\", \"PALMDALE\", \"CA\"], [\"HOAG MEMORIAL HOSPITAL PRESBYTERIAN\", \"ONE HOAG DRIVE\", \"NEWPORT BEACH\", \"CA\"], [\"AHMC ANAHEIM REGIONAL MEDICAL CENTER\", \"1111 W LA PALMA AVENUE\", \"ANAHEIM\", \"CA\"], [\"METHODIST HOSPITAL OF SOUTHERN CA\", \"300 W HUNTINGTON DR\", \"ARCADIA\", \"CA\"], [\"SIERRA VIEW MEDICAL CENTER\", \"465 W PUTNAM AVE\", \"PORTERVILLE\", \"CA\"], [\"RONALD REAGAN U C L A MEDICAL CENTER\", \"757 WESTWOOD PLAZA\", \"LOS ANGELES\", \"CA\"], [\"PROVIDENCE HOLY CROSS MEDICAL CENTER\", \"15031 RINALDI ST\", \"MISSION HILLS\", \"CA\"], [\"ALHAMBRA HOSPITAL MEDICAL CENTER\", \"100 S RAYMOND AVE\", \"ALHAMBRA\", \"CA\"], [\"PROVIDENCE SAINT JOHN'S HEALTH CENTER\", \"2121 SANTA MONICA BLVD\", \"SANTA MONICA\", \"CA\"], [\"TORRANCE MEMORIAL MEDICAL CENTER\", \"3330 LOMITA BLVD\", \"TORRANCE\", \"CA\"], [\"PROVIDENCE LITTLE COMPANY OF MARY MED CTR TORRANCE\", \"4101 TORRANCE BLVD\", \"TORRANCE\", \"CA\"], [\"GOLETA VALLEY COTTAGE HOSPITAL\", \"351 S PATTERSON AVE\", \"SANTA BARBARA\", \"CA\"], [\"SANTA BARBARA COTTAGE HOSPITAL\", \"400 WEST PUEBLO\", \"SANTA BARBARA\", \"CA\"], [\"KAISER FOUNDATION HOSPITAL - SOUTH BAY\", \"25825 SOUTH VERMONT AVENUE\", \"HARBOR CITY\", \"CA\"], [\"LONG BEACH MEMORIAL MEDICAL CENTER\", \"2801 ATLANTIC AVE\", \"LONG BEACH\", \"CA\"], [\"SAINT VINCENT MEDICAL CENTER\", \"2131 W 3RD ST\", \"LOS ANGELES\", \"CA\"], [\"PIEDMONT HOSPITAL\", \"1968 PEACHTREE RD NW\", \"ATLANTA\", \"GA\"], [\"KAISER FOUNDATION HOSPITAL - WEST LA\", \"6041 CADILLAC AVE\", \"LOS ANGELES\", \"CA\"], [\"MISSION HOSPITAL REGIONAL MED CENTER\", \"27700 MEDICAL CENTER RD\", \"MISSION VIEJO\", \"CA\"], [\"MEMORIALCARE SADDLEBACK MEDICAL CENTER\", \"24451 HEALTH CENTER DRIVE\", \"LAGUNA HILLS\", \"CA\"], [\"KAISER FOUNDATION HOSPITAL - ORANGE COUNTY - ANAHE\", \"3440 E LA PALMA AVE\", \"ANAHEIM\", \"CA\"], [\"CEDARS-SINAI MEDICAL CENTER\", \"8700 BEVERLY BLVD\", \"LOS ANGELES\", \"CA\"], [\"KAISER FOUNDATION HOSPITAL - WOODLAND HILLS\", \"5601 DE SOTO AVENUE\", \"WOODLAND HILLS\", \"CA\"], [\"KECK HOSPITAL OF USC\", \"1500 SAN PABLO STREET\", \"LOS ANGELES\", \"CA\"], [\"KAISER FOUNDATION HOSPITAL - BALDWIN PARK\", \"1011 BALDWIN PARK BLVD\", \"BALDWIN PARK\", \"CA\"], [\"WHITTIER HOSPITAL MEDICAL CENTER\", \"9080 COLIMA RD\", \"WHITTIER\", \"CA\"], [\"MONTEREY PARK HOSPITAL\", \"900 S ATLANTIC BLVD\", \"MONTEREY PARK\", \"CA\"], [\"GARFIELD MEDICAL CENTER\", \"525 N GARFIELD AVE\", \"MONTEREY PARK\", \"CA\"], [\"GREATER EL MONTE COMMUNITY HOSPITAL\", \"1701 SANTA ANITA AVE\", \"SOUTH EL MONTE\", \"CA\"], [\"OLYMPIA MEDICAL CENTER\", \"5900 WEST OLYMPIC BOULEVARD\", \"LOS ANGELES\", \"CA\"], [\"MIRACLE MILE MEDICAL CENTER\", \"6000 SAN VICENTE BLVD\", \"LOS ANGELES\", \"CA\"], [\"PROVIDENCE TARZANA MEDICAL CENTER\", \"18321 CLARK STREET\", \"TARZANA\", \"CA\"], [\"HOAG ORTHOPEDIC INSTITUTE\", \"16250 SAND CANYON AVENUE\", \"IRVINE\", \"CA\"], [\"KAISER FOUNDATION HOSPITAL - ROSEVILLE\", \"1600 EUREKA ROAD\", \"ROSEVILLE\", \"CA\"], [\"SANTA YNEZ VALLEY COTTAGE HOSPITAL\", \"2050 VIBORG RD\", \"SOLVANG\", \"CA\"], [\"MONTROSE MEMORIAL HOSPITAL\", \"800 SOUTH 3RD STREET\", \"MONTROSE\", \"CO\"], [\"LUTHERAN MEDICAL CENTER\", \"8300 W 38TH AVE\", \"WHEAT RIDGE\", \"CO\"], [\"MERCY REGIONAL MEDICAL CENTER\", \"1010 THREE SPRINGS BLVD\", \"DURANGO\", \"CO\"], [\"CENTURA HEALTH-ST ANTHONY HOSPITAL\", \"11600 WEST 2ND PLACE\", \"LAKEWOOD\", \"CO\"], [\"CENTURA HEALTH-PENROSE ST FRANCIS HEALTH SERVICES\", \"2222 NORTH NEVADA AVENUE\", \"COLORADO SPRINGS\", \"CO\"], [\"CENTURA HEALTH-AVISTA ADVENTIST HOSPITAL\", \"100 HEALTH PARK DRIVE\", \"LOUISVILLE\", \"CO\"], [\"PARKER ADVENTIST HOSPITAL\", \"9395 CROWN CREST BLVD\", \"PARKER\", \"CO\"], [\"ORTHOCOLORADO HOSPITAL AT ST ANTHONY MED CAMPUS\", \"11650 WEST 2ND PLACE\", \"LAKEWOOD\", \"CO\"], [\"CASTLE ROCK ADVENTIST HOSPITAL\", \"2350 MEADOWS BOULEVARD\", \"CASTLE ROCK\", \"CO\"], [\"HEART OF THE ROCKIES REGIONAL MEDICAL CENTER\", \"1000 RUSH DRIVE\", \"SALIDA\", \"CO\"], [\"DAY KIMBALL HOSPITAL\", \"320 POMFRET STREET\", \"PUTNAM\", \"CT\"], [\"CHARLOTTE HUNGERFORD HOSPITAL\", \"540 LITCHFIELD ST\", \"TORRINGTON\", \"CT\"], [\"BAYHEALTH HOSPITAL, KENT CAMPUS\", \"640 S STATE STREET\", \"DOVER\", \"DE\"], [\"GEORGE WASHINGTON UNIV HOSPITAL\", \"900 23RD ST NW\", \"WASHINGTON\", \"DC\"], [\"HOLMES REGIONAL MEDICAL CENTER\", \"1350 S HICKORY ST\", \"MELBOURNE\", \"FL\"], [\"PARRISH MEDICAL CENTER\", \"951 N WASHINGTON AVE\", \"TITUSVILLE\", \"FL\"], [\"HEALTH CENTRAL\", \"10000 W COLONIAL DR\", \"OCOEE\", \"FL\"], [\"MOUNT SINAI MEDICAL CENTER\", \"4300 ALTON RD\", \"MIAMI BEACH\", \"FL\"], [\"BROWARD HEALTH MEDICAL CENTER\", \"1600 S ANDREWS AVE\", \"FORT LAUDERDALE\", \"FL\"], [\"BROWARD HEALTH NORTH\", \"201 E SAMPLE RD\", \"POMPANO BEACH\", \"FL\"], [\"BAPTIST MEDICAL CENTER JACKSONVILLE\", \"800 PRUDENTIAL DR\", \"JACKSONVILLE\", \"FL\"], [\"FLAGLER HOSPITAL\", \"400 HEALTH PARK BLVD\", \"SAINT AUGUSTINE\", \"FL\"], [\"TAMPA GENERAL HOSPITAL\", \"1 TAMPA GENERAL CIR\", \"TAMPA\", \"FL\"], [\"LAKESIDE MEDICAL CENTER\", \"39200 HOOKER HWY\", \"BELLE GLADE\", \"FL\"], [\"BOCA RATON REGIONAL HOSPITAL\", \"800 MEADOWS RD\", \"BOCA RATON\", \"FL\"], [\"DESOTO MEMORIAL HOSPITAL\", \"900 N ROBERT AVE\", \"ARCADIA\", \"FL\"], [\"CAPE CANAVERAL HOSPITAL\", \"701 W COCOA BEACH CAUSEWAY\", \"COCOA BEACH\", \"FL\"], [\"LARKIN COMMUNITY HOSPITAL\", \"7031 SW 62ND AVE\", \"SOUTH MIAMI\", \"FL\"], [\"BROWARD HEALTH IMPERIAL POINT\", \"6401 N FEDERAL HWY\", \"FORT LAUDERDALE\", \"FL\"], [\"WELLINGTON REGIONAL MEDICAL CENTER LLC\", \"10101 FOREST HILL BLVD\", \"WELLINGTON\", \"FL\"], [\"BROWARD HEALTH CORAL SPRINGS\", \"3000 CORAL HILLS DR\", \"CORAL SPRINGS\", \"FL\"], [\"VIERA HOSPITAL\", \"8745 N WICKHAM RD\", \"MELBOURNE\", \"FL\"], [\"PALM BAY HOSPITAL\", \"1425 MALABAR RD, NE\", \"PALM BAY\", \"FL\"], [\"EMORY UNIVERSITY HOSPITAL\", \"1364 CLIFTON ROAD, NE\", \"ATLANTA\", \"GA\"], [\"CANDLER HOSPITAL\", \"5353 REYNOLDS STREET\", \"SAVANNAH\", \"GA\"], [\"WELLSTAR KENNESTONE HOSPITAL\", \"677 CHURCH STREET\", \"MARIETTA\", \"GA\"], [\"WELLSTAR PAULDING HOSPITAL\", \"2518 JIMMY LEE SMITH PARKWAY\", \"HIRAM\", \"GA\"], [\"ST JOSEPH'S HOSPITAL - SAVANNAH\", \"11705 MERCY BOULEVARD\", \"SAVANNAH\", \"GA\"], [\"SAINT JOSEPH'S HOSPITAL OF ATLANTA, INC\", \"5665 PEACHTREE DUNWOODY ROAD\", \"ATLANTA\", \"GA\"], [\"PIEDMONT ROCKDALE HOSPITAL\", \"1412 MILSTEAD AVENUE, NE\", \"CONYERS\", \"GA\"], [\"TIFT REGIONAL MEDICAL CENTER\", \"901 E 18TH STREET\", \"TIFTON\", \"GA\"], [\"WELLSTAR ATLANTA MEDICAL CENTER\", \"303 PARKWAY DRIVE, NE\", \"ATLANTA\", \"GA\"], [\"WELLSTAR COBB HOSPITAL\", \"3950 AUSTELL RD\", \"AUSTELL\", \"GA\"], [\"WELLSTAR DOUGLAS HOSPITAL\", \"8954 HOSPITAL DRIVE\", \"DOUGLASVILLE\", \"GA\"], [\"DONALSONVILLE HOSPITAL INC\", \"102 HOSPITAL CIR\", \"DONALSONVILLE\", \"GA\"], [\"WELLSTAR NORTH FULTON HOSPITAL\", \"3000 HOSPITAL BOULEVARD\", \"ROSWELL\", \"GA\"], [\"PIEDMONT FAYETTE HOSPITAL\", \"1255 HIGHWAY 54 WEST\", \"FAYETTEVILLE\", \"GA\"], [\"EMORY JOHNS CREEK HOSPITAL\", \"6325 HOSPITAL PARKWAY\", \"JOHNS CREEK\", \"GA\"], [\"ST LUKE'S REGIONAL MEDICAL CENTER\", \"190 EAST BANNOCK STREET\", \"BOISE\", \"ID\"], [\"TREASURE VALLEY HOSPITAL\", \"8800 WEST EMERALD STREET\", \"BOISE\", \"ID\"], [\"CASSIA REGIONAL HOSPITAL\", \"1501 HILAND AVENUE\", \"BURLEY\", \"ID\"], [\"BLESSING HOSPITAL\", \"BROADWAY ST & N 11TH ST\", \"QUINCY\", \"IL\"], [\"SSM HEALTH ST MARY'S HOSPITAL -CENTRALIA\", \"400 NORTH PLEASANT AVENUE\", \"CENTRALIA\", \"IL\"], [\"ADVOCATE TRINITY HOSPITAL\", \"2320 E 93RD ST\", \"CHICAGO\", \"IL\"], [\"MACNEAL  HOSPITAL\", \"3249 SOUTH OAK PARK AVENUE\", \"BERWYN\", \"IL\"], [\"MC DONOUGH DISTRICT HOSPITAL\", \"525 EAST GRANT STREET\", \"MACOMB\", \"IL\"], [\"SAINT ANTHONY HOSPITAL\", \"2875 WEST 19TH STREET\", \"CHICAGO\", \"IL\"], [\"MIDWESTERN REGION MED CENTER\", \"2520 ELISHA AVENUE\", \"ZION\", \"IL\"], [\"PEKIN MEMORIAL HOSPITAL\", \"600 SOUTH 13TH STREET\", \"PEKIN\", \"IL\"], [\"ST MARGARETS HOSPITAL\", \"600 E 1ST ST\", \"SPRING VALLEY\", \"IL\"], [\"ST JOSEPHS HOSPITAL\", \"9515 HOLY CROSS LN\", \"BREESE\", \"IL\"], [\"UNIVERSITY OF ILLINOIS HOSPITAL\", \"1740 WEST TAYLOR ST SUITE 1400\", \"CHICAGO\", \"IL\"], [\"FHN MEMORIAL HOSPITAL\", \"1045 WEST STEPHENSON STREET\", \"FREEPORT\", \"IL\"], [\"ST JOSEPH MEDICAL CENTER\", \"2200 E WASHINGTON\", \"BLOOMINGTON\", \"IL\"], [\"LITTLE COMPANY OF MARY HOSPITAL\", \"2800 W 95TH ST\", \"EVERGREEN PARK\", \"IL\"], [\"ADVOCATE ILLINOIS MASONIC MEDICAL CENTER\", \"836 WEST WELLINGTON AVENUE\", \"CHICAGO\", \"IL\"], [\"HSHS ST ELIZABETH'S HOSPITAL\", \"ONE ST ELIZABETH BOULEVARD\", \"O FALLON\", \"IL\"], [\"ELMHURST MEMORIAL HOSPITAL\", \"155 EAST BRUSH HILL ROAD\", \"ELMHURST\", \"IL\"], [\"ADVOCATE CONDELL MEDICAL CENTER\", \"801 S MILWAUKEE AVE\", \"LIBERTYVILLE\", \"IL\"], [\"ADVOCATE CHRIST HOSPITAL & MEDICAL CENTER\", \"4440 W 95TH STREET\", \"OAK LAWN\", \"IL\"], [\"ADVOCATE LUTHERAN GENERAL HOSPITAL\", \"1775 DEMPSTER ST\", \"PARK RIDGE\", \"IL\"], [\"EDWARD HOSPITAL\", \"801 SOUTH WASHINGTON\", \"NAPERVILLE\", \"IL\"], [\"ADVOCATE SOUTH SUBURBAN HOSPITAL\", \"17800 S KEDZIE AVE\", \"HAZEL CREST\", \"IL\"], [\"ADVOCATE GOOD SAMARITAN HOSPITAL\", \"3815 HIGHLAND AVENUE\", \"DOWNERS GROVE\", \"IL\"], [\"ADVOCATE GOOD SHEPHERD HOSPITAL\", \"450 WEST HIGHWAY 22\", \"BARRINGTON\", \"IL\"], [\"MERCY HARVARD HOSPITAL\", \"901 S GRANT STREET\", \"HARVARD\", \"IL\"], [\"PERRY MEMORIAL HOSPITAL\", \"530 PARK AVENUE EAST\", \"PRINCETON\", \"IL\"], [\"HENDRICKS REGIONAL HEALTH\", \"1000 E MAIN ST\", \"DANVILLE\", \"IN\"], [\"FRANCISCAN HEALTH CRAWFORDSVILLE\", \"1710 LAFAYETTE RD\", \"CRAWFORDSVILLE\", \"IN\"], [\"ESKENAZI HEALTH\", \"720 ESKENAZI AVENUE\", \"INDIANAPOLIS\", \"IN\"], [\"HENRY COUNTY MEMORIAL HOSPITAL\", \"1000 N 16TH ST\", \"NEW CASTLE\", \"IN\"], [\"HANCOCK REGIONAL HOSPITAL\", \"801 N STATE ST\", \"GREENFIELD\", \"IN\"], [\"GOOD SAMARITAN HOSPITAL\", \"520 S 7TH ST\", \"VINCENNES\", \"IN\"], [\"DEKALB HEALTH\", \"1316 E SEVENTH ST\", \"AUBURN\", \"IN\"], [\"SCHNECK MEDICAL CENTER\", \"411 W TIPTON ST\", \"SEYMOUR\", \"IN\"], [\"MAJOR HOSPITAL\", \"2451 INTELLIPLEX DR\", \"SHELBYVILLE\", \"IN\"], [\"MEMORIAL HOSPITAL AND HEALTH CARE CENTER\", \"800 W 9TH ST\", \"JASPER\", \"IN\"], [\"FRANCISCAN HEALTH INDIANAPOLIS\", \"8111 S EMERSON AVE\", \"INDIANAPOLIS\", \"IN\"], [\"FRANCISCAN HEALTH CARMEL\", \"12188 B NORTH MERIDIAN STREET\", \"CARMEL\", \"IN\"], [\"FRANCISCAN HEALTH RENSSELAER, INC\", \"1104 E GRACE ST\", \"RENSSELAER\", \"IN\"], [\"ADAMS MEMORIAL HOSPITAL\", \"1100 MERCER AVE\", \"DECATUR\", \"IN\"], [\"TRINITY MUSCATINE\", \"1518 MULBERRY AVENUE\", \"MUSCATINE\", \"IA\"], [\"TRINITY REGIONAL MEDICAL CENTER\", \"802 KENYON RD\", \"FORT DODGE\", \"IA\"], [\"ST LUKES HOSPITAL\", \"1026 A AVE NE\", \"CEDAR RAPIDS\", \"IA\"], [\"MERCY MEDICAL CENTER - CEDAR RAPIDS\", \"701 10TH STREET SE\", \"CEDAR RAPIDS\", \"IA\"], [\"SPENCER MUNICIPAL HOSPITAL\", \"1200 1ST AVENUE EAST\", \"SPENCER\", \"IA\"], [\"KNOXVILLE HOSPITAL & CLINICS\", \"1002 SOUTH LINCOLN STREET\", \"KNOXVILLE\", \"IA\"], [\"ST CATHERINE HOSPITAL\", \"401 EAST SPRUCE\", \"GARDEN CITY\", \"KS\"], [\"OWENSBORO HEALTH REGIONAL HOSPITAL\", \"1201 PLEASANT VALLEY ROAD\", \"OWENSBORO\", \"KY\"], [\"BATON ROUGE GENERAL MEDICAL CENTER\", \"3600 FLORIDA BLVD\", \"BATON ROUGE\", \"LA\"], [\"SURGICAL SPECIALTY CENTER OF BATON ROUGE\", \"8080 BLUEBONNET BLVD\", \"BATON ROUGE\", \"LA\"], [\"SOUTHERN MAINE HEALTH CARE\", \"1 MEDICAL CENTER DRIVE\", \"BIDDEFORD\", \"ME\"], [\"MERITUS MEDICAL CENTER\", \"11116 MEDICAL CAMPUS ROAD\", \"HAGERSTOWN\", \"MD\"], [\"ANNE ARUNDEL MEDICAL CENTER\", \"2001 MEDICAL PARKWAY\", \"ANNAPOLIS\", \"MD\"], [\"CARROLL HOSPITAL CENTER\", \"200 MEMORIAL AVENUE\", \"WESTMINSTER\", \"MD\"], [\"BAYSTATE NOBLE HOSPITAL\", \"115 WEST SILVER STREET\", \"WESTFIELD\", \"MA\"], [\"BAYSTATE MEDICAL CENTER\", \"759 CHESTNUT STREET\", \"SPRINGFIELD\", \"MA\"], [\"FALMOUTH HOSPITAL\", \"67 & 100 TER HEUN DRIVE\", \"FALMOUTH\", \"MA\"], [\"BRONSON METHODIST HOSPITAL\", \"601 JOHN STREET\", \"KALAMAZOO\", \"MI\"], [\"LAKELAND HOSPITAL, ST JOSEPH\", \"1234 NAPIER AVENUE\", \"ST JOSEPH\", \"MI\"], [\"SPECTRUM HEALTH UNITED HOSPITAL\", \"615 S BOWER STREET\", \"GREENVILLE\", \"MI\"], [\"SPECTRUM HEALTH - BUTTERWORTH CAMPUS\", \"100 MICHIGAN ST NE\", \"GRAND RAPIDS\", \"MI\"], [\"SPECTRUM HEALTH PENNOCK\", \"1009 W GREEN ST\", \"HASTINGS\", \"MI\"], [\"BRONSON BATTLE CREEK HOSPITAL\", \"300 NORTH AVENUE\", \"BATTLE CREEK\", \"MI\"], [\"LAKELAND HOSPITAL WATERVLIET\", \"400 MEDICAL PARK DR\", \"WATERVLIET\", \"MI\"], [\"SPECTRUM HEALTH LUDINGTON HOSPITAL\", \"ONE N ATKINSON DRIVE\", \"LUDINGTON\", \"MI\"], [\"CAMBRIDGE MEDICAL CENTER\", \"701 SOUTH DELLWOOD AVENUE\", \"CAMBRIDGE\", \"MN\"], [\"ST CLOUD HOSPITAL\", \"1406 6TH AVE NORTH\", \"SAINT CLOUD\", \"MN\"], [\"UNIVERSITY MEDICAL CENTER-MESABI/ MESABA CLINICS\", \"750 EAST 34TH ST\", \"HIBBING\", \"MN\"], [\"REGINA HOSPITAL\", \"1175 NININGER ROAD\", \"HASTINGS\", \"MN\"], [\"LAKEVIEW MEMORIAL HOSPITAL\", \"927 WEST CHURCHILL STREET\", \"STILLWATER\", \"MN\"], [\"OWATONNA HOSPITAL\", \"2250 26TH STREET NORTHWEST\", \"OWATONNA\", \"MN\"], [\"ST FRANCIS REGIONAL MEDICAL CENTER\", \"1455 ST FRANCIS AVENUE\", \"SHAKOPEE\", \"MN\"], [\"MERCY HOSPITAL\", \"4050 COON RAPIDS BLVD\", \"COON RAPIDS\", \"MN\"], [\"FAIRVIEW NORTHLAND REGIONAL HOSPITAL\", \"911 NORTHLAND DR\", \"PRINCETON\", \"MN\"], [\"HUTCHINSON HEALTH\", \"1095 HIGHWAY 15 SOUTH\", \"HUTCHINSON\", \"MN\"], [\"FAIRVIEW RIDGES HOSPITAL\", \"201 EAST NICOLLET BOULEVARD\", \"BURNSVILLE\", \"MN\"], [\"CENTRACARE HEALTH SYSTEM - MELROSE HOSPITAL\", \"525 WEST MAIN STREET\", \"MELROSE\", \"MN\"], [\"CENTRA CARE HEALTH PAYNESVILLE\", \"200 1ST STREET WEST\", \"PAYNESVILLE\", \"MN\"], [\"CENTRACARE HEALTH SYSTEM - SAUK CENTRE\", \"425 NORTH ELM STREET\", \"SAUK CENTRE\", \"MN\"], [\"NEW ULM MEDICAL CENTER\", \"1324 FIFTH NORTH STREET\", \"NEW ULM\", \"MN\"], [\"BAPTIST MEMORIAL HOSPITAL DESOTO\", \"7601 SOUTHCREST PARKWAY\", \"SOUTHAVEN\", \"MS\"], [\"METHODIST HEALTHCARE - OLIVE BRANCH HOSPITAL\", \"4250 BETHEL ROAD\", \"OLIVE BRANCH\", \"MS\"], [\"MOSAIC LIFE CARE AT ST JOSEPH\", \"5325 FARAON STREET\", \"SAINT JOSEPH\", \"MO\"], [\"CAPITAL REGION MEDICAL CENTER\", \"1125 MADISON ST\", \"JEFFERSON CITY\", \"MO\"], [\"ST VINCENT HEALTHCARE\", \"1233 N 30TH ST\", \"BILLINGS\", \"MT\"], [\"BOZEMAN HEALTH DEACONESS HOSPITAL\", \"915 HIGHLAND BLVD\", \"BOZEMAN\", \"MT\"], [\"COMMUNITY HOSPITAL OF ANACONDA\", \"401 W PENNSYLVANIA\", \"ANACONDA\", \"MT\"], [\"SIDNEY HEALTH CENTER\", \"216 14TH AVE SW\", \"SIDNEY\", \"MT\"], [\"HOLZER MEDICAL CENTER\", \"100 JACKSON PIKE\", \"GALLIPOLIS\", \"OH\"], [\"GREAT PLAINS HEALTH\", \"601 WEST LEOTA ST\", \"NORTH PLATTE\", \"NE\"], [\"RENOWN REGIONAL MEDICAL CENTER\", \"1155 MILL STREET\", \"RENO\", \"NV\"], [\"CARSON TAHOE REGIONAL MEDICAL CENTER\", \"1600 MEDICAL PARKWAY\", \"CARSON CITY\", \"NV\"], [\"RENOWN SOUTH MEADOWS MEDICAL CENTER\", \"10101 DOUBLE R BLVD\", \"RENO\", \"NV\"], [\"LAKES REGION GENERAL HOSPITAL\", \"80 HIGHLAND ST\", \"LACONIA\", \"NH\"], [\"SOUTHERN NH MEDICAL CENTER\", \"8 PROSPECT STREET\", \"NASHUA\", \"NH\"], [\"UPPER CONNECTICUT VALLEY HOSPITAL\", \"181 CORLISS LANE\", \"COLEBROOK\", \"NH\"], [\"WEEKS MEDICAL CENTER\", \"173 MIDDLE STREET\", \"LANCASTER\", \"NH\"], [\"MONADNOCK COMMUNITY HOSPITAL\", \"452 OLD STREET ROAD\", \"PETERBOROUGH\", \"NH\"], [\"ANDROSCOGGIN VALLEY HOSPITAL\", \"59 PAGE HILL ROAD\", \"BERLIN\", \"NH\"], [\"F F THOMPSON HOSPITAL\", \"350 PARRISH STREET\", \"CANANDAIGUA\", \"NY\"], [\"EASTERN LONG ISLAND HOSPITAL\", \"201 MANOR PLACE\", \"GREENPORT\", \"NY\"], [\"NYACK HOSPITAL\", \"160 NORTH MIDLAND AVENUE\", \"NYACK\", \"NY\"], [\"PECONIC BAY MEDICAL CENTER\", \"1300 ROANOKE AVENUE\", \"RIVERHEAD\", \"NY\"], [\"LONG ISLAND COMMUNITY HOSPITAL\", \"101 HOSPITAL ROAD\", \"PATCHOGUE\", \"NY\"], [\"NORTHERN WESTCHESTER HOSPITAL\", \"400 EAST MAIN STREET\", \"MOUNT KISCO\", \"NY\"], [\"MAIMONIDES MEDICAL CENTER\", \"4802 TENTH AVENUE\", \"BROOKLYN\", \"NY\"], [\"KINGSBROOK JEWISH MEDICAL CENTER\", \"585 SCHENECTADY AVENUE\", \"BROOKLYN\", \"NY\"], [\"AUBURN  COMMUNITY  HOSPITAL\", \"17 LANSING STREET\", \"AUBURN\", \"NY\"], [\"WHITE PLAINS HOSPITAL CENTER\", \"41 EAST POST R0AD\", \"WHITE PLAINS\", \"NY\"], [\"CAYUGA MEDICAL CENTER AT ITHACA\", \"101 DATES DRIVE\", \"ITHACA\", \"NY\"], [\"PLAINVIEW HOSPITAL\", \"888 OLD COUNTRY ROAD\", \"PLAINVIEW\", \"NY\"], [\"ST JOHN'S EPISCOPAL HOSPITAL AT SOUTH SHORE\", \"327 BEACH 19TH STREET\", \"FAR ROCKAWAY\", \"NY\"], [\"MARGARET R PARDEE MEMORIAL HOSPITAL\", \"800 N JUSTICE ST\", \"HENDERSONVILLE\", \"NC\"], [\"WILSON MEMORIAL HOSPITAL\", \"915 WEST MICHIGAN STREET\", \"SIDNEY\", \"OH\"], [\"WOOSTER COMMUNITY HOSPITAL\", \"1761 BEALL AVENUE\", \"WOOSTER\", \"OH\"], [\"GENESIS HOSPITAL\", \"2951 MAPLE AVENUE\", \"ZANESVILLE\", \"OH\"], [\"KNOX COMMUNITY HOSPITAL\", \"1330 COSHOCTON ROAD\", \"MOUNT VERNON\", \"OH\"], [\"FISHER-TITUS HOSPITAL\", \"272 BENEDICT AVENUE\", \"NORWALK\", \"OH\"], [\"MERCY MEDICAL CENTER\", \"1320 MERCY DRIVE NW\", \"CANTON\", \"OH\"], [\"FAIRFIELD MEDICAL CENTER\", \"401 NORTH EWING STREET\", \"LANCASTER\", \"OH\"], [\"ATRIUM MEDICAL CENTER\", \"ONE MEDICAL CENTER DRIVE\", \"FRANKLIN\", \"OH\"], [\"AULTMAN HOSPITAL\", \"2600 SIXTH STREET SW\", \"CANTON\", \"OH\"], [\"OHIOHEALTH MANSFIELD HOSPITAL\", \"335 GLESSNER AVENUE\", \"MANSFIELD\", \"OH\"], [\"BERGER HOSPITAL\", \"600 NORTH PICKAWAY STREET\", \"CIRCLEVILLE\", \"OH\"], [\"UPPER VALLEY MEDICAL CENTER\", \"3130 NORTH COUNTY ROAD 25A\", \"TROY\", \"OH\"], [\"MADISON HEALTH\", \"210 NORTH MAIN STREET\", \"LONDON\", \"OH\"], [\"GRADY MEMORIAL HOSPITAL\", \"561 WEST CENTRAL AVENUE\", \"DELAWARE\", \"OH\"], [\"FOSTORIA COMMUNITY HOSPITAL\", \"501 VAN BUREN STREET\", \"FOSTORIA\", \"OH\"], [\"AULTMAN ORRVILLE HOSPITAL\", \"832 SOUTH MAIN STREET\", \"ORRVILLE\", \"OH\"], [\"OHIOHEALTH SHELBY HOSPITAL\", \"199 WEST MAIN STREET\", \"SHELBY\", \"OH\"], [\"INTEGRIS BAPTIST MEDICAL CENTER, INC\", \"3300 NORTHWEST EXPRESSWAY\", \"OKLAHOMA CITY\", \"OK\"], [\"SSM HEALTH ST ANTHONY HOSPITAL - OKLAHOMA CITY\", \"1000 NORTH LEE AVENUE\", \"OKLAHOMA CITY\", \"OK\"], [\"SAINT FRANCIS HOSPITAL, INC\", \"6161 SOUTH YALE\", \"TULSA\", \"OK\"], [\"INTEGRIS SOUTHWEST MEDICAL CENTER\", \"4401 SOUTH WESTERN AVENUE\", \"OKLAHOMA CITY\", \"OK\"], [\"OKLAHOMA SPINE HOSPITAL\", \"14101 PARKWAY COMMONS DRIVE\", \"OKLAHOMA CITY\", \"OK\"], [\"OKLAHOMA CENTER FOR ORTHOPAEDIC & MULTI-SP\", \"8100 SOUTH WALKER BLDG C\", \"OKLAHOMA CITY\", \"OK\"], [\"OKLAHOMA HEART HOSPITAL, LLC\", \"4050 WEST MEMORIAL ROAD\", \"OKLAHOMA CITY\", \"OK\"], [\"SAINT FRANCIS HOSPITAL SOUTH, LLC\", \"10501 EAST 91ST STREET SOUTH\", \"TULSA\", \"OK\"], [\"MCBRIDE ORTHOPEDIC HOSPITAL\", \"9600 NORTH BROADWAY EXTENSION\", \"OKLAHOMA CITY\", \"OK\"], [\"OKLAHOMA HEART HOSPITAL SOUTH, LLC\", \"5200 EAST I-240 SERVICE ROAD\", \"OKLAHOMA CITY\", \"OK\"], [\"INTEGRIS HEALTH EDMOND\", \"4801 INTEGRIS PARKWAY\", \"EDMOND\", \"OK\"], [\"PROVIDENCE ST VINCENT MEDICAL CENTER\", \"9205 SW BARNES ROAD\", \"PORTLAND\", \"OR\"], [\"PROVIDENCE PORTLAND MEDICAL CENTER\", \"4805 NE GLISAN STREET\", \"PORTLAND\", \"OR\"], [\"PROVIDENCE MEDFORD MEDICAL CENTER\", \"1111 CRATER LAKE AVENUE\", \"MEDFORD\", \"OR\"], [\"HARNEY DISTRICT HOSPITAL\", \"557 W WASHINGTON STREET\", \"BURNS\", \"OR\"], [\"COQUILLE VALLEY HOSPITAL DISTRICT\", \"940 EAST 5TH STREET\", \"COQUILLE\", \"OR\"], [\"PROVIDENCE HOOD RIVER MEMORIAL HOSPITAL\", \"810 12TH STREET\", \"HOOD RIVER\", \"OR\"], [\"EVANGELICAL COMMUNITY HOSPITAL\", \"ONE HOSPITAL DRIVE\", \"LEWISBURG\", \"PA\"], [\"UNIONTOWN HOSPITAL\", \"500 WEST BERKELEY STREET\", \"UNIONTOWN\", \"PA\"], [\"WASHINGTON HOSPITAL, THE\", \"155 WILSON AVENUE\", \"WASHINGTON\", \"PA\"], [\"GRAND VIEW HOSPITAL\", \"700 LAWN AVENUE\", \"SELLERSVILLE\", \"PA\"], [\"WAYNESBORO HOSPITAL\", \"501 EAST MAIN ST\", \"WAYNESBORO\", \"PA\"], [\"CHAMBERSBURG HOSPITAL\", \"112 NORTH SEVENTH STREET\", \"CHAMBERSBURG\", \"PA\"], [\"LEHIGH VALLEY HOSPITAL - POCONO\", \"206 EAST BROWN STREET\", \"EAST STROUDSBURG\", \"PA\"], [\"EXCELA HEALTH LATROBE HOSPITAL\", \"ONE MELLON WAY\", \"LATROBE\", \"PA\"], [\"PENN HIGHLANDS ELK\", \"763 JOHNSONBURG ROAD\", \"SAINT MARYS\", \"PA\"], [\"SOUTH COUNTY HOSPITAL INC\", \"100 KENYON AVE\", \"WAKEFIELD\", \"RI\"], [\"LAKE CITY COMMUNITY HOSPITAL\", \"258 N RON MCNAIR BLVD\", \"LAKE CITY\", \"SC\"], [\"BAPTIST MEMORIAL HOSPITAL - CARROLL COUNTY\", \"631 RB WILSON DR\", \"HUNTINGDON\", \"TN\"], [\"COOKEVILLE REGIONAL MEDICAL CENTER\", \"1 MEDICAL CENTER BOULEVARD\", \"COOKEVILLE\", \"TN\"], [\"JOHNSON CITY MEDICAL CENTER\", \"400 N STATE OF FRANKLIN RD\", \"JOHNSON CITY\", \"TN\"], [\"INDIAN PATH COMMUNITY HOSPITAL\", \"2000 BROOKSIDE DR\", \"KINGSPORT\", \"TN\"], [\"FRANKLIN WOODS COMMUNITY HOSPITAL\", \"300 MED TECH PARKWAY\", \"JOHNSON CITY\", \"TN\"], [\"TITUS REGIONAL MEDICAL CENTER\", \"2001 N JEFFERSON\", \"MOUNT PLEASANT\", \"TX\"], [\"PERMIAN REGIONAL MEDICAL CENTER ANDREWS COUNTY HO\", \"720 HOSPITAL DRIVE\", \"ANDREWS\", \"TX\"], [\"TEXOMA MEDICAL CENTER\", \"5016 S US HIGHWAY 75\", \"DENISON\", \"TX\"], [\"GLEN ROSE MEDICAL CENTER\", \"1021 HOLDEN STREET\", \"GLEN ROSE\", \"TX\"], [\"WILSON N JONES REGIONAL MEDICAL CENTER\", \"500 N HIGHLAND AVENUE\", \"SHERMAN\", \"TX\"], [\"CUERO REGIONAL HOSPITAL\", \"2550 N ESPLANADE\", \"CUERO\", \"TX\"], [\"LDS HOSPITAL\", \"8TH AVENUE AND C STREET\", \"SALT LAKE CITY\", \"UT\"], [\"CEDAR CITY HOSPITAL\", \"1303 NORTH MAIN STREET\", \"CEDAR CITY\", \"UT\"], [\"UNIVERSITY OF UTAH HOSPITALS AND CLINICS\", \"50 NORTH MEDICAL DRIVE\", \"SALT LAKE CITY\", \"UT\"], [\"INTERMOUNTAIN MEDICAL CENTER\", \"5121 SOUTH COTTONWOOD STREET\", \"MURRAY\", \"UT\"], [\"LOGAN REGIONAL HOSPITAL\", \"500 EAST 1400 NORTH\", \"LOGAN\", \"UT\"], [\"SEVIER VALLEY HOSPITAL\", \"1000 NORTH MAIN STREET\", \"RICHFIELD\", \"UT\"], [\"BEAR RIVER VALLEY HOSPITAL\", \"905 NORTH 1000 WEST\", \"TREMONTON\", \"UT\"], [\"ALTA VIEW HOSPITAL\", \"9660 SOUTH 1300 EAST\", \"SANDY\", \"UT\"], [\"THE ORTHOPEDIC SPECIALTY HOSPITAL\", \"5848 SOUTH 300 EAST\", \"MURRAY\", \"UT\"], [\"PARK CITY HOSPITAL\", \"900 ROUND VALLEY DRIVE\", \"PARK CITY\", \"UT\"], [\"RIVERTON HOSPITAL\", \"3741 WEST 12600 SOUTH\", \"RIVERTON\", \"UT\"], [\"DELTA COMMUNITY HOSPITAL\", \"126 SOUTH WHITE SAGE AVENUE\", \"DELTA\", \"UT\"], [\"FILLMORE COMMUNITY HOSPITAL\", \"674 SOUTH HIGHWAY 99\", \"FILLMORE\", \"UT\"], [\"HEBER VALLEY HOSPITAL\", \"1485 SOUTH HIGHWAY 40\", \"HEBER CITY\", \"UT\"], [\"GARFIELD MEMORIAL HOSPITAL\", \"200 NORTH 400 EAST\", \"PANGUITCH\", \"UT\"], [\"RUTLAND REGIONAL MEDICAL CENTER\", \"160 ALLEN ST\", \"RUTLAND\", \"VT\"], [\"RIVERSIDE DOCTORS' HOSPITAL OF WILLIAMSBURG\", \"1500 COMMONWEALTH AVENUE\", \"WILLIAMSBURG\", \"VA\"], [\"NOVANT HEALTH UVA HEALTH HAYMARKET MEDICAL CENTER\", \"15225 HEALTHCOTE BOULEVARD\", \"HAYMARKET\", \"VA\"], [\"PROVIDENCE ST MARY MEDICAL CENTER\", \"401 W POPLAR ST\", \"WALLA WALLA\", \"WA\"], [\"SKAGIT VALLEY HOSPITAL\", \"1415 KINCAID STREET\", \"MOUNT VERNON\", \"WA\"], [\"PROVIDENCE CENTRALIA HOSPITAL\", \"914 S SCHEUBER ROAD\", \"CENTRALIA\", \"WA\"], [\"PROV SACRED HRT MED CTR & CHILDS HOSP.\", \"101 WEST 8TH AVENUE\", \"SPOKANE\", \"WA\"], [\"KADLEC REGIONAL MEDICAL CENTER\", \"888 SWIFT BLVD\", \"RICHLAND\", \"WA\"], [\"OLYMPIC MEDICAL CENTER\", \"939 CAROLINE ST\", \"PORT ANGELES\", \"WA\"], [\"PROVIDENCE HOLY FAMILY HOSPITAL\", \"5633 NORTH LIDGERWOOD\", \"SPOKANE\", \"WA\"], [\"PROSSER MEMORIAL HOSPITAL\", \"723 MEMORIAL STREET\", \"PROSSER\", \"WA\"], [\"JEFFERSON HEALTHCARE\", \"834 SHERIDAN STREET\", \"PORT TOWNSEND\", \"WA\"], [\"WHITMAN HOSPITAL AND MEDICAL CENTER\", \"1200 WEST FAIRVIEW\", \"COLFAX\", \"WA\"], [\"ROANE GENERAL HOSPITAL\", \"200 HOSPITAL DRIVE\", \"SPENCER\", \"WV\"], [\"POTOMAC VALLEY HOSPITAL\", \"100 PIN OAK LANE\", \"KEYSER\", \"WV\"], [\"WAUKESHA MEMORIAL HOSPITAL\", \"725 AMERICAN AVE\", \"WAUKESHA\", \"WI\"], [\"THE MONROE CLINIC\", \"2005 5TH STREET\", \"MONROE\", \"WI\"], [\"AURORA MEDICAL CTR MANITOWOC COUNTY\", \"5000 MEMORIAL DRIVE\", \"TWO RIVERS\", \"WI\"], [\"AURORA SHEBOYGAN MEMORIAL MEDICAL CTR\", \"2629 N 7TH ST\", \"SHEBOYGAN\", \"WI\"], [\"AURORA MEDICAL CTR WASHINGTON COUNTY\", \"1032 E SUMNER ST\", \"HARTFORD\", \"WI\"], [\"DIVINE SAVIOR HEALTHCARE\", \"2817 NEW PINERY ROAD\", \"PORTAGE\", \"WI\"], [\"ST NICHOLAS HOSPITAL\", \"3100 SUPERIOR AVE\", \"SHEBOYGAN\", \"WI\"], [\"BELLIN MEMORIAL HOSPITAL\", \"744 S WEBSTER AVE\", \"GREEN BAY\", \"WI\"], [\"SSM HEALTH ST CLARE HOSPITAL - BARABOO\", \"707 14TH ST\", \"BARABOO\", \"WI\"], [\"OCONOMOWOC MEMORIAL HOSPITAL\", \"791 E SUMMIT AVE\", \"OCONOMOWOC\", \"WI\"], [\"FORT MEMORIAL HOSPITAL\", \"611 SHERMAN AVE E\", \"FORT ATKINSON\", \"WI\"], [\"ST VINCENT HOSPITAL\", \"835 S VAN BUREN ST\", \"GREEN BAY\", \"WI\"], [\"BEAVER DAM COMMUNITY HOSPITAL\", \"707 S UNIVERSITY AVE\", \"BEAVER DAM\", \"WI\"], [\"SSM HEALTH ST MARY'S HOSPITAL - MADISON\", \"700 SOUTH PARK ST\", \"MADISON\", \"WI\"], [\"AURORA LAKELAND MEDICAL CENTER\", \"W3985 COUNTY ROAD NN\", \"ELKHORN\", \"WI\"], [\"THEDACARE REGIONAL MEDICAL CENTER - APPLETON INC\", \"1818 N MEADE ST\", \"APPLETON\", \"WI\"], [\"RIVER FALLS AREA HOSPITAL\", \"1629 E DIVISION ST\", \"RIVER FALLS\", \"WI\"], [\"MERCY WALWORTH HOSPITAL & MEDICAL CENTER\", \"N2950 STATE ROAD 67\", \"LAKE GENEVA\", \"WI\"], [\"TEXAS HEALTH PRESBYTERIAN HOSPITAL ROCKWALL\", \"3150 HORIZON ROAD\", \"ROCKWALL\", \"TX\"], [\"BAYLOR SCOTT AND WHITE SURGICAL HOSPITAL AT SHERMA\", \"3601 CALAIS DRIVE\", \"SHERMAN\", \"TX\"]], \"hoverlabel\": {\"namelength\": 0}, \"hovertemplate\": \"is-MUA?=No<br>rate_of_readmission=%{x}<br>patients_rating_of_the_facility_linear_mean_score=%{y}<br>facility_name=%{customdata[0]}<br>address=%{customdata[1]}<br>city=%{customdata[2]}<br>state=%{customdata[3]}\", \"legendgroup\": \"is-MUA?=No\", \"marker\": {\"color\": \"#EF553B\", \"symbol\": \"circle\"}, \"mode\": \"markers\", \"name\": \"is-MUA?=No\", \"showlegend\": true, \"type\": \"scatter\", \"x\": [16.2, 14.8, 15.4, 15.2, 13.4, 14.6, 13.2, 13.9, 14.2, 13.9, 14.9, 16.7, 14.3, 15.1, 15.6, 15.0, 15.6, 15.2, 15.1, 15.2, 15.9, 14.2, 15.7, 15.3, 15.0, 15.2, 14.9, 15.3, 15.1, 15.1, 14.8, 15.3, 15.1, 13.4, 14.0, 15.0, 15.2, 16.1, 14.9, 15.1, 13.5, 14.7, 15.1, 15.5, 14.8, 15.7, 15.3, 16.0, 16.2, 15.8, 14.6, 16.9, 15.1, 15.6, 12.0, 15.9, 14.7, 13.8, 13.7, 13.5, 14.0, 13.6, 15.4, 15.0, 14.0, 15.0, 14.8, 14.9, 15.2, 16.1, 16.6, 15.9, 15.0, 14.3, 16.0, 15.5, 15.8, 15.5, 14.9, 15.1, 15.3, 16.5, 15.4, 14.9, 16.4, 15.4, 17.3, 17.6, 15.3, 14.7, 15.7, 15.2, 15.1, 15.2, 15.2, 15.3, 16.5, 15.8, 15.2, 15.2, 15.3, 15.0, 16.1, 15.2, 14.3, 13.9, 14.7, 15.2, 15.1, 14.7, 15.7, 15.5, 15.4, 16.7, 16.0, 16.8, 15.5, 14.7, 17.4, 15.0, 15.1, 15.5, 15.2, 15.8, 14.5, 14.4, 15.5, 14.1, 14.6, 15.0, 15.2, 15.1, 15.5, 15.4, 15.3, 15.3, 14.6, 16.0, 14.6, 15.8, 16.2, 13.6, 15.0, 14.3, 14.4, 14.5, 15.1, 15.1, 15.3, 14.0, 14.6, 13.6, 14.7, 13.9, 16.6, 13.9, 14.4, 15.4, 14.1, 14.6, 14.2, 14.9, 16.2, 16.0, 13.9, 14.1, 14.4, 15.7, 15.0, 16.9, 14.3, 15.6, 14.6, 15.5, 15.0, 14.5, 15.3, 15.0, 14.8, 16.1, 15.7, 14.9, 14.9, 16.3, 15.7, 15.1, 15.3, 15.5, 17.1, 15.3, 16.2, 15.0, 13.8, 14.5, 14.7, 15.6, 15.8, 15.2, 14.2, 14.8, 14.8, 14.3, 16.2, 14.7, 15.0, 15.2, 14.9, 16.2, 15.3, 15.9, 15.2, 16.2, 16.3, 17.0, 16.8, 17.6, 15.9, 14.4, 14.9, 18.2, 14.2, 15.5, 14.8, 14.9, 15.7, 15.1, 14.7, 15.2, 14.2, 15.0, 15.9, 15.7, 15.1, 15.5, 14.8, 15.3, 15.9, 15.3, 15.3, 15.0, 15.1, 15.6, 13.1, 15.7, 15.0, 14.7, 14.2, 14.3, 16.0, 13.6, 13.7, 15.3, 15.2, 15.6, 15.1, 15.5, 16.0, 15.8, 14.7, 14.2, 14.9, 15.7, 15.3, 15.0, 14.6, 15.4, 15.4, 15.1, 15.6, 15.0, 14.8, 15.3, 15.3, 16.8, 15.1, 15.4, 14.2, 14.1, 14.5, 14.7, 13.0, 14.3, 14.4, 15.0, 13.5, 13.8, 15.0, 14.8, 15.1, 15.3, 15.2, 15.0, 14.7, 15.3, 14.5, 14.6, 15.2, 13.9, 13.8, 14.2, 13.4, 14.0, 14.9, 14.2, 14.7, 15.2, 14.7, 14.9, 15.0, 14.7, 13.9, 13.8, 16.3, 14.6, 12.9, 15.0, 15.0, 14.4, 14.0, 14.8, 13.8, 14.3, 13.6, 15.0, 15.5, 14.8, 14.7], \"xaxis\": \"x\", \"y\": [95, 93, 91, 95, 93, 94, 93, 96, 96, 95, 94, 89, 95, 92, 86, 94, 93, 92, 94, 95, 95, 96, 92, 96, 92, 95, 93, 95, 93, 93, 94, 95, 94, 96, 94, 96, 94, 90, 93, 94, 94, 94, 96, 96, 95, 95, 94, 92, 92, 90, 90, 88, 91, 91, 97, 94, 96, 92, 94, 94, 94, 94, 95, 95, 96, 95, 95, 94, 92, 92, 90, 94, 92, 96, 94, 92, 94, 95, 94, 95, 90, 93, 93, 96, 93, 94, 92, 92, 96, 94, 94, 94, 93, 96, 94, 94, 92, 93, 89, 94, 94, 92, 90, 94, 96, 95, 95, 91, 94, 94, 93, 93, 93, 96, 98, 90, 94, 96, 91, 92, 92, 93, 95, 95, 95, 93, 95, 95, 94, 95, 95, 95, 92, 92, 95, 94, 94, 96, 95, 96, 94, 95, 95, 94, 94, 98, 92, 91, 92, 92, 94, 95, 94, 94, 91, 94, 94, 96, 93, 93, 95, 94, 87, 95, 96, 94, 94, 95, 94, 93, 91, 95, 92, 93, 94, 93, 95, 94, 94, 94, 93, 94, 94, 94, 93, 93, 92, 93, 92, 95, 93, 94, 93, 93, 95, 94, 95, 92, 92, 94, 94, 91, 94, 89, 94, 95, 92, 93, 95, 94, 92, 91, 94, 90, 90, 91, 95, 94, 94, 88, 94, 92, 95, 94, 92, 95, 93, 94, 96, 94, 93, 93, 94, 93, 93, 93, 93, 94, 95, 95, 95, 94, 95, 95, 97, 96, 95, 97, 96, 94, 93, 93, 93, 93, 94, 95, 93, 94, 93, 94, 91, 93, 95, 93, 95, 92, 93, 92, 91, 94, 94, 92, 93, 93, 95, 93, 93, 93, 94, 95, 93, 95, 93, 95, 94, 94, 96, 95, 92, 91, 92, 95, 94, 96, 94, 93, 93, 93, 93, 93, 92, 92, 94, 94, 96, 95, 93, 94, 94, 94, 93, 94, 94, 95, 94, 94, 95, 92, 93, 93, 93, 93, 93, 95, 95, 95, 96], \"yaxis\": \"y\"}],\n",
       "                        {\"height\": 600, \"legend\": {\"tracegroupgap\": 0}, \"margin\": {\"t\": 60}, \"template\": {\"data\": {\"bar\": [{\"error_x\": {\"color\": \"#2a3f5f\"}, \"error_y\": {\"color\": \"#2a3f5f\"}, \"marker\": {\"line\": {\"color\": \"#E5ECF6\", \"width\": 0.5}}, \"type\": \"bar\"}], \"barpolar\": [{\"marker\": {\"line\": {\"color\": \"#E5ECF6\", \"width\": 0.5}}, \"type\": \"barpolar\"}], \"carpet\": [{\"aaxis\": {\"endlinecolor\": \"#2a3f5f\", \"gridcolor\": \"white\", \"linecolor\": \"white\", \"minorgridcolor\": \"white\", \"startlinecolor\": \"#2a3f5f\"}, \"baxis\": {\"endlinecolor\": \"#2a3f5f\", \"gridcolor\": \"white\", \"linecolor\": \"white\", \"minorgridcolor\": \"white\", \"startlinecolor\": \"#2a3f5f\"}, \"type\": \"carpet\"}], \"choropleth\": [{\"colorbar\": {\"outlinewidth\": 0, \"ticks\": \"\"}, \"type\": \"choropleth\"}], \"contour\": [{\"colorbar\": {\"outlinewidth\": 0, \"ticks\": \"\"}, \"colorscale\": [[0.0, \"#0d0887\"], [0.1111111111111111, \"#46039f\"], [0.2222222222222222, \"#7201a8\"], [0.3333333333333333, \"#9c179e\"], [0.4444444444444444, \"#bd3786\"], [0.5555555555555556, \"#d8576b\"], [0.6666666666666666, \"#ed7953\"], [0.7777777777777778, \"#fb9f3a\"], [0.8888888888888888, \"#fdca26\"], [1.0, \"#f0f921\"]], \"type\": \"contour\"}], \"contourcarpet\": [{\"colorbar\": {\"outlinewidth\": 0, \"ticks\": \"\"}, \"type\": \"contourcarpet\"}], \"heatmap\": [{\"colorbar\": {\"outlinewidth\": 0, \"ticks\": \"\"}, \"colorscale\": [[0.0, \"#0d0887\"], [0.1111111111111111, \"#46039f\"], [0.2222222222222222, \"#7201a8\"], [0.3333333333333333, \"#9c179e\"], [0.4444444444444444, \"#bd3786\"], [0.5555555555555556, \"#d8576b\"], [0.6666666666666666, \"#ed7953\"], [0.7777777777777778, \"#fb9f3a\"], [0.8888888888888888, \"#fdca26\"], [1.0, \"#f0f921\"]], \"type\": \"heatmap\"}], \"heatmapgl\": [{\"colorbar\": {\"outlinewidth\": 0, \"ticks\": \"\"}, \"colorscale\": [[0.0, \"#0d0887\"], [0.1111111111111111, \"#46039f\"], [0.2222222222222222, \"#7201a8\"], [0.3333333333333333, \"#9c179e\"], [0.4444444444444444, \"#bd3786\"], [0.5555555555555556, \"#d8576b\"], [0.6666666666666666, \"#ed7953\"], [0.7777777777777778, \"#fb9f3a\"], [0.8888888888888888, \"#fdca26\"], [1.0, \"#f0f921\"]], \"type\": \"heatmapgl\"}], \"histogram\": [{\"marker\": {\"colorbar\": {\"outlinewidth\": 0, \"ticks\": \"\"}}, \"type\": \"histogram\"}], \"histogram2d\": [{\"colorbar\": {\"outlinewidth\": 0, \"ticks\": \"\"}, \"colorscale\": [[0.0, \"#0d0887\"], [0.1111111111111111, \"#46039f\"], [0.2222222222222222, \"#7201a8\"], [0.3333333333333333, \"#9c179e\"], [0.4444444444444444, \"#bd3786\"], [0.5555555555555556, \"#d8576b\"], [0.6666666666666666, \"#ed7953\"], [0.7777777777777778, \"#fb9f3a\"], [0.8888888888888888, \"#fdca26\"], [1.0, \"#f0f921\"]], \"type\": \"histogram2d\"}], \"histogram2dcontour\": [{\"colorbar\": {\"outlinewidth\": 0, \"ticks\": \"\"}, \"colorscale\": [[0.0, \"#0d0887\"], [0.1111111111111111, \"#46039f\"], [0.2222222222222222, \"#7201a8\"], [0.3333333333333333, \"#9c179e\"], [0.4444444444444444, \"#bd3786\"], [0.5555555555555556, \"#d8576b\"], [0.6666666666666666, \"#ed7953\"], [0.7777777777777778, \"#fb9f3a\"], [0.8888888888888888, \"#fdca26\"], [1.0, \"#f0f921\"]], \"type\": \"histogram2dcontour\"}], \"mesh3d\": [{\"colorbar\": {\"outlinewidth\": 0, \"ticks\": \"\"}, \"type\": \"mesh3d\"}], \"parcoords\": [{\"line\": {\"colorbar\": {\"outlinewidth\": 0, \"ticks\": \"\"}}, \"type\": \"parcoords\"}], \"scatter\": [{\"marker\": {\"colorbar\": {\"outlinewidth\": 0, \"ticks\": \"\"}}, \"type\": \"scatter\"}], \"scatter3d\": [{\"line\": {\"colorbar\": {\"outlinewidth\": 0, \"ticks\": \"\"}}, \"marker\": {\"colorbar\": {\"outlinewidth\": 0, \"ticks\": \"\"}}, \"type\": \"scatter3d\"}], \"scattercarpet\": [{\"marker\": {\"colorbar\": {\"outlinewidth\": 0, \"ticks\": \"\"}}, \"type\": \"scattercarpet\"}], \"scattergeo\": [{\"marker\": {\"colorbar\": {\"outlinewidth\": 0, \"ticks\": \"\"}}, \"type\": \"scattergeo\"}], \"scattergl\": [{\"marker\": {\"colorbar\": {\"outlinewidth\": 0, \"ticks\": \"\"}}, \"type\": \"scattergl\"}], \"scattermapbox\": [{\"marker\": {\"colorbar\": {\"outlinewidth\": 0, \"ticks\": \"\"}}, \"type\": \"scattermapbox\"}], \"scatterpolar\": [{\"marker\": {\"colorbar\": {\"outlinewidth\": 0, \"ticks\": \"\"}}, \"type\": \"scatterpolar\"}], \"scatterpolargl\": [{\"marker\": {\"colorbar\": {\"outlinewidth\": 0, \"ticks\": \"\"}}, \"type\": \"scatterpolargl\"}], \"scatterternary\": [{\"marker\": {\"colorbar\": {\"outlinewidth\": 0, \"ticks\": \"\"}}, \"type\": \"scatterternary\"}], \"surface\": [{\"colorbar\": {\"outlinewidth\": 0, \"ticks\": \"\"}, \"colorscale\": [[0.0, \"#0d0887\"], [0.1111111111111111, \"#46039f\"], [0.2222222222222222, \"#7201a8\"], [0.3333333333333333, \"#9c179e\"], [0.4444444444444444, \"#bd3786\"], [0.5555555555555556, \"#d8576b\"], [0.6666666666666666, \"#ed7953\"], [0.7777777777777778, \"#fb9f3a\"], [0.8888888888888888, \"#fdca26\"], [1.0, \"#f0f921\"]], \"type\": \"surface\"}], \"table\": [{\"cells\": {\"fill\": {\"color\": \"#EBF0F8\"}, \"line\": {\"color\": \"white\"}}, \"header\": {\"fill\": {\"color\": \"#C8D4E3\"}, \"line\": {\"color\": \"white\"}}, \"type\": \"table\"}]}, \"layout\": {\"annotationdefaults\": {\"arrowcolor\": \"#2a3f5f\", \"arrowhead\": 0, \"arrowwidth\": 1}, \"colorscale\": {\"diverging\": [[0, \"#8e0152\"], [0.1, \"#c51b7d\"], [0.2, \"#de77ae\"], [0.3, \"#f1b6da\"], [0.4, \"#fde0ef\"], [0.5, \"#f7f7f7\"], [0.6, \"#e6f5d0\"], [0.7, \"#b8e186\"], [0.8, \"#7fbc41\"], [0.9, \"#4d9221\"], [1, \"#276419\"]], \"sequential\": [[0.0, \"#0d0887\"], [0.1111111111111111, \"#46039f\"], [0.2222222222222222, \"#7201a8\"], [0.3333333333333333, \"#9c179e\"], [0.4444444444444444, \"#bd3786\"], [0.5555555555555556, \"#d8576b\"], [0.6666666666666666, \"#ed7953\"], [0.7777777777777778, \"#fb9f3a\"], [0.8888888888888888, \"#fdca26\"], [1.0, \"#f0f921\"]], \"sequentialminus\": [[0.0, \"#0d0887\"], [0.1111111111111111, \"#46039f\"], [0.2222222222222222, \"#7201a8\"], [0.3333333333333333, \"#9c179e\"], [0.4444444444444444, \"#bd3786\"], [0.5555555555555556, \"#d8576b\"], [0.6666666666666666, \"#ed7953\"], [0.7777777777777778, \"#fb9f3a\"], [0.8888888888888888, \"#fdca26\"], [1.0, \"#f0f921\"]]}, \"colorway\": [\"#636efa\", \"#EF553B\", \"#00cc96\", \"#ab63fa\", \"#FFA15A\", \"#19d3f3\", \"#FF6692\", \"#B6E880\", \"#FF97FF\", \"#FECB52\"], \"font\": {\"color\": \"#2a3f5f\"}, \"geo\": {\"bgcolor\": \"white\", \"lakecolor\": \"white\", \"landcolor\": \"#E5ECF6\", \"showlakes\": true, \"showland\": true, \"subunitcolor\": \"white\"}, \"hoverlabel\": {\"align\": \"left\"}, \"hovermode\": \"closest\", \"mapbox\": {\"style\": \"light\"}, \"paper_bgcolor\": \"white\", \"plot_bgcolor\": \"#E5ECF6\", \"polar\": {\"angularaxis\": {\"gridcolor\": \"white\", \"linecolor\": \"white\", \"ticks\": \"\"}, \"bgcolor\": \"#E5ECF6\", \"radialaxis\": {\"gridcolor\": \"white\", \"linecolor\": \"white\", \"ticks\": \"\"}}, \"scene\": {\"xaxis\": {\"backgroundcolor\": \"#E5ECF6\", \"gridcolor\": \"white\", \"gridwidth\": 2, \"linecolor\": \"white\", \"showbackground\": true, \"ticks\": \"\", \"zerolinecolor\": \"white\"}, \"yaxis\": {\"backgroundcolor\": \"#E5ECF6\", \"gridcolor\": \"white\", \"gridwidth\": 2, \"linecolor\": \"white\", \"showbackground\": true, \"ticks\": \"\", \"zerolinecolor\": \"white\"}, \"zaxis\": {\"backgroundcolor\": \"#E5ECF6\", \"gridcolor\": \"white\", \"gridwidth\": 2, \"linecolor\": \"white\", \"showbackground\": true, \"ticks\": \"\", \"zerolinecolor\": \"white\"}}, \"shapedefaults\": {\"line\": {\"color\": \"#2a3f5f\"}}, \"ternary\": {\"aaxis\": {\"gridcolor\": \"white\", \"linecolor\": \"white\", \"ticks\": \"\"}, \"baxis\": {\"gridcolor\": \"white\", \"linecolor\": \"white\", \"ticks\": \"\"}, \"bgcolor\": \"#E5ECF6\", \"caxis\": {\"gridcolor\": \"white\", \"linecolor\": \"white\", \"ticks\": \"\"}}, \"title\": {\"x\": 0.05}, \"xaxis\": {\"automargin\": true, \"gridcolor\": \"white\", \"linecolor\": \"white\", \"ticks\": \"\", \"zerolinecolor\": \"white\", \"zerolinewidth\": 2}, \"yaxis\": {\"automargin\": true, \"gridcolor\": \"white\", \"linecolor\": \"white\", \"ticks\": \"\", \"zerolinecolor\": \"white\", \"zerolinewidth\": 2}}}, \"xaxis\": {\"anchor\": \"y\", \"domain\": [0.0, 0.98], \"title\": {\"text\": \"rate_of_readmission\"}}, \"yaxis\": {\"anchor\": \"x\", \"domain\": [0.0, 1.0], \"title\": {\"text\": \"patients_rating_of_the_facility_linear_mean_score\"}}},\n",
       "                        {\"responsive\": true}\n",
       "                    ).then(function(){\n",
       "                            \n",
       "var gd = document.getElementById('aba32c7b-41d8-4f40-85d4-dade70f3c06e');\n",
       "var x = new MutationObserver(function (mutations, observer) {{\n",
       "        var display = window.getComputedStyle(gd).display;\n",
       "        if (!display || display === 'none') {{\n",
       "            console.log([gd, 'removed!']);\n",
       "            Plotly.purge(gd);\n",
       "            observer.disconnect();\n",
       "        }}\n",
       "}});\n",
       "\n",
       "// Listen for the removal of the full notebook cells\n",
       "var notebookContainer = gd.closest('#notebook-container');\n",
       "if (notebookContainer) {{\n",
       "    x.observe(notebookContainer, {childList: true});\n",
       "}}\n",
       "\n",
       "// Listen for the clearing of the current output cell\n",
       "var outputEl = gd.closest('.output');\n",
       "if (outputEl) {{\n",
       "    x.observe(outputEl, {childList: true});\n",
       "}}\n",
       "\n",
       "                        })\n",
       "                };\n",
       "                });\n",
       "            </script>\n",
       "        </div>"
      ]
     },
     "metadata": {},
     "output_type": "display_data"
    }
   ],
   "source": [
    "fig = px.scatter(plt_df, x=\"rate_of_readmission\", y=\"patients_rating_of_the_facility_linear_mean_score\", color=\"is-MUA?\", hover_data=[\"facility_name\", \"address\", \"city\", \"state\"])\n",
    "fig.update_layout(template=\"plotly_white\")\n",
    "fig.update_xaxes(title_text=\"Readmission Rate\")\n",
    "fig.update_yaxes(title_text=\"Patients' Mean Rating of the Facility\")\n",
    "fig.show()"
   ]
  },
  {
   "cell_type": "code",
   "execution_count": null,
   "metadata": {},
   "outputs": [],
   "source": []
  }
 ],
 "metadata": {
  "kernelspec": {
   "display_name": "Python 3",
   "language": "python",
   "name": "python3"
  },
  "language_info": {
   "codemirror_mode": {
    "name": "ipython",
    "version": 3
   },
   "file_extension": ".py",
   "mimetype": "text/x-python",
   "name": "python",
   "nbconvert_exporter": "python",
   "pygments_lexer": "ipython3",
   "version": "3.7.3"
  }
 },
 "nbformat": 4,
 "nbformat_minor": 2
}
